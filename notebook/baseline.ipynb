{
 "cells": [
  {
   "cell_type": "code",
   "execution_count": 1,
   "id": "documentary-ecuador",
   "metadata": {},
   "outputs": [],
   "source": [
    "import texthero as hero\n",
    "import pandas as pd\n",
    "import numpy as np\n",
    "import datetime\n",
    "import matplotlib.pyplot as plt\n",
    "import seaborn as sns\n",
    "from PIL import ImageColor\n",
    "import colorsys\n",
    "from sklearn import preprocessing\n",
    "from sklearn.model_selection import KFold\n",
    "from sklearn.model_selection import StratifiedKFold\n",
    "import lightgbm as lgbm\n",
    "# import optuna.integration.lightgbm as lgbm\n",
    "from sklearn.metrics import mean_squared_error\n",
    "from sklearn.preprocessing import LabelEncoder\n",
    "from sklearn.feature_extraction.text import TfidfVectorizer\n",
    "from sklearn.decomposition import TruncatedSVD\n",
    "from sklearn.pipeline import Pipeline\n",
    "import nltk\n",
    "import warnings\n",
    "\n",
    "pd.set_option('display.max_Columns', 100)\n",
    "warnings.simplefilter('ignore', UserWarning)"
   ]
  },
  {
   "cell_type": "code",
   "execution_count": 2,
   "id": "american-reality",
   "metadata": {},
   "outputs": [
    {
     "name": "stdout",
     "output_type": "stream",
     "text": [
      "color (73636, 7)\n"
     ]
    }
   ],
   "source": [
    "color = pd.read_csv('../input/color.csv')\n",
    "color_rgb = pd.DataFrame(color['hex'].str.strip().map(ImageColor.getrgb).values.tolist(), \n",
    "                         columns=['color_r', 'color_g', 'color_b'])\n",
    "color = pd.concat([color, color_rgb], axis=1)\n",
    "color['ratio'] = color['percentage']/100\n",
    "print('color', color.shape)"
   ]
  },
  {
   "cell_type": "code",
   "execution_count": 3,
   "id": "treated-subdivision",
   "metadata": {},
   "outputs": [
    {
     "name": "stdout",
     "output_type": "stream",
     "text": [
      "palette (527890, 5)\n",
      "material (35394, 2)\n",
      "object_collection (14210, 2)\n",
      "technique (20481, 2)\n",
      "production_place (17686, 2)\n",
      "production_country (17686, 2)\n",
      "historical_person (6745, 2)\n",
      "maker (3291, 6)\n",
      "principal_maker (24538, 6)\n",
      "principal_maker_occupation (25372, 2)\n",
      "train (12026, 19)\n",
      "test (12008, 18)\n",
      "whole (24034, 19)\n"
     ]
    }
   ],
   "source": [
    "palette = pd.read_csv('../input/palette.csv')\n",
    "print('palette', palette.shape)\n",
    "material = pd.read_csv('../input/material.csv')\n",
    "print('material', material.shape)\n",
    "object_collection = pd.read_csv('../input/object_collection.csv')\n",
    "print('object_collection', object_collection.shape)\n",
    "technique = pd.read_csv('../input/technique.csv')\n",
    "print('technique', technique.shape)\n",
    "production_place = pd.read_csv('../input/production_place.csv')\n",
    "print('production_place', production_place.shape)\n",
    "production_country = pd.read_csv('../input/production_country.csv')\n",
    "print('production_country', production_country.shape)\n",
    "historical_person = pd.read_csv('../input/historical_person.csv')\n",
    "print('historical_person', historical_person.shape)\n",
    "maker = pd.read_csv('../input/maker.csv')\n",
    "print('maker', maker.shape)\n",
    "principal_maker = pd.read_csv('../input/principal_maker.csv')\n",
    "print('principal_maker', principal_maker.shape)\n",
    "principal_maker_occupation = pd.read_csv('../input/principal_maker_occupation.csv')\n",
    "print('principal_maker_occupation', principal_maker_occupation.shape)\n",
    "train = pd.read_csv('../input/train.csv')\n",
    "print('train', train.shape)\n",
    "test = pd.read_csv('../input/test.csv')\n",
    "print('test', test.shape)\n",
    "whole = pd.concat([train, test])\n",
    "print('whole', whole.shape)"
   ]
  },
  {
   "cell_type": "markdown",
   "id": "elegant-northern",
   "metadata": {},
   "source": [
    "### Text"
   ]
  },
  {
   "cell_type": "code",
   "execution_count": 4,
   "id": "million-maintenance",
   "metadata": {},
   "outputs": [],
   "source": [
    "def text_normalization(text):\n",
    "\n",
    "    # 英語とオランダ語を stopword として指定\n",
    "    custom_stopwords = nltk.corpus.stopwords.words('dutch') + nltk.corpus.stopwords.words('english')\n",
    "\n",
    "    x = hero.clean(text, pipeline=[\n",
    "        hero.preprocessing.fillna,\n",
    "        hero.preprocessing.lowercase,\n",
    "        hero.preprocessing.remove_digits,\n",
    "        hero.preprocessing.remove_punctuation,\n",
    "        hero.preprocessing.remove_diacritics,\n",
    "        lambda x: hero.preprocessing.remove_stopwords(x, stopwords=custom_stopwords)\n",
    "    ])\n",
    "\n",
    "    return x"
   ]
  },
  {
   "cell_type": "code",
   "execution_count": 5,
   "id": "inclusive-national",
   "metadata": {},
   "outputs": [],
   "source": [
    "class AbstractBaseBlock:\n",
    "    def fit(self, input_df: pd.DataFrame, y=None):\n",
    "        return self.transform(input_df)\n",
    "\n",
    "    def transform(self, input_df: pd.DataFrame) -> pd.DataFrame:\n",
    "        raise NotImplementedError()"
   ]
  },
  {
   "cell_type": "code",
   "execution_count": 6,
   "id": "undefined-cleanup",
   "metadata": {},
   "outputs": [],
   "source": [
    "class TfidfBlock(AbstractBaseBlock):\n",
    "    \"\"\"tfidf x SVD による圧縮を行なう block\"\"\"\n",
    "    def __init__(self, column: str, n_topic=50):\n",
    "        \"\"\"\n",
    "        args:\n",
    "            column: str\n",
    "                変換対象のカラム名\n",
    "        \"\"\"\n",
    "        self.column = column\n",
    "        self.n_topic = n_topic\n",
    "\n",
    "    def preprocess(self, input_df):\n",
    "        x = text_normalization(input_df[self.column])\n",
    "        return x\n",
    "\n",
    "    def fit(self, input_df, y=None):\n",
    "        text = self.preprocess(input_df)\n",
    "        self.pileline_ = Pipeline([\n",
    "            ('tfidf', TfidfVectorizer(max_features=10000)),\n",
    "            ('svd', TruncatedSVD(n_components=self.n_topic)),\n",
    "        ])\n",
    "\n",
    "        self.pileline_.fit(text)\n",
    "        return self.transform(input_df)\n",
    "\n",
    "    def transform(self, input_df):\n",
    "        text = self.preprocess(input_df)\n",
    "        z = self.pileline_.transform(text)\n",
    "\n",
    "        out_df = pd.DataFrame(z)\n",
    "        return out_df.add_prefix(f'{self.column}_tfidf_')"
   ]
  },
  {
   "cell_type": "code",
   "execution_count": 7,
   "id": "ordered-broadway",
   "metadata": {},
   "outputs": [],
   "source": [
    "def create_long_more_title(df_input):\n",
    "    df_input['long_more_title'] = df_input['long_title'].str.cat(df_input['more_title'], sep=' ')"
   ]
  },
  {
   "cell_type": "code",
   "execution_count": 8,
   "id": "surface-lightning",
   "metadata": {},
   "outputs": [],
   "source": [
    "create_long_more_title(train)\n",
    "create_long_more_title(test)\n",
    "create_long_more_title(whole)"
   ]
  },
  {
   "cell_type": "code",
   "execution_count": 9,
   "id": "coral-treatment",
   "metadata": {
    "scrolled": false
   },
   "outputs": [
    {
     "name": "stderr",
     "output_type": "stream",
     "text": [
      "/Users/umeharayasunobu/opt/anaconda3/envs/newest/lib/python3.9/site-packages/texthero/preprocessing.py:72: FutureWarning: The default value of regex will change from True to False in a future version.\n",
      "  return input.str.replace(pattern, symbols)\n",
      "/Users/umeharayasunobu/opt/anaconda3/envs/newest/lib/python3.9/site-packages/texthero/preprocessing.py:131: FutureWarning: The default value of regex will change from True to False in a future version.\n",
      "  return input.str.replace(rf\"([{string.punctuation}])+\", symbol)\n"
     ]
    },
    {
     "name": "stdout",
     "output_type": "stream",
     "text": [
      "CPU times: user 20.8 s, sys: 1.04 s, total: 21.9 s\n",
      "Wall time: 18.5 s\n"
     ]
    }
   ],
   "source": [
    "%%time\n",
    "desc_block = TfidfBlock('description')\n",
    "x = desc_block.fit(train)\n",
    "\n",
    "title_block = TfidfBlock('title', 30)\n",
    "x = title_block.fit(train)\n",
    "\n",
    "longtitle_block = TfidfBlock('long_more_title')\n",
    "x = longtitle_block.fit(train)"
   ]
  },
  {
   "cell_type": "code",
   "execution_count": 10,
   "id": "boring-lying",
   "metadata": {},
   "outputs": [],
   "source": [
    "def create_text_description_feature(df_input):\n",
    "    return desc_block.transform(df_input)\n",
    "\n",
    "def create_text_title_feature(df_input):\n",
    "    return title_block.transform(df_input)\n",
    "\n",
    "def create_text_longtitle_feature(df_input):\n",
    "    return longtitle_block.transform(df_input)"
   ]
  },
  {
   "cell_type": "markdown",
   "id": "tender-complaint",
   "metadata": {},
   "source": [
    "#### Color"
   ]
  },
  {
   "cell_type": "code",
   "execution_count": 11,
   "id": "mineral-artist",
   "metadata": {},
   "outputs": [],
   "source": [
    "def rgb_to_h(row):\n",
    "    return colorsys.rgb_to_hsv(row['R'], row['G'], row['B'])[0]\n",
    "\n",
    "def rgb_to_s(row):\n",
    "    return colorsys.rgb_to_hsv(row['R'], row['G'], row['B'])[1]\n",
    "\n",
    "def rgb_to_v(row):\n",
    "    return colorsys.rgb_to_hsv(row['R'], row['G'], row['B'])[2]\n",
    "\n",
    "def get_total_color(color_input):\n",
    "    cp = color_input.copy()\n",
    "    cp['R'] = cp['color_r']*cp['ratio']/255\n",
    "    cp['G'] = cp['color_g']*cp['ratio']/255\n",
    "    cp['B'] = cp['color_b']*cp['ratio']/255\n",
    "    rgb = cp.groupby('object_id').sum()[['R','G','B']]\n",
    "    rgb['H'] = rgb.apply(rgb_to_h, axis=1)\n",
    "    rgb['S'] = rgb.apply(rgb_to_s, axis=1)\n",
    "    rgb['V'] = rgb.apply(rgb_to_v, axis=1)\n",
    "    return rgb\n",
    "\n",
    "main_color = get_total_color(color).add_prefix('color_').reset_index()\n",
    "main_palette = get_total_color(palette).add_prefix('plt_').reset_index()"
   ]
  },
  {
   "cell_type": "code",
   "execution_count": 12,
   "id": "scheduled-gossip",
   "metadata": {},
   "outputs": [],
   "source": [
    "def create_main_color_feature(df_input):\n",
    "    cp = df_input[['object_id']].copy()\n",
    "    cp = pd.merge(cp, main_color, on='object_id', how='left')\n",
    "    cp = pd.merge(cp, main_palette, on='object_id', how='left')\n",
    "    cp = cp.fillna(0).drop(columns=['object_id'])\n",
    "    cp.index = df_input.index\n",
    "    return cp"
   ]
  },
  {
   "cell_type": "code",
   "execution_count": 13,
   "id": "blond-dispatch",
   "metadata": {},
   "outputs": [],
   "source": [
    "def get_color_count(df_input, color_input, col):\n",
    "    color_cp = color_input[color_input['ratio'] > 0.05].copy()\n",
    "    group = color_cp.groupby('object_id').size().rename(col).reset_index()\n",
    "    cp = df_input[['object_id']].copy()\n",
    "    cp = pd.merge(cp, group, on='object_id', how='left').fillna(0)\n",
    "    return cp[[col]]\n",
    "\n",
    "def create_color_count_feature(df_input):\n",
    "    color_count = get_color_count(df_input, color, 'color_count')\n",
    "    color_count.index = df_input.index\n",
    "    palette_count = get_color_count(df_input, palette, 'palette_count')\n",
    "    palette_count.index = df_input.index\n",
    "    return pd.concat([color_count, palette_count], axis=1)"
   ]
  },
  {
   "cell_type": "code",
   "execution_count": 14,
   "id": "hidden-phoenix",
   "metadata": {},
   "outputs": [],
   "source": [
    "def create_numeric_feature(df_input):\n",
    "    cp = df_input.copy()\n",
    "    cp['acquisition_year'] = pd.to_datetime(df_input['acquisition_date']).dt.year\n",
    "    cp['dating_year_early_late'] = cp['dating_year_late'] - cp['dating_year_early'] + 1\n",
    "    return cp[['acquisition_year', 'dating_sorting_date', 'dating_period', 'dating_year_early', 'dating_year_late', 'dating_year_early_late']]"
   ]
  },
  {
   "cell_type": "markdown",
   "id": "seven-shield",
   "metadata": {},
   "source": [
    "#### principal_maker"
   ]
  },
  {
   "cell_type": "code",
   "execution_count": 15,
   "id": "dried-collaboration",
   "metadata": {},
   "outputs": [],
   "source": [
    "def create_principal_maker_feature(df_input):\n",
    "    occu_group = principal_maker_occupation.groupby('id').size().rename('occupation_count')\n",
    "    occu_group = pd.DataFrame(occu_group).reset_index()\n",
    "    \n",
    "    maker_cp = pd.merge(principal_maker, occu_group, on='id', how='left')\n",
    "    \n",
    "    group = maker_cp.groupby('object_id').agg({'occupation_count':'sum', 'id':'size'}).reset_index()\n",
    "    group.rename(columns={'id':'principal_maker_count'}, inplace=True)\n",
    "    cp = pd.merge(df_input, group, on='object_id', how='left')\n",
    "    return cp[['occupation_count', 'principal_maker_count']]"
   ]
  },
  {
   "cell_type": "code",
   "execution_count": 16,
   "id": "unsigned-glucose",
   "metadata": {},
   "outputs": [],
   "source": [
    "def create_maker_feature(df_input):\n",
    "    maker_cp = maker.copy()\n",
    "    maker_cp['birth_year'] = 0\n",
    "    maker_cp.loc[maker_cp['date_of_birth'].notnull(), 'birth_year'] = maker_cp['date_of_birth']\n",
    "    maker_cp['birth_year'] = maker_cp['birth_year'].apply(lambda x: str(x)[:4]).astype(int)\n",
    "    \n",
    "    maker_cp['death_year'] = 0\n",
    "    maker_cp.loc[maker_cp['date_of_death'].notnull(), 'death_year'] = maker_cp['date_of_death']\n",
    "    maker_cp['death_year'] = maker_cp['death_year'].apply(lambda x: str(x)[:4]).astype(int)\n",
    "\n",
    "    maker_cp['maker_death_old'] = maker_cp['death_year'] - maker_cp['birth_year']\n",
    "    maker_cp.rename(columns={'name': 'principal_maker'}, inplace=True)\n",
    "    \n",
    "    cp = pd.merge(df_input, maker_cp, on='principal_maker', how='left')\n",
    "    return cp[['birth_year', 'death_year', 'maker_death_old']]"
   ]
  },
  {
   "cell_type": "markdown",
   "id": "stainless-compensation",
   "metadata": {},
   "source": [
    "#### Count encoding"
   ]
  },
  {
   "cell_type": "code",
   "execution_count": 17,
   "id": "entitled-processing",
   "metadata": {},
   "outputs": [],
   "source": [
    "def create_count_encoding_feature_sub(df_whole, df_input, column):\n",
    "    cp = df_input.copy()\n",
    "    newcol = 'CE_'+column\n",
    "    group = df_whole.groupby(column).size().rename(newcol)\n",
    "    group = pd.DataFrame(group).reset_index()\n",
    "    cp = pd.merge(cp, group, on=column, how='left')\n",
    "    cp = cp[[newcol]].fillna(0)\n",
    "    cp.index = df_input.index\n",
    "    return cp\n",
    "\n",
    "def create_count_encoding_feature(df_input):\n",
    "    col_list = ['art_series_id', 'principal_maker', 'principal_or_first_maker', 'copyright_holder', 'acquisition_method', \n",
    "                'dating_sorting_date', 'dating_period']\n",
    "    cp = df_input.copy()\n",
    "    len_cp = len(cp)\n",
    "    org_col = cp.columns\n",
    "    for col in col_list:\n",
    "        tmp = create_count_encoding_feature_sub(whole, cp, col)\n",
    "        cp = pd.concat([cp, tmp], axis=1)\n",
    "        assert len(cp) == len_cp\n",
    "    return cp.drop(columns=org_col)"
   ]
  },
  {
   "cell_type": "markdown",
   "id": "intended-practitioner",
   "metadata": {},
   "source": [
    "#### Label encoding"
   ]
  },
  {
   "cell_type": "code",
   "execution_count": 18,
   "id": "restricted-holmes",
   "metadata": {},
   "outputs": [],
   "source": [
    "def create_label_encoding_feature(df_input):\n",
    "    col_list = ['art_series_id', 'principal_maker', 'principal_or_first_maker', 'copyright_holder', 'acquisition_method']\n",
    "    out_df = pd.DataFrame(index=df_input.index)\n",
    "    le = LabelEncoder()\n",
    "    for col in col_list:\n",
    "        le.fit(whole[col])\n",
    "        out_df[col] = le.transform(df_input[col])\n",
    "    return out_df.add_prefix('LE_')"
   ]
  },
  {
   "cell_type": "markdown",
   "id": "danish-steering",
   "metadata": {},
   "source": [
    "#### One-hot encoding"
   ]
  },
  {
   "cell_type": "code",
   "execution_count": 19,
   "id": "juvenile-crystal",
   "metadata": {},
   "outputs": [],
   "source": [
    "def get_one_hot_encoding(df_input, df_merge, count, prefix):\n",
    "    value_counts = df_merge['name'].value_counts()\n",
    "    col_list = list(value_counts.index[0:count])\n",
    "    dummy = pd.get_dummies(df_merge['name'])[col_list]\n",
    "    dummy = pd.concat([df_merge, dummy], axis=1)\n",
    "    group = dummy.groupby('object_id').sum()\n",
    "    group = group.add_prefix(prefix).reset_index()\n",
    "    out = pd.merge(df_input[['object_id']], group, on='object_id', how='left')\n",
    "    out = out.fillna(0).drop(columns=['object_id'])\n",
    "    out.index = df_input.index\n",
    "    return out\n",
    "\n",
    "def creat_material_feature(df_input):\n",
    "    return get_one_hot_encoding(df_input, material, 10, 'MT_')\n",
    "\n",
    "def creat_object_collection_feature(df_input):\n",
    "    return get_one_hot_encoding(df_input, object_collection, 3, 'OC_')\n",
    "\n",
    "def creat_production_place_feature(df_input):\n",
    "    return get_one_hot_encoding(df_input, production_place, 10, 'PP_')\n",
    "\n",
    "def creat_production_country_feature(df_input):\n",
    "    return get_one_hot_encoding(df_input, production_country, 17, 'PC_')\n",
    "\n",
    "def creat_technique_feature(df_input):\n",
    "    return get_one_hot_encoding(df_input, technique, 10, 'TC_')\n",
    "\n",
    "def creat_historical_person_feature(df_input):\n",
    "    ohe = get_one_hot_encoding(df_input, historical_person, 3, 'HP_')\n",
    "    ohe.columns = ['HP_' + str(i) for i in range(len(ohe.columns))]\n",
    "    return ohe"
   ]
  },
  {
   "cell_type": "markdown",
   "id": "ready-northeast",
   "metadata": {},
   "source": [
    "#### String length"
   ]
  },
  {
   "cell_type": "code",
   "execution_count": 20,
   "id": "temporal-proposition",
   "metadata": {},
   "outputs": [],
   "source": [
    "def create_string_length_feature(df_input):\n",
    "    out_df = pd.DataFrame()\n",
    "    str_columns = ['title', 'long_title', 'sub_title', 'more_title', 'description']\n",
    "    for c in str_columns:\n",
    "        out_df[c] = df_input[c].str.len()\n",
    "    return out_df.add_prefix('LN_')"
   ]
  },
  {
   "cell_type": "code",
   "execution_count": 21,
   "id": "absent-russian",
   "metadata": {},
   "outputs": [],
   "source": [
    "def create_sub_title_feature(df_input):\n",
    "    out = pd.DataFrame(index=df_input.index)\n",
    "    out['dimension'] = 0\n",
    "    for axis in ['h', 'w', 't', 'd']:\n",
    "        column_name = f'size_{axis}'\n",
    "        size_info = df_input['sub_title'].str.extract(r'{} (\\d*|\\d*\\.\\d*)(cm|mm)'.format(axis))\n",
    "        size_info = size_info.rename(columns={0: column_name, 1: 'unit'})\n",
    "        size_info[column_name] = size_info[column_name].replace('', np.nan).astype(float)\n",
    "        size_info[column_name] = size_info.apply(lambda row: row[column_name] * 10 if row['unit'] == 'cm' else row[column_name], axis=1) \n",
    "        out[column_name] = size_info[column_name]\n",
    "        out['dimension'] += out[column_name].apply(lambda x: 0 if np.isnan(x) else 1)\n",
    "    out['area'] = out['size_h'] * out['size_w']\n",
    "    return out"
   ]
  },
  {
   "cell_type": "markdown",
   "id": "governmental-partnership",
   "metadata": {},
   "source": [
    "#### Target encoding"
   ]
  },
  {
   "cell_type": "code",
   "execution_count": 22,
   "id": "aware-nicaragua",
   "metadata": {},
   "outputs": [],
   "source": [
    "def target_encoding(df_input, target_col, k_fold=5):\n",
    "    encoding_col = 'TE_' + target_col\n",
    "    X = df_input\n",
    "    out = pd.DataFrame(index=X.index)\n",
    "    out[encoding_col] = np.NaN\n",
    "\n",
    "    if 'likes' in df_input.columns:\n",
    "        # train\n",
    "        cv = KFold(n_splits=k_fold, shuffle=True, random_state=0)\n",
    "        for train_index, valid_index in cv.split(X):\n",
    "            x_train, x_valid = X.iloc[train_index], X.iloc[valid_index]\n",
    "            likes = x_train.groupby(target_col)[['likes']].mean().reset_index()\n",
    "            tmp = pd.merge(x_valid[[target_col]], likes, on=[target_col], how='left')\n",
    "            tmp.index = valid_index\n",
    "            out.loc[valid_index, encoding_col] = tmp['likes'].apply(np.log1p)\n",
    "    else:\n",
    "        # test\n",
    "        likes = train.groupby(target_col)[['likes']].mean().reset_index()\n",
    "        tmp = pd.merge(X[[target_col]], likes, on=[target_col], how='left')\n",
    "        out[encoding_col] = tmp['likes'].apply(np.log1p)\n",
    "    return out\n",
    "\n",
    "def creat_target_encoding_principal_maker(df_input):\n",
    "    return target_encoding(df_input, 'principal_maker')\n",
    "\n",
    "def creat_target_encoding_principal_or_first_maker(df_input):\n",
    "    return target_encoding(df_input, 'principal_or_first_maker')"
   ]
  },
  {
   "cell_type": "markdown",
   "id": "listed-integrity",
   "metadata": {},
   "source": [
    "#### All feature"
   ]
  },
  {
   "cell_type": "code",
   "execution_count": 23,
   "id": "light-virus",
   "metadata": {},
   "outputs": [],
   "source": [
    "func_list = [\n",
    "    create_text_description_feature,\n",
    "    create_text_title_feature,\n",
    "    create_text_longtitle_feature,\n",
    "    create_numeric_feature,\n",
    "    create_count_encoding_feature,\n",
    "    create_label_encoding_feature,\n",
    "    create_string_length_feature,\n",
    "    create_sub_title_feature,\n",
    "    creat_material_feature,\n",
    "    creat_object_collection_feature,\n",
    "    creat_production_place_feature,\n",
    "    creat_production_country_feature,\n",
    "    creat_technique_feature,\n",
    "    creat_historical_person_feature,\n",
    "    create_main_color_feature,\n",
    "    create_color_count_feature,\n",
    "    create_principal_maker_feature,\n",
    "    create_maker_feature,\n",
    "]\n",
    "\n",
    "func_list_w_te = func_list + [\n",
    "    creat_target_encoding_principal_maker,\n",
    "    creat_target_encoding_principal_or_first_maker,\n",
    "]"
   ]
  },
  {
   "cell_type": "code",
   "execution_count": 24,
   "id": "blond-cooper",
   "metadata": {},
   "outputs": [],
   "source": [
    "def create_all_feature(df_input, func_list):\n",
    "    out = pd.DataFrame(index=df_input.index)\n",
    "    for func in func_list:\n",
    "        out = pd.concat([out, func(df_input)], axis=1)\n",
    "        assert len(df_input) == len(out)\n",
    "    return out"
   ]
  },
  {
   "cell_type": "code",
   "execution_count": 25,
   "id": "binding-costs",
   "metadata": {},
   "outputs": [],
   "source": [
    "def split_train_target(df_input):\n",
    "    target = df_input[['likes']].copy()\n",
    "    target['target'] = target['likes'].apply(np.log1p)\n",
    "    return target['target']"
   ]
  },
  {
   "cell_type": "code",
   "execution_count": 26,
   "id": "thrown-encoding",
   "metadata": {},
   "outputs": [],
   "source": [
    "LGBM_PARAMS = [\n",
    "    {'objective': 'regression', 'boosting_type': 'gbdt', 'metric': 'rmse', 'seed': 0, 'learning_rate': 0.1, 'verbosity': -1, 'feature_pre_filter': False, 'lambda_l1': 0.0, 'lambda_l2': 0.0, 'num_leaves': 124, 'feature_fraction': 1.0, 'bagging_fraction': 1.0, 'bagging_freq': 0, 'min_child_samples': 20},\n",
    "    {'objective': 'regression', 'boosting_type': 'gbdt', 'metric': 'rmse', 'seed': 0, 'learning_rate': 0.1, 'verbosity': -1, 'feature_pre_filter': False, 'lambda_l1': 1.784047886757114e-08, 'lambda_l2': 5.161650291157943e-06, 'num_leaves': 29, 'feature_fraction': 0.584, 'bagging_fraction': 1.0, 'bagging_freq': 0, 'min_child_samples': 20},\n",
    "    {'objective': 'regression', 'boosting_type': 'gbdt', 'metric': 'rmse', 'seed': 0, 'learning_rate': 0.1, 'verbosity': -1, 'feature_pre_filter': False, 'lambda_l1': 0.0007745018833180502, 'lambda_l2': 1.9190555245864202e-07, 'num_leaves': 25, 'feature_fraction': 0.8, 'bagging_fraction': 0.9996642823779416, 'bagging_freq': 1, 'min_child_samples': 25},\n",
    "    {'objective': 'regression', 'boosting_type': 'gbdt', 'metric': 'rmse', 'seed': 0, 'learning_rate': 0.1, 'verbosity': -1, 'feature_pre_filter': False, 'lambda_l1': 0.00011339580973156189, 'lambda_l2': 0.0001687974601137855, 'num_leaves': 31, 'feature_fraction': 0.7200000000000001, 'bagging_fraction': 1.0, 'bagging_freq': 0, 'min_child_samples': 20},\n",
    "    {'objective': 'regression', 'boosting_type': 'gbdt', 'metric': 'rmse', 'seed': 0, 'learning_rate': 0.1, 'verbosity': -1, 'feature_pre_filter': False, 'lambda_l1': 1.2808267029168457e-08, 'lambda_l2': 0.00033073283430080425, 'num_leaves': 31, 'feature_fraction': 0.7, 'bagging_fraction': 1.0, 'bagging_freq': 0, 'min_child_samples': 20},\n",
    "]\n",
    "KFOLD = 5"
   ]
  },
  {
   "cell_type": "code",
   "execution_count": 27,
   "id": "essential-shannon",
   "metadata": {},
   "outputs": [],
   "source": [
    "# for tuning\n",
    "# LGBM_PARAMS = [\n",
    "#     {'objective': 'regression', 'boosting_type': 'gbdt', 'metric': 'rmse', 'seed': 0, 'learning_rate': 0.1, 'verbosity': -1,},\n",
    "#     {'objective': 'regression', 'boosting_type': 'gbdt', 'metric': 'rmse', 'seed': 0, 'learning_rate': 0.1, 'verbosity': -1,},\n",
    "#     {'objective': 'regression', 'boosting_type': 'gbdt', 'metric': 'rmse', 'seed': 0, 'learning_rate': 0.1, 'verbosity': -1,},\n",
    "#     {'objective': 'regression', 'boosting_type': 'gbdt', 'metric': 'rmse', 'seed': 0, 'learning_rate': 0.1, 'verbosity': -1,},\n",
    "#     {'objective': 'regression', 'boosting_type': 'gbdt', 'metric': 'rmse', 'seed': 0, 'learning_rate': 0.1, 'verbosity': -1,},\n",
    "# ]"
   ]
  },
  {
   "cell_type": "code",
   "execution_count": 28,
   "id": "likely-civilian",
   "metadata": {},
   "outputs": [],
   "source": [
    "cat_feat = [\n",
    "    'LE_art_series_id', \n",
    "    'LE_copyright_holder', 'LE_acquisition_method'\n",
    "]\n",
    "\n",
    "cat_feat_te = [\n",
    "    'LE_principal_maker', 'LE_principal_or_first_maker', \n",
    "]\n",
    "\n",
    "cat_feat_w_te = cat_feat + cat_feat_te"
   ]
  },
  {
   "cell_type": "code",
   "execution_count": 29,
   "id": "global-battle",
   "metadata": {},
   "outputs": [],
   "source": [
    "def get_stratified(y):\n",
    "    y_bin = y.astype(int)\n",
    "    y_bin[y_bin >=8] = 8\n",
    "    return y_bin"
   ]
  },
  {
   "cell_type": "code",
   "execution_count": 30,
   "id": "optional-hobby",
   "metadata": {},
   "outputs": [],
   "source": [
    "#get_stratified(train_y1).value_counts()"
   ]
  },
  {
   "cell_type": "code",
   "execution_count": 31,
   "id": "unusual-composition",
   "metadata": {},
   "outputs": [],
   "source": [
    "def train_kfold(X, y, cat_feat, k_fold=KFOLD):\n",
    "    rmse_list = []\n",
    "    models = []\n",
    "    oof_pred = np.zeros_like(y, dtype=np.float)\n",
    "\n",
    "    cv = StratifiedKFold(n_splits=k_fold, shuffle=True, random_state=0)\n",
    "    cv_split = cv.split(X, get_stratified(y))\n",
    "    \n",
    "#     cv = KFold(n_splits=k_fold, shuffle=True, random_state=0)\n",
    "#     cv_split = cv.split(X)\n",
    "\n",
    "    for i, (train_index, valid_index) in enumerate(cv_split):\n",
    "\n",
    "        x_train, x_valid = X.iloc[train_index], X.iloc[valid_index]\n",
    "        y_train, y_valid = y.iloc[train_index], y.iloc[valid_index]\n",
    "        params = LGBM_PARAMS[i]\n",
    "\n",
    "        lgbm_train = lgbm.Dataset(x_train, y_train)\n",
    "        lgbm_eval = lgbm.Dataset(x_valid, y_valid, reference=lgbm_train)\n",
    "        lgbm_model = lgbm.train(params, \n",
    "                                                lgbm_train, \n",
    "                                                valid_sets=lgbm_eval,\n",
    "                                                num_boost_round=10000,\n",
    "                                                early_stopping_rounds=100,\n",
    "                                                categorical_feature = cat_feat,\n",
    "                                                verbose_eval=-1)\n",
    "        y_pred = lgbm_model.predict(x_valid, num_iteration=lgbm_model.best_iteration)\n",
    "        oof_pred[valid_index] = y_pred\n",
    "\n",
    "        rmse = np.sqrt(mean_squared_error(y_valid, y_pred))\n",
    "\n",
    "        rmse_list.append(rmse)\n",
    "        models.append(lgbm_model)\n",
    "\n",
    "    score = np.sqrt(mean_squared_error(y, oof_pred))\n",
    "    print('- TRAIN RMSE={:.4f}'.format(score))\n",
    "\n",
    "    return models, oof_pred, score"
   ]
  },
  {
   "cell_type": "code",
   "execution_count": 32,
   "id": "comparable-tyler",
   "metadata": {},
   "outputs": [],
   "source": [
    "def predict_test(test_X, models):\n",
    "    pred_list = []\n",
    "    for model in models:\n",
    "        pred = model.predict(test_X, num_iteration = model.best_iteration)\n",
    "        pred_list.append(pred)\n",
    "    pred_test = np.mean(pred_list, axis=0)\n",
    "    return pred_test"
   ]
  },
  {
   "cell_type": "code",
   "execution_count": 33,
   "id": "informative-peninsula",
   "metadata": {},
   "outputs": [],
   "source": [
    "def revert_to_real(y_log):\n",
    "    _pred = np.expm1(y_log)\n",
    "    _pred = np.where(_pred < 0, 0, _pred)\n",
    "    return _pred"
   ]
  },
  {
   "cell_type": "code",
   "execution_count": 34,
   "id": "higher-walter",
   "metadata": {},
   "outputs": [
    {
     "name": "stderr",
     "output_type": "stream",
     "text": [
      "/Users/umeharayasunobu/opt/anaconda3/envs/newest/lib/python3.9/site-packages/texthero/preprocessing.py:72: FutureWarning: The default value of regex will change from True to False in a future version.\n",
      "  return input.str.replace(pattern, symbols)\n",
      "/Users/umeharayasunobu/opt/anaconda3/envs/newest/lib/python3.9/site-packages/texthero/preprocessing.py:131: FutureWarning: The default value of regex will change from True to False in a future version.\n",
      "  return input.str.replace(rf\"([{string.punctuation}])+\", symbol)\n"
     ]
    },
    {
     "name": "stdout",
     "output_type": "stream",
     "text": [
      "(12026, 233)\n",
      "(12026,)\n",
      "(12008, 233)\n"
     ]
    }
   ],
   "source": [
    "train_X1 = create_all_feature(train, func_list_w_te)\n",
    "test_X1 = create_all_feature(test, func_list_w_te)\n",
    "train_y1 = split_train_target(train)\n",
    "print(train_X1.shape)\n",
    "print(train_y1.shape)\n",
    "print(test_X1.shape)\n",
    "feat_cnt1 = len(train_X1.columns)"
   ]
  },
  {
   "cell_type": "code",
   "execution_count": 35,
   "id": "constant-virginia",
   "metadata": {
    "scrolled": false
   },
   "outputs": [
    {
     "name": "stderr",
     "output_type": "stream",
     "text": [
      "<ipython-input-31-a3aeb6a46d94>:4: DeprecationWarning: `np.float` is a deprecated alias for the builtin `float`. To silence this warning, use `float` by itself. Doing this will not modify any behavior and is safe. If you specifically wanted the numpy scalar type, use `np.float64` here.\n",
      "Deprecated in NumPy 1.20; for more details and guidance: https://numpy.org/devdocs/release/1.20.0-notes.html#deprecations\n",
      "  oof_pred = np.zeros_like(y, dtype=np.float)\n"
     ]
    },
    {
     "name": "stdout",
     "output_type": "stream",
     "text": [
      "Training until validation scores don't improve for 100 rounds\n",
      "Early stopping, best iteration is:\n",
      "[64]\tvalid_0's rmse: 1.02\n",
      "Training until validation scores don't improve for 100 rounds\n",
      "Early stopping, best iteration is:\n",
      "[322]\tvalid_0's rmse: 1.04019\n",
      "Training until validation scores don't improve for 100 rounds\n",
      "Early stopping, best iteration is:\n",
      "[189]\tvalid_0's rmse: 1.02586\n",
      "Training until validation scores don't improve for 100 rounds\n",
      "Early stopping, best iteration is:\n",
      "[249]\tvalid_0's rmse: 0.986898\n",
      "Training until validation scores don't improve for 100 rounds\n",
      "Early stopping, best iteration is:\n",
      "[280]\tvalid_0's rmse: 0.973861\n",
      "- TRAIN RMSE=1.0097\n",
      "test_pred1 12008\n"
     ]
    }
   ],
   "source": [
    "models1, oof_pred1, score1 = train_kfold(train_X1, train_y1, cat_feat_w_te)\n",
    "pred1 = predict_test(test_X1, models1)\n",
    "test_pred1 = revert_to_real(pred1)\n",
    "print('test_pred1', len(test_pred1))\n",
    "test_X1['likes'] = test_pred1"
   ]
  },
  {
   "cell_type": "code",
   "execution_count": 36,
   "id": "pressed-sperm",
   "metadata": {},
   "outputs": [],
   "source": [
    "# tuning用\n",
    "# for model in models1:\n",
    "#     print(model.params)"
   ]
  },
  {
   "cell_type": "code",
   "execution_count": 37,
   "id": "subjective-indie",
   "metadata": {},
   "outputs": [],
   "source": [
    "test_X = test_X1\n",
    "assert len(test_X) == len(test)\n",
    "df_test_pred = test_X[['likes']]"
   ]
  },
  {
   "cell_type": "code",
   "execution_count": 38,
   "id": "billion-counter",
   "metadata": {},
   "outputs": [
    {
     "data": {
      "text/html": [
       "<div>\n",
       "<style scoped>\n",
       "    .dataframe tbody tr th:only-of-type {\n",
       "        vertical-align: middle;\n",
       "    }\n",
       "\n",
       "    .dataframe tbody tr th {\n",
       "        vertical-align: top;\n",
       "    }\n",
       "\n",
       "    .dataframe thead th {\n",
       "        text-align: right;\n",
       "    }\n",
       "</style>\n",
       "<table border=\"1\" class=\"dataframe\">\n",
       "  <thead>\n",
       "    <tr style=\"text-align: right;\">\n",
       "      <th></th>\n",
       "      <th>likes</th>\n",
       "    </tr>\n",
       "  </thead>\n",
       "  <tbody>\n",
       "    <tr>\n",
       "      <th>0</th>\n",
       "      <td>0.764475</td>\n",
       "    </tr>\n",
       "    <tr>\n",
       "      <th>1</th>\n",
       "      <td>20.625252</td>\n",
       "    </tr>\n",
       "    <tr>\n",
       "      <th>2</th>\n",
       "      <td>0.469026</td>\n",
       "    </tr>\n",
       "    <tr>\n",
       "      <th>3</th>\n",
       "      <td>4.996780</td>\n",
       "    </tr>\n",
       "    <tr>\n",
       "      <th>4</th>\n",
       "      <td>0.216827</td>\n",
       "    </tr>\n",
       "  </tbody>\n",
       "</table>\n",
       "</div>"
      ],
      "text/plain": [
       "       likes\n",
       "0   0.764475\n",
       "1  20.625252\n",
       "2   0.469026\n",
       "3   4.996780\n",
       "4   0.216827"
      ]
     },
     "execution_count": 38,
     "metadata": {},
     "output_type": "execute_result"
    }
   ],
   "source": [
    "# df_test_pred = pd.DataFrame(test_pred, columns=['likes'])\n",
    "assert len(df_test_pred) == len(test)\n",
    "df_test_pred.to_csv('../output/submit.csv', index=False)\n",
    "df_test_pred.head()"
   ]
  },
  {
   "cell_type": "code",
   "execution_count": 39,
   "id": "collective-stand",
   "metadata": {},
   "outputs": [],
   "source": [
    "def plot_scatter(target, oof):\n",
    "    x1 = target\n",
    "    y1 = oof\n",
    "    xmax = max(max(x1), max(y1))*1.05\n",
    "    fig = plt.figure(figsize=(5, 5))\n",
    "    ax = fig.add_subplot(1, 1, 1)\n",
    "    ax.scatter(x1, y1, alpha=0.3, marker='.')\n",
    "    ax.plot([0, xmax], [0, xmax], color='black', linewidth=0.5)\n",
    "    plt.xlabel('Target')\n",
    "    plt.ylabel('Out of fold')\n",
    "    plt.xlim(0, xmax)\n",
    "    plt.ylim(0, xmax)"
   ]
  },
  {
   "cell_type": "code",
   "execution_count": 40,
   "id": "another-trauma",
   "metadata": {},
   "outputs": [
    {
     "name": "stdout",
     "output_type": "stream",
     "text": [
      "corr1 = 0.822415192202654\n"
     ]
    },
    {
     "data": {
      "image/png": "[encoded data removed]",
      "text/plain": [
       "<Figure size 360x360 with 1 Axes>"
      ]
     },
     "metadata": {
      "needs_background": "light"
     },
     "output_type": "display_data"
    }
   ],
   "source": [
    "corr1 = train_y1.corr(pd.Series(oof_pred1))\n",
    "print('corr1 =', corr1)\n",
    "plot_scatter(train_y1, oof_pred1)"
   ]
  },
  {
   "cell_type": "code",
   "execution_count": 41,
   "id": "unknown-porter",
   "metadata": {},
   "outputs": [],
   "source": [
    "def plot_hist(oof, pred):\n",
    "    fig, ax = plt.subplots(figsize=(6, 6))\n",
    "    sns.histplot(pred, label='Test Predict', ax=ax, color='black')\n",
    "    sns.histplot(oof, label='Out of fold', ax=ax, color='C1')\n",
    "    ax.legend()\n",
    "    ax.grid()"
   ]
  },
  {
   "cell_type": "code",
   "execution_count": 42,
   "id": "colored-storm",
   "metadata": {},
   "outputs": [
    {
     "data": {
      "image/png": "[encoded data removed]",
      "text/plain": [
       "<Figure size 432x432 with 1 Axes>"
      ]
     },
     "metadata": {
      "needs_background": "light"
     },
     "output_type": "display_data"
    }
   ],
   "source": [
    "plot_hist(oof_pred1, np.log1p(df_test_pred))"
   ]
  },
  {
   "cell_type": "code",
   "execution_count": 43,
   "id": "younger-startup",
   "metadata": {},
   "outputs": [
    {
     "name": "stdout",
     "output_type": "stream",
     "text": [
      "- feat_cnt = 233\n",
      "- score = 1.00967\n",
      "- corr = 0.82242\n"
     ]
    }
   ],
   "source": [
    "print(f'- feat_cnt = {feat_cnt1}')\n",
    "print(f'- score = {score1:.5f}')\n",
    "print(f'- corr = {corr1:.5f}')"
   ]
  },
  {
   "cell_type": "markdown",
   "id": "bearing-culture",
   "metadata": {},
   "source": [
    "#### baseline_16: tuning (baseline14)\n",
    "- feat_cnt = 233\n",
    "- score = 1.00967\n",
    "- corr = 0.82242\n",
    "- LB = 0.9641\n",
    "\n",
    "#### baseline_15: fit->whole, long_more_titleのみ, titleなし\n",
    "- feat_cnt = 203\n",
    "- score = 1.01014\n",
    "- corr = 0.82217\n",
    "- LB = 0.968\n",
    "\n",
    "#### baseline_14: long_more_title(50), title(30)\n",
    "- feat_cnt = 233\n",
    "- score = 1.00905\n",
    "- corr = 0.82265\n",
    "- LB = 0.9644 ★best★\n",
    "\n",
    "#### baseline_13: title\n",
    "- feat_cnt = 203\n",
    "- score = 1.01047\n",
    "- corr = 0.82207\n",
    "- LB = 0.9657\n",
    "\n",
    "#### baseline_12: description\n",
    "- feat_cnt = 153\n",
    "- score = 1.01823\n",
    "- corr = 0.81906\n",
    "- LB = 0.9804\n",
    "\n",
    "#### baseline_11: principal_maker, maker\n",
    "- feat_cnt = 103\n",
    "- score = 1.03405\n",
    "- corr = 0.81277\n",
    "- LB = 1.0012\n",
    "\n",
    "#### baseline_10-1: tuning\n",
    "- feat_cnt = 96\n",
    "- score = 1.03211\n",
    "- corr = 0.81355\n",
    "- LB = 1.0026\n",
    "\n",
    "#### tuning_10:\n",
    "- feat_cnt = 96\n",
    "- score = 1.02586\n",
    "- corr = 0.81605\n",
    "\n",
    "#### baseline_9-1: TE n_split=5に戻す, testにしかいないprincipal_makerは別モデル\n",
    "- feat_cnt = 96, 92\n",
    "- score = 1.03494, 1.05633\n",
    "- corr = 0.81246, 0.80358\n",
    "- LB = 1.0732\n",
    "\n",
    "#### baseline_8: TE n_split=100\n",
    "- feat_cnt = 96\n",
    "- score = 1.00019\n",
    "- corr = 0.82619\n",
    "- LB = 1.0166\n",
    "\n",
    "#### baseline_7: TE_principal_maker, TE_principal_or_first_maker\n",
    "- feat_cnt = 96\n",
    "- score = 1.03494\n",
    "- corr = 0.81246\n",
    "- LB = 1.0083\n",
    "\n",
    "#### baseline_6: StratifiedKFold(n_splits=5)\n",
    "- feat_cnt = 94\n",
    "- score = 1.04358\n",
    "- corr = 0.80887\n",
    "- LB = 1.0219\n",
    "\n",
    "#### baseline_5: dimension, area, country\n",
    "- feat_cnt = 94\n",
    "- score = 1.04760\n",
    "- corr = 0.80725\n",
    "- LB = 1.0197\n",
    "\n",
    "#### baseline_4: color_count, categorical_feature\n",
    "- feat_cnt = 75\n",
    "- score = 1.05437\n",
    "- corr = 0.80446\n",
    "- LB = 1.0223\n",
    "\n",
    "#### baseline_3: main_color\n",
    "- feat_cnt = 73\n",
    "- score = 1.06423\n",
    "- corr = 0.80027\n",
    "- LB = 1.0363\n",
    "\n",
    "#### baseline_2: material, object_collection, place, technique, person\n",
    "- feat_cnt = 61\n",
    "- score = 1.07486\n",
    "- corr = 0.79573\n",
    "- LB = 1.0525\n",
    "\n",
    "#### baseline_1: size, string_length\n",
    "- feat_cnt = 25\n",
    "- score = 1.11432\n",
    "- corr = 0.77827\n",
    "- LB = 1.1037\n",
    "\n",
    "#### baseline_0\n",
    "- feat_cnt = 16\n",
    "- score = 1.20651\n",
    "- corr = 0.73332\n",
    "- LB = 1.1827"
   ]
  },
  {
   "cell_type": "code",
   "execution_count": 44,
   "id": "healthy-relief",
   "metadata": {},
   "outputs": [],
   "source": [
    "def visualize_importance(models):\n",
    "    feature_importance_df = pd.DataFrame()\n",
    "    for i, model in enumerate(models):\n",
    "        _df = pd.DataFrame()\n",
    "        _df['feature_importance'] = model.feature_importance()\n",
    "        _df['column'] = model.feature_name()\n",
    "        _df['fold'] = i + 1\n",
    "        feature_importance_df = pd.concat([feature_importance_df, _df], \n",
    "                                          axis=0, ignore_index=True)\n",
    "\n",
    "    order = feature_importance_df.groupby('column')\\\n",
    "        .sum()[['feature_importance']]\\\n",
    "        .sort_values('feature_importance', ascending=False).index[:50]\n",
    "\n",
    "    fig, ax = plt.subplots(figsize=(8, max(6, len(order) * .25)))\n",
    "    sns.boxenplot(data=feature_importance_df, \n",
    "                  x='feature_importance', \n",
    "                  y='column', \n",
    "                  order=order, \n",
    "                  ax=ax, \n",
    "                  palette='viridis', \n",
    "                  orient='h')\n",
    "    ax.tick_params(axis='x', rotation=90)\n",
    "    ax.set_title('Importance')\n",
    "    ax.grid()\n",
    "    fig.tight_layout()\n",
    "    return fig, ax"
   ]
  },
  {
   "cell_type": "code",
   "execution_count": 45,
   "id": "qualified-event",
   "metadata": {},
   "outputs": [
    {
     "data": {
      "image/png": "[encoded data removed]",
      "text/plain": [
       "<Figure size 576x900 with 1 Axes>"
      ]
     },
     "metadata": {
      "needs_background": "light"
     },
     "output_type": "display_data"
    }
   ],
   "source": [
    "fig, ax = visualize_importance(models1)"
   ]
  },
  {
   "cell_type": "code",
   "execution_count": null,
   "id": "framed-brazil",
   "metadata": {},
   "outputs": [],
   "source": []
  }
 ],
 "metadata": {
  "kernelspec": {
   "display_name": "Python 3",
   "language": "python",
   "name": "python3"
  },
  "language_info": {
   "codemirror_mode": {
    "name": "ipython",
    "version": 3
   },
   "file_extension": ".py",
   "mimetype": "text/x-python",
   "name": "python",
   "nbconvert_exporter": "python",
   "pygments_lexer": "ipython3",
   "version": "3.9.2"
  }
 },
 "nbformat": 4,
 "nbformat_minor": 5
}
