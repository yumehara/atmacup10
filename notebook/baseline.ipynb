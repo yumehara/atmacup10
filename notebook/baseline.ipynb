{
 "cells": [
  {
   "cell_type": "code",
   "execution_count": 1,
   "id": "documentary-ecuador",
   "metadata": {},
   "outputs": [],
   "source": [
    "import texthero as hero\n",
    "import pandas as pd\n",
    "import numpy as np\n",
    "import datetime\n",
    "import matplotlib.pyplot as plt\n",
    "import seaborn as sns\n",
    "from PIL import ImageColor\n",
    "import colorsys\n",
    "from sklearn import preprocessing\n",
    "from sklearn.model_selection import KFold\n",
    "from sklearn.model_selection import StratifiedKFold\n",
    "# import lightgbm as lgbm\n",
    "import optuna.integration.lightgbm as lgbm\n",
    "from sklearn.metrics import mean_squared_error\n",
    "from sklearn.preprocessing import LabelEncoder\n",
    "from sklearn.feature_extraction.text import TfidfVectorizer\n",
    "from sklearn.decomposition import TruncatedSVD\n",
    "from sklearn.pipeline import Pipeline\n",
    "import nltk\n",
    "import warnings\n",
    "\n",
    "pd.set_option('display.max_Columns', 100)\n",
    "warnings.simplefilter('ignore', UserWarning)"
   ]
  },
  {
   "cell_type": "code",
   "execution_count": 2,
   "id": "american-reality",
   "metadata": {},
   "outputs": [
    {
     "name": "stdout",
     "output_type": "stream",
     "text": [
      "color (73636, 7)\n"
     ]
    }
   ],
   "source": [
    "color = pd.read_csv('../input/color.csv')\n",
    "color_rgb = pd.DataFrame(color['hex'].str.strip().map(ImageColor.getrgb).values.tolist(), \n",
    "                         columns=['color_r', 'color_g', 'color_b'])\n",
    "color = pd.concat([color, color_rgb], axis=1)\n",
    "color['ratio'] = color['percentage']/100\n",
    "print('color', color.shape)"
   ]
  },
  {
   "cell_type": "code",
   "execution_count": 3,
   "id": "treated-subdivision",
   "metadata": {},
   "outputs": [
    {
     "name": "stdout",
     "output_type": "stream",
     "text": [
      "palette (527890, 5)\n",
      "material (35394, 2)\n",
      "object_collection (14210, 2)\n",
      "technique (20481, 2)\n",
      "production_place (17686, 2)\n",
      "production_country (17686, 2)\n",
      "historical_person (6745, 2)\n",
      "maker (3291, 6)\n",
      "principal_maker (24538, 6)\n",
      "principal_maker_occupation (25372, 2)\n",
      "train (12026, 19)\n",
      "test (12008, 18)\n",
      "whole (24034, 19)\n"
     ]
    }
   ],
   "source": [
    "palette = pd.read_csv('../input/palette.csv')\n",
    "print('palette', palette.shape)\n",
    "material = pd.read_csv('../input/material.csv')\n",
    "print('material', material.shape)\n",
    "object_collection = pd.read_csv('../input/object_collection.csv')\n",
    "print('object_collection', object_collection.shape)\n",
    "technique = pd.read_csv('../input/technique.csv')\n",
    "print('technique', technique.shape)\n",
    "production_place = pd.read_csv('../input/production_place.csv')\n",
    "print('production_place', production_place.shape)\n",
    "production_country = pd.read_csv('../input/production_country.csv')\n",
    "print('production_country', production_country.shape)\n",
    "historical_person = pd.read_csv('../input/historical_person.csv')\n",
    "print('historical_person', historical_person.shape)\n",
    "maker = pd.read_csv('../input/maker.csv')\n",
    "print('maker', maker.shape)\n",
    "principal_maker = pd.read_csv('../input/principal_maker.csv')\n",
    "print('principal_maker', principal_maker.shape)\n",
    "principal_maker_occupation = pd.read_csv('../input/principal_maker_occupation.csv')\n",
    "print('principal_maker_occupation', principal_maker_occupation.shape)\n",
    "train = pd.read_csv('../input/train.csv')\n",
    "print('train', train.shape)\n",
    "test = pd.read_csv('../input/test.csv')\n",
    "print('test', test.shape)\n",
    "whole = pd.concat([train, test])\n",
    "print('whole', whole.shape)"
   ]
  },
  {
   "cell_type": "markdown",
   "id": "bigger-native",
   "metadata": {},
   "source": [
    "### Text"
   ]
  },
  {
   "cell_type": "code",
   "execution_count": 4,
   "id": "million-maintenance",
   "metadata": {},
   "outputs": [],
   "source": [
    "def text_normalization(text):\n",
    "\n",
    "    # 英語とオランダ語を stopword として指定\n",
    "    custom_stopwords = nltk.corpus.stopwords.words('dutch') + nltk.corpus.stopwords.words('english')\n",
    "\n",
    "    x = hero.clean(text, pipeline=[\n",
    "        hero.preprocessing.fillna,\n",
    "        hero.preprocessing.lowercase,\n",
    "        hero.preprocessing.remove_digits,\n",
    "        hero.preprocessing.remove_punctuation,\n",
    "        hero.preprocessing.remove_diacritics,\n",
    "        lambda x: hero.preprocessing.remove_stopwords(x, stopwords=custom_stopwords)\n",
    "    ])\n",
    "\n",
    "    return x"
   ]
  },
  {
   "cell_type": "code",
   "execution_count": 5,
   "id": "composed-arbitration",
   "metadata": {},
   "outputs": [],
   "source": [
    "class AbstractBaseBlock:\n",
    "    def fit(self, input_df: pd.DataFrame, y=None):\n",
    "        return self.transform(input_df)\n",
    "\n",
    "    def transform(self, input_df: pd.DataFrame) -> pd.DataFrame:\n",
    "        raise NotImplementedError()"
   ]
  },
  {
   "cell_type": "code",
   "execution_count": 6,
   "id": "dirty-significance",
   "metadata": {},
   "outputs": [],
   "source": [
    "class TfidfBlock(AbstractBaseBlock):\n",
    "    \"\"\"tfidf x SVD による圧縮を行なう block\"\"\"\n",
    "    def __init__(self, column: str, n_topic=50):\n",
    "        \"\"\"\n",
    "        args:\n",
    "            column: str\n",
    "                変換対象のカラム名\n",
    "        \"\"\"\n",
    "        self.column = column\n",
    "        self.n_topic = n_topic\n",
    "\n",
    "    def preprocess(self, input_df):\n",
    "        x = text_normalization(input_df[self.column])\n",
    "        return x\n",
    "\n",
    "    def fit(self, input_df, y=None):\n",
    "        text = self.preprocess(input_df)\n",
    "        self.pileline_ = Pipeline([\n",
    "            ('tfidf', TfidfVectorizer(max_features=10000)),\n",
    "            ('svd', TruncatedSVD(n_components=self.n_topic)),\n",
    "        ])\n",
    "\n",
    "        self.pileline_.fit(text)\n",
    "        return self.transform(input_df)\n",
    "\n",
    "    def transform(self, input_df):\n",
    "        text = self.preprocess(input_df)\n",
    "        z = self.pileline_.transform(text)\n",
    "\n",
    "        out_df = pd.DataFrame(z)\n",
    "        return out_df.add_prefix(f'{self.column}_tfidf_')"
   ]
  },
  {
   "cell_type": "code",
   "execution_count": 7,
   "id": "excessive-murder",
   "metadata": {},
   "outputs": [],
   "source": [
    "def create_long_more_title(df_input):\n",
    "    df_input['long_more_title'] = df_input['long_title'].str.cat(df_input['more_title'], sep=' ')"
   ]
  },
  {
   "cell_type": "code",
   "execution_count": 8,
   "id": "worthy-musical",
   "metadata": {},
   "outputs": [],
   "source": [
    "create_long_more_title(train)\n",
    "create_long_more_title(test)\n",
    "create_long_more_title(whole)"
   ]
  },
  {
   "cell_type": "code",
   "execution_count": 9,
   "id": "motivated-wednesday",
   "metadata": {
    "scrolled": false
   },
   "outputs": [
    {
     "name": "stderr",
     "output_type": "stream",
     "text": [
      "/Users/umeharayasunobu/opt/anaconda3/envs/newest/lib/python3.9/site-packages/texthero/preprocessing.py:72: FutureWarning: The default value of regex will change from True to False in a future version.\n",
      "  return input.str.replace(pattern, symbols)\n",
      "/Users/umeharayasunobu/opt/anaconda3/envs/newest/lib/python3.9/site-packages/texthero/preprocessing.py:131: FutureWarning: The default value of regex will change from True to False in a future version.\n",
      "  return input.str.replace(rf\"([{string.punctuation}])+\", symbol)\n"
     ]
    },
    {
     "name": "stdout",
     "output_type": "stream",
     "text": [
      "CPU times: user 21.1 s, sys: 1.14 s, total: 22.3 s\n",
      "Wall time: 19.1 s\n"
     ]
    }
   ],
   "source": [
    "%%time\n",
    "desc_block = TfidfBlock('description')\n",
    "x = desc_block.fit(train)\n",
    "\n",
    "title_block = TfidfBlock('title', 30)\n",
    "x = title_block.fit(train)\n",
    "\n",
    "longtitle_block = TfidfBlock('long_more_title')\n",
    "x = longtitle_block.fit(train)"
   ]
  },
  {
   "cell_type": "code",
   "execution_count": 10,
   "id": "psychological-accounting",
   "metadata": {},
   "outputs": [],
   "source": [
    "def create_text_description_feature(df_input):\n",
    "    return desc_block.transform(df_input)\n",
    "\n",
    "def create_text_title_feature(df_input):\n",
    "    return title_block.transform(df_input)\n",
    "\n",
    "def create_text_longtitle_feature(df_input):\n",
    "    return longtitle_block.transform(df_input)"
   ]
  },
  {
   "cell_type": "markdown",
   "id": "tender-complaint",
   "metadata": {},
   "source": [
    "#### Color"
   ]
  },
  {
   "cell_type": "code",
   "execution_count": 11,
   "id": "mineral-artist",
   "metadata": {},
   "outputs": [],
   "source": [
    "def rgb_to_h(row):\n",
    "    return colorsys.rgb_to_hsv(row['R'], row['G'], row['B'])[0]\n",
    "\n",
    "def rgb_to_s(row):\n",
    "    return colorsys.rgb_to_hsv(row['R'], row['G'], row['B'])[1]\n",
    "\n",
    "def rgb_to_v(row):\n",
    "    return colorsys.rgb_to_hsv(row['R'], row['G'], row['B'])[2]\n",
    "\n",
    "def get_total_color(color_input):\n",
    "    cp = color_input.copy()\n",
    "    cp['R'] = cp['color_r']*cp['ratio']/255\n",
    "    cp['G'] = cp['color_g']*cp['ratio']/255\n",
    "    cp['B'] = cp['color_b']*cp['ratio']/255\n",
    "    rgb = cp.groupby('object_id').sum()[['R','G','B']]\n",
    "    rgb['H'] = rgb.apply(rgb_to_h, axis=1)\n",
    "    rgb['S'] = rgb.apply(rgb_to_s, axis=1)\n",
    "    rgb['V'] = rgb.apply(rgb_to_v, axis=1)\n",
    "    return rgb\n",
    "\n",
    "main_color = get_total_color(color).add_prefix('color_').reset_index()\n",
    "main_palette = get_total_color(palette).add_prefix('plt_').reset_index()"
   ]
  },
  {
   "cell_type": "code",
   "execution_count": 12,
   "id": "scheduled-gossip",
   "metadata": {},
   "outputs": [],
   "source": [
    "def create_main_color_feature(df_input):\n",
    "    cp = df_input[['object_id']].copy()\n",
    "    cp = pd.merge(cp, main_color, on='object_id', how='left')\n",
    "    cp = pd.merge(cp, main_palette, on='object_id', how='left')\n",
    "    cp = cp.fillna(0).drop(columns=['object_id'])\n",
    "    cp.index = df_input.index\n",
    "    return cp"
   ]
  },
  {
   "cell_type": "code",
   "execution_count": 13,
   "id": "blond-dispatch",
   "metadata": {},
   "outputs": [],
   "source": [
    "def get_color_count(df_input, color_input, col):\n",
    "    color_cp = color_input[color_input['ratio'] > 0.05].copy()\n",
    "    group = color_cp.groupby('object_id').size().rename(col).reset_index()\n",
    "    cp = df_input[['object_id']].copy()\n",
    "    cp = pd.merge(cp, group, on='object_id', how='left').fillna(0)\n",
    "    return cp[[col]]\n",
    "\n",
    "def create_color_count_feature(df_input):\n",
    "    color_count = get_color_count(df_input, color, 'color_count')\n",
    "    color_count.index = df_input.index\n",
    "    palette_count = get_color_count(df_input, palette, 'palette_count')\n",
    "    palette_count.index = df_input.index\n",
    "    return pd.concat([color_count, palette_count], axis=1)"
   ]
  },
  {
   "cell_type": "code",
   "execution_count": 14,
   "id": "hidden-phoenix",
   "metadata": {},
   "outputs": [],
   "source": [
    "def create_numeric_feature(df_input):\n",
    "    cp = df_input.copy()\n",
    "    cp['acquisition_year'] = pd.to_datetime(df_input['acquisition_date']).dt.year\n",
    "    cp['dating_year_early_late'] = cp['dating_year_late'] - cp['dating_year_early'] + 1\n",
    "    return cp[['acquisition_year', 'dating_sorting_date', 'dating_period', 'dating_year_early', 'dating_year_late', 'dating_year_early_late']]"
   ]
  },
  {
   "cell_type": "markdown",
   "id": "seven-shield",
   "metadata": {},
   "source": [
    "#### principal_maker"
   ]
  },
  {
   "cell_type": "code",
   "execution_count": 15,
   "id": "dried-collaboration",
   "metadata": {},
   "outputs": [],
   "source": [
    "def create_principal_maker_feature(df_input):\n",
    "    occu_group = principal_maker_occupation.groupby('id').size().rename('occupation_count')\n",
    "    occu_group = pd.DataFrame(occu_group).reset_index()\n",
    "    \n",
    "    maker_cp = pd.merge(principal_maker, occu_group, on='id', how='left')\n",
    "    \n",
    "    group = maker_cp.groupby('object_id').agg({'occupation_count':'sum', 'id':'size'}).reset_index()\n",
    "    group.rename(columns={'id':'principal_maker_count'}, inplace=True)\n",
    "    cp = pd.merge(df_input, group, on='object_id', how='left')\n",
    "    return cp[['occupation_count', 'principal_maker_count']]"
   ]
  },
  {
   "cell_type": "code",
   "execution_count": 16,
   "id": "unsigned-glucose",
   "metadata": {},
   "outputs": [],
   "source": [
    "def create_maker_feature(df_input):\n",
    "    maker_cp = maker.copy()\n",
    "    maker_cp['birth_year'] = 0\n",
    "    maker_cp.loc[maker_cp['date_of_birth'].notnull(), 'birth_year'] = maker_cp['date_of_birth']\n",
    "    maker_cp['birth_year'] = maker_cp['birth_year'].apply(lambda x: str(x)[:4]).astype(int)\n",
    "    \n",
    "    maker_cp['death_year'] = 0\n",
    "    maker_cp.loc[maker_cp['date_of_death'].notnull(), 'death_year'] = maker_cp['date_of_death']\n",
    "    maker_cp['death_year'] = maker_cp['death_year'].apply(lambda x: str(x)[:4]).astype(int)\n",
    "\n",
    "    maker_cp['maker_death_old'] = maker_cp['death_year'] - maker_cp['birth_year']\n",
    "    maker_cp.rename(columns={'name': 'principal_maker'}, inplace=True)\n",
    "    \n",
    "    cp = pd.merge(df_input, maker_cp, on='principal_maker', how='left')\n",
    "    return cp[['birth_year', 'death_year', 'maker_death_old']]"
   ]
  },
  {
   "cell_type": "markdown",
   "id": "stainless-compensation",
   "metadata": {},
   "source": [
    "#### Count encoding"
   ]
  },
  {
   "cell_type": "code",
   "execution_count": 17,
   "id": "entitled-processing",
   "metadata": {},
   "outputs": [],
   "source": [
    "def create_count_encoding_feature_sub(df_whole, df_input, column):\n",
    "    cp = df_input.copy()\n",
    "    newcol = 'CE_'+column\n",
    "    group = df_whole.groupby(column).size().rename(newcol)\n",
    "    group = pd.DataFrame(group).reset_index()\n",
    "    cp = pd.merge(cp, group, on=column, how='left')\n",
    "    cp = cp[[newcol]].fillna(0)\n",
    "    cp.index = df_input.index\n",
    "    return cp\n",
    "\n",
    "def create_count_encoding_feature(df_input):\n",
    "    col_list = ['art_series_id', 'principal_maker', 'principal_or_first_maker', 'copyright_holder', 'acquisition_method', \n",
    "                'dating_sorting_date', 'dating_period']\n",
    "    cp = df_input.copy()\n",
    "    len_cp = len(cp)\n",
    "    org_col = cp.columns\n",
    "    for col in col_list:\n",
    "        tmp = create_count_encoding_feature_sub(whole, cp, col)\n",
    "        cp = pd.concat([cp, tmp], axis=1)\n",
    "        assert len(cp) == len_cp\n",
    "    return cp.drop(columns=org_col)"
   ]
  },
  {
   "cell_type": "markdown",
   "id": "intended-practitioner",
   "metadata": {},
   "source": [
    "#### Label encoding"
   ]
  },
  {
   "cell_type": "code",
   "execution_count": 18,
   "id": "restricted-holmes",
   "metadata": {},
   "outputs": [],
   "source": [
    "def create_label_encoding_feature(df_input):\n",
    "    col_list = ['art_series_id', 'principal_maker', 'principal_or_first_maker', 'copyright_holder', 'acquisition_method']\n",
    "    out_df = pd.DataFrame(index=df_input.index)\n",
    "    le = LabelEncoder()\n",
    "    for col in col_list:\n",
    "        le.fit(whole[col])\n",
    "        out_df[col] = le.transform(df_input[col])\n",
    "    return out_df.add_prefix('LE_')"
   ]
  },
  {
   "cell_type": "markdown",
   "id": "danish-steering",
   "metadata": {},
   "source": [
    "#### One-hot encoding"
   ]
  },
  {
   "cell_type": "code",
   "execution_count": 19,
   "id": "juvenile-crystal",
   "metadata": {},
   "outputs": [],
   "source": [
    "def get_one_hot_encoding(df_input, df_merge, count, prefix):\n",
    "    value_counts = df_merge['name'].value_counts()\n",
    "    col_list = list(value_counts.index[0:count])\n",
    "    dummy = pd.get_dummies(df_merge['name'])[col_list]\n",
    "    dummy = pd.concat([df_merge, dummy], axis=1)\n",
    "    group = dummy.groupby('object_id').sum()\n",
    "    group = group.add_prefix(prefix).reset_index()\n",
    "    out = pd.merge(df_input[['object_id']], group, on='object_id', how='left')\n",
    "    out = out.fillna(0).drop(columns=['object_id'])\n",
    "    out.index = df_input.index\n",
    "    return out\n",
    "\n",
    "def creat_material_feature(df_input):\n",
    "    return get_one_hot_encoding(df_input, material, 10, 'MT_')\n",
    "\n",
    "def creat_object_collection_feature(df_input):\n",
    "    return get_one_hot_encoding(df_input, object_collection, 3, 'OC_')\n",
    "\n",
    "def creat_production_place_feature(df_input):\n",
    "    return get_one_hot_encoding(df_input, production_place, 10, 'PP_')\n",
    "\n",
    "def creat_production_country_feature(df_input):\n",
    "    return get_one_hot_encoding(df_input, production_country, 17, 'PC_')\n",
    "\n",
    "def creat_technique_feature(df_input):\n",
    "    return get_one_hot_encoding(df_input, technique, 10, 'TC_')\n",
    "\n",
    "def creat_historical_person_feature(df_input):\n",
    "    ohe = get_one_hot_encoding(df_input, historical_person, 3, 'HP_')\n",
    "    ohe.columns = ['HP_' + str(i) for i in range(len(ohe.columns))]\n",
    "    return ohe"
   ]
  },
  {
   "cell_type": "markdown",
   "id": "ready-northeast",
   "metadata": {},
   "source": [
    "#### String length"
   ]
  },
  {
   "cell_type": "code",
   "execution_count": 20,
   "id": "temporal-proposition",
   "metadata": {},
   "outputs": [],
   "source": [
    "def create_string_length_feature(df_input):\n",
    "    out_df = pd.DataFrame()\n",
    "    str_columns = ['title', 'long_title', 'sub_title', 'more_title', 'description']\n",
    "    for c in str_columns:\n",
    "        out_df[c] = df_input[c].str.len()\n",
    "    return out_df.add_prefix('LN_')"
   ]
  },
  {
   "cell_type": "code",
   "execution_count": 21,
   "id": "absent-russian",
   "metadata": {},
   "outputs": [],
   "source": [
    "def create_sub_title_feature(df_input):\n",
    "    out = pd.DataFrame(index=df_input.index)\n",
    "    out['dimension'] = 0\n",
    "    for axis in ['h', 'w', 't', 'd']:\n",
    "        column_name = f'size_{axis}'\n",
    "        size_info = df_input['sub_title'].str.extract(r'{} (\\d*|\\d*\\.\\d*)(cm|mm)'.format(axis))\n",
    "        size_info = size_info.rename(columns={0: column_name, 1: 'unit'})\n",
    "        size_info[column_name] = size_info[column_name].replace('', np.nan).astype(float)\n",
    "        size_info[column_name] = size_info.apply(lambda row: row[column_name] * 10 if row['unit'] == 'cm' else row[column_name], axis=1) \n",
    "        out[column_name] = size_info[column_name]\n",
    "        out['dimension'] += out[column_name].apply(lambda x: 0 if np.isnan(x) else 1)\n",
    "    out['area'] = out['size_h'] * out['size_w']\n",
    "    return out"
   ]
  },
  {
   "cell_type": "markdown",
   "id": "governmental-partnership",
   "metadata": {},
   "source": [
    "#### Target encoding"
   ]
  },
  {
   "cell_type": "code",
   "execution_count": 22,
   "id": "aware-nicaragua",
   "metadata": {},
   "outputs": [],
   "source": [
    "def target_encoding(df_input, target_col, k_fold=5):\n",
    "    encoding_col = 'TE_' + target_col\n",
    "    X = df_input\n",
    "    out = pd.DataFrame(index=X.index)\n",
    "    out[encoding_col] = np.NaN\n",
    "\n",
    "    if 'likes' in df_input.columns:\n",
    "        # train\n",
    "        cv = KFold(n_splits=k_fold, shuffle=True, random_state=0)\n",
    "        for train_index, valid_index in cv.split(X):\n",
    "            x_train, x_valid = X.iloc[train_index], X.iloc[valid_index]\n",
    "            likes = x_train.groupby(target_col)[['likes']].mean().reset_index()\n",
    "            tmp = pd.merge(x_valid[[target_col]], likes, on=[target_col], how='left')\n",
    "            tmp.index = valid_index\n",
    "            out.loc[valid_index, encoding_col] = tmp['likes'].apply(np.log1p)\n",
    "    else:\n",
    "        # test\n",
    "        likes = train.groupby(target_col)[['likes']].mean().reset_index()\n",
    "        tmp = pd.merge(X[[target_col]], likes, on=[target_col], how='left')\n",
    "        out[encoding_col] = tmp['likes'].apply(np.log1p)\n",
    "    return out\n",
    "\n",
    "def creat_target_encoding_principal_maker(df_input):\n",
    "    return target_encoding(df_input, 'principal_maker')\n",
    "\n",
    "def creat_target_encoding_principal_or_first_maker(df_input):\n",
    "    return target_encoding(df_input, 'principal_or_first_maker')"
   ]
  },
  {
   "cell_type": "markdown",
   "id": "listed-integrity",
   "metadata": {},
   "source": [
    "#### All feature"
   ]
  },
  {
   "cell_type": "code",
   "execution_count": 23,
   "id": "light-virus",
   "metadata": {},
   "outputs": [],
   "source": [
    "func_list = [\n",
    "    create_text_description_feature,\n",
    "    create_text_title_feature,\n",
    "    create_text_longtitle_feature,\n",
    "    create_numeric_feature,\n",
    "    create_count_encoding_feature,\n",
    "    create_label_encoding_feature,\n",
    "    create_string_length_feature,\n",
    "    create_sub_title_feature,\n",
    "    creat_material_feature,\n",
    "    creat_object_collection_feature,\n",
    "    creat_production_place_feature,\n",
    "    creat_production_country_feature,\n",
    "    creat_technique_feature,\n",
    "    creat_historical_person_feature,\n",
    "    create_main_color_feature,\n",
    "    create_color_count_feature,\n",
    "    create_principal_maker_feature,\n",
    "    create_maker_feature,\n",
    "]\n",
    "\n",
    "func_list_w_te = func_list + [\n",
    "    creat_target_encoding_principal_maker,\n",
    "    creat_target_encoding_principal_or_first_maker,\n",
    "]"
   ]
  },
  {
   "cell_type": "code",
   "execution_count": 24,
   "id": "blond-cooper",
   "metadata": {},
   "outputs": [],
   "source": [
    "def create_all_feature(df_input, func_list):\n",
    "    out = pd.DataFrame(index=df_input.index)\n",
    "    for func in func_list:\n",
    "        out = pd.concat([out, func(df_input)], axis=1)\n",
    "        assert len(df_input) == len(out)\n",
    "    return out"
   ]
  },
  {
   "cell_type": "code",
   "execution_count": 25,
   "id": "binding-costs",
   "metadata": {},
   "outputs": [],
   "source": [
    "def split_train_target(df_input):\n",
    "    target = df_input[['likes']].copy()\n",
    "    target['target'] = target['likes'].apply(np.log1p)\n",
    "    return target['target']"
   ]
  },
  {
   "cell_type": "code",
   "execution_count": 26,
   "id": "thrown-encoding",
   "metadata": {},
   "outputs": [],
   "source": [
    "# LGBM_PARAMS = [\n",
    "#     {'objective': 'regression', 'boosting_type': 'gbdt', 'metric': 'rmse', 'seed': 0, 'learning_rate': 0.1, 'verbosity': -1, 'feature_pre_filter': False, 'lambda_l1': 6.704427554963601e-05, 'lambda_l2': 0.2594818452171153, 'num_leaves': 31, 'feature_fraction': 0.6, 'bagging_fraction': 1.0, 'bagging_freq': 0, 'min_child_samples': 20},\n",
    "#     {'objective': 'regression', 'boosting_type': 'gbdt', 'metric': 'rmse', 'seed': 43, 'learning_rate': 0.1, 'verbosity': -1, 'feature_pre_filter': False, 'lambda_l1': 0.0, 'lambda_l2': 0.0, 'num_leaves': 8, 'feature_fraction': 0.7, 'bagging_fraction': 1.0, 'bagging_freq': 0, 'min_child_samples': 20},\n",
    "#     {'objective': 'regression', 'boosting_type': 'gbdt', 'metric': 'rmse', 'seed': 71, 'learning_rate': 0.1, 'verbosity': -1, 'feature_pre_filter': False, 'lambda_l1': 3.055024366525963e-05, 'lambda_l2': 1.2402166045062701e-08, 'num_leaves': 70, 'feature_fraction': 0.8, 'bagging_fraction': 1.0, 'bagging_freq': 0, 'min_child_samples': 20},\n",
    "#     {'objective': 'regression', 'boosting_type': 'gbdt', 'metric': 'rmse', 'seed': 97, 'learning_rate': 0.1, 'verbosity': -1, 'feature_pre_filter': False, 'lambda_l1': 1.2919048713607116e-07, 'lambda_l2': 0.39469524025144875, 'num_leaves': 73, 'feature_fraction': 0.7, 'bagging_fraction': 1.0, 'bagging_freq': 0, 'min_child_samples': 20},\n",
    "#     {'objective': 'regression', 'boosting_type': 'gbdt', 'metric': 'rmse', 'seed': 119, 'learning_rate': 0.1, 'verbosity': -1, 'feature_pre_filter': False, 'lambda_l1': 1.2707018250248112e-08, 'lambda_l2': 1.0000381572720369e-08, 'num_leaves': 251, 'feature_fraction': 0.5, 'bagging_fraction': 1.0, 'bagging_freq': 0, 'min_child_samples': 20},\n",
    "# ]\n",
    "KFOLD = 5"
   ]
  },
  {
   "cell_type": "code",
   "execution_count": 27,
   "id": "informative-effect",
   "metadata": {},
   "outputs": [],
   "source": [
    "LGBM_PARAMS = [\n",
    "    {'objective': 'regression', 'boosting_type': 'gbdt', 'metric': 'rmse', 'seed': 0, 'learning_rate': 0.1, 'verbosity': -1,},\n",
    "    {'objective': 'regression', 'boosting_type': 'gbdt', 'metric': 'rmse', 'seed': 0, 'learning_rate': 0.1, 'verbosity': -1,},\n",
    "    {'objective': 'regression', 'boosting_type': 'gbdt', 'metric': 'rmse', 'seed': 0, 'learning_rate': 0.1, 'verbosity': -1,},\n",
    "    {'objective': 'regression', 'boosting_type': 'gbdt', 'metric': 'rmse', 'seed': 0, 'learning_rate': 0.1, 'verbosity': -1,},\n",
    "    {'objective': 'regression', 'boosting_type': 'gbdt', 'metric': 'rmse', 'seed': 0, 'learning_rate': 0.1, 'verbosity': -1,},\n",
    "]"
   ]
  },
  {
   "cell_type": "code",
   "execution_count": 28,
   "id": "likely-civilian",
   "metadata": {},
   "outputs": [],
   "source": [
    "cat_feat = [\n",
    "    'LE_art_series_id', \n",
    "    'LE_copyright_holder', 'LE_acquisition_method'\n",
    "]\n",
    "\n",
    "cat_feat_te = [\n",
    "    'LE_principal_maker', 'LE_principal_or_first_maker', \n",
    "]\n",
    "\n",
    "cat_feat_w_te = cat_feat + cat_feat_te"
   ]
  },
  {
   "cell_type": "code",
   "execution_count": 29,
   "id": "global-battle",
   "metadata": {},
   "outputs": [],
   "source": [
    "def get_stratified(y):\n",
    "    y_bin = y.astype(int)\n",
    "    y_bin[y_bin >=8] = 8\n",
    "    return y_bin"
   ]
  },
  {
   "cell_type": "code",
   "execution_count": 30,
   "id": "optional-hobby",
   "metadata": {},
   "outputs": [],
   "source": [
    "#get_stratified(train_y1).value_counts()"
   ]
  },
  {
   "cell_type": "code",
   "execution_count": 31,
   "id": "unusual-composition",
   "metadata": {},
   "outputs": [],
   "source": [
    "def train_kfold(X, y, cat_feat, k_fold=KFOLD):\n",
    "    rmse_list = []\n",
    "    models = []\n",
    "    oof_pred = np.zeros_like(y, dtype=np.float)\n",
    "\n",
    "    cv = StratifiedKFold(n_splits=k_fold, shuffle=True, random_state=0)\n",
    "    cv_split = cv.split(X, get_stratified(y))\n",
    "    \n",
    "#     cv = KFold(n_splits=k_fold, shuffle=True, random_state=0)\n",
    "#     cv_split = cv.split(X)\n",
    "\n",
    "    for i, (train_index, valid_index) in enumerate(cv_split):\n",
    "\n",
    "        x_train, x_valid = X.iloc[train_index], X.iloc[valid_index]\n",
    "        y_train, y_valid = y.iloc[train_index], y.iloc[valid_index]\n",
    "        params = LGBM_PARAMS[i]\n",
    "\n",
    "        lgbm_train = lgbm.Dataset(x_train, y_train)\n",
    "        lgbm_eval = lgbm.Dataset(x_valid, y_valid, reference=lgbm_train)\n",
    "        lgbm_model = lgbm.train(params, \n",
    "                                                lgbm_train, \n",
    "                                                valid_sets=lgbm_eval,\n",
    "                                                num_boost_round=10000,\n",
    "                                                early_stopping_rounds=100,\n",
    "                                                categorical_feature = cat_feat,\n",
    "                                                verbose_eval=-1)\n",
    "        y_pred = lgbm_model.predict(x_valid, num_iteration=lgbm_model.best_iteration)\n",
    "        oof_pred[valid_index] = y_pred\n",
    "\n",
    "        rmse = np.sqrt(mean_squared_error(y_valid, y_pred))\n",
    "\n",
    "        rmse_list.append(rmse)\n",
    "        models.append(lgbm_model)\n",
    "\n",
    "    score = np.sqrt(mean_squared_error(y, oof_pred))\n",
    "    print('- TRAIN RMSE={:.4f}'.format(score))\n",
    "\n",
    "    return models, oof_pred, score"
   ]
  },
  {
   "cell_type": "code",
   "execution_count": 32,
   "id": "comparable-tyler",
   "metadata": {},
   "outputs": [],
   "source": [
    "def predict_test(test_X, models):\n",
    "    pred_list = []\n",
    "    for model in models:\n",
    "        pred = model.predict(test_X, num_iteration = model.best_iteration)\n",
    "        pred_list.append(pred)\n",
    "    pred_test = np.mean(pred_list, axis=0)\n",
    "    return pred_test"
   ]
  },
  {
   "cell_type": "code",
   "execution_count": 33,
   "id": "informative-peninsula",
   "metadata": {},
   "outputs": [],
   "source": [
    "def revert_to_real(y_log):\n",
    "    _pred = np.expm1(y_log)\n",
    "    _pred = np.where(_pred < 0, 0, _pred)\n",
    "    return _pred"
   ]
  },
  {
   "cell_type": "code",
   "execution_count": 34,
   "id": "higher-walter",
   "metadata": {},
   "outputs": [
    {
     "name": "stderr",
     "output_type": "stream",
     "text": [
      "/Users/umeharayasunobu/opt/anaconda3/envs/newest/lib/python3.9/site-packages/texthero/preprocessing.py:72: FutureWarning: The default value of regex will change from True to False in a future version.\n",
      "  return input.str.replace(pattern, symbols)\n",
      "/Users/umeharayasunobu/opt/anaconda3/envs/newest/lib/python3.9/site-packages/texthero/preprocessing.py:131: FutureWarning: The default value of regex will change from True to False in a future version.\n",
      "  return input.str.replace(rf\"([{string.punctuation}])+\", symbol)\n"
     ]
    },
    {
     "name": "stdout",
     "output_type": "stream",
     "text": [
      "(12026, 233)\n",
      "(12026,)\n",
      "(12008, 233)\n"
     ]
    }
   ],
   "source": [
    "train_X1 = create_all_feature(train, func_list_w_te)\n",
    "test_X1 = create_all_feature(test, func_list_w_te)\n",
    "train_y1 = split_train_target(train)\n",
    "print(train_X1.shape)\n",
    "print(train_y1.shape)\n",
    "print(test_X1.shape)\n",
    "feat_cnt1 = len(train_X1.columns)"
   ]
  },
  {
   "cell_type": "code",
   "execution_count": 35,
   "id": "constant-virginia",
   "metadata": {
    "scrolled": false
   },
   "outputs": [
    {
     "name": "stderr",
     "output_type": "stream",
     "text": [
      "<ipython-input-31-a3aeb6a46d94>:4: DeprecationWarning: `np.float` is a deprecated alias for the builtin `float`. To silence this warning, use `float` by itself. Doing this will not modify any behavior and is safe. If you specifically wanted the numpy scalar type, use `np.float64` here.\n",
      "Deprecated in NumPy 1.20; for more details and guidance: https://numpy.org/devdocs/release/1.20.0-notes.html#deprecations\n",
      "  oof_pred = np.zeros_like(y, dtype=np.float)\n",
      "\u001b[32m[I 2021-03-10 02:35:16,682]\u001b[0m A new study created in memory with name: no-name-a0492f26-f9e7-4b30-ba83-346f845f75cb\u001b[0m\n",
      "feature_fraction, val_score: inf:   0%|          | 0/7 [00:00<?, ?it/s]"
     ]
    },
    {
     "name": "stdout",
     "output_type": "stream",
     "text": [
      "Training until validation scores don't improve for 100 rounds\n"
     ]
    },
    {
     "name": "stderr",
     "output_type": "stream",
     "text": [
      "feature_fraction, val_score: 1.012249:  14%|#4        | 1/7 [00:07<00:46,  7.81s/it]\u001b[32m[I 2021-03-10 02:35:24,531]\u001b[0m Trial 0 finished with value: 1.012248680551494 and parameters: {'feature_fraction': 0.8999999999999999}. Best is trial 0 with value: 1.012248680551494.\u001b[0m\n",
      "feature_fraction, val_score: 1.012249:  14%|#4        | 1/7 [00:07<00:46,  7.81s/it]"
     ]
    },
    {
     "name": "stdout",
     "output_type": "stream",
     "text": [
      "Early stopping, best iteration is:\n",
      "[172]\tvalid_0's rmse: 1.01225\n",
      "Training until validation scores don't improve for 100 rounds\n"
     ]
    },
    {
     "name": "stderr",
     "output_type": "stream",
     "text": [
      "feature_fraction, val_score: 1.011699:  29%|##8       | 2/7 [00:15<00:39,  7.89s/it]\u001b[32m[I 2021-03-10 02:35:32,469]\u001b[0m Trial 1 finished with value: 1.0116991632511567 and parameters: {'feature_fraction': 1.0}. Best is trial 1 with value: 1.0116991632511567.\u001b[0m\n",
      "feature_fraction, val_score: 1.011699:  29%|##8       | 2/7 [00:15<00:39,  7.89s/it]"
     ]
    },
    {
     "name": "stdout",
     "output_type": "stream",
     "text": [
      "Early stopping, best iteration is:\n",
      "[143]\tvalid_0's rmse: 1.0117\n",
      "Training until validation scores don't improve for 100 rounds\n"
     ]
    },
    {
     "name": "stderr",
     "output_type": "stream",
     "text": [
      "feature_fraction, val_score: 1.011699:  43%|####2     | 3/7 [00:23<00:31,  7.91s/it]\u001b[32m[I 2021-03-10 02:35:40,401]\u001b[0m Trial 2 finished with value: 1.0191697833851912 and parameters: {'feature_fraction': 0.7}. Best is trial 1 with value: 1.0116991632511567.\u001b[0m\n",
      "feature_fraction, val_score: 1.011699:  43%|####2     | 3/7 [00:23<00:31,  7.91s/it]"
     ]
    },
    {
     "name": "stdout",
     "output_type": "stream",
     "text": [
      "Early stopping, best iteration is:\n",
      "[215]\tvalid_0's rmse: 1.01917\n",
      "Training until validation scores don't improve for 100 rounds\n"
     ]
    },
    {
     "name": "stderr",
     "output_type": "stream",
     "text": [
      "feature_fraction, val_score: 1.011699:  57%|#####7    | 4/7 [00:29<00:21,  7.06s/it]\u001b[32m[I 2021-03-10 02:35:46,156]\u001b[0m Trial 3 finished with value: 1.0169637831629101 and parameters: {'feature_fraction': 0.4}. Best is trial 1 with value: 1.0116991632511567.\u001b[0m\n",
      "feature_fraction, val_score: 1.011699:  57%|#####7    | 4/7 [00:29<00:21,  7.06s/it]"
     ]
    },
    {
     "name": "stdout",
     "output_type": "stream",
     "text": [
      "Early stopping, best iteration is:\n",
      "[216]\tvalid_0's rmse: 1.01696\n",
      "Training until validation scores don't improve for 100 rounds\n"
     ]
    },
    {
     "name": "stderr",
     "output_type": "stream",
     "text": [
      "feature_fraction, val_score: 1.011699:  71%|#######1  | 5/7 [00:36<00:13,  6.93s/it]\u001b[32m[I 2021-03-10 02:35:52,854]\u001b[0m Trial 4 finished with value: 1.0174352156462623 and parameters: {'feature_fraction': 0.5}. Best is trial 1 with value: 1.0116991632511567.\u001b[0m\n",
      "feature_fraction, val_score: 1.011699:  71%|#######1  | 5/7 [00:36<00:13,  6.93s/it]"
     ]
    },
    {
     "name": "stdout",
     "output_type": "stream",
     "text": [
      "Early stopping, best iteration is:\n",
      "[235]\tvalid_0's rmse: 1.01744\n",
      "Training until validation scores don't improve for 100 rounds\n"
     ]
    },
    {
     "name": "stderr",
     "output_type": "stream",
     "text": [
      "feature_fraction, val_score: 1.011699:  86%|########5 | 6/7 [00:42<00:06,  6.81s/it]\u001b[32m[I 2021-03-10 02:35:59,447]\u001b[0m Trial 5 finished with value: 1.012290673519943 and parameters: {'feature_fraction': 0.8}. Best is trial 1 with value: 1.0116991632511567.\u001b[0m\n",
      "feature_fraction, val_score: 1.011699:  86%|########5 | 6/7 [00:42<00:06,  6.81s/it]"
     ]
    },
    {
     "name": "stdout",
     "output_type": "stream",
     "text": [
      "Early stopping, best iteration is:\n",
      "[159]\tvalid_0's rmse: 1.01229\n",
      "Training until validation scores don't improve for 100 rounds\n"
     ]
    },
    {
     "name": "stderr",
     "output_type": "stream",
     "text": [
      "feature_fraction, val_score: 1.011699: 100%|##########| 7/7 [00:47<00:00,  6.30s/it]\u001b[32m[I 2021-03-10 02:36:04,679]\u001b[0m Trial 6 finished with value: 1.0135294805706032 and parameters: {'feature_fraction': 0.6}. Best is trial 1 with value: 1.0116991632511567.\u001b[0m\n",
      "feature_fraction, val_score: 1.011699: 100%|##########| 7/7 [00:47<00:00,  6.85s/it]\n",
      "num_leaves, val_score: 1.011699:   0%|          | 0/20 [00:00<?, ?it/s]"
     ]
    },
    {
     "name": "stdout",
     "output_type": "stream",
     "text": [
      "Early stopping, best iteration is:\n",
      "[124]\tvalid_0's rmse: 1.01353\n",
      "Training until validation scores don't improve for 100 rounds\n"
     ]
    },
    {
     "name": "stderr",
     "output_type": "stream",
     "text": [
      "num_leaves, val_score: 1.009031:   5%|5         | 1/20 [00:14<04:34, 14.45s/it]\u001b[32m[I 2021-03-10 02:36:19,137]\u001b[0m Trial 7 finished with value: 1.0090308271613364 and parameters: {'num_leaves': 130}. Best is trial 7 with value: 1.0090308271613364.\u001b[0m\n",
      "num_leaves, val_score: 1.009031:   5%|5         | 1/20 [00:14<04:34, 14.45s/it]"
     ]
    },
    {
     "name": "stdout",
     "output_type": "stream",
     "text": [
      "Early stopping, best iteration is:\n",
      "[49]\tvalid_0's rmse: 1.00903\n",
      "Training until validation scores don't improve for 100 rounds\n"
     ]
    },
    {
     "name": "stderr",
     "output_type": "stream",
     "text": [
      "num_leaves, val_score: 1.005176:  10%|#         | 2/20 [00:30<04:33, 15.19s/it]\u001b[32m[I 2021-03-10 02:36:34,841]\u001b[0m Trial 8 finished with value: 1.0051762846114511 and parameters: {'num_leaves': 77}. Best is trial 8 with value: 1.0051762846114511.\u001b[0m\n",
      "num_leaves, val_score: 1.005176:  10%|#         | 2/20 [00:30<04:33, 15.19s/it]"
     ]
    },
    {
     "name": "stdout",
     "output_type": "stream",
     "text": [
      "Early stopping, best iteration is:\n",
      "[161]\tvalid_0's rmse: 1.00518\n",
      "Training until validation scores don't improve for 100 rounds\n"
     ]
    },
    {
     "name": "stderr",
     "output_type": "stream",
     "text": [
      "num_leaves, val_score: 1.005176:  15%|#5        | 3/20 [00:52<05:16, 18.62s/it]\u001b[32m[I 2021-03-10 02:36:57,552]\u001b[0m Trial 9 finished with value: 1.0184393916661592 and parameters: {'num_leaves': 247}. Best is trial 8 with value: 1.0051762846114511.\u001b[0m\n",
      "num_leaves, val_score: 1.005176:  15%|#5        | 3/20 [00:52<05:16, 18.62s/it]"
     ]
    },
    {
     "name": "stdout",
     "output_type": "stream",
     "text": [
      "Early stopping, best iteration is:\n",
      "[32]\tvalid_0's rmse: 1.01844\n",
      "Training until validation scores don't improve for 100 rounds\n"
     ]
    },
    {
     "name": "stderr",
     "output_type": "stream",
     "text": [
      "num_leaves, val_score: 1.005176:  20%|##        | 4/20 [01:24<06:23, 23.95s/it]\u001b[32m[I 2021-03-10 02:37:29,674]\u001b[0m Trial 10 finished with value: 1.0172033257436586 and parameters: {'num_leaves': 232}. Best is trial 8 with value: 1.0051762846114511.\u001b[0m\n",
      "num_leaves, val_score: 1.005176:  20%|##        | 4/20 [01:24<06:23, 23.95s/it]"
     ]
    },
    {
     "name": "stdout",
     "output_type": "stream",
     "text": [
      "Early stopping, best iteration is:\n",
      "[83]\tvalid_0's rmse: 1.0172\n",
      "Training until validation scores don't improve for 100 rounds\n"
     ]
    },
    {
     "name": "stderr",
     "output_type": "stream",
     "text": [
      "num_leaves, val_score: 1.005176:  25%|##5       | 5/20 [01:35<04:46, 19.09s/it]\u001b[32m[I 2021-03-10 02:37:40,143]\u001b[0m Trial 11 finished with value: 1.0162585933605093 and parameters: {'num_leaves': 44}. Best is trial 8 with value: 1.0051762846114511.\u001b[0m\n",
      "num_leaves, val_score: 1.005176:  25%|##5       | 5/20 [01:35<04:46, 19.09s/it]"
     ]
    },
    {
     "name": "stdout",
     "output_type": "stream",
     "text": [
      "Early stopping, best iteration is:\n",
      "[137]\tvalid_0's rmse: 1.01626\n",
      "Training until validation scores don't improve for 100 rounds\n"
     ]
    },
    {
     "name": "stderr",
     "output_type": "stream",
     "text": [
      "num_leaves, val_score: 1.005176:  30%|###       | 6/20 [01:48<03:59, 17.08s/it]\u001b[32m[I 2021-03-10 02:37:53,317]\u001b[0m Trial 12 finished with value: 1.008948913052718 and parameters: {'num_leaves': 91}. Best is trial 8 with value: 1.0051762846114511.\u001b[0m\n",
      "num_leaves, val_score: 1.005176:  30%|###       | 6/20 [01:48<03:59, 17.08s/it]"
     ]
    },
    {
     "name": "stdout",
     "output_type": "stream",
     "text": [
      "Early stopping, best iteration is:\n",
      "[62]\tvalid_0's rmse: 1.00895\n",
      "Training until validation scores don't improve for 100 rounds\n"
     ]
    },
    {
     "name": "stderr",
     "output_type": "stream",
     "text": [
      "num_leaves, val_score: 1.005176:  35%|###5      | 7/20 [02:03<03:30, 16.22s/it]\u001b[32m[I 2021-03-10 02:38:07,760]\u001b[0m Trial 13 finished with value: 1.0079549630001965 and parameters: {'num_leaves': 98}. Best is trial 8 with value: 1.0051762846114511.\u001b[0m\n",
      "num_leaves, val_score: 1.005176:  35%|###5      | 7/20 [02:03<03:30, 16.22s/it]"
     ]
    },
    {
     "name": "stdout",
     "output_type": "stream",
     "text": [
      "Early stopping, best iteration is:\n",
      "[84]\tvalid_0's rmse: 1.00795\n",
      "Training until validation scores don't improve for 100 rounds\n"
     ]
    },
    {
     "name": "stderr",
     "output_type": "stream",
     "text": [
      "num_leaves, val_score: 1.005176:  40%|####      | 8/20 [02:17<03:08, 15.71s/it]\u001b[32m[I 2021-03-10 02:38:22,383]\u001b[0m Trial 14 finished with value: 1.010193917432142 and parameters: {'num_leaves': 118}. Best is trial 8 with value: 1.0051762846114511.\u001b[0m\n",
      "num_leaves, val_score: 1.005176:  40%|####      | 8/20 [02:17<03:08, 15.71s/it]"
     ]
    },
    {
     "name": "stdout",
     "output_type": "stream",
     "text": [
      "Early stopping, best iteration is:\n",
      "[61]\tvalid_0's rmse: 1.01019\n",
      "Training until validation scores don't improve for 100 rounds\n"
     ]
    },
    {
     "name": "stderr",
     "output_type": "stream",
     "text": [
      "num_leaves, val_score: 1.002222:  45%|####5     | 9/20 [02:33<02:53, 15.78s/it]\u001b[32m[I 2021-03-10 02:38:38,311]\u001b[0m Trial 15 finished with value: 1.0022223421122838 and parameters: {'num_leaves': 124}. Best is trial 15 with value: 1.0022223421122838.\u001b[0m\n",
      "num_leaves, val_score: 1.002222:  45%|####5     | 9/20 [02:33<02:53, 15.78s/it]"
     ]
    },
    {
     "name": "stdout",
     "output_type": "stream",
     "text": [
      "Early stopping, best iteration is:\n",
      "[74]\tvalid_0's rmse: 1.00222\n",
      "Training until validation scores don't improve for 100 rounds\n"
     ]
    },
    {
     "name": "stderr",
     "output_type": "stream",
     "text": [
      "num_leaves, val_score: 1.002222:  50%|#####     | 10/20 [02:50<02:42, 16.21s/it]\u001b[32m[I 2021-03-10 02:38:55,505]\u001b[0m Trial 16 finished with value: 1.0114205929029985 and parameters: {'num_leaves': 143}. Best is trial 15 with value: 1.0022223421122838.\u001b[0m\n",
      "num_leaves, val_score: 1.002222:  50%|#####     | 10/20 [02:50<02:42, 16.21s/it]"
     ]
    },
    {
     "name": "stdout",
     "output_type": "stream",
     "text": [
      "Early stopping, best iteration is:\n",
      "[58]\tvalid_0's rmse: 1.01142\n",
      "Training until validation scores don't improve for 100 rounds\n"
     ]
    },
    {
     "name": "stderr",
     "output_type": "stream",
     "text": [
      "num_leaves, val_score: 1.002222:  55%|#####5    | 11/20 [03:13<02:43, 18.18s/it]\u001b[32m[I 2021-03-10 02:39:18,136]\u001b[0m Trial 17 finished with value: 1.016826397233965 and parameters: {'num_leaves': 188}. Best is trial 15 with value: 1.0022223421122838.\u001b[0m\n",
      "num_leaves, val_score: 1.002222:  55%|#####5    | 11/20 [03:13<02:43, 18.18s/it]"
     ]
    },
    {
     "name": "stdout",
     "output_type": "stream",
     "text": [
      "Early stopping, best iteration is:\n",
      "[58]\tvalid_0's rmse: 1.01683\n",
      "Training until validation scores don't improve for 100 rounds\n"
     ]
    },
    {
     "name": "stderr",
     "output_type": "stream",
     "text": [
      "num_leaves, val_score: 1.002222:  60%|######    | 12/20 [03:20<01:58, 14.79s/it]\u001b[32m[I 2021-03-10 02:39:25,182]\u001b[0m Trial 18 finished with value: 1.0193481107954847 and parameters: {'num_leaves': 7}. Best is trial 15 with value: 1.0022223421122838.\u001b[0m\n",
      "num_leaves, val_score: 1.002222:  60%|######    | 12/20 [03:20<01:58, 14.79s/it]"
     ]
    },
    {
     "name": "stdout",
     "output_type": "stream",
     "text": [
      "Early stopping, best iteration is:\n",
      "[565]\tvalid_0's rmse: 1.01935\n",
      "Training until validation scores don't improve for 100 rounds\n"
     ]
    },
    {
     "name": "stderr",
     "output_type": "stream",
     "text": [
      "num_leaves, val_score: 1.002222:  65%|######5   | 13/20 [03:32<01:37, 13.93s/it]\u001b[32m[I 2021-03-10 02:39:37,145]\u001b[0m Trial 19 finished with value: 1.0175969092505865 and parameters: {'num_leaves': 49}. Best is trial 15 with value: 1.0022223421122838.\u001b[0m\n",
      "num_leaves, val_score: 1.002222:  65%|######5   | 13/20 [03:32<01:37, 13.93s/it]"
     ]
    },
    {
     "name": "stdout",
     "output_type": "stream",
     "text": [
      "Early stopping, best iteration is:\n",
      "[162]\tvalid_0's rmse: 1.0176\n",
      "Training until validation scores don't improve for 100 rounds\n"
     ]
    },
    {
     "name": "stderr",
     "output_type": "stream",
     "text": [
      "num_leaves, val_score: 1.002222:  70%|#######   | 14/20 [03:53<01:36, 16.15s/it]\u001b[32m[I 2021-03-10 02:39:58,420]\u001b[0m Trial 20 finished with value: 1.020105444178028 and parameters: {'num_leaves': 174}. Best is trial 15 with value: 1.0022223421122838.\u001b[0m\n",
      "num_leaves, val_score: 1.002222:  70%|#######   | 14/20 [03:53<01:36, 16.15s/it]"
     ]
    },
    {
     "name": "stdout",
     "output_type": "stream",
     "text": [
      "Early stopping, best iteration is:\n",
      "[55]\tvalid_0's rmse: 1.02011\n",
      "Training until validation scores don't improve for 100 rounds\n"
     ]
    },
    {
     "name": "stderr",
     "output_type": "stream",
     "text": [
      "num_leaves, val_score: 1.002222:  75%|#######5  | 15/20 [04:02<01:10, 14.02s/it]\u001b[32m[I 2021-03-10 02:40:07,483]\u001b[0m Trial 21 finished with value: 1.016721459986938 and parameters: {'num_leaves': 62}. Best is trial 15 with value: 1.0022223421122838.\u001b[0m\n",
      "num_leaves, val_score: 1.002222:  75%|#######5  | 15/20 [04:02<01:10, 14.02s/it]"
     ]
    },
    {
     "name": "stdout",
     "output_type": "stream",
     "text": [
      "Early stopping, best iteration is:\n",
      "[54]\tvalid_0's rmse: 1.01672\n",
      "Training until validation scores don't improve for 100 rounds\n"
     ]
    },
    {
     "name": "stderr",
     "output_type": "stream",
     "text": [
      "num_leaves, val_score: 1.002222:  80%|########  | 16/20 [04:09<00:47, 11.83s/it]\u001b[32m[I 2021-03-10 02:40:14,240]\u001b[0m Trial 22 finished with value: 1.0193481107954847 and parameters: {'num_leaves': 7}. Best is trial 15 with value: 1.0022223421122838.\u001b[0m\n",
      "num_leaves, val_score: 1.002222:  80%|########  | 16/20 [04:09<00:47, 11.83s/it]"
     ]
    },
    {
     "name": "stdout",
     "output_type": "stream",
     "text": [
      "Early stopping, best iteration is:\n",
      "[565]\tvalid_0's rmse: 1.01935\n",
      "Training until validation scores don't improve for 100 rounds\n"
     ]
    },
    {
     "name": "stderr",
     "output_type": "stream",
     "text": [
      "num_leaves, val_score: 1.002222:  85%|########5 | 17/20 [04:28<00:42, 14.03s/it]\u001b[32m[I 2021-03-10 02:40:33,380]\u001b[0m Trial 23 finished with value: 1.0154226988894786 and parameters: {'num_leaves': 165}. Best is trial 15 with value: 1.0022223421122838.\u001b[0m\n",
      "num_leaves, val_score: 1.002222:  85%|########5 | 17/20 [04:28<00:42, 14.03s/it]"
     ]
    },
    {
     "name": "stdout",
     "output_type": "stream",
     "text": [
      "Early stopping, best iteration is:\n",
      "[59]\tvalid_0's rmse: 1.01542\n",
      "Training until validation scores don't improve for 100 rounds\n"
     ]
    },
    {
     "name": "stderr",
     "output_type": "stream",
     "text": [
      "num_leaves, val_score: 1.002222:  90%|######### | 18/20 [04:39<00:25, 12.99s/it]\u001b[32m[I 2021-03-10 02:40:43,967]\u001b[0m Trial 24 finished with value: 1.0065977252600578 and parameters: {'num_leaves': 81}. Best is trial 15 with value: 1.0022223421122838.\u001b[0m\n",
      "num_leaves, val_score: 1.002222:  90%|######### | 18/20 [04:39<00:25, 12.99s/it]"
     ]
    },
    {
     "name": "stdout",
     "output_type": "stream",
     "text": [
      "Early stopping, best iteration is:\n",
      "[56]\tvalid_0's rmse: 1.0066\n",
      "Training until validation scores don't improve for 100 rounds\n"
     ]
    },
    {
     "name": "stderr",
     "output_type": "stream",
     "text": [
      "num_leaves, val_score: 1.002222:  95%|#########5| 19/20 [05:20<00:21, 21.45s/it]\u001b[32m[I 2021-03-10 02:41:25,102]\u001b[0m Trial 25 finished with value: 1.0168098760036466 and parameters: {'num_leaves': 202}. Best is trial 15 with value: 1.0022223421122838.\u001b[0m\n",
      "num_leaves, val_score: 1.002222:  95%|#########5| 19/20 [05:20<00:21, 21.45s/it]"
     ]
    },
    {
     "name": "stdout",
     "output_type": "stream",
     "text": [
      "Early stopping, best iteration is:\n",
      "[73]\tvalid_0's rmse: 1.01681\n",
      "Training until validation scores don't improve for 100 rounds\n"
     ]
    },
    {
     "name": "stderr",
     "output_type": "stream",
     "text": [
      "num_leaves, val_score: 1.002222: 100%|##########| 20/20 [05:46<00:00, 22.71s/it]\u001b[32m[I 2021-03-10 02:41:50,768]\u001b[0m Trial 26 finished with value: 1.0128448531619045 and parameters: {'num_leaves': 113}. Best is trial 15 with value: 1.0022223421122838.\u001b[0m\n",
      "num_leaves, val_score: 1.002222: 100%|##########| 20/20 [05:46<00:00, 17.30s/it]\n",
      "bagging, val_score: 1.002222:   0%|          | 0/10 [00:00<?, ?it/s]"
     ]
    },
    {
     "name": "stdout",
     "output_type": "stream",
     "text": [
      "Early stopping, best iteration is:\n",
      "[90]\tvalid_0's rmse: 1.01284\n",
      "Training until validation scores don't improve for 100 rounds\n"
     ]
    },
    {
     "name": "stderr",
     "output_type": "stream",
     "text": [
      "bagging, val_score: 1.002222:  10%|#         | 1/10 [00:25<03:45, 25.02s/it]\u001b[32m[I 2021-03-10 02:42:15,804]\u001b[0m Trial 27 finished with value: 1.0220056527344634 and parameters: {'bagging_fraction': 0.686421839078101, 'bagging_freq': 5}. Best is trial 27 with value: 1.0220056527344634.\u001b[0m\n",
      "bagging, val_score: 1.002222:  10%|#         | 1/10 [00:25<03:45, 25.02s/it]"
     ]
    },
    {
     "name": "stdout",
     "output_type": "stream",
     "text": [
      "Early stopping, best iteration is:\n",
      "[71]\tvalid_0's rmse: 1.02201\n",
      "Training until validation scores don't improve for 100 rounds\n"
     ]
    },
    {
     "name": "stderr",
     "output_type": "stream",
     "text": [
      "bagging, val_score: 1.002222:  20%|##        | 2/10 [00:44<02:54, 21.87s/it]\u001b[32m[I 2021-03-10 02:42:35,463]\u001b[0m Trial 28 finished with value: 1.0370128987393927 and parameters: {'bagging_fraction': 0.5234561791761672, 'bagging_freq': 3}. Best is trial 27 with value: 1.0220056527344634.\u001b[0m\n",
      "bagging, val_score: 1.002222:  20%|##        | 2/10 [00:44<02:54, 21.87s/it]"
     ]
    },
    {
     "name": "stdout",
     "output_type": "stream",
     "text": [
      "Early stopping, best iteration is:\n",
      "[42]\tvalid_0's rmse: 1.03701\n",
      "Training until validation scores don't improve for 100 rounds\n"
     ]
    },
    {
     "name": "stderr",
     "output_type": "stream",
     "text": [
      "bagging, val_score: 1.002222:  30%|###       | 3/10 [01:04<02:26, 20.88s/it]\u001b[32m[I 2021-03-10 02:42:55,160]\u001b[0m Trial 29 finished with value: 1.026034956466997 and parameters: {'bagging_fraction': 0.7229674389707985, 'bagging_freq': 2}. Best is trial 27 with value: 1.0220056527344634.\u001b[0m\n",
      "bagging, val_score: 1.002222:  30%|###       | 3/10 [01:04<02:26, 20.88s/it]"
     ]
    },
    {
     "name": "stdout",
     "output_type": "stream",
     "text": [
      "Early stopping, best iteration is:\n",
      "[57]\tvalid_0's rmse: 1.02603\n",
      "Training until validation scores don't improve for 100 rounds\n"
     ]
    },
    {
     "name": "stderr",
     "output_type": "stream",
     "text": [
      "bagging, val_score: 1.002222:  40%|####      | 4/10 [01:20<01:54, 19.13s/it]\u001b[32m[I 2021-03-10 02:43:11,607]\u001b[0m Trial 30 finished with value: 1.0211011168198834 and parameters: {'bagging_fraction': 0.8304961542581302, 'bagging_freq': 5}. Best is trial 30 with value: 1.0211011168198834.\u001b[0m\n",
      "bagging, val_score: 1.002222:  40%|####      | 4/10 [01:20<01:54, 19.13s/it]"
     ]
    },
    {
     "name": "stdout",
     "output_type": "stream",
     "text": [
      "Early stopping, best iteration is:\n",
      "[56]\tvalid_0's rmse: 1.0211\n",
      "Training until validation scores don't improve for 100 rounds\n"
     ]
    },
    {
     "name": "stderr",
     "output_type": "stream",
     "text": [
      "bagging, val_score: 1.002222:  50%|#####     | 5/10 [01:35<01:28, 17.66s/it]\u001b[32m[I 2021-03-10 02:43:26,662]\u001b[0m Trial 31 finished with value: 1.019844245861703 and parameters: {'bagging_fraction': 0.7796096456886366, 'bagging_freq': 5}. Best is trial 31 with value: 1.019844245861703.\u001b[0m\n",
      "bagging, val_score: 1.002222:  50%|#####     | 5/10 [01:35<01:28, 17.66s/it]"
     ]
    },
    {
     "name": "stdout",
     "output_type": "stream",
     "text": [
      "Early stopping, best iteration is:\n",
      "[46]\tvalid_0's rmse: 1.01984\n",
      "Training until validation scores don't improve for 100 rounds\n"
     ]
    },
    {
     "name": "stderr",
     "output_type": "stream",
     "text": [
      "bagging, val_score: 1.002222:  60%|######    | 6/10 [01:51<01:07, 16.80s/it]\u001b[32m[I 2021-03-10 02:43:41,808]\u001b[0m Trial 32 finished with value: 1.012335098480737 and parameters: {'bagging_fraction': 0.9169077805585887, 'bagging_freq': 4}. Best is trial 32 with value: 1.012335098480737.\u001b[0m\n",
      "bagging, val_score: 1.002222:  60%|######    | 6/10 [01:51<01:07, 16.80s/it]"
     ]
    },
    {
     "name": "stdout",
     "output_type": "stream",
     "text": [
      "Early stopping, best iteration is:\n",
      "[52]\tvalid_0's rmse: 1.01234\n",
      "Training until validation scores don't improve for 100 rounds\n"
     ]
    },
    {
     "name": "stderr",
     "output_type": "stream",
     "text": [
      "bagging, val_score: 1.002222:  70%|#######   | 7/10 [02:03<00:45, 15.30s/it]\u001b[32m[I 2021-03-10 02:43:54,034]\u001b[0m Trial 33 finished with value: 1.0317780520197346 and parameters: {'bagging_fraction': 0.4155015288867338, 'bagging_freq': 1}. Best is trial 32 with value: 1.012335098480737.\u001b[0m\n",
      "bagging, val_score: 1.002222:  70%|#######   | 7/10 [02:03<00:45, 15.30s/it]"
     ]
    },
    {
     "name": "stdout",
     "output_type": "stream",
     "text": [
      "Early stopping, best iteration is:\n",
      "[31]\tvalid_0's rmse: 1.03178\n",
      "Training until validation scores don't improve for 100 rounds\n"
     ]
    },
    {
     "name": "stderr",
     "output_type": "stream",
     "text": [
      "bagging, val_score: 1.002222:  80%|########  | 8/10 [02:19<00:31, 15.73s/it]\u001b[32m[I 2021-03-10 02:44:10,672]\u001b[0m Trial 34 finished with value: 1.0345121004860685 and parameters: {'bagging_fraction': 0.553830046013181, 'bagging_freq': 6}. Best is trial 32 with value: 1.012335098480737.\u001b[0m\n",
      "bagging, val_score: 1.002222:  80%|########  | 8/10 [02:19<00:31, 15.73s/it]"
     ]
    },
    {
     "name": "stdout",
     "output_type": "stream",
     "text": [
      "Early stopping, best iteration is:\n",
      "[63]\tvalid_0's rmse: 1.03451\n",
      "Training until validation scores don't improve for 100 rounds\n"
     ]
    },
    {
     "name": "stderr",
     "output_type": "stream",
     "text": [
      "bagging, val_score: 1.002222:  90%|######### | 9/10 [02:32<00:14, 14.88s/it]\u001b[32m[I 2021-03-10 02:44:23,687]\u001b[0m Trial 35 finished with value: 1.0284248855370104 and parameters: {'bagging_fraction': 0.4248525756738175, 'bagging_freq': 1}. Best is trial 32 with value: 1.012335098480737.\u001b[0m\n",
      "bagging, val_score: 1.002222:  90%|######### | 9/10 [02:32<00:14, 14.88s/it]"
     ]
    },
    {
     "name": "stdout",
     "output_type": "stream",
     "text": [
      "Early stopping, best iteration is:\n",
      "[41]\tvalid_0's rmse: 1.02842\n",
      "Training until validation scores don't improve for 100 rounds\n"
     ]
    },
    {
     "name": "stderr",
     "output_type": "stream",
     "text": [
      "bagging, val_score: 1.002222: 100%|##########| 10/10 [02:47<00:00, 14.70s/it]\u001b[32m[I 2021-03-10 02:44:37,988]\u001b[0m Trial 36 finished with value: 1.0290236240744728 and parameters: {'bagging_fraction': 0.7117266791879255, 'bagging_freq': 3}. Best is trial 32 with value: 1.012335098480737.\u001b[0m\n",
      "bagging, val_score: 1.002222: 100%|##########| 10/10 [02:47<00:00, 16.72s/it]\n",
      "feature_fraction_stage2, val_score: 1.002222:   0%|          | 0/3 [00:00<?, ?it/s]"
     ]
    },
    {
     "name": "stdout",
     "output_type": "stream",
     "text": [
      "Early stopping, best iteration is:\n",
      "[43]\tvalid_0's rmse: 1.02902\n",
      "Training until validation scores don't improve for 100 rounds\n"
     ]
    },
    {
     "name": "stderr",
     "output_type": "stream",
     "text": [
      "feature_fraction_stage2, val_score: 1.002222:  33%|###3      | 1/3 [00:13<00:27, 13.94s/it]\u001b[32m[I 2021-03-10 02:44:51,970]\u001b[0m Trial 37 finished with value: 1.017335185235062 and parameters: {'feature_fraction': 0.92}. Best is trial 37 with value: 1.017335185235062.\u001b[0m\n",
      "feature_fraction_stage2, val_score: 1.002222:  33%|###3      | 1/3 [00:13<00:27, 13.94s/it]"
     ]
    },
    {
     "name": "stdout",
     "output_type": "stream",
     "text": [
      "Early stopping, best iteration is:\n",
      "[51]\tvalid_0's rmse: 1.01734\n",
      "Training until validation scores don't improve for 100 rounds\n"
     ]
    },
    {
     "name": "stderr",
     "output_type": "stream",
     "text": [
      "feature_fraction_stage2, val_score: 1.002222:  67%|######6   | 2/3 [00:31<00:16, 16.16s/it]\u001b[32m[I 2021-03-10 02:45:09,671]\u001b[0m Trial 38 finished with value: 1.00766795654142 and parameters: {'feature_fraction': 0.9840000000000001}. Best is trial 38 with value: 1.00766795654142.\u001b[0m\n",
      "feature_fraction_stage2, val_score: 1.002222:  67%|######6   | 2/3 [00:31<00:16, 16.16s/it]"
     ]
    },
    {
     "name": "stdout",
     "output_type": "stream",
     "text": [
      "Early stopping, best iteration is:\n",
      "[75]\tvalid_0's rmse: 1.00767\n",
      "Training until validation scores don't improve for 100 rounds\n"
     ]
    },
    {
     "name": "stderr",
     "output_type": "stream",
     "text": [
      "feature_fraction_stage2, val_score: 1.002222: 100%|##########| 3/3 [00:47<00:00, 15.93s/it]\u001b[32m[I 2021-03-10 02:45:25,349]\u001b[0m Trial 39 finished with value: 1.0157844440818913 and parameters: {'feature_fraction': 0.9520000000000001}. Best is trial 38 with value: 1.00766795654142.\u001b[0m\n",
      "feature_fraction_stage2, val_score: 1.002222: 100%|##########| 3/3 [00:47<00:00, 15.79s/it]\n",
      "  0%|          | 0/20 [00:00<?, ?it/s]"
     ]
    },
    {
     "name": "stdout",
     "output_type": "stream",
     "text": [
      "Early stopping, best iteration is:\n",
      "[63]\tvalid_0's rmse: 1.01578\n"
     ]
    },
    {
     "name": "stderr",
     "output_type": "stream",
     "text": [
      "\r",
      "regularization_factors, val_score: 1.002222:   0%|          | 0/20 [00:00<?, ?it/s]"
     ]
    },
    {
     "name": "stdout",
     "output_type": "stream",
     "text": [
      "Training until validation scores don't improve for 100 rounds\n"
     ]
    },
    {
     "name": "stderr",
     "output_type": "stream",
     "text": [
      "regularization_factors, val_score: 1.002222:   5%|5         | 1/20 [00:20<06:33, 20.71s/it]\u001b[32m[I 2021-03-10 02:45:46,092]\u001b[0m Trial 40 finished with value: 1.0108935586476475 and parameters: {'lambda_l1': 9.690945366156318e-05, 'lambda_l2': 0.008489445953047558}. Best is trial 40 with value: 1.0108935586476475.\u001b[0m\n",
      "regularization_factors, val_score: 1.002222:   5%|5         | 1/20 [00:20<06:33, 20.71s/it]"
     ]
    },
    {
     "name": "stdout",
     "output_type": "stream",
     "text": [
      "Early stopping, best iteration is:\n",
      "[47]\tvalid_0's rmse: 1.01089\n",
      "Training until validation scores don't improve for 100 rounds\n"
     ]
    },
    {
     "name": "stderr",
     "output_type": "stream",
     "text": [
      "regularization_factors, val_score: 1.002222:  10%|#         | 2/20 [00:35<05:05, 16.97s/it]\u001b[32m[I 2021-03-10 02:46:00,441]\u001b[0m Trial 41 finished with value: 1.0071076569628814 and parameters: {'lambda_l1': 9.660065019627868e-08, 'lambda_l2': 0.1505609217459691}. Best is trial 41 with value: 1.0071076569628814.\u001b[0m\n",
      "regularization_factors, val_score: 1.002222:  10%|#         | 2/20 [00:35<05:05, 16.97s/it]"
     ]
    },
    {
     "name": "stdout",
     "output_type": "stream",
     "text": [
      "Early stopping, best iteration is:\n",
      "[54]\tvalid_0's rmse: 1.00711\n",
      "Training until validation scores don't improve for 100 rounds\n"
     ]
    },
    {
     "name": "stderr",
     "output_type": "stream",
     "text": [
      "regularization_factors, val_score: 1.002222:  15%|#5        | 3/20 [00:52<04:49, 17.02s/it]\u001b[32m[I 2021-03-10 02:46:17,521]\u001b[0m Trial 42 finished with value: 1.0129915201108186 and parameters: {'lambda_l1': 6.620504452444265e-08, 'lambda_l2': 0.0025421948168465078}. Best is trial 41 with value: 1.0071076569628814.\u001b[0m\n",
      "regularization_factors, val_score: 1.002222:  15%|#5        | 3/20 [00:52<04:49, 17.02s/it]"
     ]
    },
    {
     "name": "stdout",
     "output_type": "stream",
     "text": [
      "Early stopping, best iteration is:\n",
      "[87]\tvalid_0's rmse: 1.01299\n",
      "Training until validation scores don't improve for 100 rounds\n"
     ]
    },
    {
     "name": "stderr",
     "output_type": "stream",
     "text": [
      "regularization_factors, val_score: 1.002222:  20%|##        | 4/20 [01:08<04:26, 16.65s/it]\u001b[32m[I 2021-03-10 02:46:33,601]\u001b[0m Trial 43 finished with value: 1.002312776008335 and parameters: {'lambda_l1': 1.593792810908905e-08, 'lambda_l2': 2.411156337620764e-05}. Best is trial 43 with value: 1.002312776008335.\u001b[0m\n",
      "regularization_factors, val_score: 1.002222:  20%|##        | 4/20 [01:08<04:26, 16.65s/it]"
     ]
    },
    {
     "name": "stdout",
     "output_type": "stream",
     "text": [
      "Early stopping, best iteration is:\n",
      "[74]\tvalid_0's rmse: 1.00231\n",
      "Training until validation scores don't improve for 100 rounds\n"
     ]
    },
    {
     "name": "stderr",
     "output_type": "stream",
     "text": [
      "regularization_factors, val_score: 1.002222:  25%|##5       | 5/20 [01:23<04:00, 16.02s/it]\u001b[32m[I 2021-03-10 02:46:48,494]\u001b[0m Trial 44 finished with value: 1.010605465930126 and parameters: {'lambda_l1': 0.022236644413098156, 'lambda_l2': 0.00026566943737309245}. Best is trial 43 with value: 1.002312776008335.\u001b[0m\n",
      "regularization_factors, val_score: 1.002222:  25%|##5       | 5/20 [01:23<04:00, 16.02s/it]"
     ]
    },
    {
     "name": "stdout",
     "output_type": "stream",
     "text": [
      "Early stopping, best iteration is:\n",
      "[57]\tvalid_0's rmse: 1.01061\n",
      "Training until validation scores don't improve for 100 rounds\n"
     ]
    },
    {
     "name": "stderr",
     "output_type": "stream",
     "text": [
      "regularization_factors, val_score: 1.002222:  30%|###       | 6/20 [01:39<03:44, 16.03s/it]\u001b[32m[I 2021-03-10 02:47:04,559]\u001b[0m Trial 45 finished with value: 1.0105962187238628 and parameters: {'lambda_l1': 0.006357810439517138, 'lambda_l2': 1.8200793454701802e-06}. Best is trial 43 with value: 1.002312776008335.\u001b[0m\n",
      "regularization_factors, val_score: 1.002222:  30%|###       | 6/20 [01:39<03:44, 16.03s/it]"
     ]
    },
    {
     "name": "stdout",
     "output_type": "stream",
     "text": [
      "Early stopping, best iteration is:\n",
      "[73]\tvalid_0's rmse: 1.0106\n",
      "Training until validation scores don't improve for 100 rounds\n"
     ]
    },
    {
     "name": "stderr",
     "output_type": "stream",
     "text": [
      "regularization_factors, val_score: 1.002222:  35%|###5      | 7/20 [01:53<03:20, 15.44s/it]\u001b[32m[I 2021-03-10 02:47:18,800]\u001b[0m Trial 46 finished with value: 1.009152552133567 and parameters: {'lambda_l1': 0.011389161744459466, 'lambda_l2': 2.5236235868227962e-08}. Best is trial 43 with value: 1.002312776008335.\u001b[0m\n",
      "regularization_factors, val_score: 1.002222:  35%|###5      | 7/20 [01:53<03:20, 15.44s/it]"
     ]
    },
    {
     "name": "stdout",
     "output_type": "stream",
     "text": [
      "Early stopping, best iteration is:\n",
      "[49]\tvalid_0's rmse: 1.00915\n",
      "Training until validation scores don't improve for 100 rounds\n"
     ]
    },
    {
     "name": "stderr",
     "output_type": "stream",
     "text": [
      "regularization_factors, val_score: 1.002222:  40%|####      | 8/20 [02:13<03:21, 16.79s/it]\u001b[32m[I 2021-03-10 02:47:38,469]\u001b[0m Trial 47 finished with value: 1.0138581119028833 and parameters: {'lambda_l1': 0.0019319310171616684, 'lambda_l2': 1.6730426464453403e-05}. Best is trial 43 with value: 1.002312776008335.\u001b[0m\n",
      "regularization_factors, val_score: 1.002222:  40%|####      | 8/20 [02:13<03:21, 16.79s/it]"
     ]
    },
    {
     "name": "stdout",
     "output_type": "stream",
     "text": [
      "Early stopping, best iteration is:\n",
      "[117]\tvalid_0's rmse: 1.01386\n",
      "Training until validation scores don't improve for 100 rounds\n"
     ]
    },
    {
     "name": "stderr",
     "output_type": "stream",
     "text": [
      "regularization_factors, val_score: 1.002222:  45%|####5     | 9/20 [02:29<03:04, 16.75s/it]\u001b[32m[I 2021-03-10 02:47:55,135]\u001b[0m Trial 48 finished with value: 1.011732172364733 and parameters: {'lambda_l1': 0.0012080930881955222, 'lambda_l2': 7.244192571321306e-07}. Best is trial 43 with value: 1.002312776008335.\u001b[0m\n",
      "regularization_factors, val_score: 1.002222:  45%|####5     | 9/20 [02:29<03:04, 16.75s/it]"
     ]
    },
    {
     "name": "stdout",
     "output_type": "stream",
     "text": [
      "Early stopping, best iteration is:\n",
      "[75]\tvalid_0's rmse: 1.01173\n",
      "Training until validation scores don't improve for 100 rounds\n"
     ]
    },
    {
     "name": "stderr",
     "output_type": "stream",
     "text": [
      "regularization_factors, val_score: 1.002222:  50%|#####     | 10/20 [02:45<02:45, 16.51s/it]\u001b[32m[I 2021-03-10 02:48:11,116]\u001b[0m Trial 49 finished with value: 1.002312786151056 and parameters: {'lambda_l1': 1.7677369437928703e-07, 'lambda_l2': 2.9771478836581446e-07}. Best is trial 43 with value: 1.002312776008335.\u001b[0m\n",
      "regularization_factors, val_score: 1.002222:  50%|#####     | 10/20 [02:45<02:45, 16.51s/it]"
     ]
    },
    {
     "name": "stdout",
     "output_type": "stream",
     "text": [
      "Early stopping, best iteration is:\n",
      "[74]\tvalid_0's rmse: 1.00231\n",
      "Training until validation scores don't improve for 100 rounds\n"
     ]
    },
    {
     "name": "stderr",
     "output_type": "stream",
     "text": [
      "regularization_factors, val_score: 1.002222:  55%|#####5    | 11/20 [03:01<02:26, 16.31s/it]\u001b[32m[I 2021-03-10 02:48:26,958]\u001b[0m Trial 50 finished with value: 1.0168630770146168 and parameters: {'lambda_l1': 2.149367798633359, 'lambda_l2': 5.019475573523865}. Best is trial 43 with value: 1.002312776008335.\u001b[0m\n",
      "regularization_factors, val_score: 1.002222:  55%|#####5    | 11/20 [03:01<02:26, 16.31s/it]"
     ]
    },
    {
     "name": "stdout",
     "output_type": "stream",
     "text": [
      "Early stopping, best iteration is:\n",
      "[81]\tvalid_0's rmse: 1.01686\n",
      "Training until validation scores don't improve for 100 rounds\n"
     ]
    },
    {
     "name": "stderr",
     "output_type": "stream",
     "text": [
      "regularization_factors, val_score: 1.002222:  60%|######    | 12/20 [03:17<02:10, 16.32s/it]\u001b[32m[I 2021-03-10 02:48:43,291]\u001b[0m Trial 51 finished with value: 1.0023068775998527 and parameters: {'lambda_l1': 3.093469593516895e-06, 'lambda_l2': 1.4093798380775686e-08}. Best is trial 51 with value: 1.0023068775998527.\u001b[0m\n",
      "regularization_factors, val_score: 1.002222:  60%|######    | 12/20 [03:17<02:10, 16.32s/it]"
     ]
    },
    {
     "name": "stdout",
     "output_type": "stream",
     "text": [
      "Early stopping, best iteration is:\n",
      "[74]\tvalid_0's rmse: 1.00231\n",
      "Training until validation scores don't improve for 100 rounds\n"
     ]
    },
    {
     "name": "stderr",
     "output_type": "stream",
     "text": [
      "regularization_factors, val_score: 1.002222:  65%|######5   | 13/20 [03:33<01:53, 16.24s/it]\u001b[32m[I 2021-03-10 02:48:59,355]\u001b[0m Trial 52 finished with value: 1.0023233833552196 and parameters: {'lambda_l1': 9.573487360925752e-06, 'lambda_l2': 1.022728720826726e-08}. Best is trial 51 with value: 1.0023068775998527.\u001b[0m\n",
      "regularization_factors, val_score: 1.002222:  65%|######5   | 13/20 [03:33<01:53, 16.24s/it]"
     ]
    },
    {
     "name": "stdout",
     "output_type": "stream",
     "text": [
      "Early stopping, best iteration is:\n",
      "[74]\tvalid_0's rmse: 1.00232\n",
      "Training until validation scores don't improve for 100 rounds\n"
     ]
    },
    {
     "name": "stderr",
     "output_type": "stream",
     "text": [
      "regularization_factors, val_score: 1.002222:  70%|#######   | 14/20 [03:50<01:37, 16.27s/it]\u001b[32m[I 2021-03-10 02:49:15,710]\u001b[0m Trial 53 finished with value: 1.0023127684042363 and parameters: {'lambda_l1': 2.310747463986933e-06, 'lambda_l2': 3.77844675765171e-05}. Best is trial 51 with value: 1.0023068775998527.\u001b[0m\n",
      "regularization_factors, val_score: 1.002222:  70%|#######   | 14/20 [03:50<01:37, 16.27s/it]"
     ]
    },
    {
     "name": "stdout",
     "output_type": "stream",
     "text": [
      "Early stopping, best iteration is:\n",
      "[74]\tvalid_0's rmse: 1.00231\n",
      "Training until validation scores don't improve for 100 rounds\n"
     ]
    },
    {
     "name": "stderr",
     "output_type": "stream",
     "text": [
      "regularization_factors, val_score: 1.002222:  75%|#######5  | 15/20 [04:06<01:21, 16.37s/it]\u001b[32m[I 2021-03-10 02:49:32,311]\u001b[0m Trial 54 finished with value: 1.0022359008605042 and parameters: {'lambda_l1': 4.9758805296395e-06, 'lambda_l2': 1.0098631032306905e-08}. Best is trial 54 with value: 1.0022359008605042.\u001b[0m\n",
      "regularization_factors, val_score: 1.002222:  75%|#######5  | 15/20 [04:06<01:21, 16.37s/it]"
     ]
    },
    {
     "name": "stdout",
     "output_type": "stream",
     "text": [
      "Early stopping, best iteration is:\n",
      "[74]\tvalid_0's rmse: 1.00224\n",
      "Training until validation scores don't improve for 100 rounds\n"
     ]
    },
    {
     "name": "stderr",
     "output_type": "stream",
     "text": [
      "regularization_factors, val_score: 1.002222:  80%|########  | 16/20 [04:24<01:06, 16.63s/it]\u001b[32m[I 2021-03-10 02:49:49,537]\u001b[0m Trial 55 finished with value: 1.0023127836247703 and parameters: {'lambda_l1': 3.886353009589965e-06, 'lambda_l2': 1.0546131592924788e-08}. Best is trial 54 with value: 1.0022359008605042.\u001b[0m\n",
      "regularization_factors, val_score: 1.002222:  80%|########  | 16/20 [04:24<01:06, 16.63s/it]"
     ]
    },
    {
     "name": "stdout",
     "output_type": "stream",
     "text": [
      "Early stopping, best iteration is:\n",
      "[74]\tvalid_0's rmse: 1.00231\n",
      "Training until validation scores don't improve for 100 rounds\n"
     ]
    },
    {
     "name": "stderr",
     "output_type": "stream",
     "text": [
      "regularization_factors, val_score: 1.002222:  85%|########5 | 17/20 [04:38<00:48, 16.09s/it]\u001b[32m[I 2021-03-10 02:50:04,375]\u001b[0m Trial 56 finished with value: 1.0044894018942903 and parameters: {'lambda_l1': 7.082303180600653e-05, 'lambda_l2': 1.2220303384089165e-07}. Best is trial 54 with value: 1.0022359008605042.\u001b[0m\n",
      "regularization_factors, val_score: 1.002222:  85%|########5 | 17/20 [04:38<00:48, 16.09s/it]"
     ]
    },
    {
     "name": "stdout",
     "output_type": "stream",
     "text": [
      "Early stopping, best iteration is:\n",
      "[57]\tvalid_0's rmse: 1.00449\n",
      "Training until validation scores don't improve for 100 rounds\n"
     ]
    },
    {
     "name": "stderr",
     "output_type": "stream",
     "text": [
      "regularization_factors, val_score: 1.002222:  90%|######### | 18/20 [04:55<00:32, 16.13s/it]\u001b[32m[I 2021-03-10 02:50:20,593]\u001b[0m Trial 57 finished with value: 1.002312785763187 and parameters: {'lambda_l1': 9.121274450104643e-07, 'lambda_l2': 5.777319023440644e-08}. Best is trial 54 with value: 1.0022359008605042.\u001b[0m\n",
      "regularization_factors, val_score: 1.002222:  90%|######### | 18/20 [04:55<00:32, 16.13s/it]"
     ]
    },
    {
     "name": "stdout",
     "output_type": "stream",
     "text": [
      "Early stopping, best iteration is:\n",
      "[74]\tvalid_0's rmse: 1.00231\n",
      "Training until validation scores don't improve for 100 rounds\n"
     ]
    },
    {
     "name": "stderr",
     "output_type": "stream",
     "text": [
      "regularization_factors, val_score: 1.002222:  95%|#########5| 19/20 [05:11<00:16, 16.24s/it]\u001b[32m[I 2021-03-10 02:50:37,097]\u001b[0m Trial 58 finished with value: 1.0031077207547936 and parameters: {'lambda_l1': 3.101841110576364e-05, 'lambda_l2': 2.833738232339433e-06}. Best is trial 54 with value: 1.0022359008605042.\u001b[0m\n",
      "regularization_factors, val_score: 1.002222:  95%|#########5| 19/20 [05:11<00:16, 16.24s/it]"
     ]
    },
    {
     "name": "stdout",
     "output_type": "stream",
     "text": [
      "Early stopping, best iteration is:\n",
      "[77]\tvalid_0's rmse: 1.00311\n",
      "Training until validation scores don't improve for 100 rounds\n"
     ]
    },
    {
     "name": "stderr",
     "output_type": "stream",
     "text": [
      "regularization_factors, val_score: 1.002222: 100%|##########| 20/20 [05:26<00:00, 15.81s/it]\u001b[32m[I 2021-03-10 02:50:51,896]\u001b[0m Trial 59 finished with value: 1.01327928864142 and parameters: {'lambda_l1': 0.1738647548108313, 'lambda_l2': 1.0073814987332305e-08}. Best is trial 54 with value: 1.0022359008605042.\u001b[0m\n",
      "regularization_factors, val_score: 1.002222: 100%|##########| 20/20 [05:26<00:00, 16.33s/it]\n",
      "min_data_in_leaf, val_score: 1.002222:   0%|          | 0/5 [00:00<?, ?it/s]"
     ]
    },
    {
     "name": "stdout",
     "output_type": "stream",
     "text": [
      "Early stopping, best iteration is:\n",
      "[51]\tvalid_0's rmse: 1.01328\n",
      "Training until validation scores don't improve for 100 rounds\n"
     ]
    },
    {
     "name": "stderr",
     "output_type": "stream",
     "text": [
      "min_data_in_leaf, val_score: 1.002222:  20%|##        | 1/5 [00:12<00:49, 12.40s/it]\u001b[32m[I 2021-03-10 02:51:04,322]\u001b[0m Trial 60 finished with value: 1.0169757257899505 and parameters: {'min_child_samples': 10}. Best is trial 60 with value: 1.0169757257899505.\u001b[0m\n",
      "min_data_in_leaf, val_score: 1.002222:  20%|##        | 1/5 [00:12<00:49, 12.40s/it]"
     ]
    },
    {
     "name": "stdout",
     "output_type": "stream",
     "text": [
      "Early stopping, best iteration is:\n",
      "[57]\tvalid_0's rmse: 1.01698\n",
      "Training until validation scores don't improve for 100 rounds\n"
     ]
    },
    {
     "name": "stderr",
     "output_type": "stream",
     "text": [
      "min_data_in_leaf, val_score: 1.002222:  40%|####      | 2/5 [00:22<00:32, 10.84s/it]\u001b[32m[I 2021-03-10 02:51:14,060]\u001b[0m Trial 61 finished with value: 1.0198657146570502 and parameters: {'min_child_samples': 100}. Best is trial 60 with value: 1.0169757257899505.\u001b[0m\n",
      "min_data_in_leaf, val_score: 1.002222:  40%|####      | 2/5 [00:22<00:32, 10.84s/it]"
     ]
    },
    {
     "name": "stdout",
     "output_type": "stream",
     "text": [
      "Early stopping, best iteration is:\n",
      "[135]\tvalid_0's rmse: 1.01987\n",
      "Training until validation scores don't improve for 100 rounds\n"
     ]
    },
    {
     "name": "stderr",
     "output_type": "stream",
     "text": [
      "min_data_in_leaf, val_score: 1.002222:  60%|######    | 3/5 [00:34<00:23, 11.65s/it]\u001b[32m[I 2021-03-10 02:51:26,689]\u001b[0m Trial 62 finished with value: 1.0218568786593454 and parameters: {'min_child_samples': 25}. Best is trial 60 with value: 1.0169757257899505.\u001b[0m\n",
      "min_data_in_leaf, val_score: 1.002222:  60%|######    | 3/5 [00:34<00:23, 11.65s/it]"
     ]
    },
    {
     "name": "stdout",
     "output_type": "stream",
     "text": [
      "Early stopping, best iteration is:\n",
      "[75]\tvalid_0's rmse: 1.02186\n",
      "Training until validation scores don't improve for 100 rounds\n"
     ]
    },
    {
     "name": "stderr",
     "output_type": "stream",
     "text": [
      "min_data_in_leaf, val_score: 1.002222:  80%|########  | 4/5 [00:46<00:11, 11.57s/it]\u001b[32m[I 2021-03-10 02:51:38,134]\u001b[0m Trial 63 finished with value: 1.0121800778750212 and parameters: {'min_child_samples': 50}. Best is trial 63 with value: 1.0121800778750212.\u001b[0m\n",
      "min_data_in_leaf, val_score: 1.002222:  80%|########  | 4/5 [00:46<00:11, 11.57s/it]"
     ]
    },
    {
     "name": "stdout",
     "output_type": "stream",
     "text": [
      "Early stopping, best iteration is:\n",
      "[63]\tvalid_0's rmse: 1.01218\n",
      "Training until validation scores don't improve for 100 rounds\n"
     ]
    },
    {
     "name": "stderr",
     "output_type": "stream",
     "text": [
      "min_data_in_leaf, val_score: 1.002222: 100%|##########| 5/5 [01:01<00:00, 13.09s/it]\u001b[32m[I 2021-03-10 02:51:53,911]\u001b[0m Trial 64 finished with value: 1.012938219927417 and parameters: {'min_child_samples': 5}. Best is trial 63 with value: 1.0121800778750212.\u001b[0m\n",
      "min_data_in_leaf, val_score: 1.002222: 100%|##########| 5/5 [01:02<00:00, 12.40s/it]"
     ]
    },
    {
     "name": "stdout",
     "output_type": "stream",
     "text": [
      "Early stopping, best iteration is:\n",
      "[91]\tvalid_0's rmse: 1.01294\n"
     ]
    },
    {
     "name": "stderr",
     "output_type": "stream",
     "text": [
      "\n",
      "\u001b[32m[I 2021-03-10 02:51:54,014]\u001b[0m A new study created in memory with name: no-name-37dffb79-4f0b-4add-81ee-2f3a423c7bb8\u001b[0m\n",
      "feature_fraction, val_score: inf:   0%|          | 0/7 [00:00<?, ?it/s]"
     ]
    },
    {
     "name": "stdout",
     "output_type": "stream",
     "text": [
      "Training until validation scores don't improve for 100 rounds\n"
     ]
    },
    {
     "name": "stderr",
     "output_type": "stream",
     "text": [
      "feature_fraction, val_score: 1.031160:  14%|#4        | 1/7 [00:09<00:56,  9.47s/it]\u001b[32m[I 2021-03-10 02:52:03,491]\u001b[0m Trial 0 finished with value: 1.0311603708549453 and parameters: {'feature_fraction': 0.8}. Best is trial 0 with value: 1.0311603708549453.\u001b[0m\n",
      "feature_fraction, val_score: 1.031160:  14%|#4        | 1/7 [00:09<00:56,  9.47s/it]"
     ]
    },
    {
     "name": "stdout",
     "output_type": "stream",
     "text": [
      "Early stopping, best iteration is:\n",
      "[435]\tvalid_0's rmse: 1.03116\n",
      "Training until validation scores don't improve for 100 rounds\n"
     ]
    },
    {
     "name": "stderr",
     "output_type": "stream",
     "text": [
      "feature_fraction, val_score: 1.030418:  29%|##8       | 2/7 [00:19<00:48,  9.75s/it]\u001b[32m[I 2021-03-10 02:52:13,444]\u001b[0m Trial 1 finished with value: 1.0304178247781683 and parameters: {'feature_fraction': 0.8999999999999999}. Best is trial 1 with value: 1.0304178247781683.\u001b[0m\n",
      "feature_fraction, val_score: 1.030418:  29%|##8       | 2/7 [00:19<00:48,  9.75s/it]"
     ]
    },
    {
     "name": "stdout",
     "output_type": "stream",
     "text": [
      "Early stopping, best iteration is:\n",
      "[399]\tvalid_0's rmse: 1.03042\n",
      "Training until validation scores don't improve for 100 rounds\n"
     ]
    },
    {
     "name": "stderr",
     "output_type": "stream",
     "text": [
      "feature_fraction, val_score: 1.030418:  43%|####2     | 3/7 [00:24<00:30,  7.62s/it]\u001b[32m[I 2021-03-10 02:52:18,525]\u001b[0m Trial 2 finished with value: 1.043561135941495 and parameters: {'feature_fraction': 0.5}. Best is trial 1 with value: 1.0304178247781683.\u001b[0m\n",
      "feature_fraction, val_score: 1.030418:  43%|####2     | 3/7 [00:24<00:30,  7.62s/it]"
     ]
    },
    {
     "name": "stdout",
     "output_type": "stream",
     "text": [
      "Early stopping, best iteration is:\n",
      "[299]\tvalid_0's rmse: 1.04356\n",
      "Training until validation scores don't improve for 100 rounds\n"
     ]
    },
    {
     "name": "stderr",
     "output_type": "stream",
     "text": [
      "feature_fraction, val_score: 1.030418:  57%|#####7    | 4/7 [00:32<00:23,  7.79s/it]\u001b[32m[I 2021-03-10 02:52:26,580]\u001b[0m Trial 3 finished with value: 1.036006011064639 and parameters: {'feature_fraction': 0.7}. Best is trial 1 with value: 1.0304178247781683.\u001b[0m\n",
      "feature_fraction, val_score: 1.030418:  57%|#####7    | 4/7 [00:32<00:23,  7.79s/it]"
     ]
    },
    {
     "name": "stdout",
     "output_type": "stream",
     "text": [
      "Early stopping, best iteration is:\n",
      "[399]\tvalid_0's rmse: 1.03601\n",
      "Training until validation scores don't improve for 100 rounds\n",
      "Early stopping, best iteration is:\n",
      "[909]\tvalid_0's rmse: 1.03818\n"
     ]
    },
    {
     "name": "stderr",
     "output_type": "stream",
     "text": [
      "feature_fraction, val_score: 1.030418:  71%|#######1  | 5/7 [00:42<00:17,  8.52s/it]\u001b[32m[I 2021-03-10 02:52:36,392]\u001b[0m Trial 4 finished with value: 1.0381813627423468 and parameters: {'feature_fraction': 0.4}. Best is trial 1 with value: 1.0304178247781683.\u001b[0m\n",
      "feature_fraction, val_score: 1.030418:  71%|#######1  | 5/7 [00:42<00:17,  8.52s/it]"
     ]
    },
    {
     "name": "stdout",
     "output_type": "stream",
     "text": [
      "Training until validation scores don't improve for 100 rounds\n"
     ]
    },
    {
     "name": "stderr",
     "output_type": "stream",
     "text": [
      "feature_fraction, val_score: 1.028152:  86%|########5 | 6/7 [00:52<00:09,  9.24s/it]\u001b[32m[I 2021-03-10 02:52:47,017]\u001b[0m Trial 5 finished with value: 1.0281522559080747 and parameters: {'feature_fraction': 0.6}. Best is trial 5 with value: 1.0281522559080747.\u001b[0m\n",
      "feature_fraction, val_score: 1.028152:  86%|########5 | 6/7 [00:53<00:09,  9.24s/it]"
     ]
    },
    {
     "name": "stdout",
     "output_type": "stream",
     "text": [
      "Early stopping, best iteration is:\n",
      "[622]\tvalid_0's rmse: 1.02815\n",
      "Training until validation scores don't improve for 100 rounds\n"
     ]
    },
    {
     "name": "stderr",
     "output_type": "stream",
     "text": [
      "feature_fraction, val_score: 1.028152: 100%|##########| 7/7 [01:08<00:00, 11.13s/it]\u001b[32m[I 2021-03-10 02:53:02,039]\u001b[0m Trial 6 finished with value: 1.0309932650966815 and parameters: {'feature_fraction': 1.0}. Best is trial 5 with value: 1.0281522559080747.\u001b[0m\n",
      "feature_fraction, val_score: 1.028152: 100%|##########| 7/7 [01:08<00:00,  9.72s/it]\n",
      "num_leaves, val_score: 1.028152:   0%|          | 0/20 [00:00<?, ?it/s]"
     ]
    },
    {
     "name": "stdout",
     "output_type": "stream",
     "text": [
      "Early stopping, best iteration is:\n",
      "[618]\tvalid_0's rmse: 1.03099\n",
      "Training until validation scores don't improve for 100 rounds\n"
     ]
    },
    {
     "name": "stderr",
     "output_type": "stream",
     "text": [
      "num_leaves, val_score: 1.028152:   5%|5         | 1/20 [00:16<05:06, 16.11s/it]\u001b[32m[I 2021-03-10 02:53:18,160]\u001b[0m Trial 7 finished with value: 1.048646068165589 and parameters: {'num_leaves': 218}. Best is trial 7 with value: 1.048646068165589.\u001b[0m\n",
      "num_leaves, val_score: 1.028152:   5%|5         | 1/20 [00:16<05:06, 16.11s/it]"
     ]
    },
    {
     "name": "stdout",
     "output_type": "stream",
     "text": [
      "Early stopping, best iteration is:\n",
      "[113]\tvalid_0's rmse: 1.04865\n",
      "Training until validation scores don't improve for 100 rounds\n"
     ]
    },
    {
     "name": "stderr",
     "output_type": "stream",
     "text": [
      "num_leaves, val_score: 1.028152:  10%|#         | 2/20 [00:28<04:13, 14.06s/it]\u001b[32m[I 2021-03-10 02:53:30,783]\u001b[0m Trial 8 finished with value: 1.0369936716499109 and parameters: {'num_leaves': 126}. Best is trial 8 with value: 1.0369936716499109.\u001b[0m\n",
      "num_leaves, val_score: 1.028152:  10%|#         | 2/20 [00:28<04:13, 14.06s/it]"
     ]
    },
    {
     "name": "stdout",
     "output_type": "stream",
     "text": [
      "Early stopping, best iteration is:\n",
      "[179]\tvalid_0's rmse: 1.03699\n",
      "Training until validation scores don't improve for 100 rounds\n"
     ]
    },
    {
     "name": "stderr",
     "output_type": "stream",
     "text": [
      "num_leaves, val_score: 1.024007:  15%|#5        | 3/20 [00:37<03:19, 11.75s/it]\u001b[32m[I 2021-03-10 02:53:39,781]\u001b[0m Trial 9 finished with value: 1.0240072547297097 and parameters: {'num_leaves': 29}. Best is trial 9 with value: 1.0240072547297097.\u001b[0m\n",
      "num_leaves, val_score: 1.024007:  15%|#5        | 3/20 [00:37<03:19, 11.75s/it]"
     ]
    },
    {
     "name": "stdout",
     "output_type": "stream",
     "text": [
      "Early stopping, best iteration is:\n",
      "[594]\tvalid_0's rmse: 1.02401\n",
      "Training until validation scores don't improve for 100 rounds\n"
     ]
    },
    {
     "name": "stderr",
     "output_type": "stream",
     "text": [
      "num_leaves, val_score: 1.024007:  20%|##        | 4/20 [00:46<02:46, 10.39s/it]\u001b[32m[I 2021-03-10 02:53:48,088]\u001b[0m Trial 10 finished with value: 1.047224795194015 and parameters: {'num_leaves': 122}. Best is trial 9 with value: 1.0240072547297097.\u001b[0m\n",
      "num_leaves, val_score: 1.024007:  20%|##        | 4/20 [00:46<02:46, 10.39s/it]"
     ]
    },
    {
     "name": "stdout",
     "output_type": "stream",
     "text": [
      "Early stopping, best iteration is:\n",
      "[80]\tvalid_0's rmse: 1.04722\n",
      "Training until validation scores don't improve for 100 rounds\n"
     ]
    },
    {
     "name": "stderr",
     "output_type": "stream",
     "text": [
      "num_leaves, val_score: 1.024007:  25%|##5       | 5/20 [00:57<02:40, 10.72s/it]\u001b[32m[I 2021-03-10 02:53:59,391]\u001b[0m Trial 11 finished with value: 1.0338376674625138 and parameters: {'num_leaves': 45}. Best is trial 9 with value: 1.0240072547297097.\u001b[0m\n",
      "num_leaves, val_score: 1.024007:  25%|##5       | 5/20 [00:57<02:40, 10.72s/it]"
     ]
    },
    {
     "name": "stdout",
     "output_type": "stream",
     "text": [
      "Early stopping, best iteration is:\n",
      "[521]\tvalid_0's rmse: 1.03384\n",
      "Training until validation scores don't improve for 100 rounds\n"
     ]
    },
    {
     "name": "stderr",
     "output_type": "stream",
     "text": [
      "num_leaves, val_score: 1.024007:  30%|###       | 6/20 [01:04<02:13,  9.54s/it]\u001b[32m[I 2021-03-10 02:54:06,634]\u001b[0m Trial 12 finished with value: 1.0365371986726357 and parameters: {'num_leaves': 61}. Best is trial 9 with value: 1.0240072547297097.\u001b[0m\n",
      "num_leaves, val_score: 1.024007:  30%|###       | 6/20 [01:04<02:13,  9.54s/it]"
     ]
    },
    {
     "name": "stdout",
     "output_type": "stream",
     "text": [
      "Early stopping, best iteration is:\n",
      "[185]\tvalid_0's rmse: 1.03654\n",
      "Training until validation scores don't improve for 100 rounds\n"
     ]
    },
    {
     "name": "stderr",
     "output_type": "stream",
     "text": [
      "num_leaves, val_score: 1.024007:  35%|###5      | 7/20 [01:13<02:01,  9.31s/it]\u001b[32m[I 2021-03-10 02:54:15,480]\u001b[0m Trial 13 finished with value: 1.0307182569349942 and parameters: {'num_leaves': 55}. Best is trial 9 with value: 1.0240072547297097.\u001b[0m\n",
      "num_leaves, val_score: 1.024007:  35%|###5      | 7/20 [01:13<02:01,  9.31s/it]"
     ]
    },
    {
     "name": "stdout",
     "output_type": "stream",
     "text": [
      "Early stopping, best iteration is:\n",
      "[287]\tvalid_0's rmse: 1.03072\n",
      "Training until validation scores don't improve for 100 rounds\n"
     ]
    },
    {
     "name": "stderr",
     "output_type": "stream",
     "text": [
      "num_leaves, val_score: 1.024007:  40%|####      | 8/20 [01:26<02:05, 10.48s/it]\u001b[32m[I 2021-03-10 02:54:28,469]\u001b[0m Trial 14 finished with value: 1.04472158406704 and parameters: {'num_leaves': 221}. Best is trial 9 with value: 1.0240072547297097.\u001b[0m\n",
      "num_leaves, val_score: 1.024007:  40%|####      | 8/20 [01:26<02:05, 10.48s/it]"
     ]
    },
    {
     "name": "stdout",
     "output_type": "stream",
     "text": [
      "Early stopping, best iteration is:\n",
      "[71]\tvalid_0's rmse: 1.04472\n",
      "Training until validation scores don't improve for 100 rounds\n"
     ]
    },
    {
     "name": "stderr",
     "output_type": "stream",
     "text": [
      "num_leaves, val_score: 1.024007:  45%|####5     | 9/20 [01:35<01:51, 10.09s/it]\u001b[32m[I 2021-03-10 02:54:37,700]\u001b[0m Trial 15 finished with value: 1.0338495544527138 and parameters: {'num_leaves': 87}. Best is trial 9 with value: 1.0240072547297097.\u001b[0m\n",
      "num_leaves, val_score: 1.024007:  45%|####5     | 9/20 [01:35<01:51, 10.09s/it]"
     ]
    },
    {
     "name": "stdout",
     "output_type": "stream",
     "text": [
      "Early stopping, best iteration is:\n",
      "[178]\tvalid_0's rmse: 1.03385\n",
      "Training until validation scores don't improve for 100 rounds\n"
     ]
    },
    {
     "name": "stderr",
     "output_type": "stream",
     "text": [
      "num_leaves, val_score: 1.024007:  50%|#####     | 10/20 [01:49<01:52, 11.26s/it]\u001b[32m[I 2021-03-10 02:54:51,595]\u001b[0m Trial 16 finished with value: 1.0416419857605028 and parameters: {'num_leaves': 229}. Best is trial 9 with value: 1.0240072547297097.\u001b[0m\n",
      "num_leaves, val_score: 1.024007:  50%|#####     | 10/20 [01:49<01:52, 11.26s/it]"
     ]
    },
    {
     "name": "stdout",
     "output_type": "stream",
     "text": [
      "Early stopping, best iteration is:\n",
      "[76]\tvalid_0's rmse: 1.04164\n",
      "Training until validation scores don't improve for 100 rounds\n"
     ]
    },
    {
     "name": "stderr",
     "output_type": "stream",
     "text": [
      "num_leaves, val_score: 1.024007:  55%|#####5    | 11/20 [01:53<01:21,  9.08s/it]\u001b[32m[I 2021-03-10 02:54:55,731]\u001b[0m Trial 17 finished with value: 1.052126264010947 and parameters: {'num_leaves': 6}. Best is trial 9 with value: 1.0240072547297097.\u001b[0m\n",
      "num_leaves, val_score: 1.024007:  55%|#####5    | 11/20 [01:53<01:21,  9.08s/it]"
     ]
    },
    {
     "name": "stdout",
     "output_type": "stream",
     "text": [
      "Early stopping, best iteration is:\n",
      "[771]\tvalid_0's rmse: 1.05213\n",
      "Training until validation scores don't improve for 100 rounds\n"
     ]
    },
    {
     "name": "stderr",
     "output_type": "stream",
     "text": [
      "num_leaves, val_score: 1.024007:  60%|######    | 12/20 [02:01<01:09,  8.74s/it]\u001b[32m[I 2021-03-10 02:55:03,678]\u001b[0m Trial 18 finished with value: 1.0392964827627578 and parameters: {'num_leaves': 19}. Best is trial 9 with value: 1.0240072547297097.\u001b[0m\n",
      "num_leaves, val_score: 1.024007:  60%|######    | 12/20 [02:01<01:09,  8.74s/it]"
     ]
    },
    {
     "name": "stdout",
     "output_type": "stream",
     "text": [
      "Early stopping, best iteration is:\n",
      "[728]\tvalid_0's rmse: 1.0393\n",
      "Training until validation scores don't improve for 100 rounds\n"
     ]
    },
    {
     "name": "stderr",
     "output_type": "stream",
     "text": [
      "num_leaves, val_score: 1.024007:  65%|######5   | 13/20 [02:10<01:02,  8.92s/it]\u001b[32m[I 2021-03-10 02:55:13,008]\u001b[0m Trial 19 finished with value: 1.0338495544527138 and parameters: {'num_leaves': 87}. Best is trial 9 with value: 1.0240072547297097.\u001b[0m\n",
      "num_leaves, val_score: 1.024007:  65%|######5   | 13/20 [02:10<01:02,  8.92s/it]"
     ]
    },
    {
     "name": "stdout",
     "output_type": "stream",
     "text": [
      "Early stopping, best iteration is:\n",
      "[178]\tvalid_0's rmse: 1.03385\n",
      "Training until validation scores don't improve for 100 rounds\n"
     ]
    },
    {
     "name": "stderr",
     "output_type": "stream",
     "text": [
      "num_leaves, val_score: 1.024007:  70%|#######   | 14/20 [02:16<00:47,  7.85s/it]\u001b[32m[I 2021-03-10 02:55:18,392]\u001b[0m Trial 20 finished with value: 1.085309454468802 and parameters: {'num_leaves': 2}. Best is trial 9 with value: 1.0240072547297097.\u001b[0m\n",
      "num_leaves, val_score: 1.024007:  70%|#######   | 14/20 [02:16<00:47,  7.85s/it]"
     ]
    },
    {
     "name": "stdout",
     "output_type": "stream",
     "text": [
      "Early stopping, best iteration is:\n",
      "[2541]\tvalid_0's rmse: 1.08531\n",
      "Training until validation scores don't improve for 100 rounds\n",
      "Early stopping, best iteration is:\n",
      "[175]\tvalid_0's rmse: 1.04424\n"
     ]
    },
    {
     "name": "stderr",
     "output_type": "stream",
     "text": [
      "num_leaves, val_score: 1.024007:  75%|#######5  | 15/20 [02:33<00:53, 10.61s/it]\u001b[32m[I 2021-03-10 02:55:35,381]\u001b[0m Trial 21 finished with value: 1.0442412337646396 and parameters: {'num_leaves': 176}. Best is trial 9 with value: 1.0240072547297097.\u001b[0m\n",
      "num_leaves, val_score: 1.024007:  75%|#######5  | 15/20 [02:33<00:53, 10.61s/it]"
     ]
    },
    {
     "name": "stdout",
     "output_type": "stream",
     "text": [
      "Training until validation scores don't improve for 100 rounds\n"
     ]
    },
    {
     "name": "stderr",
     "output_type": "stream",
     "text": [
      "num_leaves, val_score: 1.024007:  80%|########  | 16/20 [02:44<00:43, 10.89s/it]\u001b[32m[I 2021-03-10 02:55:46,932]\u001b[0m Trial 22 finished with value: 1.0281522559080747 and parameters: {'num_leaves': 31}. Best is trial 9 with value: 1.0240072547297097.\u001b[0m\n",
      "num_leaves, val_score: 1.024007:  80%|########  | 16/20 [02:44<00:43, 10.89s/it]"
     ]
    },
    {
     "name": "stdout",
     "output_type": "stream",
     "text": [
      "Early stopping, best iteration is:\n",
      "[622]\tvalid_0's rmse: 1.02815\n",
      "Training until validation scores don't improve for 100 rounds\n"
     ]
    },
    {
     "name": "stderr",
     "output_type": "stream",
     "text": [
      "num_leaves, val_score: 1.024007:  85%|########5 | 17/20 [02:54<00:31, 10.36s/it]\u001b[32m[I 2021-03-10 02:55:56,075]\u001b[0m Trial 23 finished with value: 1.0324653422238501 and parameters: {'num_leaves': 34}. Best is trial 9 with value: 1.0240072547297097.\u001b[0m\n",
      "num_leaves, val_score: 1.024007:  85%|########5 | 17/20 [02:54<00:31, 10.36s/it]"
     ]
    },
    {
     "name": "stdout",
     "output_type": "stream",
     "text": [
      "Early stopping, best iteration is:\n",
      "[508]\tvalid_0's rmse: 1.03247\n",
      "Training until validation scores don't improve for 100 rounds\n"
     ]
    },
    {
     "name": "stderr",
     "output_type": "stream",
     "text": [
      "num_leaves, val_score: 1.024007:  90%|######### | 18/20 [03:05<00:21, 10.74s/it]\u001b[32m[I 2021-03-10 02:56:07,680]\u001b[0m Trial 24 finished with value: 1.040745370364728 and parameters: {'num_leaves': 92}. Best is trial 9 with value: 1.0240072547297097.\u001b[0m\n",
      "num_leaves, val_score: 1.024007:  90%|######### | 18/20 [03:05<00:21, 10.74s/it]"
     ]
    },
    {
     "name": "stdout",
     "output_type": "stream",
     "text": [
      "Early stopping, best iteration is:\n",
      "[240]\tvalid_0's rmse: 1.04075\n",
      "Training until validation scores don't improve for 100 rounds\n"
     ]
    },
    {
     "name": "stderr",
     "output_type": "stream",
     "text": [
      "num_leaves, val_score: 1.024007:  95%|#########5| 19/20 [03:19<00:11, 11.67s/it]\u001b[32m[I 2021-03-10 02:56:21,513]\u001b[0m Trial 25 finished with value: 1.044907173941969 and parameters: {'num_leaves': 165}. Best is trial 9 with value: 1.0240072547297097.\u001b[0m\n",
      "num_leaves, val_score: 1.024007:  95%|#########5| 19/20 [03:19<00:11, 11.67s/it]"
     ]
    },
    {
     "name": "stdout",
     "output_type": "stream",
     "text": [
      "Early stopping, best iteration is:\n",
      "[138]\tvalid_0's rmse: 1.04491\n",
      "Training until validation scores don't improve for 100 rounds\n"
     ]
    },
    {
     "name": "stderr",
     "output_type": "stream",
     "text": [
      "num_leaves, val_score: 1.024007: 100%|##########| 20/20 [03:28<00:00, 10.90s/it]\u001b[32m[I 2021-03-10 02:56:30,631]\u001b[0m Trial 26 finished with value: 1.0340861467788078 and parameters: {'num_leaves': 24}. Best is trial 9 with value: 1.0240072547297097.\u001b[0m\n",
      "num_leaves, val_score: 1.024007: 100%|##########| 20/20 [03:28<00:00, 10.43s/it]\n",
      "bagging, val_score: 1.024007:   0%|          | 0/10 [00:00<?, ?it/s]"
     ]
    },
    {
     "name": "stdout",
     "output_type": "stream",
     "text": [
      "Early stopping, best iteration is:\n",
      "[691]\tvalid_0's rmse: 1.03409\n",
      "Training until validation scores don't improve for 100 rounds\n"
     ]
    },
    {
     "name": "stderr",
     "output_type": "stream",
     "text": [
      "bagging, val_score: 1.024007:  10%|#         | 1/10 [00:04<00:40,  4.54s/it]\u001b[32m[I 2021-03-10 02:56:35,192]\u001b[0m Trial 27 finished with value: 1.0402968066959166 and parameters: {'bagging_fraction': 0.7780367253470112, 'bagging_freq': 3}. Best is trial 27 with value: 1.0402968066959166.\u001b[0m\n",
      "bagging, val_score: 1.024007:  10%|#         | 1/10 [00:04<00:40,  4.54s/it]"
     ]
    },
    {
     "name": "stdout",
     "output_type": "stream",
     "text": [
      "Early stopping, best iteration is:\n",
      "[196]\tvalid_0's rmse: 1.0403\n",
      "Training until validation scores don't improve for 100 rounds\n"
     ]
    },
    {
     "name": "stderr",
     "output_type": "stream",
     "text": [
      "bagging, val_score: 1.024007:  20%|##        | 2/10 [00:10<00:41,  5.21s/it]\u001b[32m[I 2021-03-10 02:56:40,870]\u001b[0m Trial 28 finished with value: 1.0406435650196202 and parameters: {'bagging_fraction': 0.7958225285289684, 'bagging_freq': 7}. Best is trial 27 with value: 1.0402968066959166.\u001b[0m\n",
      "bagging, val_score: 1.024007:  20%|##        | 2/10 [00:10<00:41,  5.21s/it]"
     ]
    },
    {
     "name": "stdout",
     "output_type": "stream",
     "text": [
      "Early stopping, best iteration is:\n",
      "[282]\tvalid_0's rmse: 1.04064\n",
      "Training until validation scores don't improve for 100 rounds\n"
     ]
    },
    {
     "name": "stderr",
     "output_type": "stream",
     "text": [
      "bagging, val_score: 1.024007:  30%|###       | 3/10 [00:13<00:30,  4.38s/it]\u001b[32m[I 2021-03-10 02:56:44,266]\u001b[0m Trial 29 finished with value: 1.0608017789707542 and parameters: {'bagging_fraction': 0.4626815900485174, 'bagging_freq': 1}. Best is trial 27 with value: 1.0402968066959166.\u001b[0m\n",
      "bagging, val_score: 1.024007:  30%|###       | 3/10 [00:13<00:30,  4.38s/it]"
     ]
    },
    {
     "name": "stdout",
     "output_type": "stream",
     "text": [
      "Early stopping, best iteration is:\n",
      "[117]\tvalid_0's rmse: 1.0608\n",
      "Training until validation scores don't improve for 100 rounds\n"
     ]
    },
    {
     "name": "stderr",
     "output_type": "stream",
     "text": [
      "bagging, val_score: 1.024007:  40%|####      | 4/10 [00:19<00:30,  5.02s/it]\u001b[32m[I 2021-03-10 02:56:50,273]\u001b[0m Trial 30 finished with value: 1.041461105432678 and parameters: {'bagging_fraction': 0.46046919940298425, 'bagging_freq': 2}. Best is trial 27 with value: 1.0402968066959166.\u001b[0m\n",
      "bagging, val_score: 1.024007:  40%|####      | 4/10 [00:19<00:30,  5.02s/it]"
     ]
    },
    {
     "name": "stdout",
     "output_type": "stream",
     "text": [
      "Early stopping, best iteration is:\n",
      "[318]\tvalid_0's rmse: 1.04146\n",
      "Training until validation scores don't improve for 100 rounds\n"
     ]
    },
    {
     "name": "stderr",
     "output_type": "stream",
     "text": [
      "bagging, val_score: 1.024007:  50%|#####     | 5/10 [00:28<00:32,  6.53s/it]\u001b[32m[I 2021-03-10 02:56:59,489]\u001b[0m Trial 31 finished with value: 1.0463549281987778 and parameters: {'bagging_fraction': 0.6438774439314253, 'bagging_freq': 5}. Best is trial 27 with value: 1.0402968066959166.\u001b[0m\n",
      "bagging, val_score: 1.024007:  50%|#####     | 5/10 [00:28<00:32,  6.53s/it]"
     ]
    },
    {
     "name": "stdout",
     "output_type": "stream",
     "text": [
      "Early stopping, best iteration is:\n",
      "[554]\tvalid_0's rmse: 1.04635\n",
      "Training until validation scores don't improve for 100 rounds\n"
     ]
    },
    {
     "name": "stderr",
     "output_type": "stream",
     "text": [
      "bagging, val_score: 1.024007:  60%|######    | 6/10 [00:36<00:28,  7.01s/it]\u001b[32m[I 2021-03-10 02:57:07,416]\u001b[0m Trial 32 finished with value: 1.031980744095046 and parameters: {'bagging_fraction': 0.9688266798306399, 'bagging_freq': 4}. Best is trial 32 with value: 1.031980744095046.\u001b[0m\n",
      "bagging, val_score: 1.024007:  60%|######    | 6/10 [00:36<00:28,  7.01s/it]"
     ]
    },
    {
     "name": "stdout",
     "output_type": "stream",
     "text": [
      "Early stopping, best iteration is:\n",
      "[479]\tvalid_0's rmse: 1.03198\n",
      "Training until validation scores don't improve for 100 rounds\n"
     ]
    },
    {
     "name": "stderr",
     "output_type": "stream",
     "text": [
      "bagging, val_score: 1.024007:  70%|#######   | 7/10 [00:40<00:17,  5.97s/it]\u001b[32m[I 2021-03-10 02:57:11,232]\u001b[0m Trial 33 finished with value: 1.0546514744610083 and parameters: {'bagging_fraction': 0.5398462392591703, 'bagging_freq': 3}. Best is trial 32 with value: 1.031980744095046.\u001b[0m\n",
      "bagging, val_score: 1.024007:  70%|#######   | 7/10 [00:40<00:17,  5.97s/it]"
     ]
    },
    {
     "name": "stdout",
     "output_type": "stream",
     "text": [
      "Early stopping, best iteration is:\n",
      "[144]\tvalid_0's rmse: 1.05465\n",
      "Training until validation scores don't improve for 100 rounds\n"
     ]
    },
    {
     "name": "stderr",
     "output_type": "stream",
     "text": [
      "bagging, val_score: 1.024007:  80%|########  | 8/10 [00:46<00:12,  6.02s/it]\u001b[32m[I 2021-03-10 02:57:17,367]\u001b[0m Trial 34 finished with value: 1.0488095128964838 and parameters: {'bagging_fraction': 0.45968043074993625, 'bagging_freq': 4}. Best is trial 32 with value: 1.031980744095046.\u001b[0m\n",
      "bagging, val_score: 1.024007:  80%|########  | 8/10 [00:46<00:12,  6.02s/it]"
     ]
    },
    {
     "name": "stdout",
     "output_type": "stream",
     "text": [
      "Early stopping, best iteration is:\n",
      "[333]\tvalid_0's rmse: 1.04881\n",
      "Training until validation scores don't improve for 100 rounds\n"
     ]
    },
    {
     "name": "stderr",
     "output_type": "stream",
     "text": [
      "bagging, val_score: 1.024007:  90%|######### | 9/10 [00:51<00:05,  5.72s/it]\u001b[32m[I 2021-03-10 02:57:22,414]\u001b[0m Trial 35 finished with value: 1.0507302942465702 and parameters: {'bagging_fraction': 0.6903374863810644, 'bagging_freq': 5}. Best is trial 32 with value: 1.031980744095046.\u001b[0m\n",
      "bagging, val_score: 1.024007:  90%|######### | 9/10 [00:51<00:05,  5.72s/it]"
     ]
    },
    {
     "name": "stdout",
     "output_type": "stream",
     "text": [
      "Early stopping, best iteration is:\n",
      "[238]\tvalid_0's rmse: 1.05073\n",
      "Training until validation scores don't improve for 100 rounds\n"
     ]
    },
    {
     "name": "stderr",
     "output_type": "stream",
     "text": [
      "bagging, val_score: 1.024007: 100%|##########| 10/10 [00:56<00:00,  5.40s/it]\u001b[32m[I 2021-03-10 02:57:27,105]\u001b[0m Trial 36 finished with value: 1.0484935112361378 and parameters: {'bagging_fraction': 0.4741688072138034, 'bagging_freq': 6}. Best is trial 32 with value: 1.031980744095046.\u001b[0m\n",
      "bagging, val_score: 1.024007: 100%|##########| 10/10 [00:56<00:00,  5.65s/it]\n",
      "feature_fraction_stage2, val_score: 1.024007:   0%|          | 0/6 [00:00<?, ?it/s]"
     ]
    },
    {
     "name": "stdout",
     "output_type": "stream",
     "text": [
      "Early stopping, best iteration is:\n",
      "[226]\tvalid_0's rmse: 1.04849\n",
      "Training until validation scores don't improve for 100 rounds\n"
     ]
    },
    {
     "name": "stderr",
     "output_type": "stream",
     "text": [
      "feature_fraction_stage2, val_score: 1.024007:  17%|#6        | 1/6 [00:06<00:31,  6.26s/it]\u001b[32m[I 2021-03-10 02:57:33,383]\u001b[0m Trial 37 finished with value: 1.031629426106851 and parameters: {'feature_fraction': 0.552}. Best is trial 37 with value: 1.031629426106851.\u001b[0m\n",
      "feature_fraction_stage2, val_score: 1.024007:  17%|#6        | 1/6 [00:06<00:31,  6.26s/it]"
     ]
    },
    {
     "name": "stdout",
     "output_type": "stream",
     "text": [
      "Early stopping, best iteration is:\n",
      "[398]\tvalid_0's rmse: 1.03163\n",
      "Training until validation scores don't improve for 100 rounds\n"
     ]
    },
    {
     "name": "stderr",
     "output_type": "stream",
     "text": [
      "feature_fraction_stage2, val_score: 1.024007:  33%|###3      | 2/6 [00:14<00:30,  7.67s/it]\u001b[32m[I 2021-03-10 02:57:42,043]\u001b[0m Trial 38 finished with value: 1.0327381723276037 and parameters: {'feature_fraction': 0.52}. Best is trial 37 with value: 1.031629426106851.\u001b[0m\n",
      "feature_fraction_stage2, val_score: 1.024007:  33%|###3      | 2/6 [00:14<00:30,  7.67s/it]"
     ]
    },
    {
     "name": "stdout",
     "output_type": "stream",
     "text": [
      "Early stopping, best iteration is:\n",
      "[655]\tvalid_0's rmse: 1.03274\n",
      "Training until validation scores don't improve for 100 rounds\n"
     ]
    },
    {
     "name": "stderr",
     "output_type": "stream",
     "text": [
      "feature_fraction_stage2, val_score: 1.020133:  50%|#####     | 3/6 [00:23<00:24,  8.27s/it]\u001b[32m[I 2021-03-10 02:57:51,022]\u001b[0m Trial 39 finished with value: 1.020133129877171 and parameters: {'feature_fraction': 0.584}. Best is trial 39 with value: 1.020133129877171.\u001b[0m\n",
      "feature_fraction_stage2, val_score: 1.020133:  50%|#####     | 3/6 [00:23<00:24,  8.27s/it]"
     ]
    },
    {
     "name": "stdout",
     "output_type": "stream",
     "text": [
      "Early stopping, best iteration is:\n",
      "[583]\tvalid_0's rmse: 1.02013\n",
      "Training until validation scores don't improve for 100 rounds\n"
     ]
    },
    {
     "name": "stderr",
     "output_type": "stream",
     "text": [
      "feature_fraction_stage2, val_score: 1.020133:  67%|######6   | 4/6 [00:31<00:16,  8.13s/it]\u001b[32m[I 2021-03-10 02:57:58,938]\u001b[0m Trial 40 finished with value: 1.034241733627507 and parameters: {'feature_fraction': 0.6479999999999999}. Best is trial 39 with value: 1.020133129877171.\u001b[0m\n",
      "feature_fraction_stage2, val_score: 1.020133:  67%|######6   | 4/6 [00:31<00:16,  8.13s/it]"
     ]
    },
    {
     "name": "stdout",
     "output_type": "stream",
     "text": [
      "Early stopping, best iteration is:\n",
      "[455]\tvalid_0's rmse: 1.03424\n",
      "Training until validation scores don't improve for 100 rounds\n"
     ]
    },
    {
     "name": "stderr",
     "output_type": "stream",
     "text": [
      "feature_fraction_stage2, val_score: 1.020133:  83%|########3 | 5/6 [00:37<00:07,  7.36s/it]\u001b[32m[I 2021-03-10 02:58:04,940]\u001b[0m Trial 41 finished with value: 1.0369650440612581 and parameters: {'feature_fraction': 0.616}. Best is trial 39 with value: 1.020133129877171.\u001b[0m\n",
      "feature_fraction_stage2, val_score: 1.020133:  83%|########3 | 5/6 [00:37<00:07,  7.36s/it]"
     ]
    },
    {
     "name": "stdout",
     "output_type": "stream",
     "text": [
      "Early stopping, best iteration is:\n",
      "[327]\tvalid_0's rmse: 1.03697\n",
      "Training until validation scores don't improve for 100 rounds\n"
     ]
    },
    {
     "name": "stderr",
     "output_type": "stream",
     "text": [
      "feature_fraction_stage2, val_score: 1.020133: 100%|##########| 6/6 [00:45<00:00,  7.57s/it]\u001b[32m[I 2021-03-10 02:58:12,926]\u001b[0m Trial 42 finished with value: 1.0279151436674094 and parameters: {'feature_fraction': 0.6799999999999999}. Best is trial 39 with value: 1.020133129877171.\u001b[0m\n",
      "feature_fraction_stage2, val_score: 1.020133: 100%|##########| 6/6 [00:45<00:00,  7.64s/it]\n",
      "regularization_factors, val_score: 1.020133:   0%|          | 0/20 [00:00<?, ?it/s]"
     ]
    },
    {
     "name": "stdout",
     "output_type": "stream",
     "text": [
      "Early stopping, best iteration is:\n",
      "[440]\tvalid_0's rmse: 1.02792\n",
      "Training until validation scores don't improve for 100 rounds\n"
     ]
    },
    {
     "name": "stderr",
     "output_type": "stream",
     "text": [
      "regularization_factors, val_score: 1.020133:   5%|5         | 1/20 [00:09<03:02,  9.63s/it]\u001b[32m[I 2021-03-10 02:58:22,570]\u001b[0m Trial 43 finished with value: 1.0336548151946725 and parameters: {'lambda_l1': 4.226556930722122e-06, 'lambda_l2': 0.20050428384375021}. Best is trial 43 with value: 1.0336548151946725.\u001b[0m\n",
      "regularization_factors, val_score: 1.020133:   5%|5         | 1/20 [00:09<03:02,  9.63s/it]"
     ]
    },
    {
     "name": "stdout",
     "output_type": "stream",
     "text": [
      "Early stopping, best iteration is:\n",
      "[496]\tvalid_0's rmse: 1.03365\n",
      "Training until validation scores don't improve for 100 rounds\n"
     ]
    },
    {
     "name": "stderr",
     "output_type": "stream",
     "text": [
      "regularization_factors, val_score: 1.020133:  10%|#         | 2/20 [00:15<02:15,  7.52s/it]\u001b[32m[I 2021-03-10 02:58:28,622]\u001b[0m Trial 44 finished with value: 1.0377019811487669 and parameters: {'lambda_l1': 0.1338235251156601, 'lambda_l2': 9.169315071738081e-06}. Best is trial 43 with value: 1.0336548151946725.\u001b[0m\n",
      "regularization_factors, val_score: 1.020133:  10%|#         | 2/20 [00:15<02:15,  7.52s/it]"
     ]
    },
    {
     "name": "stdout",
     "output_type": "stream",
     "text": [
      "Early stopping, best iteration is:\n",
      "[235]\tvalid_0's rmse: 1.0377\n",
      "Training until validation scores don't improve for 100 rounds\n"
     ]
    },
    {
     "name": "stderr",
     "output_type": "stream",
     "text": [
      "regularization_factors, val_score: 1.020133:  15%|#5        | 3/20 [00:26<02:37,  9.24s/it]\u001b[32m[I 2021-03-10 02:58:39,898]\u001b[0m Trial 45 finished with value: 1.0301211464960014 and parameters: {'lambda_l1': 1.4139024800411305e-05, 'lambda_l2': 0.28464592747451545}. Best is trial 45 with value: 1.0301211464960014.\u001b[0m\n",
      "regularization_factors, val_score: 1.020133:  15%|#5        | 3/20 [00:26<02:37,  9.24s/it]"
     ]
    },
    {
     "name": "stdout",
     "output_type": "stream",
     "text": [
      "Early stopping, best iteration is:\n",
      "[602]\tvalid_0's rmse: 1.03012\n",
      "Training until validation scores don't improve for 100 rounds\n"
     ]
    },
    {
     "name": "stderr",
     "output_type": "stream",
     "text": [
      "regularization_factors, val_score: 1.020133:  20%|##        | 4/20 [00:36<02:30,  9.40s/it]\u001b[32m[I 2021-03-10 02:58:49,548]\u001b[0m Trial 46 finished with value: 1.0287858592704056 and parameters: {'lambda_l1': 1.1714320521377046e-06, 'lambda_l2': 0.0039147688479154365}. Best is trial 46 with value: 1.0287858592704056.\u001b[0m\n",
      "regularization_factors, val_score: 1.020133:  20%|##        | 4/20 [00:36<02:30,  9.40s/it]"
     ]
    },
    {
     "name": "stdout",
     "output_type": "stream",
     "text": [
      "Early stopping, best iteration is:\n",
      "[501]\tvalid_0's rmse: 1.02879\n",
      "Training until validation scores don't improve for 100 rounds\n"
     ]
    },
    {
     "name": "stderr",
     "output_type": "stream",
     "text": [
      "regularization_factors, val_score: 1.020133:  25%|##5       | 5/20 [00:47<02:28,  9.89s/it]\u001b[32m[I 2021-03-10 02:59:00,293]\u001b[0m Trial 47 finished with value: 1.0201331296484353 and parameters: {'lambda_l1': 2.1661857488035078e-07, 'lambda_l2': 2.55512657192625e-08}. Best is trial 47 with value: 1.0201331296484353.\u001b[0m\n",
      "regularization_factors, val_score: 1.020133:  25%|##5       | 5/20 [00:47<02:28,  9.89s/it]"
     ]
    },
    {
     "name": "stdout",
     "output_type": "stream",
     "text": [
      "Early stopping, best iteration is:\n",
      "[583]\tvalid_0's rmse: 1.02013\n",
      "Training until validation scores don't improve for 100 rounds\n"
     ]
    },
    {
     "name": "stderr",
     "output_type": "stream",
     "text": [
      "regularization_factors, val_score: 1.020118:  30%|###       | 6/20 [00:58<02:22, 10.21s/it]\u001b[32m[I 2021-03-10 02:59:11,141]\u001b[0m Trial 48 finished with value: 1.0201178990687692 and parameters: {'lambda_l1': 4.957683610383645e-06, 'lambda_l2': 1.1312619676027359e-05}. Best is trial 48 with value: 1.0201178990687692.\u001b[0m\n",
      "regularization_factors, val_score: 1.020118:  30%|###       | 6/20 [00:58<02:22, 10.21s/it]"
     ]
    },
    {
     "name": "stdout",
     "output_type": "stream",
     "text": [
      "Early stopping, best iteration is:\n",
      "[583]\tvalid_0's rmse: 1.02012\n",
      "Training until validation scores don't improve for 100 rounds\n"
     ]
    },
    {
     "name": "stderr",
     "output_type": "stream",
     "text": [
      "regularization_factors, val_score: 1.020118:  35%|###5      | 7/20 [01:10<02:21, 10.91s/it]\u001b[32m[I 2021-03-10 02:59:23,486]\u001b[0m Trial 49 finished with value: 1.0359491220557278 and parameters: {'lambda_l1': 3.141110845398835, 'lambda_l2': 0.00532899866388016}. Best is trial 48 with value: 1.0201178990687692.\u001b[0m\n",
      "regularization_factors, val_score: 1.020118:  35%|###5      | 7/20 [01:10<02:21, 10.91s/it]"
     ]
    },
    {
     "name": "stdout",
     "output_type": "stream",
     "text": [
      "Early stopping, best iteration is:\n",
      "[663]\tvalid_0's rmse: 1.03595\n",
      "Training until validation scores don't improve for 100 rounds\n"
     ]
    },
    {
     "name": "stderr",
     "output_type": "stream",
     "text": [
      "regularization_factors, val_score: 1.020118:  40%|####      | 8/20 [01:21<02:11, 10.96s/it]\u001b[32m[I 2021-03-10 02:59:34,567]\u001b[0m Trial 50 finished with value: 1.027258284721453 and parameters: {'lambda_l1': 0.00019156096532232104, 'lambda_l2': 0.059097094175457505}. Best is trial 48 with value: 1.0201178990687692.\u001b[0m\n",
      "regularization_factors, val_score: 1.020118:  40%|####      | 8/20 [01:21<02:11, 10.96s/it]"
     ]
    },
    {
     "name": "stdout",
     "output_type": "stream",
     "text": [
      "Early stopping, best iteration is:\n",
      "[583]\tvalid_0's rmse: 1.02726\n",
      "Training until validation scores don't improve for 100 rounds\n"
     ]
    },
    {
     "name": "stderr",
     "output_type": "stream",
     "text": [
      "regularization_factors, val_score: 1.020118:  45%|####5     | 9/20 [01:30<01:54, 10.45s/it]\u001b[32m[I 2021-03-10 02:59:43,886]\u001b[0m Trial 51 finished with value: 1.0293692702766466 and parameters: {'lambda_l1': 1.0201058029364229e-08, 'lambda_l2': 0.2124306806836826}. Best is trial 48 with value: 1.0201178990687692.\u001b[0m\n",
      "regularization_factors, val_score: 1.020118:  45%|####5     | 9/20 [01:30<01:54, 10.45s/it]"
     ]
    },
    {
     "name": "stdout",
     "output_type": "stream",
     "text": [
      "Early stopping, best iteration is:\n",
      "[464]\tvalid_0's rmse: 1.02937\n",
      "Training until validation scores don't improve for 100 rounds\n"
     ]
    },
    {
     "name": "stderr",
     "output_type": "stream",
     "text": [
      "regularization_factors, val_score: 1.020118:  50%|#####     | 10/20 [01:38<01:34,  9.47s/it]\u001b[32m[I 2021-03-10 02:59:51,150]\u001b[0m Trial 52 finished with value: 1.0453047233236032 and parameters: {'lambda_l1': 0.11207635816394222, 'lambda_l2': 1.4841227675721904}. Best is trial 48 with value: 1.0201178990687692.\u001b[0m\n",
      "regularization_factors, val_score: 1.020118:  50%|#####     | 10/20 [01:38<01:34,  9.47s/it]"
     ]
    },
    {
     "name": "stdout",
     "output_type": "stream",
     "text": [
      "Early stopping, best iteration is:\n",
      "[320]\tvalid_0's rmse: 1.0453\n",
      "Training until validation scores don't improve for 100 rounds\n"
     ]
    },
    {
     "name": "stderr",
     "output_type": "stream",
     "text": [
      "regularization_factors, val_score: 1.020118:  55%|#####5    | 11/20 [01:49<01:29,  9.90s/it]\u001b[32m[I 2021-03-10 03:00:02,038]\u001b[0m Trial 53 finished with value: 1.0201331278821564 and parameters: {'lambda_l1': 1.3460211766949083e-08, 'lambda_l2': 6.538263248357658e-06}. Best is trial 48 with value: 1.0201178990687692.\u001b[0m\n",
      "regularization_factors, val_score: 1.020118:  55%|#####5    | 11/20 [01:49<01:29,  9.90s/it]"
     ]
    },
    {
     "name": "stdout",
     "output_type": "stream",
     "text": [
      "Early stopping, best iteration is:\n",
      "[583]\tvalid_0's rmse: 1.02013\n",
      "Training until validation scores don't improve for 100 rounds\n"
     ]
    },
    {
     "name": "stderr",
     "output_type": "stream",
     "text": [
      "regularization_factors, val_score: 1.020114:  60%|######    | 12/20 [01:59<01:21, 10.19s/it]\u001b[32m[I 2021-03-10 03:00:12,892]\u001b[0m Trial 54 finished with value: 1.020114447259449 and parameters: {'lambda_l1': 1.784047886757114e-08, 'lambda_l2': 5.161650291157943e-06}. Best is trial 54 with value: 1.020114447259449.\u001b[0m\n",
      "regularization_factors, val_score: 1.020114:  60%|######    | 12/20 [01:59<01:21, 10.19s/it]"
     ]
    },
    {
     "name": "stdout",
     "output_type": "stream",
     "text": [
      "Early stopping, best iteration is:\n",
      "[583]\tvalid_0's rmse: 1.02011\n",
      "Training until validation scores don't improve for 100 rounds\n"
     ]
    },
    {
     "name": "stderr",
     "output_type": "stream",
     "text": [
      "regularization_factors, val_score: 1.020114:  65%|######5   | 13/20 [02:09<01:09,  9.92s/it]\u001b[32m[I 2021-03-10 03:00:22,179]\u001b[0m Trial 55 finished with value: 1.0214204152366704 and parameters: {'lambda_l1': 0.0003650114370789927, 'lambda_l2': 3.072619050838309e-06}. Best is trial 54 with value: 1.020114447259449.\u001b[0m\n",
      "regularization_factors, val_score: 1.020114:  65%|######5   | 13/20 [02:09<01:09,  9.92s/it]"
     ]
    },
    {
     "name": "stdout",
     "output_type": "stream",
     "text": [
      "Early stopping, best iteration is:\n",
      "[474]\tvalid_0's rmse: 1.02142\n",
      "Training until validation scores don't improve for 100 rounds\n"
     ]
    },
    {
     "name": "stderr",
     "output_type": "stream",
     "text": [
      "regularization_factors, val_score: 1.020114:  70%|#######   | 14/20 [02:19<01:00, 10.16s/it]\u001b[32m[I 2021-03-10 03:00:32,909]\u001b[0m Trial 56 finished with value: 1.0201477484317236 and parameters: {'lambda_l1': 7.200403094165409e-08, 'lambda_l2': 4.836299075393548e-08}. Best is trial 54 with value: 1.020114447259449.\u001b[0m\n",
      "regularization_factors, val_score: 1.020114:  70%|#######   | 14/20 [02:19<01:00, 10.16s/it]"
     ]
    },
    {
     "name": "stdout",
     "output_type": "stream",
     "text": [
      "Early stopping, best iteration is:\n",
      "[583]\tvalid_0's rmse: 1.02015\n",
      "Training until validation scores don't improve for 100 rounds\n"
     ]
    },
    {
     "name": "stderr",
     "output_type": "stream",
     "text": [
      "regularization_factors, val_score: 1.020114:  75%|#######5  | 15/20 [02:30<00:51, 10.27s/it]\u001b[32m[I 2021-03-10 03:00:43,433]\u001b[0m Trial 57 finished with value: 1.0287378725559948 and parameters: {'lambda_l1': 0.0004381846480054255, 'lambda_l2': 0.00011238690812968257}. Best is trial 54 with value: 1.020114447259449.\u001b[0m\n",
      "regularization_factors, val_score: 1.020114:  75%|#######5  | 15/20 [02:30<00:51, 10.27s/it]"
     ]
    },
    {
     "name": "stdout",
     "output_type": "stream",
     "text": [
      "Early stopping, best iteration is:\n",
      "[492]\tvalid_0's rmse: 1.02874\n",
      "Training until validation scores don't improve for 100 rounds\n"
     ]
    },
    {
     "name": "stderr",
     "output_type": "stream",
     "text": [
      "regularization_factors, val_score: 1.020114:  80%|########  | 16/20 [02:41<00:41, 10.48s/it]\u001b[32m[I 2021-03-10 03:00:54,383]\u001b[0m Trial 58 finished with value: 1.0201315244261904 and parameters: {'lambda_l1': 2.279072341157787e-05, 'lambda_l2': 4.116189471629934e-07}. Best is trial 54 with value: 1.020114447259449.\u001b[0m\n",
      "regularization_factors, val_score: 1.020114:  80%|########  | 16/20 [02:41<00:41, 10.48s/it]"
     ]
    },
    {
     "name": "stdout",
     "output_type": "stream",
     "text": [
      "Early stopping, best iteration is:\n",
      "[583]\tvalid_0's rmse: 1.02013\n",
      "Training until validation scores don't improve for 100 rounds\n"
     ]
    },
    {
     "name": "stderr",
     "output_type": "stream",
     "text": [
      "regularization_factors, val_score: 1.020114:  85%|########5 | 17/20 [02:52<00:31, 10.62s/it]\u001b[32m[I 2021-03-10 03:01:05,341]\u001b[0m Trial 59 finished with value: 1.0201330975737077 and parameters: {'lambda_l1': 3.772722509099791e-07, 'lambda_l2': 0.00010497694883648466}. Best is trial 54 with value: 1.020114447259449.\u001b[0m\n",
      "regularization_factors, val_score: 1.020114:  85%|########5 | 17/20 [02:52<00:31, 10.62s/it]"
     ]
    },
    {
     "name": "stdout",
     "output_type": "stream",
     "text": [
      "Early stopping, best iteration is:\n",
      "[583]\tvalid_0's rmse: 1.02013\n",
      "Training until validation scores don't improve for 100 rounds\n"
     ]
    },
    {
     "name": "stderr",
     "output_type": "stream",
     "text": [
      "regularization_factors, val_score: 1.020114:  90%|######### | 18/20 [03:03<00:21, 10.70s/it]\u001b[32m[I 2021-03-10 03:01:16,241]\u001b[0m Trial 60 finished with value: 1.0201472436863612 and parameters: {'lambda_l1': 1.1549007435334483e-08, 'lambda_l2': 6.057406246384481e-07}. Best is trial 54 with value: 1.020114447259449.\u001b[0m\n",
      "regularization_factors, val_score: 1.020114:  90%|######### | 18/20 [03:03<00:21, 10.70s/it]"
     ]
    },
    {
     "name": "stdout",
     "output_type": "stream",
     "text": [
      "Early stopping, best iteration is:\n",
      "[583]\tvalid_0's rmse: 1.02015\n",
      "Training until validation scores don't improve for 100 rounds\n"
     ]
    },
    {
     "name": "stderr",
     "output_type": "stream",
     "text": [
      "regularization_factors, val_score: 1.020114:  95%|#########5| 19/20 [03:16<00:11, 11.33s/it]\u001b[32m[I 2021-03-10 03:01:29,027]\u001b[0m Trial 61 finished with value: 1.0298230512830633 and parameters: {'lambda_l1': 0.0042261161989421425, 'lambda_l2': 2.90559100185051e-05}. Best is trial 54 with value: 1.020114447259449.\u001b[0m\n",
      "regularization_factors, val_score: 1.020114:  95%|#########5| 19/20 [03:16<00:11, 11.33s/it]"
     ]
    },
    {
     "name": "stdout",
     "output_type": "stream",
     "text": [
      "Early stopping, best iteration is:\n",
      "[718]\tvalid_0's rmse: 1.02982\n",
      "Training until validation scores don't improve for 100 rounds\n"
     ]
    },
    {
     "name": "stderr",
     "output_type": "stream",
     "text": [
      "regularization_factors, val_score: 1.020114: 100%|##########| 20/20 [03:27<00:00, 11.38s/it]\u001b[32m[I 2021-03-10 03:01:40,529]\u001b[0m Trial 62 finished with value: 1.030845870916172 and parameters: {'lambda_l1': 6.310682188452776e-08, 'lambda_l2': 0.0030238250235831753}. Best is trial 54 with value: 1.020114447259449.\u001b[0m\n",
      "regularization_factors, val_score: 1.020114: 100%|##########| 20/20 [03:27<00:00, 10.38s/it]\n",
      "min_data_in_leaf, val_score: 1.020114:   0%|          | 0/5 [00:00<?, ?it/s]"
     ]
    },
    {
     "name": "stdout",
     "output_type": "stream",
     "text": [
      "Early stopping, best iteration is:\n",
      "[630]\tvalid_0's rmse: 1.03085\n",
      "Training until validation scores don't improve for 100 rounds\n"
     ]
    },
    {
     "name": "stderr",
     "output_type": "stream",
     "text": [
      "min_data_in_leaf, val_score: 1.020114:  20%|##        | 1/5 [00:09<00:37,  9.32s/it]\u001b[32m[I 2021-03-10 03:01:49,876]\u001b[0m Trial 63 finished with value: 1.0290389951557084 and parameters: {'min_child_samples': 50}. Best is trial 63 with value: 1.0290389951557084.\u001b[0m\n",
      "min_data_in_leaf, val_score: 1.020114:  20%|##        | 1/5 [00:09<00:37,  9.32s/it]"
     ]
    },
    {
     "name": "stdout",
     "output_type": "stream",
     "text": [
      "Early stopping, best iteration is:\n",
      "[503]\tvalid_0's rmse: 1.02904\n",
      "Training until validation scores don't improve for 100 rounds\n"
     ]
    },
    {
     "name": "stderr",
     "output_type": "stream",
     "text": [
      "min_data_in_leaf, val_score: 1.020114:  40%|####      | 2/5 [00:23<00:36, 12.24s/it]\u001b[32m[I 2021-03-10 03:02:04,169]\u001b[0m Trial 64 finished with value: 1.0325616527054617 and parameters: {'min_child_samples': 5}. Best is trial 63 with value: 1.0290389951557084.\u001b[0m\n"
     ]
    },
    {
     "name": "stdout",
     "output_type": "stream",
     "text": [
      "Early stopping, best iteration is:\n",
      "[703]\tvalid_0's rmse: 1.03256\n"
     ]
    },
    {
     "name": "stderr",
     "output_type": "stream",
     "text": [
      "\r",
      "min_data_in_leaf, val_score: 1.020114:  40%|####      | 2/5 [00:23<00:36, 12.24s/it]"
     ]
    },
    {
     "name": "stdout",
     "output_type": "stream",
     "text": [
      "Training until validation scores don't improve for 100 rounds\n"
     ]
    },
    {
     "name": "stderr",
     "output_type": "stream",
     "text": [
      "min_data_in_leaf, val_score: 1.020114:  60%|######    | 3/5 [00:28<00:17,  8.99s/it]\u001b[32m[I 2021-03-10 03:02:09,281]\u001b[0m Trial 65 finished with value: 1.0378280496127337 and parameters: {'min_child_samples': 100}. Best is trial 63 with value: 1.0290389951557084.\u001b[0m\n",
      "min_data_in_leaf, val_score: 1.020114:  60%|######    | 3/5 [00:28<00:17,  8.99s/it]"
     ]
    },
    {
     "name": "stdout",
     "output_type": "stream",
     "text": [
      "Early stopping, best iteration is:\n",
      "[210]\tvalid_0's rmse: 1.03783\n",
      "Training until validation scores don't improve for 100 rounds\n"
     ]
    },
    {
     "name": "stderr",
     "output_type": "stream",
     "text": [
      "min_data_in_leaf, val_score: 1.020114:  80%|########  | 4/5 [00:35<00:08,  8.25s/it]\u001b[32m[I 2021-03-10 03:02:16,400]\u001b[0m Trial 66 finished with value: 1.0340427405408894 and parameters: {'min_child_samples': 10}. Best is trial 63 with value: 1.0290389951557084.\u001b[0m\n",
      "min_data_in_leaf, val_score: 1.020114:  80%|########  | 4/5 [00:35<00:08,  8.25s/it]"
     ]
    },
    {
     "name": "stdout",
     "output_type": "stream",
     "text": [
      "Early stopping, best iteration is:\n",
      "[297]\tvalid_0's rmse: 1.03404\n",
      "Training until validation scores don't improve for 100 rounds\n"
     ]
    },
    {
     "name": "stderr",
     "output_type": "stream",
     "text": [
      "min_data_in_leaf, val_score: 1.020114: 100%|##########| 5/5 [00:45<00:00,  8.80s/it]\u001b[32m[I 2021-03-10 03:02:26,181]\u001b[0m Trial 67 finished with value: 1.0302155037344547 and parameters: {'min_child_samples': 25}. Best is trial 63 with value: 1.0290389951557084.\u001b[0m\n",
      "min_data_in_leaf, val_score: 1.020114: 100%|##########| 5/5 [00:45<00:00,  9.13s/it]"
     ]
    },
    {
     "name": "stdout",
     "output_type": "stream",
     "text": [
      "Early stopping, best iteration is:\n",
      "[521]\tvalid_0's rmse: 1.03022\n"
     ]
    },
    {
     "name": "stderr",
     "output_type": "stream",
     "text": [
      "\n",
      "\u001b[32m[I 2021-03-10 03:02:26,363]\u001b[0m A new study created in memory with name: no-name-2d020543-e2ed-408e-9c3b-59f05fd6da4e\u001b[0m\n",
      "feature_fraction, val_score: inf:   0%|          | 0/7 [00:00<?, ?it/s]"
     ]
    },
    {
     "name": "stdout",
     "output_type": "stream",
     "text": [
      "Training until validation scores don't improve for 100 rounds\n"
     ]
    },
    {
     "name": "stderr",
     "output_type": "stream",
     "text": [
      "feature_fraction, val_score: 1.013756:  14%|#4        | 1/7 [00:06<00:41,  6.86s/it]\u001b[32m[I 2021-03-10 03:02:33,236]\u001b[0m Trial 0 finished with value: 1.0137563291815188 and parameters: {'feature_fraction': 1.0}. Best is trial 0 with value: 1.0137563291815188.\u001b[0m\n",
      "feature_fraction, val_score: 1.013756:  14%|#4        | 1/7 [00:06<00:41,  6.86s/it]"
     ]
    },
    {
     "name": "stdout",
     "output_type": "stream",
     "text": [
      "Early stopping, best iteration is:\n",
      "[185]\tvalid_0's rmse: 1.01376\n",
      "Training until validation scores don't improve for 100 rounds\n"
     ]
    },
    {
     "name": "stderr",
     "output_type": "stream",
     "text": [
      "feature_fraction, val_score: 1.013307:  29%|##8       | 2/7 [00:14<00:35,  7.19s/it]\u001b[32m[I 2021-03-10 03:02:40,661]\u001b[0m Trial 1 finished with value: 1.0133074790859014 and parameters: {'feature_fraction': 0.8}. Best is trial 1 with value: 1.0133074790859014.\u001b[0m\n",
      "feature_fraction, val_score: 1.013307:  29%|##8       | 2/7 [00:14<00:35,  7.19s/it]"
     ]
    },
    {
     "name": "stdout",
     "output_type": "stream",
     "text": [
      "Early stopping, best iteration is:\n",
      "[292]\tvalid_0's rmse: 1.01331\n",
      "Training until validation scores don't improve for 100 rounds\n"
     ]
    },
    {
     "name": "stderr",
     "output_type": "stream",
     "text": [
      "feature_fraction, val_score: 1.013307:  43%|####2     | 3/7 [00:19<00:25,  6.43s/it]\u001b[32m[I 2021-03-10 03:02:46,187]\u001b[0m Trial 2 finished with value: 1.0134803789408497 and parameters: {'feature_fraction': 0.7}. Best is trial 1 with value: 1.0133074790859014.\u001b[0m\n",
      "feature_fraction, val_score: 1.013307:  43%|####2     | 3/7 [00:19<00:25,  6.43s/it]"
     ]
    },
    {
     "name": "stdout",
     "output_type": "stream",
     "text": [
      "Early stopping, best iteration is:\n",
      "[212]\tvalid_0's rmse: 1.01348\n",
      "Training until validation scores don't improve for 100 rounds\n"
     ]
    },
    {
     "name": "stderr",
     "output_type": "stream",
     "text": [
      "feature_fraction, val_score: 1.013307:  57%|#####7    | 4/7 [00:25<00:17,  6.00s/it]\u001b[32m[I 2021-03-10 03:02:51,517]\u001b[0m Trial 3 finished with value: 1.0196124910378062 and parameters: {'feature_fraction': 0.8999999999999999}. Best is trial 1 with value: 1.0133074790859014.\u001b[0m\n",
      "feature_fraction, val_score: 1.013307:  57%|#####7    | 4/7 [00:25<00:17,  6.00s/it]"
     ]
    },
    {
     "name": "stdout",
     "output_type": "stream",
     "text": [
      "Early stopping, best iteration is:\n",
      "[137]\tvalid_0's rmse: 1.01961\n",
      "Training until validation scores don't improve for 100 rounds\n"
     ]
    },
    {
     "name": "stderr",
     "output_type": "stream",
     "text": [
      "feature_fraction, val_score: 1.013307:  71%|#######1  | 5/7 [00:28<00:10,  5.19s/it]\u001b[32m[I 2021-03-10 03:02:55,289]\u001b[0m Trial 4 finished with value: 1.0148922065142973 and parameters: {'feature_fraction': 0.4}. Best is trial 1 with value: 1.0133074790859014.\u001b[0m\n",
      "feature_fraction, val_score: 1.013307:  71%|#######1  | 5/7 [00:28<00:10,  5.19s/it]"
     ]
    },
    {
     "name": "stdout",
     "output_type": "stream",
     "text": [
      "Early stopping, best iteration is:\n",
      "[230]\tvalid_0's rmse: 1.01489\n",
      "Training until validation scores don't improve for 100 rounds\n"
     ]
    },
    {
     "name": "stderr",
     "output_type": "stream",
     "text": [
      "feature_fraction, val_score: 1.013307:  86%|########5 | 6/7 [00:33<00:04,  4.92s/it]\u001b[32m[I 2021-03-10 03:02:59,674]\u001b[0m Trial 5 finished with value: 1.014298722510641 and parameters: {'feature_fraction': 0.5}. Best is trial 1 with value: 1.0133074790859014.\u001b[0m\n",
      "feature_fraction, val_score: 1.013307:  86%|########5 | 6/7 [00:33<00:04,  4.92s/it]"
     ]
    },
    {
     "name": "stdout",
     "output_type": "stream",
     "text": [
      "Early stopping, best iteration is:\n",
      "[237]\tvalid_0's rmse: 1.0143\n",
      "Training until validation scores don't improve for 100 rounds\n"
     ]
    },
    {
     "name": "stderr",
     "output_type": "stream",
     "text": [
      "feature_fraction, val_score: 1.013307: 100%|##########| 7/7 [00:37<00:00,  4.80s/it]\u001b[32m[I 2021-03-10 03:03:04,224]\u001b[0m Trial 6 finished with value: 1.017036681835951 and parameters: {'feature_fraction': 0.6}. Best is trial 1 with value: 1.0133074790859014.\u001b[0m\n",
      "feature_fraction, val_score: 1.013307: 100%|##########| 7/7 [00:37<00:00,  5.41s/it]\n",
      "num_leaves, val_score: 1.013307:   0%|          | 0/20 [00:00<?, ?it/s]"
     ]
    },
    {
     "name": "stdout",
     "output_type": "stream",
     "text": [
      "Early stopping, best iteration is:\n",
      "[196]\tvalid_0's rmse: 1.01704\n",
      "Training until validation scores don't improve for 100 rounds\n"
     ]
    },
    {
     "name": "stderr",
     "output_type": "stream",
     "text": [
      "num_leaves, val_score: 1.013307:   5%|5         | 1/20 [00:14<04:27, 14.08s/it]\u001b[32m[I 2021-03-10 03:03:18,313]\u001b[0m Trial 7 finished with value: 1.0206475211895454 and parameters: {'num_leaves': 203}. Best is trial 7 with value: 1.0206475211895454.\u001b[0m\n",
      "num_leaves, val_score: 1.013307:   5%|5         | 1/20 [00:14<04:27, 14.08s/it]"
     ]
    },
    {
     "name": "stdout",
     "output_type": "stream",
     "text": [
      "Early stopping, best iteration is:\n",
      "[50]\tvalid_0's rmse: 1.02065\n",
      "Training until validation scores don't improve for 100 rounds\n"
     ]
    },
    {
     "name": "stderr",
     "output_type": "stream",
     "text": [
      "num_leaves, val_score: 1.013307:  10%|#         | 2/20 [00:23<03:23, 11.33s/it]\u001b[32m[I 2021-03-10 03:03:27,719]\u001b[0m Trial 8 finished with value: 1.0165491764990866 and parameters: {'num_leaves': 106}. Best is trial 8 with value: 1.0165491764990866.\u001b[0m\n",
      "num_leaves, val_score: 1.013307:  10%|#         | 2/20 [00:23<03:23, 11.33s/it]"
     ]
    },
    {
     "name": "stdout",
     "output_type": "stream",
     "text": [
      "Early stopping, best iteration is:\n",
      "[76]\tvalid_0's rmse: 1.01655\n",
      "Training until validation scores don't improve for 100 rounds\n"
     ]
    },
    {
     "name": "stderr",
     "output_type": "stream",
     "text": [
      "num_leaves, val_score: 1.013307:  15%|#5        | 3/20 [00:38<03:45, 13.24s/it]\u001b[32m[I 2021-03-10 03:03:43,226]\u001b[0m Trial 9 finished with value: 1.0244611057358435 and parameters: {'num_leaves': 235}. Best is trial 8 with value: 1.0165491764990866.\u001b[0m\n",
      "num_leaves, val_score: 1.013307:  15%|#5        | 3/20 [00:38<03:45, 13.24s/it]"
     ]
    },
    {
     "name": "stdout",
     "output_type": "stream",
     "text": [
      "Early stopping, best iteration is:\n",
      "[43]\tvalid_0's rmse: 1.02446\n",
      "Training until validation scores don't improve for 100 rounds\n"
     ]
    },
    {
     "name": "stderr",
     "output_type": "stream",
     "text": [
      "num_leaves, val_score: 1.013307:  20%|##        | 4/20 [00:50<03:18, 12.40s/it]\u001b[32m[I 2021-03-10 03:03:54,341]\u001b[0m Trial 10 finished with value: 1.019787078702416 and parameters: {'num_leaves': 139}. Best is trial 8 with value: 1.0165491764990866.\u001b[0m\n",
      "num_leaves, val_score: 1.013307:  20%|##        | 4/20 [00:50<03:18, 12.40s/it]"
     ]
    },
    {
     "name": "stdout",
     "output_type": "stream",
     "text": [
      "Early stopping, best iteration is:\n",
      "[66]\tvalid_0's rmse: 1.01979\n",
      "Training until validation scores don't improve for 100 rounds\n"
     ]
    },
    {
     "name": "stderr",
     "output_type": "stream",
     "text": [
      "num_leaves, val_score: 1.013307:  25%|##5       | 5/20 [01:01<02:59, 11.99s/it]\u001b[32m[I 2021-03-10 03:04:05,610]\u001b[0m Trial 11 finished with value: 1.0251578272014181 and parameters: {'num_leaves': 166}. Best is trial 8 with value: 1.0165491764990866.\u001b[0m\n",
      "num_leaves, val_score: 1.013307:  25%|##5       | 5/20 [01:01<02:59, 11.99s/it]"
     ]
    },
    {
     "name": "stdout",
     "output_type": "stream",
     "text": [
      "Early stopping, best iteration is:\n",
      "[41]\tvalid_0's rmse: 1.02516\n",
      "Training until validation scores don't improve for 100 rounds\n"
     ]
    },
    {
     "name": "stderr",
     "output_type": "stream",
     "text": [
      "num_leaves, val_score: 1.013307:  30%|###       | 6/20 [01:14<02:51, 12.26s/it]\u001b[32m[I 2021-03-10 03:04:18,384]\u001b[0m Trial 12 finished with value: 1.01974659606913 and parameters: {'num_leaves': 161}. Best is trial 8 with value: 1.0165491764990866.\u001b[0m\n",
      "num_leaves, val_score: 1.013307:  30%|###       | 6/20 [01:14<02:51, 12.26s/it]"
     ]
    },
    {
     "name": "stdout",
     "output_type": "stream",
     "text": [
      "Early stopping, best iteration is:\n",
      "[65]\tvalid_0's rmse: 1.01975\n",
      "Training until validation scores don't improve for 100 rounds\n"
     ]
    },
    {
     "name": "stderr",
     "output_type": "stream",
     "text": [
      "num_leaves, val_score: 1.013307:  35%|###5      | 7/20 [01:26<02:40, 12.31s/it]\u001b[32m[I 2021-03-10 03:04:30,804]\u001b[0m Trial 13 finished with value: 1.017855751060678 and parameters: {'num_leaves': 133}. Best is trial 8 with value: 1.0165491764990866.\u001b[0m\n",
      "num_leaves, val_score: 1.013307:  35%|###5      | 7/20 [01:26<02:40, 12.31s/it]"
     ]
    },
    {
     "name": "stdout",
     "output_type": "stream",
     "text": [
      "Early stopping, best iteration is:\n",
      "[94]\tvalid_0's rmse: 1.01786\n",
      "Training until validation scores don't improve for 100 rounds\n"
     ]
    },
    {
     "name": "stderr",
     "output_type": "stream",
     "text": [
      "num_leaves, val_score: 1.013307:  40%|####      | 8/20 [01:43<02:45, 13.77s/it]\u001b[32m[I 2021-03-10 03:04:47,710]\u001b[0m Trial 14 finished with value: 1.0249649640342875 and parameters: {'num_leaves': 249}. Best is trial 8 with value: 1.0165491764990866.\u001b[0m\n",
      "num_leaves, val_score: 1.013307:  40%|####      | 8/20 [01:43<02:45, 13.77s/it]"
     ]
    },
    {
     "name": "stdout",
     "output_type": "stream",
     "text": [
      "Early stopping, best iteration is:\n",
      "[48]\tvalid_0's rmse: 1.02496\n",
      "Training until validation scores don't improve for 100 rounds\n"
     ]
    },
    {
     "name": "stderr",
     "output_type": "stream",
     "text": [
      "num_leaves, val_score: 1.013307:  45%|####5     | 9/20 [01:59<02:40, 14.61s/it]\u001b[32m[I 2021-03-10 03:05:04,144]\u001b[0m Trial 15 finished with value: 1.0169469170367516 and parameters: {'num_leaves': 208}. Best is trial 8 with value: 1.0165491764990866.\u001b[0m\n",
      "num_leaves, val_score: 1.013307:  45%|####5     | 9/20 [01:59<02:40, 14.61s/it]"
     ]
    },
    {
     "name": "stdout",
     "output_type": "stream",
     "text": [
      "Early stopping, best iteration is:\n",
      "[74]\tvalid_0's rmse: 1.01695\n",
      "Training until validation scores don't improve for 100 rounds\n"
     ]
    },
    {
     "name": "stderr",
     "output_type": "stream",
     "text": [
      "num_leaves, val_score: 1.013307:  50%|#####     | 10/20 [02:07<02:03, 12.35s/it]\u001b[32m[I 2021-03-10 03:05:11,448]\u001b[0m Trial 16 finished with value: 1.0133074790859014 and parameters: {'num_leaves': 31}. Best is trial 16 with value: 1.0133074790859014.\u001b[0m\n",
      "num_leaves, val_score: 1.013307:  50%|#####     | 10/20 [02:07<02:03, 12.35s/it]"
     ]
    },
    {
     "name": "stdout",
     "output_type": "stream",
     "text": [
      "Early stopping, best iteration is:\n",
      "[292]\tvalid_0's rmse: 1.01331\n",
      "Training until validation scores don't improve for 100 rounds\n"
     ]
    },
    {
     "name": "stderr",
     "output_type": "stream",
     "text": [
      "num_leaves, val_score: 1.013307:  55%|#####5    | 11/20 [02:10<01:27,  9.70s/it]\u001b[32m[I 2021-03-10 03:05:15,137]\u001b[0m Trial 17 finished with value: 1.037985174817013 and parameters: {'num_leaves': 4}. Best is trial 16 with value: 1.0133074790859014.\u001b[0m\n",
      "num_leaves, val_score: 1.013307:  55%|#####5    | 11/20 [02:10<01:27,  9.70s/it]"
     ]
    },
    {
     "name": "stdout",
     "output_type": "stream",
     "text": [
      "Early stopping, best iteration is:\n",
      "[692]\tvalid_0's rmse: 1.03799\n",
      "Training until validation scores don't improve for 100 rounds\n"
     ]
    },
    {
     "name": "stderr",
     "output_type": "stream",
     "text": [
      "num_leaves, val_score: 1.012168:  60%|######    | 12/20 [02:18<01:12,  9.08s/it]\u001b[32m[I 2021-03-10 03:05:22,790]\u001b[0m Trial 18 finished with value: 1.01216822813881 and parameters: {'num_leaves': 51}. Best is trial 18 with value: 1.01216822813881.\u001b[0m\n",
      "num_leaves, val_score: 1.012168:  60%|######    | 12/20 [02:18<01:12,  9.08s/it]"
     ]
    },
    {
     "name": "stdout",
     "output_type": "stream",
     "text": [
      "Early stopping, best iteration is:\n",
      "[166]\tvalid_0's rmse: 1.01217\n",
      "Training until validation scores don't improve for 100 rounds\n"
     ]
    },
    {
     "name": "stderr",
     "output_type": "stream",
     "text": [
      "num_leaves, val_score: 1.012168:  65%|######5   | 13/20 [02:24<00:57,  8.18s/it]\u001b[32m[I 2021-03-10 03:05:28,893]\u001b[0m Trial 19 finished with value: 1.017931964150799 and parameters: {'num_leaves': 21}. Best is trial 18 with value: 1.01216822813881.\u001b[0m\n",
      "num_leaves, val_score: 1.012168:  65%|######5   | 13/20 [02:24<00:57,  8.18s/it]"
     ]
    },
    {
     "name": "stdout",
     "output_type": "stream",
     "text": [
      "Early stopping, best iteration is:\n",
      "[313]\tvalid_0's rmse: 1.01793\n",
      "Training until validation scores don't improve for 100 rounds\n"
     ]
    },
    {
     "name": "stderr",
     "output_type": "stream",
     "text": [
      "num_leaves, val_score: 1.012168:  70%|#######   | 14/20 [02:31<00:46,  7.79s/it]\u001b[32m[I 2021-03-10 03:05:35,801]\u001b[0m Trial 20 finished with value: 1.0133556188383512 and parameters: {'num_leaves': 58}. Best is trial 18 with value: 1.01216822813881.\u001b[0m\n",
      "num_leaves, val_score: 1.012168:  70%|#######   | 14/20 [02:31<00:46,  7.79s/it]"
     ]
    },
    {
     "name": "stdout",
     "output_type": "stream",
     "text": [
      "Early stopping, best iteration is:\n",
      "[113]\tvalid_0's rmse: 1.01336\n",
      "Training until validation scores don't improve for 100 rounds\n"
     ]
    },
    {
     "name": "stderr",
     "output_type": "stream",
     "text": [
      "num_leaves, val_score: 1.012168:  75%|#######5  | 15/20 [02:41<00:42,  8.58s/it]\u001b[32m[I 2021-03-10 03:05:46,208]\u001b[0m Trial 21 finished with value: 1.013476173434434 and parameters: {'num_leaves': 65}. Best is trial 18 with value: 1.01216822813881.\u001b[0m\n",
      "num_leaves, val_score: 1.012168:  75%|#######5  | 15/20 [02:41<00:42,  8.58s/it]"
     ]
    },
    {
     "name": "stdout",
     "output_type": "stream",
     "text": [
      "Early stopping, best iteration is:\n",
      "[170]\tvalid_0's rmse: 1.01348\n",
      "Training until validation scores don't improve for 100 rounds\n"
     ]
    },
    {
     "name": "stderr",
     "output_type": "stream",
     "text": [
      "num_leaves, val_score: 1.012168:  80%|########  | 16/20 [02:49<00:32,  8.20s/it]\u001b[32m[I 2021-03-10 03:05:53,540]\u001b[0m Trial 22 finished with value: 1.0167584044413742 and parameters: {'num_leaves': 46}. Best is trial 18 with value: 1.01216822813881.\u001b[0m\n",
      "num_leaves, val_score: 1.012168:  80%|########  | 16/20 [02:49<00:32,  8.20s/it]"
     ]
    },
    {
     "name": "stdout",
     "output_type": "stream",
     "text": [
      "Early stopping, best iteration is:\n",
      "[176]\tvalid_0's rmse: 1.01676\n",
      "Training until validation scores don't improve for 100 rounds\n"
     ]
    },
    {
     "name": "stderr",
     "output_type": "stream",
     "text": [
      "num_leaves, val_score: 1.012168:  85%|########5 | 17/20 [02:58<00:25,  8.37s/it]\u001b[32m[I 2021-03-10 03:06:02,303]\u001b[0m Trial 23 finished with value: 1.0148517243068955 and parameters: {'num_leaves': 100}. Best is trial 18 with value: 1.01216822813881.\u001b[0m\n",
      "num_leaves, val_score: 1.012168:  85%|########5 | 17/20 [02:58<00:25,  8.37s/it]"
     ]
    },
    {
     "name": "stdout",
     "output_type": "stream",
     "text": [
      "Early stopping, best iteration is:\n",
      "[68]\tvalid_0's rmse: 1.01485\n",
      "Training until validation scores don't improve for 100 rounds\n"
     ]
    },
    {
     "name": "stderr",
     "output_type": "stream",
     "text": [
      "num_leaves, val_score: 1.011629:  90%|######### | 18/20 [03:04<00:15,  7.87s/it]\u001b[32m[I 2021-03-10 03:06:09,000]\u001b[0m Trial 24 finished with value: 1.0116290205955933 and parameters: {'num_leaves': 25}. Best is trial 24 with value: 1.0116290205955933.\u001b[0m\n",
      "num_leaves, val_score: 1.011629:  90%|######### | 18/20 [03:04<00:15,  7.87s/it]"
     ]
    },
    {
     "name": "stdout",
     "output_type": "stream",
     "text": [
      "Early stopping, best iteration is:\n",
      "[322]\tvalid_0's rmse: 1.01163\n",
      "Training until validation scores don't improve for 100 rounds\n"
     ]
    },
    {
     "name": "stderr",
     "output_type": "stream",
     "text": [
      "num_leaves, val_score: 1.011629:  95%|#########5| 19/20 [03:13<00:08,  8.00s/it]\u001b[32m[I 2021-03-10 03:06:17,318]\u001b[0m Trial 25 finished with value: 1.0127432590442724 and parameters: {'num_leaves': 89}. Best is trial 24 with value: 1.0116290205955933.\u001b[0m\n",
      "num_leaves, val_score: 1.011629:  95%|#########5| 19/20 [03:13<00:08,  8.00s/it]"
     ]
    },
    {
     "name": "stdout",
     "output_type": "stream",
     "text": [
      "Early stopping, best iteration is:\n",
      "[78]\tvalid_0's rmse: 1.01274\n",
      "Training until validation scores don't improve for 100 rounds\n"
     ]
    },
    {
     "name": "stderr",
     "output_type": "stream",
     "text": [
      "num_leaves, val_score: 1.011629: 100%|##########| 20/20 [03:17<00:00,  6.90s/it]\u001b[32m[I 2021-03-10 03:06:21,651]\u001b[0m Trial 26 finished with value: 1.029602906778423 and parameters: {'num_leaves': 6}. Best is trial 24 with value: 1.0116290205955933.\u001b[0m\n",
      "num_leaves, val_score: 1.011629: 100%|##########| 20/20 [03:17<00:00,  9.87s/it]\n",
      "bagging, val_score: 1.011629:   0%|          | 0/10 [00:00<?, ?it/s]"
     ]
    },
    {
     "name": "stdout",
     "output_type": "stream",
     "text": [
      "Early stopping, best iteration is:\n",
      "[639]\tvalid_0's rmse: 1.0296\n",
      "Training until validation scores don't improve for 100 rounds\n"
     ]
    },
    {
     "name": "stderr",
     "output_type": "stream",
     "text": [
      "bagging, val_score: 1.011629:  10%|#         | 1/10 [00:04<00:38,  4.23s/it]\u001b[32m[I 2021-03-10 03:06:25,896]\u001b[0m Trial 27 finished with value: 1.0367613548453554 and parameters: {'bagging_fraction': 0.411547530046443, 'bagging_freq': 2}. Best is trial 27 with value: 1.0367613548453554.\u001b[0m\n",
      "bagging, val_score: 1.011629:  10%|#         | 1/10 [00:04<00:38,  4.23s/it]"
     ]
    },
    {
     "name": "stdout",
     "output_type": "stream",
     "text": [
      "Early stopping, best iteration is:\n",
      "[126]\tvalid_0's rmse: 1.03676\n",
      "Training until validation scores don't improve for 100 rounds\n"
     ]
    },
    {
     "name": "stderr",
     "output_type": "stream",
     "text": [
      "bagging, val_score: 1.011629:  20%|##        | 2/10 [00:10<00:43,  5.45s/it]\u001b[32m[I 2021-03-10 03:06:32,202]\u001b[0m Trial 28 finished with value: 1.0147415963896174 and parameters: {'bagging_fraction': 0.8935549366474906, 'bagging_freq': 2}. Best is trial 28 with value: 1.0147415963896174.\u001b[0m\n",
      "bagging, val_score: 1.011629:  20%|##        | 2/10 [00:10<00:43,  5.45s/it]"
     ]
    },
    {
     "name": "stdout",
     "output_type": "stream",
     "text": [
      "Early stopping, best iteration is:\n",
      "[272]\tvalid_0's rmse: 1.01474\n",
      "Training until validation scores don't improve for 100 rounds\n"
     ]
    },
    {
     "name": "stderr",
     "output_type": "stream",
     "text": [
      "bagging, val_score: 1.011629:  30%|###       | 3/10 [00:15<00:35,  5.13s/it]\u001b[32m[I 2021-03-10 03:06:36,955]\u001b[0m Trial 29 finished with value: 1.0319055248322178 and parameters: {'bagging_fraction': 0.46275666772738383, 'bagging_freq': 2}. Best is trial 28 with value: 1.0147415963896174.\u001b[0m\n",
      "bagging, val_score: 1.011629:  30%|###       | 3/10 [00:15<00:35,  5.13s/it]"
     ]
    },
    {
     "name": "stdout",
     "output_type": "stream",
     "text": [
      "Early stopping, best iteration is:\n",
      "[162]\tvalid_0's rmse: 1.03191\n",
      "Training until validation scores don't improve for 100 rounds\n"
     ]
    },
    {
     "name": "stderr",
     "output_type": "stream",
     "text": [
      "bagging, val_score: 1.011629:  40%|####      | 4/10 [00:19<00:28,  4.78s/it]\u001b[32m[I 2021-03-10 03:06:41,207]\u001b[0m Trial 30 finished with value: 1.0156485464138378 and parameters: {'bagging_fraction': 0.8537055596544436, 'bagging_freq': 2}. Best is trial 28 with value: 1.0147415963896174.\u001b[0m\n",
      "bagging, val_score: 1.011629:  40%|####      | 4/10 [00:19<00:28,  4.78s/it]"
     ]
    },
    {
     "name": "stdout",
     "output_type": "stream",
     "text": [
      "Early stopping, best iteration is:\n",
      "[133]\tvalid_0's rmse: 1.01565\n",
      "Training until validation scores don't improve for 100 rounds\n"
     ]
    },
    {
     "name": "stderr",
     "output_type": "stream",
     "text": [
      "bagging, val_score: 1.011629:  50%|#####     | 5/10 [00:22<00:21,  4.24s/it]\u001b[32m[I 2021-03-10 03:06:44,474]\u001b[0m Trial 31 finished with value: 1.033925375395217 and parameters: {'bagging_fraction': 0.46776128794208277, 'bagging_freq': 4}. Best is trial 28 with value: 1.0147415963896174.\u001b[0m\n",
      "bagging, val_score: 1.011629:  50%|#####     | 5/10 [00:22<00:21,  4.24s/it]"
     ]
    },
    {
     "name": "stdout",
     "output_type": "stream",
     "text": [
      "Early stopping, best iteration is:\n",
      "[88]\tvalid_0's rmse: 1.03393\n",
      "Training until validation scores don't improve for 100 rounds\n"
     ]
    },
    {
     "name": "stderr",
     "output_type": "stream",
     "text": [
      "bagging, val_score: 1.011151:  60%|######    | 6/10 [00:28<00:18,  4.59s/it]\u001b[32m[I 2021-03-10 03:06:49,737]\u001b[0m Trial 32 finished with value: 1.011151157741156 and parameters: {'bagging_fraction': 0.9996642823779416, 'bagging_freq': 1}. Best is trial 32 with value: 1.011151157741156.\u001b[0m\n",
      "bagging, val_score: 1.011151:  60%|######    | 6/10 [00:28<00:18,  4.59s/it]"
     ]
    },
    {
     "name": "stdout",
     "output_type": "stream",
     "text": [
      "Early stopping, best iteration is:\n",
      "[204]\tvalid_0's rmse: 1.01115\n",
      "Training until validation scores don't improve for 100 rounds\n"
     ]
    },
    {
     "name": "stderr",
     "output_type": "stream",
     "text": [
      "bagging, val_score: 1.011151:  70%|#######   | 7/10 [00:31<00:12,  4.17s/it]\u001b[32m[I 2021-03-10 03:06:53,046]\u001b[0m Trial 33 finished with value: 1.0317739988251664 and parameters: {'bagging_fraction': 0.46147870453091056, 'bagging_freq': 4}. Best is trial 32 with value: 1.011151157741156.\u001b[0m\n",
      "bagging, val_score: 1.011151:  70%|#######   | 7/10 [00:31<00:12,  4.17s/it]"
     ]
    },
    {
     "name": "stdout",
     "output_type": "stream",
     "text": [
      "Early stopping, best iteration is:\n",
      "[85]\tvalid_0's rmse: 1.03177\n",
      "Training until validation scores don't improve for 100 rounds\n"
     ]
    },
    {
     "name": "stderr",
     "output_type": "stream",
     "text": [
      "bagging, val_score: 1.011151:  80%|########  | 8/10 [00:36<00:09,  4.58s/it]\u001b[32m[I 2021-03-10 03:06:58,509]\u001b[0m Trial 34 finished with value: 1.0155804430789042 and parameters: {'bagging_fraction': 0.8084716423125965, 'bagging_freq': 3}. Best is trial 32 with value: 1.011151157741156.\u001b[0m\n",
      "bagging, val_score: 1.011151:  80%|########  | 8/10 [00:36<00:09,  4.58s/it]"
     ]
    },
    {
     "name": "stdout",
     "output_type": "stream",
     "text": [
      "Early stopping, best iteration is:\n",
      "[219]\tvalid_0's rmse: 1.01558\n",
      "Training until validation scores don't improve for 100 rounds\n"
     ]
    },
    {
     "name": "stderr",
     "output_type": "stream",
     "text": [
      "bagging, val_score: 1.011151:  90%|######### | 9/10 [00:41<00:04,  4.63s/it]\u001b[32m[I 2021-03-10 03:07:03,244]\u001b[0m Trial 35 finished with value: 1.0201967703397206 and parameters: {'bagging_fraction': 0.8632484116003643, 'bagging_freq': 6}. Best is trial 32 with value: 1.011151157741156.\u001b[0m\n",
      "bagging, val_score: 1.011151:  90%|######### | 9/10 [00:41<00:04,  4.63s/it]"
     ]
    },
    {
     "name": "stdout",
     "output_type": "stream",
     "text": [
      "Early stopping, best iteration is:\n",
      "[168]\tvalid_0's rmse: 1.0202\n",
      "Training until validation scores don't improve for 100 rounds\n"
     ]
    },
    {
     "name": "stderr",
     "output_type": "stream",
     "text": [
      "bagging, val_score: 1.011151: 100%|##########| 10/10 [00:46<00:00,  4.76s/it]\u001b[32m[I 2021-03-10 03:07:08,293]\u001b[0m Trial 36 finished with value: 1.0244310025285914 and parameters: {'bagging_fraction': 0.9790784139487143, 'bagging_freq': 6}. Best is trial 32 with value: 1.011151157741156.\u001b[0m\n",
      "bagging, val_score: 1.011151: 100%|##########| 10/10 [00:46<00:00,  4.66s/it]\n",
      "feature_fraction_stage2, val_score: 1.011151:   0%|          | 0/6 [00:00<?, ?it/s]"
     ]
    },
    {
     "name": "stdout",
     "output_type": "stream",
     "text": [
      "Early stopping, best iteration is:\n",
      "[195]\tvalid_0's rmse: 1.02443\n",
      "Training until validation scores don't improve for 100 rounds\n"
     ]
    },
    {
     "name": "stderr",
     "output_type": "stream",
     "text": [
      "feature_fraction_stage2, val_score: 1.011151:  17%|#6        | 1/6 [00:05<00:28,  5.62s/it]\u001b[32m[I 2021-03-10 03:07:13,935]\u001b[0m Trial 37 finished with value: 1.0211779615863625 and parameters: {'feature_fraction': 0.8480000000000001}. Best is trial 37 with value: 1.0211779615863625.\u001b[0m\n",
      "feature_fraction_stage2, val_score: 1.011151:  17%|#6        | 1/6 [00:05<00:28,  5.62s/it]"
     ]
    },
    {
     "name": "stdout",
     "output_type": "stream",
     "text": [
      "Early stopping, best iteration is:\n",
      "[220]\tvalid_0's rmse: 1.02118\n",
      "Training until validation scores don't improve for 100 rounds\n"
     ]
    },
    {
     "name": "stderr",
     "output_type": "stream",
     "text": [
      "feature_fraction_stage2, val_score: 1.011151:  33%|###3      | 2/6 [00:10<00:20,  5.05s/it]\u001b[32m[I 2021-03-10 03:07:18,589]\u001b[0m Trial 38 finished with value: 1.0131656821276658 and parameters: {'feature_fraction': 0.7520000000000001}. Best is trial 38 with value: 1.0131656821276658.\u001b[0m\n",
      "feature_fraction_stage2, val_score: 1.011151:  33%|###3      | 2/6 [00:10<00:20,  5.05s/it]"
     ]
    },
    {
     "name": "stdout",
     "output_type": "stream",
     "text": [
      "Early stopping, best iteration is:\n",
      "[179]\tvalid_0's rmse: 1.01317\n",
      "Training until validation scores don't improve for 100 rounds\n"
     ]
    },
    {
     "name": "stderr",
     "output_type": "stream",
     "text": [
      "feature_fraction_stage2, val_score: 1.011151:  50%|#####     | 3/6 [00:14<00:14,  4.83s/it]\u001b[32m[I 2021-03-10 03:07:23,164]\u001b[0m Trial 39 finished with value: 1.0192405874288546 and parameters: {'feature_fraction': 0.8160000000000001}. Best is trial 38 with value: 1.0131656821276658.\u001b[0m\n",
      "feature_fraction_stage2, val_score: 1.011151:  50%|#####     | 3/6 [00:14<00:14,  4.83s/it]"
     ]
    },
    {
     "name": "stdout",
     "output_type": "stream",
     "text": [
      "Early stopping, best iteration is:\n",
      "[159]\tvalid_0's rmse: 1.01924\n",
      "Training until validation scores don't improve for 100 rounds\n"
     ]
    },
    {
     "name": "stderr",
     "output_type": "stream",
     "text": [
      "feature_fraction_stage2, val_score: 1.011151:  67%|######6   | 4/6 [00:20<00:10,  5.30s/it]\u001b[32m[I 2021-03-10 03:07:29,167]\u001b[0m Trial 40 finished with value: 1.0153751745377415 and parameters: {'feature_fraction': 0.7200000000000001}. Best is trial 38 with value: 1.0131656821276658.\u001b[0m\n",
      "feature_fraction_stage2, val_score: 1.011151:  67%|######6   | 4/6 [00:20<00:10,  5.30s/it]"
     ]
    },
    {
     "name": "stdout",
     "output_type": "stream",
     "text": [
      "Early stopping, best iteration is:\n",
      "[301]\tvalid_0's rmse: 1.01538\n",
      "Training until validation scores don't improve for 100 rounds\n"
     ]
    },
    {
     "name": "stderr",
     "output_type": "stream",
     "text": [
      "feature_fraction_stage2, val_score: 1.011151:  83%|########3 | 5/6 [00:27<00:05,  5.69s/it]\u001b[32m[I 2021-03-10 03:07:35,544]\u001b[0m Trial 41 finished with value: 1.015073923535041 and parameters: {'feature_fraction': 0.88}. Best is trial 38 with value: 1.0131656821276658.\u001b[0m\n",
      "feature_fraction_stage2, val_score: 1.011151:  83%|########3 | 5/6 [00:27<00:05,  5.69s/it]"
     ]
    },
    {
     "name": "stdout",
     "output_type": "stream",
     "text": [
      "Early stopping, best iteration is:\n",
      "[219]\tvalid_0's rmse: 1.01507\n",
      "Training until validation scores don't improve for 100 rounds\n"
     ]
    },
    {
     "name": "stderr",
     "output_type": "stream",
     "text": [
      "feature_fraction_stage2, val_score: 1.011151: 100%|##########| 6/6 [00:32<00:00,  5.70s/it]\u001b[32m[I 2021-03-10 03:07:41,272]\u001b[0m Trial 42 finished with value: 1.0119940167951798 and parameters: {'feature_fraction': 0.784}. Best is trial 42 with value: 1.0119940167951798.\u001b[0m\n",
      "feature_fraction_stage2, val_score: 1.011151: 100%|##########| 6/6 [00:32<00:00,  5.50s/it]\n",
      "regularization_factors, val_score: 1.011151:   0%|          | 0/20 [00:00<?, ?it/s]"
     ]
    },
    {
     "name": "stdout",
     "output_type": "stream",
     "text": [
      "Early stopping, best iteration is:\n",
      "[239]\tvalid_0's rmse: 1.01199\n",
      "Training until validation scores don't improve for 100 rounds\n"
     ]
    },
    {
     "name": "stderr",
     "output_type": "stream",
     "text": [
      "regularization_factors, val_score: 1.011151:   5%|5         | 1/20 [00:06<02:07,  6.74s/it]\u001b[32m[I 2021-03-10 03:07:48,026]\u001b[0m Trial 43 finished with value: 1.0134858978943353 and parameters: {'lambda_l1': 0.0005376085507048683, 'lambda_l2': 0.006450371701707153}. Best is trial 43 with value: 1.0134858978943353.\u001b[0m\n",
      "regularization_factors, val_score: 1.011151:   5%|5         | 1/20 [00:06<02:07,  6.74s/it]"
     ]
    },
    {
     "name": "stdout",
     "output_type": "stream",
     "text": [
      "Early stopping, best iteration is:\n",
      "[193]\tvalid_0's rmse: 1.01349\n",
      "Training until validation scores don't improve for 100 rounds\n"
     ]
    },
    {
     "name": "stderr",
     "output_type": "stream",
     "text": [
      "regularization_factors, val_score: 1.011151:  10%|#         | 2/20 [00:13<01:56,  6.47s/it]\u001b[32m[I 2021-03-10 03:07:54,301]\u001b[0m Trial 44 finished with value: 1.0111511524207453 and parameters: {'lambda_l1': 1.4249248830571185e-08, 'lambda_l2': 2.0032535286689754e-05}. Best is trial 44 with value: 1.0111511524207453.\u001b[0m\n",
      "regularization_factors, val_score: 1.011151:  10%|#         | 2/20 [00:13<01:56,  6.47s/it]"
     ]
    },
    {
     "name": "stdout",
     "output_type": "stream",
     "text": [
      "Early stopping, best iteration is:\n",
      "[204]\tvalid_0's rmse: 1.01115\n",
      "Training until validation scores don't improve for 100 rounds\n"
     ]
    },
    {
     "name": "stderr",
     "output_type": "stream",
     "text": [
      "regularization_factors, val_score: 1.011151:  15%|#5        | 3/20 [00:21<02:06,  7.46s/it]\u001b[32m[I 2021-03-10 03:08:02,949]\u001b[0m Trial 45 finished with value: 1.0118938980507377 and parameters: {'lambda_l1': 0.00011419315287275004, 'lambda_l2': 0.0003574073877752834}. Best is trial 44 with value: 1.0111511524207453.\u001b[0m\n",
      "regularization_factors, val_score: 1.011151:  15%|#5        | 3/20 [00:21<02:06,  7.46s/it]"
     ]
    },
    {
     "name": "stdout",
     "output_type": "stream",
     "text": [
      "Early stopping, best iteration is:\n",
      "[339]\tvalid_0's rmse: 1.01189\n",
      "Training until validation scores don't improve for 100 rounds\n"
     ]
    },
    {
     "name": "stderr",
     "output_type": "stream",
     "text": [
      "regularization_factors, val_score: 1.011151:  20%|##        | 4/20 [00:30<02:07,  7.95s/it]\u001b[32m[I 2021-03-10 03:08:11,640]\u001b[0m Trial 46 finished with value: 1.011893593757259 and parameters: {'lambda_l1': 0.0002470050997943549, 'lambda_l2': 0.0005611971352416394}. Best is trial 44 with value: 1.0111511524207453.\u001b[0m\n",
      "regularization_factors, val_score: 1.011151:  20%|##        | 4/20 [00:30<02:07,  7.95s/it]"
     ]
    },
    {
     "name": "stdout",
     "output_type": "stream",
     "text": [
      "Early stopping, best iteration is:\n",
      "[339]\tvalid_0's rmse: 1.01189\n",
      "Training until validation scores don't improve for 100 rounds\n"
     ]
    },
    {
     "name": "stderr",
     "output_type": "stream",
     "text": [
      "regularization_factors, val_score: 1.011151:  25%|##5       | 5/20 [00:36<01:50,  7.34s/it]\u001b[32m[I 2021-03-10 03:08:17,913]\u001b[0m Trial 47 finished with value: 1.0111511485208124 and parameters: {'lambda_l1': 1.7685318664930114e-05, 'lambda_l2': 1.0494814973123868e-08}. Best is trial 47 with value: 1.0111511485208124.\u001b[0m\n",
      "regularization_factors, val_score: 1.011151:  25%|##5       | 5/20 [00:36<01:50,  7.34s/it]"
     ]
    },
    {
     "name": "stdout",
     "output_type": "stream",
     "text": [
      "Early stopping, best iteration is:\n",
      "[204]\tvalid_0's rmse: 1.01115\n",
      "Training until validation scores don't improve for 100 rounds\n"
     ]
    },
    {
     "name": "stderr",
     "output_type": "stream",
     "text": [
      "regularization_factors, val_score: 1.011151:  30%|###       | 6/20 [00:42<01:37,  6.95s/it]\u001b[32m[I 2021-03-10 03:08:24,111]\u001b[0m Trial 48 finished with value: 1.0161798425828032 and parameters: {'lambda_l1': 4.987061866610298e-06, 'lambda_l2': 0.1080499419696501}. Best is trial 47 with value: 1.0111511485208124.\u001b[0m\n",
      "regularization_factors, val_score: 1.011151:  30%|###       | 6/20 [00:42<01:37,  6.95s/it]"
     ]
    },
    {
     "name": "stdout",
     "output_type": "stream",
     "text": [
      "Early stopping, best iteration is:\n",
      "[190]\tvalid_0's rmse: 1.01618\n",
      "Training until validation scores don't improve for 100 rounds\n"
     ]
    },
    {
     "name": "stderr",
     "output_type": "stream",
     "text": [
      "regularization_factors, val_score: 1.011151:  35%|###5      | 7/20 [00:49<01:27,  6.75s/it]\u001b[32m[I 2021-03-10 03:08:30,429]\u001b[0m Trial 49 finished with value: 1.016071569044756 and parameters: {'lambda_l1': 0.00017927442820853768, 'lambda_l2': 0.03239186724175886}. Best is trial 47 with value: 1.0111511485208124.\u001b[0m\n",
      "regularization_factors, val_score: 1.011151:  35%|###5      | 7/20 [00:49<01:27,  6.75s/it]"
     ]
    },
    {
     "name": "stdout",
     "output_type": "stream",
     "text": [
      "Early stopping, best iteration is:\n",
      "[189]\tvalid_0's rmse: 1.01607\n",
      "Training until validation scores don't improve for 100 rounds\n"
     ]
    },
    {
     "name": "stderr",
     "output_type": "stream",
     "text": [
      "regularization_factors, val_score: 1.011151:  40%|####      | 8/20 [00:55<01:18,  6.58s/it]\u001b[32m[I 2021-03-10 03:08:36,661]\u001b[0m Trial 50 finished with value: 1.0174914431130742 and parameters: {'lambda_l1': 3.6090063903617425e-05, 'lambda_l2': 0.025931817479044973}. Best is trial 47 with value: 1.0111511485208124.\u001b[0m\n",
      "regularization_factors, val_score: 1.011151:  40%|####      | 8/20 [00:55<01:18,  6.58s/it]"
     ]
    },
    {
     "name": "stdout",
     "output_type": "stream",
     "text": [
      "Early stopping, best iteration is:\n",
      "[176]\tvalid_0's rmse: 1.01749\n",
      "Training until validation scores don't improve for 100 rounds\n"
     ]
    },
    {
     "name": "stderr",
     "output_type": "stream",
     "text": [
      "regularization_factors, val_score: 1.011151:  45%|####5     | 9/20 [01:00<01:08,  6.21s/it]\u001b[32m[I 2021-03-10 03:08:42,055]\u001b[0m Trial 51 finished with value: 1.012953322271971 and parameters: {'lambda_l1': 1.0142650418066448e-07, 'lambda_l2': 0.30682023764966926}. Best is trial 47 with value: 1.0111511485208124.\u001b[0m\n",
      "regularization_factors, val_score: 1.011151:  45%|####5     | 9/20 [01:00<01:08,  6.21s/it]"
     ]
    },
    {
     "name": "stdout",
     "output_type": "stream",
     "text": [
      "Early stopping, best iteration is:\n",
      "[150]\tvalid_0's rmse: 1.01295\n",
      "Training until validation scores don't improve for 100 rounds\n"
     ]
    },
    {
     "name": "stderr",
     "output_type": "stream",
     "text": [
      "regularization_factors, val_score: 1.009851:  50%|#####     | 10/20 [01:07<01:04,  6.48s/it]\u001b[32m[I 2021-03-10 03:08:49,141]\u001b[0m Trial 52 finished with value: 1.0098508777207396 and parameters: {'lambda_l1': 0.0007745018833180502, 'lambda_l2': 1.9190555245864202e-07}. Best is trial 52 with value: 1.0098508777207396.\u001b[0m\n",
      "regularization_factors, val_score: 1.009851:  50%|#####     | 10/20 [01:07<01:04,  6.48s/it]"
     ]
    },
    {
     "name": "stdout",
     "output_type": "stream",
     "text": [
      "Early stopping, best iteration is:\n",
      "[242]\tvalid_0's rmse: 1.00985\n",
      "Training until validation scores don't improve for 100 rounds\n"
     ]
    },
    {
     "name": "stderr",
     "output_type": "stream",
     "text": [
      "regularization_factors, val_score: 1.009851:  55%|#####5    | 11/20 [01:14<00:58,  6.48s/it]\u001b[32m[I 2021-03-10 03:08:55,625]\u001b[0m Trial 53 finished with value: 1.0145106458655007 and parameters: {'lambda_l1': 0.8879169726605374, 'lambda_l2': 5.092443465228835e-08}. Best is trial 52 with value: 1.0098508777207396.\u001b[0m\n",
      "regularization_factors, val_score: 1.009851:  55%|#####5    | 11/20 [01:14<00:58,  6.48s/it]"
     ]
    },
    {
     "name": "stdout",
     "output_type": "stream",
     "text": [
      "Early stopping, best iteration is:\n",
      "[191]\tvalid_0's rmse: 1.01451\n",
      "Training until validation scores don't improve for 100 rounds\n"
     ]
    },
    {
     "name": "stderr",
     "output_type": "stream",
     "text": [
      "regularization_factors, val_score: 1.009851:  60%|######    | 12/20 [01:20<00:50,  6.29s/it]\u001b[32m[I 2021-03-10 03:09:01,490]\u001b[0m Trial 54 finished with value: 1.0179837848894218 and parameters: {'lambda_l1': 0.03591029807019001, 'lambda_l2': 1.4339012152881935e-08}. Best is trial 52 with value: 1.0098508777207396.\u001b[0m\n",
      "regularization_factors, val_score: 1.009851:  60%|######    | 12/20 [01:20<00:50,  6.29s/it]"
     ]
    },
    {
     "name": "stdout",
     "output_type": "stream",
     "text": [
      "Early stopping, best iteration is:\n",
      "[170]\tvalid_0's rmse: 1.01798\n",
      "Training until validation scores don't improve for 100 rounds\n"
     ]
    },
    {
     "name": "stderr",
     "output_type": "stream",
     "text": [
      "regularization_factors, val_score: 1.009851:  65%|######5   | 13/20 [01:25<00:42,  6.04s/it]\u001b[32m[I 2021-03-10 03:09:06,958]\u001b[0m Trial 55 finished with value: 1.0132983688382038 and parameters: {'lambda_l1': 0.0094323914818068, 'lambda_l2': 7.323037178684738e-07}. Best is trial 52 with value: 1.0098508777207396.\u001b[0m\n",
      "regularization_factors, val_score: 1.009851:  65%|######5   | 13/20 [01:25<00:42,  6.04s/it]"
     ]
    },
    {
     "name": "stdout",
     "output_type": "stream",
     "text": [
      "Early stopping, best iteration is:\n",
      "[147]\tvalid_0's rmse: 1.0133\n",
      "Training until validation scores don't improve for 100 rounds\n"
     ]
    },
    {
     "name": "stderr",
     "output_type": "stream",
     "text": [
      "regularization_factors, val_score: 1.009851:  70%|#######   | 14/20 [01:32<00:36,  6.14s/it]\u001b[32m[I 2021-03-10 03:09:13,317]\u001b[0m Trial 56 finished with value: 1.0111511568875067 and parameters: {'lambda_l1': 1.470239773181906e-06, 'lambda_l2': 6.325312296913802e-07}. Best is trial 52 with value: 1.0098508777207396.\u001b[0m\n",
      "regularization_factors, val_score: 1.009851:  70%|#######   | 14/20 [01:32<00:36,  6.14s/it]"
     ]
    },
    {
     "name": "stdout",
     "output_type": "stream",
     "text": [
      "Early stopping, best iteration is:\n",
      "[204]\tvalid_0's rmse: 1.01115\n",
      "Training until validation scores don't improve for 100 rounds\n"
     ]
    },
    {
     "name": "stderr",
     "output_type": "stream",
     "text": [
      "regularization_factors, val_score: 1.009851:  75%|#######5  | 15/20 [01:38<00:30,  6.17s/it]\u001b[32m[I 2021-03-10 03:09:19,559]\u001b[0m Trial 57 finished with value: 1.0162356658342402 and parameters: {'lambda_l1': 0.01653808476233181, 'lambda_l2': 2.662015326322845e-07}. Best is trial 52 with value: 1.0098508777207396.\u001b[0m\n",
      "regularization_factors, val_score: 1.009851:  75%|#######5  | 15/20 [01:38<00:30,  6.17s/it]"
     ]
    },
    {
     "name": "stdout",
     "output_type": "stream",
     "text": [
      "Early stopping, best iteration is:\n",
      "[193]\tvalid_0's rmse: 1.01624\n",
      "Training until validation scores don't improve for 100 rounds\n"
     ]
    },
    {
     "name": "stderr",
     "output_type": "stream",
     "text": [
      "regularization_factors, val_score: 1.009851:  80%|########  | 16/20 [01:46<00:27,  6.80s/it]\u001b[32m[I 2021-03-10 03:09:27,820]\u001b[0m Trial 58 finished with value: 1.0147209005112015 and parameters: {'lambda_l1': 2.237319039670179e-06, 'lambda_l2': 7.983801661108711}. Best is trial 52 with value: 1.0098508777207396.\u001b[0m\n",
      "regularization_factors, val_score: 1.009851:  80%|########  | 16/20 [01:46<00:27,  6.80s/it]"
     ]
    },
    {
     "name": "stdout",
     "output_type": "stream",
     "text": [
      "Early stopping, best iteration is:\n",
      "[283]\tvalid_0's rmse: 1.01472\n",
      "Training until validation scores don't improve for 100 rounds\n"
     ]
    },
    {
     "name": "stderr",
     "output_type": "stream",
     "text": [
      "regularization_factors, val_score: 1.009851:  85%|########5 | 17/20 [01:52<00:19,  6.43s/it]\u001b[32m[I 2021-03-10 03:09:33,407]\u001b[0m Trial 59 finished with value: 1.0230972653735766 and parameters: {'lambda_l1': 9.281100542409748, 'lambda_l2': 1.1441639875722379e-05}. Best is trial 52 with value: 1.0098508777207396.\u001b[0m\n",
      "regularization_factors, val_score: 1.009851:  85%|########5 | 17/20 [01:52<00:19,  6.43s/it]"
     ]
    },
    {
     "name": "stdout",
     "output_type": "stream",
     "text": [
      "Early stopping, best iteration is:\n",
      "[161]\tvalid_0's rmse: 1.0231\n",
      "Training until validation scores don't improve for 100 rounds\n"
     ]
    },
    {
     "name": "stderr",
     "output_type": "stream",
     "text": [
      "regularization_factors, val_score: 1.009851:  90%|######### | 18/20 [01:58<00:12,  6.46s/it]\u001b[32m[I 2021-03-10 03:09:39,910]\u001b[0m Trial 60 finished with value: 1.0115461874091176 and parameters: {'lambda_l1': 0.002188521606380956, 'lambda_l2': 1.755278731552448e-08}. Best is trial 52 with value: 1.0098508777207396.\u001b[0m\n",
      "regularization_factors, val_score: 1.009851:  90%|######### | 18/20 [01:58<00:12,  6.46s/it]"
     ]
    },
    {
     "name": "stdout",
     "output_type": "stream",
     "text": [
      "Early stopping, best iteration is:\n",
      "[211]\tvalid_0's rmse: 1.01155\n",
      "Training until validation scores don't improve for 100 rounds\n"
     ]
    },
    {
     "name": "stderr",
     "output_type": "stream",
     "text": [
      "regularization_factors, val_score: 1.009851:  95%|#########5| 19/20 [02:04<00:06,  6.32s/it]\u001b[32m[I 2021-03-10 03:09:45,904]\u001b[0m Trial 61 finished with value: 1.0232806035521638 and parameters: {'lambda_l1': 0.23915667997640044, 'lambda_l2': 7.726987743200545e-06}. Best is trial 52 with value: 1.0098508777207396.\u001b[0m\n",
      "regularization_factors, val_score: 1.009851:  95%|#########5| 19/20 [02:04<00:06,  6.32s/it]"
     ]
    },
    {
     "name": "stdout",
     "output_type": "stream",
     "text": [
      "Early stopping, best iteration is:\n",
      "[175]\tvalid_0's rmse: 1.02328\n",
      "Training until validation scores don't improve for 100 rounds\n"
     ]
    },
    {
     "name": "stderr",
     "output_type": "stream",
     "text": [
      "regularization_factors, val_score: 1.009851: 100%|##########| 20/20 [02:11<00:00,  6.39s/it]\u001b[32m[I 2021-03-10 03:09:52,449]\u001b[0m Trial 62 finished with value: 1.0111511520576346 and parameters: {'lambda_l1': 1.088853659306115e-05, 'lambda_l2': 5.471607835396057e-08}. Best is trial 52 with value: 1.0098508777207396.\u001b[0m\n",
      "regularization_factors, val_score: 1.009851: 100%|##########| 20/20 [02:11<00:00,  6.56s/it]\n",
      "min_data_in_leaf, val_score: 1.009851:   0%|          | 0/5 [00:00<?, ?it/s]"
     ]
    },
    {
     "name": "stdout",
     "output_type": "stream",
     "text": [
      "Early stopping, best iteration is:\n",
      "[204]\tvalid_0's rmse: 1.01115\n",
      "Training until validation scores don't improve for 100 rounds\n"
     ]
    },
    {
     "name": "stderr",
     "output_type": "stream",
     "text": [
      "min_data_in_leaf, val_score: 1.005845:  20%|##        | 1/5 [00:06<00:25,  6.44s/it]\u001b[32m[I 2021-03-10 03:09:58,918]\u001b[0m Trial 63 finished with value: 1.0058451126070855 and parameters: {'min_child_samples': 25}. Best is trial 63 with value: 1.0058451126070855.\u001b[0m\n",
      "min_data_in_leaf, val_score: 1.005845:  20%|##        | 1/5 [00:06<00:25,  6.44s/it]"
     ]
    },
    {
     "name": "stdout",
     "output_type": "stream",
     "text": [
      "Early stopping, best iteration is:\n",
      "[220]\tvalid_0's rmse: 1.00585\n",
      "Training until validation scores don't improve for 100 rounds\n"
     ]
    },
    {
     "name": "stderr",
     "output_type": "stream",
     "text": [
      "min_data_in_leaf, val_score: 1.005845:  40%|####      | 2/5 [00:13<00:20,  6.79s/it]\u001b[32m[I 2021-03-10 03:10:05,955]\u001b[0m Trial 64 finished with value: 1.0130727947264584 and parameters: {'min_child_samples': 10}. Best is trial 63 with value: 1.0058451126070855.\u001b[0m\n",
      "min_data_in_leaf, val_score: 1.005845:  40%|####      | 2/5 [00:13<00:20,  6.79s/it]"
     ]
    },
    {
     "name": "stdout",
     "output_type": "stream",
     "text": [
      "Early stopping, best iteration is:\n",
      "[229]\tvalid_0's rmse: 1.01307\n",
      "Training until validation scores don't improve for 100 rounds\n"
     ]
    },
    {
     "name": "stderr",
     "output_type": "stream",
     "text": [
      "min_data_in_leaf, val_score: 1.005845:  60%|######    | 3/5 [00:18<00:11,  5.98s/it]\u001b[32m[I 2021-03-10 03:10:10,959]\u001b[0m Trial 65 finished with value: 1.0218852164019518 and parameters: {'min_child_samples': 100}. Best is trial 63 with value: 1.0058451126070855.\u001b[0m\n",
      "min_data_in_leaf, val_score: 1.005845:  60%|######    | 3/5 [00:18<00:11,  5.98s/it]"
     ]
    },
    {
     "name": "stdout",
     "output_type": "stream",
     "text": [
      "Early stopping, best iteration is:\n",
      "[151]\tvalid_0's rmse: 1.02189\n",
      "Training until validation scores don't improve for 100 rounds\n"
     ]
    },
    {
     "name": "stderr",
     "output_type": "stream",
     "text": [
      "min_data_in_leaf, val_score: 1.005845:  80%|########  | 4/5 [00:24<00:05,  5.87s/it]\u001b[32m[I 2021-03-10 03:10:16,670]\u001b[0m Trial 66 finished with value: 1.0113468936840613 and parameters: {'min_child_samples': 50}. Best is trial 63 with value: 1.0058451126070855.\u001b[0m\n",
      "min_data_in_leaf, val_score: 1.005845:  80%|########  | 4/5 [00:24<00:05,  5.87s/it]"
     ]
    },
    {
     "name": "stdout",
     "output_type": "stream",
     "text": [
      "Early stopping, best iteration is:\n",
      "[183]\tvalid_0's rmse: 1.01135\n",
      "Training until validation scores don't improve for 100 rounds\n"
     ]
    },
    {
     "name": "stderr",
     "output_type": "stream",
     "text": [
      "min_data_in_leaf, val_score: 1.005845: 100%|##########| 5/5 [00:29<00:00,  5.74s/it]\u001b[32m[I 2021-03-10 03:10:22,187]\u001b[0m Trial 67 finished with value: 1.0194560184684585 and parameters: {'min_child_samples': 5}. Best is trial 63 with value: 1.0058451126070855.\u001b[0m\n",
      "min_data_in_leaf, val_score: 1.005845: 100%|##########| 5/5 [00:29<00:00,  5.95s/it]\n",
      "\u001b[32m[I 2021-03-10 03:10:22,286]\u001b[0m A new study created in memory with name: no-name-e8f7f1cd-a3cb-4ac6-a7bd-4d43da51589b\u001b[0m\n",
      "feature_fraction, val_score: inf:   0%|          | 0/7 [00:00<?, ?it/s]"
     ]
    },
    {
     "name": "stdout",
     "output_type": "stream",
     "text": [
      "Early stopping, best iteration is:\n",
      "[125]\tvalid_0's rmse: 1.01946\n",
      "Training until validation scores don't improve for 100 rounds\n"
     ]
    },
    {
     "name": "stderr",
     "output_type": "stream",
     "text": [
      "feature_fraction, val_score: 0.997100:  14%|#4        | 1/7 [00:07<00:44,  7.39s/it]\u001b[32m[I 2021-03-10 03:10:29,685]\u001b[0m Trial 0 finished with value: 0.99709950685694 and parameters: {'feature_fraction': 0.7}. Best is trial 0 with value: 0.99709950685694.\u001b[0m\n",
      "feature_fraction, val_score: 0.997100:  14%|#4        | 1/7 [00:07<00:44,  7.39s/it]"
     ]
    },
    {
     "name": "stdout",
     "output_type": "stream",
     "text": [
      "Early stopping, best iteration is:\n",
      "[371]\tvalid_0's rmse: 0.9971\n",
      "Training until validation scores don't improve for 100 rounds\n"
     ]
    },
    {
     "name": "stderr",
     "output_type": "stream",
     "text": [
      "feature_fraction, val_score: 0.993051:  29%|##8       | 2/7 [00:13<00:31,  6.35s/it]\u001b[32m[I 2021-03-10 03:10:35,304]\u001b[0m Trial 1 finished with value: 0.9930506054782399 and parameters: {'feature_fraction': 1.0}. Best is trial 1 with value: 0.9930506054782399.\u001b[0m\n",
      "feature_fraction, val_score: 0.993051:  29%|##8       | 2/7 [00:13<00:31,  6.35s/it]"
     ]
    },
    {
     "name": "stdout",
     "output_type": "stream",
     "text": [
      "Early stopping, best iteration is:\n",
      "[132]\tvalid_0's rmse: 0.993051\n",
      "Training until validation scores don't improve for 100 rounds\n"
     ]
    },
    {
     "name": "stderr",
     "output_type": "stream",
     "text": [
      "feature_fraction, val_score: 0.991092:  43%|####2     | 3/7 [00:18<00:24,  6.12s/it]\u001b[32m[I 2021-03-10 03:10:41,161]\u001b[0m Trial 2 finished with value: 0.9910915437097845 and parameters: {'feature_fraction': 0.5}. Best is trial 2 with value: 0.9910915437097845.\u001b[0m\n",
      "feature_fraction, val_score: 0.991092:  43%|####2     | 3/7 [00:18<00:24,  6.12s/it]"
     ]
    },
    {
     "name": "stdout",
     "output_type": "stream",
     "text": [
      "Early stopping, best iteration is:\n",
      "[350]\tvalid_0's rmse: 0.991092\n",
      "Training until validation scores don't improve for 100 rounds\n"
     ]
    },
    {
     "name": "stderr",
     "output_type": "stream",
     "text": [
      "feature_fraction, val_score: 0.991092:  57%|#####7    | 4/7 [00:22<00:15,  5.28s/it]\u001b[32m[I 2021-03-10 03:10:45,156]\u001b[0m Trial 3 finished with value: 0.9924116817042249 and parameters: {'feature_fraction': 0.6}. Best is trial 2 with value: 0.9910915437097845.\u001b[0m\n",
      "feature_fraction, val_score: 0.991092:  57%|#####7    | 4/7 [00:22<00:15,  5.28s/it]"
     ]
    },
    {
     "name": "stdout",
     "output_type": "stream",
     "text": [
      "Early stopping, best iteration is:\n",
      "[156]\tvalid_0's rmse: 0.992412\n",
      "Training until validation scores don't improve for 100 rounds\n"
     ]
    },
    {
     "name": "stderr",
     "output_type": "stream",
     "text": [
      "feature_fraction, val_score: 0.986988:  71%|#######1  | 5/7 [00:28<00:11,  5.58s/it]\u001b[32m[I 2021-03-10 03:10:51,249]\u001b[0m Trial 4 finished with value: 0.986988374796449 and parameters: {'feature_fraction': 0.8}. Best is trial 4 with value: 0.986988374796449.\u001b[0m\n",
      "feature_fraction, val_score: 0.986988:  71%|#######1  | 5/7 [00:28<00:11,  5.58s/it]"
     ]
    },
    {
     "name": "stdout",
     "output_type": "stream",
     "text": [
      "Early stopping, best iteration is:\n",
      "[218]\tvalid_0's rmse: 0.986988\n",
      "Training until validation scores don't improve for 100 rounds\n"
     ]
    },
    {
     "name": "stderr",
     "output_type": "stream",
     "text": [
      "feature_fraction, val_score: 0.986988:  86%|########5 | 6/7 [00:33<00:05,  5.19s/it]\u001b[32m[I 2021-03-10 03:10:55,686]\u001b[0m Trial 5 finished with value: 0.9980575370673153 and parameters: {'feature_fraction': 0.8999999999999999}. Best is trial 4 with value: 0.986988374796449.\u001b[0m\n",
      "feature_fraction, val_score: 0.986988:  86%|########5 | 6/7 [00:33<00:05,  5.19s/it]"
     ]
    },
    {
     "name": "stdout",
     "output_type": "stream",
     "text": [
      "Early stopping, best iteration is:\n",
      "[94]\tvalid_0's rmse: 0.998058\n",
      "Training until validation scores don't improve for 100 rounds\n"
     ]
    },
    {
     "name": "stderr",
     "output_type": "stream",
     "text": [
      "feature_fraction, val_score: 0.986988: 100%|##########| 7/7 [00:36<00:00,  4.62s/it]\u001b[32m[I 2021-03-10 03:10:59,135]\u001b[0m Trial 6 finished with value: 0.9953178496179715 and parameters: {'feature_fraction': 0.4}. Best is trial 4 with value: 0.986988374796449.\u001b[0m\n",
      "feature_fraction, val_score: 0.986988: 100%|##########| 7/7 [00:36<00:00,  5.26s/it]\n",
      "num_leaves, val_score: 0.986988:   0%|          | 0/20 [00:00<?, ?it/s]"
     ]
    },
    {
     "name": "stdout",
     "output_type": "stream",
     "text": [
      "Early stopping, best iteration is:\n",
      "[220]\tvalid_0's rmse: 0.995318\n",
      "Training until validation scores don't improve for 100 rounds\n"
     ]
    },
    {
     "name": "stderr",
     "output_type": "stream",
     "text": [
      "num_leaves, val_score: 0.986988:   5%|5         | 1/20 [00:14<04:37, 14.61s/it]\u001b[32m[I 2021-03-10 03:11:13,760]\u001b[0m Trial 7 finished with value: 0.9940079255844966 and parameters: {'num_leaves': 195}. Best is trial 7 with value: 0.9940079255844966.\u001b[0m\n",
      "num_leaves, val_score: 0.986988:   5%|5         | 1/20 [00:14<04:37, 14.61s/it]"
     ]
    },
    {
     "name": "stdout",
     "output_type": "stream",
     "text": [
      "Early stopping, best iteration is:\n",
      "[67]\tvalid_0's rmse: 0.994008\n",
      "Training until validation scores don't improve for 100 rounds\n"
     ]
    },
    {
     "name": "stderr",
     "output_type": "stream",
     "text": [
      "num_leaves, val_score: 0.986988:  10%|#         | 2/20 [00:26<03:59, 13.28s/it]\u001b[32m[I 2021-03-10 03:11:26,108]\u001b[0m Trial 8 finished with value: 0.9946081738134032 and parameters: {'num_leaves': 184}. Best is trial 7 with value: 0.9940079255844966.\u001b[0m\n",
      "num_leaves, val_score: 0.986988:  10%|#         | 2/20 [00:26<03:59, 13.28s/it]"
     ]
    },
    {
     "name": "stdout",
     "output_type": "stream",
     "text": [
      "Early stopping, best iteration is:\n",
      "[46]\tvalid_0's rmse: 0.994608\n",
      "Training until validation scores don't improve for 100 rounds\n"
     ]
    },
    {
     "name": "stderr",
     "output_type": "stream",
     "text": [
      "num_leaves, val_score: 0.986988:  15%|#5        | 3/20 [00:39<03:43, 13.14s/it]\u001b[32m[I 2021-03-10 03:11:39,077]\u001b[0m Trial 9 finished with value: 1.0008530629754329 and parameters: {'num_leaves': 196}. Best is trial 7 with value: 0.9940079255844966.\u001b[0m\n",
      "num_leaves, val_score: 0.986988:  15%|#5        | 3/20 [00:39<03:43, 13.14s/it]"
     ]
    },
    {
     "name": "stdout",
     "output_type": "stream",
     "text": [
      "Early stopping, best iteration is:\n",
      "[42]\tvalid_0's rmse: 1.00085\n",
      "Training until validation scores don't improve for 100 rounds\n"
     ]
    },
    {
     "name": "stderr",
     "output_type": "stream",
     "text": [
      "num_leaves, val_score: 0.986988:  20%|##        | 4/20 [00:54<03:37, 13.62s/it]\u001b[32m[I 2021-03-10 03:11:53,445]\u001b[0m Trial 10 finished with value: 0.9886980530167744 and parameters: {'num_leaves': 167}. Best is trial 10 with value: 0.9886980530167744.\u001b[0m\n",
      "num_leaves, val_score: 0.986988:  20%|##        | 4/20 [00:54<03:37, 13.62s/it]"
     ]
    },
    {
     "name": "stdout",
     "output_type": "stream",
     "text": [
      "Early stopping, best iteration is:\n",
      "[91]\tvalid_0's rmse: 0.988698\n",
      "Training until validation scores don't improve for 100 rounds\n"
     ]
    },
    {
     "name": "stderr",
     "output_type": "stream",
     "text": [
      "num_leaves, val_score: 0.986988:  25%|##5       | 5/20 [01:05<03:12, 12.82s/it]\u001b[32m[I 2021-03-10 03:12:04,840]\u001b[0m Trial 11 finished with value: 0.9923620269430751 and parameters: {'num_leaves': 161}. Best is trial 10 with value: 0.9886980530167744.\u001b[0m\n",
      "num_leaves, val_score: 0.986988:  25%|##5       | 5/20 [01:05<03:12, 12.82s/it]"
     ]
    },
    {
     "name": "stdout",
     "output_type": "stream",
     "text": [
      "Early stopping, best iteration is:\n",
      "[52]\tvalid_0's rmse: 0.992362\n",
      "Training until validation scores don't improve for 100 rounds\n"
     ]
    },
    {
     "name": "stderr",
     "output_type": "stream",
     "text": [
      "num_leaves, val_score: 0.986988:  30%|###       | 6/20 [01:10<02:21, 10.12s/it]\u001b[32m[I 2021-03-10 03:12:09,713]\u001b[0m Trial 12 finished with value: 1.000888823231663 and parameters: {'num_leaves': 46}. Best is trial 10 with value: 0.9886980530167744.\u001b[0m\n",
      "num_leaves, val_score: 0.986988:  30%|###       | 6/20 [01:10<02:21, 10.12s/it]"
     ]
    },
    {
     "name": "stdout",
     "output_type": "stream",
     "text": [
      "Early stopping, best iteration is:\n",
      "[80]\tvalid_0's rmse: 1.00089\n",
      "Training until validation scores don't improve for 100 rounds\n"
     ]
    },
    {
     "name": "stderr",
     "output_type": "stream",
     "text": [
      "num_leaves, val_score: 0.986988:  35%|###5      | 7/20 [01:26<02:37, 12.13s/it]\u001b[32m[I 2021-03-10 03:12:25,991]\u001b[0m Trial 13 finished with value: 1.0035390519033056 and parameters: {'num_leaves': 241}. Best is trial 10 with value: 0.9886980530167744.\u001b[0m\n",
      "num_leaves, val_score: 0.986988:  35%|###5      | 7/20 [01:26<02:37, 12.13s/it]"
     ]
    },
    {
     "name": "stdout",
     "output_type": "stream",
     "text": [
      "Early stopping, best iteration is:\n",
      "[54]\tvalid_0's rmse: 1.00354\n",
      "Training until validation scores don't improve for 100 rounds\n"
     ]
    },
    {
     "name": "stderr",
     "output_type": "stream",
     "text": [
      "num_leaves, val_score: 0.986988:  40%|####      | 8/20 [01:31<01:57,  9.82s/it]\u001b[32m[I 2021-03-10 03:12:30,849]\u001b[0m Trial 14 finished with value: 1.0018990113376 and parameters: {'num_leaves': 43}. Best is trial 10 with value: 0.9886980530167744.\u001b[0m\n",
      "num_leaves, val_score: 0.986988:  40%|####      | 8/20 [01:31<01:57,  9.82s/it]"
     ]
    },
    {
     "name": "stdout",
     "output_type": "stream",
     "text": [
      "Early stopping, best iteration is:\n",
      "[84]\tvalid_0's rmse: 1.0019\n",
      "Training until validation scores don't improve for 100 rounds\n"
     ]
    },
    {
     "name": "stderr",
     "output_type": "stream",
     "text": [
      "num_leaves, val_score: 0.986988:  45%|####5     | 9/20 [01:45<02:01, 11.08s/it]\u001b[32m[I 2021-03-10 03:12:44,707]\u001b[0m Trial 15 finished with value: 0.9887968305452263 and parameters: {'num_leaves': 162}. Best is trial 10 with value: 0.9886980530167744.\u001b[0m\n",
      "num_leaves, val_score: 0.986988:  45%|####5     | 9/20 [01:45<02:01, 11.08s/it]"
     ]
    },
    {
     "name": "stdout",
     "output_type": "stream",
     "text": [
      "Early stopping, best iteration is:\n",
      "[82]\tvalid_0's rmse: 0.988797\n",
      "Training until validation scores don't improve for 100 rounds\n"
     ]
    },
    {
     "name": "stderr",
     "output_type": "stream",
     "text": [
      "num_leaves, val_score: 0.986988:  50%|#####     | 10/20 [02:03<02:12, 13.27s/it]\u001b[32m[I 2021-03-10 03:13:02,878]\u001b[0m Trial 16 finished with value: 0.9874194366047434 and parameters: {'num_leaves': 150}. Best is trial 16 with value: 0.9874194366047434.\u001b[0m\n",
      "num_leaves, val_score: 0.986988:  50%|#####     | 10/20 [02:03<02:12, 13.27s/it]"
     ]
    },
    {
     "name": "stdout",
     "output_type": "stream",
     "text": [
      "Early stopping, best iteration is:\n",
      "[73]\tvalid_0's rmse: 0.987419\n",
      "Training until validation scores don't improve for 100 rounds\n"
     ]
    },
    {
     "name": "stderr",
     "output_type": "stream",
     "text": [
      "num_leaves, val_score: 0.986988:  55%|#####5    | 11/20 [02:24<02:20, 15.58s/it]\u001b[32m[I 2021-03-10 03:13:23,698]\u001b[0m Trial 17 finished with value: 0.993883206894595 and parameters: {'num_leaves': 98}. Best is trial 16 with value: 0.9874194366047434.\u001b[0m\n",
      "num_leaves, val_score: 0.986988:  55%|#####5    | 11/20 [02:24<02:20, 15.58s/it]"
     ]
    },
    {
     "name": "stdout",
     "output_type": "stream",
     "text": [
      "Early stopping, best iteration is:\n",
      "[159]\tvalid_0's rmse: 0.993883\n",
      "Training until validation scores don't improve for 100 rounds\n"
     ]
    },
    {
     "name": "stderr",
     "output_type": "stream",
     "text": [
      "num_leaves, val_score: 0.986988:  60%|######    | 12/20 [02:39<02:02, 15.33s/it]\u001b[32m[I 2021-03-10 03:13:38,444]\u001b[0m Trial 18 finished with value: 0.9885596344653702 and parameters: {'num_leaves': 108}. Best is trial 16 with value: 0.9874194366047434.\u001b[0m\n",
      "num_leaves, val_score: 0.986988:  60%|######    | 12/20 [02:39<02:02, 15.33s/it]"
     ]
    },
    {
     "name": "stdout",
     "output_type": "stream",
     "text": [
      "Early stopping, best iteration is:\n",
      "[61]\tvalid_0's rmse: 0.98856\n",
      "Training until validation scores don't improve for 100 rounds\n"
     ]
    },
    {
     "name": "stderr",
     "output_type": "stream",
     "text": [
      "num_leaves, val_score: 0.986988:  65%|######5   | 13/20 [02:55<01:49, 15.59s/it]\u001b[32m[I 2021-03-10 03:13:54,649]\u001b[0m Trial 19 finished with value: 0.9922858392442975 and parameters: {'num_leaves': 95}. Best is trial 16 with value: 0.9874194366047434.\u001b[0m\n",
      "num_leaves, val_score: 0.986988:  65%|######5   | 13/20 [02:55<01:49, 15.59s/it]"
     ]
    },
    {
     "name": "stdout",
     "output_type": "stream",
     "text": [
      "Early stopping, best iteration is:\n",
      "[104]\tvalid_0's rmse: 0.992286\n",
      "Training until validation scores don't improve for 100 rounds\n"
     ]
    },
    {
     "name": "stderr",
     "output_type": "stream",
     "text": [
      "num_leaves, val_score: 0.986988:  70%|#######   | 14/20 [03:10<01:32, 15.45s/it]\u001b[32m[I 2021-03-10 03:14:09,781]\u001b[0m Trial 20 finished with value: 0.9954180307821621 and parameters: {'num_leaves': 110}. Best is trial 16 with value: 0.9874194366047434.\u001b[0m\n",
      "num_leaves, val_score: 0.986988:  70%|#######   | 14/20 [03:10<01:32, 15.45s/it]"
     ]
    },
    {
     "name": "stdout",
     "output_type": "stream",
     "text": [
      "Early stopping, best iteration is:\n",
      "[68]\tvalid_0's rmse: 0.995418\n",
      "Training until validation scores don't improve for 100 rounds\n"
     ]
    },
    {
     "name": "stderr",
     "output_type": "stream",
     "text": [
      "num_leaves, val_score: 0.986988:  75%|#######5  | 15/20 [03:31<01:25, 17.14s/it]\u001b[32m[I 2021-03-10 03:14:30,848]\u001b[0m Trial 21 finished with value: 1.0001115511081746 and parameters: {'num_leaves': 131}. Best is trial 16 with value: 0.9874194366047434.\u001b[0m\n",
      "num_leaves, val_score: 0.986988:  75%|#######5  | 15/20 [03:31<01:25, 17.14s/it]"
     ]
    },
    {
     "name": "stdout",
     "output_type": "stream",
     "text": [
      "Early stopping, best iteration is:\n",
      "[98]\tvalid_0's rmse: 1.00011\n",
      "Training until validation scores don't improve for 100 rounds\n"
     ]
    },
    {
     "name": "stderr",
     "output_type": "stream",
     "text": [
      "num_leaves, val_score: 0.986988:  80%|########  | 16/20 [03:38<00:56, 14.18s/it]\u001b[32m[I 2021-03-10 03:14:38,140]\u001b[0m Trial 22 finished with value: 1.0035285967316723 and parameters: {'num_leaves': 14}. Best is trial 16 with value: 0.9874194366047434.\u001b[0m\n",
      "num_leaves, val_score: 0.986988:  80%|########  | 16/20 [03:38<00:56, 14.18s/it]"
     ]
    },
    {
     "name": "stdout",
     "output_type": "stream",
     "text": [
      "Early stopping, best iteration is:\n",
      "[316]\tvalid_0's rmse: 1.00353\n",
      "Training until validation scores don't improve for 100 rounds\n"
     ]
    },
    {
     "name": "stderr",
     "output_type": "stream",
     "text": [
      "num_leaves, val_score: 0.986988:  85%|########5 | 17/20 [03:55<00:44, 14.99s/it]\u001b[32m[I 2021-03-10 03:14:55,018]\u001b[0m Trial 23 finished with value: 1.0035390519033056 and parameters: {'num_leaves': 241}. Best is trial 16 with value: 0.9874194366047434.\u001b[0m\n",
      "num_leaves, val_score: 0.986988:  85%|########5 | 17/20 [03:55<00:44, 14.99s/it]"
     ]
    },
    {
     "name": "stdout",
     "output_type": "stream",
     "text": [
      "Early stopping, best iteration is:\n",
      "[54]\tvalid_0's rmse: 1.00354\n",
      "Training until validation scores don't improve for 100 rounds\n"
     ]
    },
    {
     "name": "stderr",
     "output_type": "stream",
     "text": [
      "num_leaves, val_score: 0.986988:  90%|######### | 18/20 [04:02<00:24, 12.39s/it]\u001b[32m[I 2021-03-10 03:15:01,338]\u001b[0m Trial 24 finished with value: 0.9996834282304555 and parameters: {'num_leaves': 69}. Best is trial 16 with value: 0.9874194366047434.\u001b[0m\n",
      "num_leaves, val_score: 0.986988:  90%|######### | 18/20 [04:02<00:24, 12.39s/it]"
     ]
    },
    {
     "name": "stdout",
     "output_type": "stream",
     "text": [
      "Early stopping, best iteration is:\n",
      "[67]\tvalid_0's rmse: 0.999683\n",
      "Training until validation scores don't improve for 100 rounds\n"
     ]
    },
    {
     "name": "stderr",
     "output_type": "stream",
     "text": [
      "num_leaves, val_score: 0.986988:  95%|#########5| 19/20 [04:13<00:12, 12.08s/it]\u001b[32m[I 2021-03-10 03:15:12,693]\u001b[0m Trial 25 finished with value: 0.990268762682453 and parameters: {'num_leaves': 134}. Best is trial 16 with value: 0.9874194366047434.\u001b[0m\n",
      "num_leaves, val_score: 0.986988:  95%|#########5| 19/20 [04:13<00:12, 12.08s/it]"
     ]
    },
    {
     "name": "stdout",
     "output_type": "stream",
     "text": [
      "Early stopping, best iteration is:\n",
      "[80]\tvalid_0's rmse: 0.990269\n",
      "Training until validation scores don't improve for 100 rounds\n"
     ]
    },
    {
     "name": "stderr",
     "output_type": "stream",
     "text": [
      "num_leaves, val_score: 0.986988: 100%|##########| 20/20 [04:21<00:00, 10.96s/it]\u001b[32m[I 2021-03-10 03:15:21,067]\u001b[0m Trial 26 finished with value: 0.9937692717828804 and parameters: {'num_leaves': 75}. Best is trial 16 with value: 0.9874194366047434.\u001b[0m\n",
      "num_leaves, val_score: 0.986988: 100%|##########| 20/20 [04:21<00:00, 13.10s/it]\n",
      "bagging, val_score: 0.986988:   0%|          | 0/10 [00:00<?, ?it/s]"
     ]
    },
    {
     "name": "stdout",
     "output_type": "stream",
     "text": [
      "Early stopping, best iteration is:\n",
      "[120]\tvalid_0's rmse: 0.993769\n",
      "Training until validation scores don't improve for 100 rounds\n"
     ]
    },
    {
     "name": "stderr",
     "output_type": "stream",
     "text": [
      "bagging, val_score: 0.986988:  10%|#         | 1/10 [00:05<00:48,  5.40s/it]\u001b[32m[I 2021-03-10 03:15:26,481]\u001b[0m Trial 27 finished with value: 1.0050703051741765 and parameters: {'bagging_fraction': 0.47922807374770915, 'bagging_freq': 5}. Best is trial 27 with value: 1.0050703051741765.\u001b[0m\n",
      "bagging, val_score: 0.986988:  10%|#         | 1/10 [00:05<00:48,  5.40s/it]"
     ]
    },
    {
     "name": "stdout",
     "output_type": "stream",
     "text": [
      "Early stopping, best iteration is:\n",
      "[178]\tvalid_0's rmse: 1.00507\n",
      "Training until validation scores don't improve for 100 rounds\n"
     ]
    },
    {
     "name": "stderr",
     "output_type": "stream",
     "text": [
      "bagging, val_score: 0.986988:  20%|##        | 2/10 [00:09<00:36,  4.61s/it]\u001b[32m[I 2021-03-10 03:15:30,542]\u001b[0m Trial 28 finished with value: 1.0048680814303526 and parameters: {'bagging_fraction': 0.6659183251054406, 'bagging_freq': 4}. Best is trial 28 with value: 1.0048680814303526.\u001b[0m\n",
      "bagging, val_score: 0.986988:  20%|##        | 2/10 [00:09<00:36,  4.61s/it]"
     ]
    },
    {
     "name": "stdout",
     "output_type": "stream",
     "text": [
      "Early stopping, best iteration is:\n",
      "[93]\tvalid_0's rmse: 1.00487\n",
      "Training until validation scores don't improve for 100 rounds\n"
     ]
    },
    {
     "name": "stderr",
     "output_type": "stream",
     "text": [
      "bagging, val_score: 0.986988:  30%|###       | 3/10 [00:13<00:30,  4.40s/it]\u001b[32m[I 2021-03-10 03:15:34,695]\u001b[0m Trial 29 finished with value: 1.0082909174665786 and parameters: {'bagging_fraction': 0.5158023157148415, 'bagging_freq': 5}. Best is trial 28 with value: 1.0048680814303526.\u001b[0m\n",
      "bagging, val_score: 0.986988:  30%|###       | 3/10 [00:13<00:30,  4.40s/it]"
     ]
    },
    {
     "name": "stdout",
     "output_type": "stream",
     "text": [
      "Early stopping, best iteration is:\n",
      "[106]\tvalid_0's rmse: 1.00829\n",
      "Training until validation scores don't improve for 100 rounds\n"
     ]
    },
    {
     "name": "stderr",
     "output_type": "stream",
     "text": [
      "bagging, val_score: 0.986988:  40%|####      | 4/10 [00:20<00:32,  5.43s/it]\u001b[32m[I 2021-03-10 03:15:41,688]\u001b[0m Trial 30 finished with value: 1.0097855148045216 and parameters: {'bagging_fraction': 0.4650221357651928, 'bagging_freq': 5}. Best is trial 28 with value: 1.0048680814303526.\u001b[0m\n",
      "bagging, val_score: 0.986988:  40%|####      | 4/10 [00:20<00:32,  5.43s/it]"
     ]
    },
    {
     "name": "stdout",
     "output_type": "stream",
     "text": [
      "Early stopping, best iteration is:\n",
      "[235]\tvalid_0's rmse: 1.00979\n",
      "Training until validation scores don't improve for 100 rounds\n"
     ]
    },
    {
     "name": "stderr",
     "output_type": "stream",
     "text": [
      "bagging, val_score: 0.986988:  50%|#####     | 5/10 [00:25<00:25,  5.19s/it]\u001b[32m[I 2021-03-10 03:15:46,453]\u001b[0m Trial 31 finished with value: 1.0046999628531719 and parameters: {'bagging_fraction': 0.6486815300984067, 'bagging_freq': 3}. Best is trial 31 with value: 1.0046999628531719.\u001b[0m\n",
      "bagging, val_score: 0.986988:  50%|#####     | 5/10 [00:25<00:25,  5.19s/it]"
     ]
    },
    {
     "name": "stdout",
     "output_type": "stream",
     "text": [
      "Early stopping, best iteration is:\n",
      "[128]\tvalid_0's rmse: 1.0047\n",
      "Training until validation scores don't improve for 100 rounds\n"
     ]
    },
    {
     "name": "stderr",
     "output_type": "stream",
     "text": [
      "bagging, val_score: 0.986988:  60%|######    | 6/10 [00:31<00:22,  5.53s/it]\u001b[32m[I 2021-03-10 03:15:52,638]\u001b[0m Trial 32 finished with value: 0.9972435481378873 and parameters: {'bagging_fraction': 0.855895881244394, 'bagging_freq': 7}. Best is trial 32 with value: 0.9972435481378873.\u001b[0m\n",
      "bagging, val_score: 0.986988:  60%|######    | 6/10 [00:31<00:22,  5.53s/it]"
     ]
    },
    {
     "name": "stdout",
     "output_type": "stream",
     "text": [
      "Early stopping, best iteration is:\n",
      "[208]\tvalid_0's rmse: 0.997244\n",
      "Training until validation scores don't improve for 100 rounds\n"
     ]
    },
    {
     "name": "stderr",
     "output_type": "stream",
     "text": [
      "bagging, val_score: 0.986988:  70%|#######   | 7/10 [00:36<00:16,  5.36s/it]\u001b[32m[I 2021-03-10 03:15:57,653]\u001b[0m Trial 33 finished with value: 0.9920516157346021 and parameters: {'bagging_fraction': 0.7147119421581415, 'bagging_freq': 1}. Best is trial 33 with value: 0.9920516157346021.\u001b[0m\n",
      "bagging, val_score: 0.986988:  70%|#######   | 7/10 [00:36<00:16,  5.36s/it]"
     ]
    },
    {
     "name": "stdout",
     "output_type": "stream",
     "text": [
      "Early stopping, best iteration is:\n",
      "[146]\tvalid_0's rmse: 0.992052\n",
      "Training until validation scores don't improve for 100 rounds\n"
     ]
    },
    {
     "name": "stderr",
     "output_type": "stream",
     "text": [
      "bagging, val_score: 0.986988:  80%|########  | 8/10 [00:41<00:10,  5.35s/it]\u001b[32m[I 2021-03-10 03:16:02,970]\u001b[0m Trial 34 finished with value: 1.0065149826237756 and parameters: {'bagging_fraction': 0.6986861772287916, 'bagging_freq': 7}. Best is trial 33 with value: 0.9920516157346021.\u001b[0m\n",
      "bagging, val_score: 0.986988:  80%|########  | 8/10 [00:41<00:10,  5.35s/it]"
     ]
    },
    {
     "name": "stdout",
     "output_type": "stream",
     "text": [
      "Early stopping, best iteration is:\n",
      "[161]\tvalid_0's rmse: 1.00651\n",
      "Training until validation scores don't improve for 100 rounds\n"
     ]
    },
    {
     "name": "stderr",
     "output_type": "stream",
     "text": [
      "bagging, val_score: 0.986988:  90%|######### | 9/10 [00:46<00:05,  5.10s/it]\u001b[32m[I 2021-03-10 03:16:07,525]\u001b[0m Trial 35 finished with value: 1.0125005545629668 and parameters: {'bagging_fraction': 0.5758146703497115, 'bagging_freq': 6}. Best is trial 33 with value: 0.9920516157346021.\u001b[0m\n",
      "bagging, val_score: 0.986988:  90%|######### | 9/10 [00:46<00:05,  5.10s/it]"
     ]
    },
    {
     "name": "stdout",
     "output_type": "stream",
     "text": [
      "Early stopping, best iteration is:\n",
      "[125]\tvalid_0's rmse: 1.0125\n",
      "Training until validation scores don't improve for 100 rounds\n"
     ]
    },
    {
     "name": "stderr",
     "output_type": "stream",
     "text": [
      "bagging, val_score: 0.986988: 100%|##########| 10/10 [00:50<00:00,  4.83s/it]\u001b[32m[I 2021-03-10 03:16:11,737]\u001b[0m Trial 36 finished with value: 1.0156939966497829 and parameters: {'bagging_fraction': 0.5329003094549062, 'bagging_freq': 4}. Best is trial 33 with value: 0.9920516157346021.\u001b[0m\n",
      "bagging, val_score: 0.986988: 100%|##########| 10/10 [00:50<00:00,  5.07s/it]\n",
      "feature_fraction_stage2, val_score: 0.986988:   0%|          | 0/6 [00:00<?, ?it/s]"
     ]
    },
    {
     "name": "stdout",
     "output_type": "stream",
     "text": [
      "Early stopping, best iteration is:\n",
      "[108]\tvalid_0's rmse: 1.01569\n",
      "Training until validation scores don't improve for 100 rounds\n"
     ]
    },
    {
     "name": "stderr",
     "output_type": "stream",
     "text": [
      "feature_fraction_stage2, val_score: 0.985506:  17%|#6        | 1/6 [00:05<00:26,  5.39s/it]\u001b[32m[I 2021-03-10 03:16:17,142]\u001b[0m Trial 37 finished with value: 0.9855057964104308 and parameters: {'feature_fraction': 0.7200000000000001}. Best is trial 37 with value: 0.9855057964104308.\u001b[0m\n",
      "feature_fraction_stage2, val_score: 0.985506:  17%|#6        | 1/6 [00:05<00:26,  5.39s/it]"
     ]
    },
    {
     "name": "stdout",
     "output_type": "stream",
     "text": [
      "Early stopping, best iteration is:\n",
      "[205]\tvalid_0's rmse: 0.985506\n",
      "Training until validation scores don't improve for 100 rounds\n"
     ]
    },
    {
     "name": "stderr",
     "output_type": "stream",
     "text": [
      "feature_fraction_stage2, val_score: 0.985506:  33%|###3      | 2/6 [00:11<00:23,  5.94s/it]\u001b[32m[I 2021-03-10 03:16:23,477]\u001b[0m Trial 38 finished with value: 0.9916597923767695 and parameters: {'feature_fraction': 0.7520000000000001}. Best is trial 37 with value: 0.9855057964104308.\u001b[0m\n",
      "feature_fraction_stage2, val_score: 0.985506:  33%|###3      | 2/6 [00:11<00:23,  5.94s/it]"
     ]
    },
    {
     "name": "stdout",
     "output_type": "stream",
     "text": [
      "Early stopping, best iteration is:\n",
      "[263]\tvalid_0's rmse: 0.99166\n",
      "Training until validation scores don't improve for 100 rounds\n"
     ]
    },
    {
     "name": "stderr",
     "output_type": "stream",
     "text": [
      "feature_fraction_stage2, val_score: 0.985506:  50%|#####     | 3/6 [00:18<00:18,  6.26s/it]\u001b[32m[I 2021-03-10 03:16:30,103]\u001b[0m Trial 39 finished with value: 0.9936273762857318 and parameters: {'feature_fraction': 0.88}. Best is trial 37 with value: 0.9855057964104308.\u001b[0m\n",
      "feature_fraction_stage2, val_score: 0.985506:  50%|#####     | 3/6 [00:18<00:18,  6.26s/it]"
     ]
    },
    {
     "name": "stdout",
     "output_type": "stream",
     "text": [
      "Early stopping, best iteration is:\n",
      "[225]\tvalid_0's rmse: 0.993627\n",
      "Training until validation scores don't improve for 100 rounds\n"
     ]
    },
    {
     "name": "stderr",
     "output_type": "stream",
     "text": [
      "feature_fraction_stage2, val_score: 0.985506:  67%|######6   | 4/6 [00:23<00:11,  5.81s/it]\u001b[32m[I 2021-03-10 03:16:35,240]\u001b[0m Trial 40 finished with value: 0.9995095088789155 and parameters: {'feature_fraction': 0.784}. Best is trial 37 with value: 0.9855057964104308.\u001b[0m\n",
      "feature_fraction_stage2, val_score: 0.985506:  67%|######6   | 4/6 [00:23<00:11,  5.81s/it]"
     ]
    },
    {
     "name": "stdout",
     "output_type": "stream",
     "text": [
      "Early stopping, best iteration is:\n",
      "[175]\tvalid_0's rmse: 0.99951\n",
      "Training until validation scores don't improve for 100 rounds\n"
     ]
    },
    {
     "name": "stderr",
     "output_type": "stream",
     "text": [
      "feature_fraction_stage2, val_score: 0.985506:  83%|########3 | 5/6 [00:30<00:06,  6.13s/it]\u001b[32m[I 2021-03-10 03:16:41,936]\u001b[0m Trial 41 finished with value: 0.9951058164365536 and parameters: {'feature_fraction': 0.8480000000000001}. Best is trial 37 with value: 0.9855057964104308.\u001b[0m\n",
      "feature_fraction_stage2, val_score: 0.985506:  83%|########3 | 5/6 [00:30<00:06,  6.13s/it]"
     ]
    },
    {
     "name": "stdout",
     "output_type": "stream",
     "text": [
      "Early stopping, best iteration is:\n",
      "[241]\tvalid_0's rmse: 0.995106\n",
      "Training until validation scores don't improve for 100 rounds\n"
     ]
    },
    {
     "name": "stderr",
     "output_type": "stream",
     "text": [
      "feature_fraction_stage2, val_score: 0.985506: 100%|##########| 6/6 [00:34<00:00,  5.51s/it]\u001b[32m[I 2021-03-10 03:16:46,224]\u001b[0m Trial 42 finished with value: 1.0018628290127916 and parameters: {'feature_fraction': 0.8160000000000001}. Best is trial 37 with value: 0.9855057964104308.\u001b[0m\n",
      "feature_fraction_stage2, val_score: 0.985506: 100%|##########| 6/6 [00:34<00:00,  5.75s/it]\n",
      "regularization_factors, val_score: 0.985506:   0%|          | 0/20 [00:00<?, ?it/s]"
     ]
    },
    {
     "name": "stdout",
     "output_type": "stream",
     "text": [
      "Early stopping, best iteration is:\n",
      "[105]\tvalid_0's rmse: 1.00186\n",
      "Training until validation scores don't improve for 100 rounds\n"
     ]
    },
    {
     "name": "stderr",
     "output_type": "stream",
     "text": [
      "regularization_factors, val_score: 0.985506:   5%|5         | 1/20 [00:06<02:05,  6.61s/it]\u001b[32m[I 2021-03-10 03:16:52,847]\u001b[0m Trial 43 finished with value: 0.9855135387132336 and parameters: {'lambda_l1': 0.00018072764489706657, 'lambda_l2': 2.0197363911528764e-07}. Best is trial 43 with value: 0.9855135387132336.\u001b[0m\n",
      "regularization_factors, val_score: 0.985506:   5%|5         | 1/20 [00:06<02:05,  6.61s/it]"
     ]
    },
    {
     "name": "stdout",
     "output_type": "stream",
     "text": [
      "Early stopping, best iteration is:\n",
      "[205]\tvalid_0's rmse: 0.985514\n",
      "Training until validation scores don't improve for 100 rounds\n"
     ]
    },
    {
     "name": "stderr",
     "output_type": "stream",
     "text": [
      "regularization_factors, val_score: 0.985506:  10%|#         | 2/20 [00:14<02:14,  7.47s/it]\u001b[32m[I 2021-03-10 03:17:00,929]\u001b[0m Trial 44 finished with value: 0.9972619455523296 and parameters: {'lambda_l1': 4.065707715709111e-05, 'lambda_l2': 0.11759917282875937}. Best is trial 43 with value: 0.9855135387132336.\u001b[0m\n",
      "regularization_factors, val_score: 0.985506:  10%|#         | 2/20 [00:14<02:14,  7.47s/it]"
     ]
    },
    {
     "name": "stdout",
     "output_type": "stream",
     "text": [
      "Early stopping, best iteration is:\n",
      "[286]\tvalid_0's rmse: 0.997262\n",
      "Training until validation scores don't improve for 100 rounds\n"
     ]
    },
    {
     "name": "stderr",
     "output_type": "stream",
     "text": [
      "regularization_factors, val_score: 0.985506:  15%|#5        | 3/20 [00:20<01:51,  6.55s/it]\u001b[32m[I 2021-03-10 03:17:06,385]\u001b[0m Trial 45 finished with value: 0.9954352065403278 and parameters: {'lambda_l1': 7.00464407719914, 'lambda_l2': 0.004448708530547222}. Best is trial 43 with value: 0.9855135387132336.\u001b[0m\n",
      "regularization_factors, val_score: 0.985506:  15%|#5        | 3/20 [00:20<01:51,  6.55s/it]"
     ]
    },
    {
     "name": "stdout",
     "output_type": "stream",
     "text": [
      "Early stopping, best iteration is:\n",
      "[143]\tvalid_0's rmse: 0.995435\n",
      "Training until validation scores don't improve for 100 rounds\n"
     ]
    },
    {
     "name": "stderr",
     "output_type": "stream",
     "text": [
      "regularization_factors, val_score: 0.985506:  20%|##        | 4/20 [00:27<01:51,  6.99s/it]\u001b[32m[I 2021-03-10 03:17:14,034]\u001b[0m Trial 46 finished with value: 0.9885460232707077 and parameters: {'lambda_l1': 0.01241922602364577, 'lambda_l2': 0.0004721361373141106}. Best is trial 43 with value: 0.9855135387132336.\u001b[0m\n",
      "regularization_factors, val_score: 0.985506:  20%|##        | 4/20 [00:27<01:51,  6.99s/it]"
     ]
    },
    {
     "name": "stdout",
     "output_type": "stream",
     "text": [
      "Early stopping, best iteration is:\n",
      "[257]\tvalid_0's rmse: 0.988546\n",
      "Training until validation scores don't improve for 100 rounds\n"
     ]
    },
    {
     "name": "stderr",
     "output_type": "stream",
     "text": [
      "regularization_factors, val_score: 0.985506:  25%|##5       | 5/20 [00:33<01:39,  6.65s/it]\u001b[32m[I 2021-03-10 03:17:20,091]\u001b[0m Trial 47 finished with value: 0.9929902263257644 and parameters: {'lambda_l1': 1.5463172610568516e-08, 'lambda_l2': 0.9439265786326578}. Best is trial 43 with value: 0.9855135387132336.\u001b[0m\n",
      "regularization_factors, val_score: 0.985506:  25%|##5       | 5/20 [00:33<01:39,  6.65s/it]"
     ]
    },
    {
     "name": "stdout",
     "output_type": "stream",
     "text": [
      "Early stopping, best iteration is:\n",
      "[170]\tvalid_0's rmse: 0.99299\n",
      "Training until validation scores don't improve for 100 rounds\n"
     ]
    },
    {
     "name": "stderr",
     "output_type": "stream",
     "text": [
      "regularization_factors, val_score: 0.985506:  30%|###       | 6/20 [00:42<01:44,  7.44s/it]\u001b[32m[I 2021-03-10 03:17:29,064]\u001b[0m Trial 48 finished with value: 0.9967547497564431 and parameters: {'lambda_l1': 1.5034903527867522, 'lambda_l2': 1.4000439348090957e-05}. Best is trial 43 with value: 0.9855135387132336.\u001b[0m\n",
      "regularization_factors, val_score: 0.985506:  30%|###       | 6/20 [00:42<01:44,  7.44s/it]"
     ]
    },
    {
     "name": "stdout",
     "output_type": "stream",
     "text": [
      "Early stopping, best iteration is:\n",
      "[334]\tvalid_0's rmse: 0.996755\n",
      "Training until validation scores don't improve for 100 rounds\n"
     ]
    },
    {
     "name": "stderr",
     "output_type": "stream",
     "text": [
      "regularization_factors, val_score: 0.985506:  35%|###5      | 7/20 [00:48<01:28,  6.81s/it]\u001b[32m[I 2021-03-10 03:17:34,565]\u001b[0m Trial 49 finished with value: 0.9989580242233141 and parameters: {'lambda_l1': 3.659990891686822e-06, 'lambda_l2': 0.08479488587767454}. Best is trial 43 with value: 0.9855135387132336.\u001b[0m\n",
      "regularization_factors, val_score: 0.985506:  35%|###5      | 7/20 [00:48<01:28,  6.81s/it]"
     ]
    },
    {
     "name": "stdout",
     "output_type": "stream",
     "text": [
      "Early stopping, best iteration is:\n",
      "[114]\tvalid_0's rmse: 0.998958\n",
      "Training until validation scores don't improve for 100 rounds\n"
     ]
    },
    {
     "name": "stderr",
     "output_type": "stream",
     "text": [
      "regularization_factors, val_score: 0.985506:  40%|####      | 8/20 [00:54<01:20,  6.68s/it]\u001b[32m[I 2021-03-10 03:17:40,982]\u001b[0m Trial 50 finished with value: 0.9948588651805207 and parameters: {'lambda_l1': 0.011220178276290458, 'lambda_l2': 1.3942364874466411e-06}. Best is trial 43 with value: 0.9855135387132336.\u001b[0m\n",
      "regularization_factors, val_score: 0.985506:  40%|####      | 8/20 [00:54<01:20,  6.68s/it]"
     ]
    },
    {
     "name": "stdout",
     "output_type": "stream",
     "text": [
      "Early stopping, best iteration is:\n",
      "[180]\tvalid_0's rmse: 0.994859\n",
      "Training until validation scores don't improve for 100 rounds\n"
     ]
    },
    {
     "name": "stderr",
     "output_type": "stream",
     "text": [
      "regularization_factors, val_score: 0.985506:  45%|####5     | 9/20 [01:01<01:13,  6.66s/it]\u001b[32m[I 2021-03-10 03:17:47,600]\u001b[0m Trial 51 finished with value: 0.9855136070678396 and parameters: {'lambda_l1': 3.934727895875255e-07, 'lambda_l2': 1.9702991407576536e-08}. Best is trial 43 with value: 0.9855135387132336.\u001b[0m\n",
      "regularization_factors, val_score: 0.985506:  45%|####5     | 9/20 [01:01<01:13,  6.66s/it]"
     ]
    },
    {
     "name": "stdout",
     "output_type": "stream",
     "text": [
      "Early stopping, best iteration is:\n",
      "[205]\tvalid_0's rmse: 0.985514\n",
      "Training until validation scores don't improve for 100 rounds\n"
     ]
    },
    {
     "name": "stderr",
     "output_type": "stream",
     "text": [
      "regularization_factors, val_score: 0.985506:  50%|#####     | 10/20 [01:07<01:03,  6.37s/it]\u001b[32m[I 2021-03-10 03:17:53,331]\u001b[0m Trial 52 finished with value: 0.9960544458982304 and parameters: {'lambda_l1': 6.188811924652556e-08, 'lambda_l2': 0.40135542919811845}. Best is trial 43 with value: 0.9855135387132336.\u001b[0m\n",
      "regularization_factors, val_score: 0.985506:  50%|#####     | 10/20 [01:07<01:03,  6.37s/it]"
     ]
    },
    {
     "name": "stdout",
     "output_type": "stream",
     "text": [
      "Early stopping, best iteration is:\n",
      "[158]\tvalid_0's rmse: 0.996054\n",
      "Training until validation scores don't improve for 100 rounds\n"
     ]
    },
    {
     "name": "stderr",
     "output_type": "stream",
     "text": [
      "regularization_factors, val_score: 0.985506:  55%|#####5    | 11/20 [01:13<00:56,  6.27s/it]\u001b[32m[I 2021-03-10 03:17:59,357]\u001b[0m Trial 53 finished with value: 0.9956862744969953 and parameters: {'lambda_l1': 0.0007583222913310597, 'lambda_l2': 1.3543678725988419e-08}. Best is trial 43 with value: 0.9855135387132336.\u001b[0m\n",
      "regularization_factors, val_score: 0.985506:  55%|#####5    | 11/20 [01:13<00:56,  6.27s/it]"
     ]
    },
    {
     "name": "stdout",
     "output_type": "stream",
     "text": [
      "Early stopping, best iteration is:\n",
      "[162]\tvalid_0's rmse: 0.995686\n",
      "Training until validation scores don't improve for 100 rounds\n"
     ]
    },
    {
     "name": "stderr",
     "output_type": "stream",
     "text": [
      "regularization_factors, val_score: 0.985506:  60%|######    | 12/20 [01:19<00:50,  6.33s/it]\u001b[32m[I 2021-03-10 03:18:05,813]\u001b[0m Trial 54 finished with value: 0.9855057960705333 and parameters: {'lambda_l1': 7.492361181555949e-07, 'lambda_l2': 1.065500286392623e-08}. Best is trial 54 with value: 0.9855057960705333.\u001b[0m\n",
      "regularization_factors, val_score: 0.985506:  60%|######    | 12/20 [01:19<00:50,  6.33s/it]"
     ]
    },
    {
     "name": "stdout",
     "output_type": "stream",
     "text": [
      "Early stopping, best iteration is:\n",
      "[205]\tvalid_0's rmse: 0.985506\n",
      "Training until validation scores don't improve for 100 rounds\n"
     ]
    },
    {
     "name": "stderr",
     "output_type": "stream",
     "text": [
      "regularization_factors, val_score: 0.985506:  65%|######5   | 13/20 [01:26<00:44,  6.38s/it]\u001b[32m[I 2021-03-10 03:18:12,305]\u001b[0m Trial 55 finished with value: 0.9855057907431228 and parameters: {'lambda_l1': 1.46686432205726e-05, 'lambda_l2': 3.943950837521651e-07}. Best is trial 55 with value: 0.9855057907431228.\u001b[0m\n",
      "regularization_factors, val_score: 0.985506:  65%|######5   | 13/20 [01:26<00:44,  6.38s/it]"
     ]
    },
    {
     "name": "stdout",
     "output_type": "stream",
     "text": [
      "Early stopping, best iteration is:\n",
      "[205]\tvalid_0's rmse: 0.985506\n",
      "Training until validation scores don't improve for 100 rounds\n"
     ]
    },
    {
     "name": "stderr",
     "output_type": "stream",
     "text": [
      "regularization_factors, val_score: 0.985506:  70%|#######   | 14/20 [01:32<00:38,  6.49s/it]\u001b[32m[I 2021-03-10 03:18:19,060]\u001b[0m Trial 56 finished with value: 0.9855057938717777 and parameters: {'lambda_l1': 2.759304291984294e-06, 'lambda_l2': 5.5697168175710185e-06}. Best is trial 55 with value: 0.9855057907431228.\u001b[0m\n",
      "regularization_factors, val_score: 0.985506:  70%|#######   | 14/20 [01:32<00:38,  6.49s/it]"
     ]
    },
    {
     "name": "stdout",
     "output_type": "stream",
     "text": [
      "Early stopping, best iteration is:\n",
      "[205]\tvalid_0's rmse: 0.985506\n",
      "Training until validation scores don't improve for 100 rounds\n"
     ]
    },
    {
     "name": "stderr",
     "output_type": "stream",
     "text": [
      "regularization_factors, val_score: 0.985506:  75%|#######5  | 15/20 [01:39<00:32,  6.52s/it]\u001b[32m[I 2021-03-10 03:18:25,643]\u001b[0m Trial 57 finished with value: 0.9855057884605656 and parameters: {'lambda_l1': 1.0187414632367881e-05, 'lambda_l2': 1.5490385012240594e-05}. Best is trial 57 with value: 0.9855057884605656.\u001b[0m\n",
      "regularization_factors, val_score: 0.985506:  75%|#######5  | 15/20 [01:39<00:32,  6.52s/it]"
     ]
    },
    {
     "name": "stdout",
     "output_type": "stream",
     "text": [
      "Early stopping, best iteration is:\n",
      "[205]\tvalid_0's rmse: 0.985506\n",
      "Training until validation scores don't improve for 100 rounds\n"
     ]
    },
    {
     "name": "stderr",
     "output_type": "stream",
     "text": [
      "regularization_factors, val_score: 0.985506:  80%|########  | 16/20 [01:45<00:25,  6.49s/it]\u001b[32m[I 2021-03-10 03:18:32,060]\u001b[0m Trial 58 finished with value: 0.9855057609388284 and parameters: {'lambda_l1': 1.9762781136066754e-05, 'lambda_l2': 0.00010431660817575925}. Best is trial 58 with value: 0.9855057609388284.\u001b[0m\n",
      "regularization_factors, val_score: 0.985506:  80%|########  | 16/20 [01:45<00:25,  6.49s/it]"
     ]
    },
    {
     "name": "stdout",
     "output_type": "stream",
     "text": [
      "Early stopping, best iteration is:\n",
      "[205]\tvalid_0's rmse: 0.985506\n",
      "Training until validation scores don't improve for 100 rounds\n"
     ]
    },
    {
     "name": "stderr",
     "output_type": "stream",
     "text": [
      "regularization_factors, val_score: 0.985506:  85%|########5 | 17/20 [01:53<00:20,  6.74s/it]\u001b[32m[I 2021-03-10 03:18:39,374]\u001b[0m Trial 59 finished with value: 0.9955077745643574 and parameters: {'lambda_l1': 0.0014180519570472843, 'lambda_l2': 0.00018979838774995929}. Best is trial 58 with value: 0.9855057609388284.\u001b[0m\n",
      "regularization_factors, val_score: 0.985506:  85%|########5 | 17/20 [01:53<00:20,  6.74s/it]"
     ]
    },
    {
     "name": "stdout",
     "output_type": "stream",
     "text": [
      "Early stopping, best iteration is:\n",
      "[236]\tvalid_0's rmse: 0.995508\n",
      "Training until validation scores don't improve for 100 rounds\n"
     ]
    },
    {
     "name": "stderr",
     "output_type": "stream",
     "text": [
      "regularization_factors, val_score: 0.985506:  90%|######### | 18/20 [01:59<00:13,  6.70s/it]\u001b[32m[I 2021-03-10 03:18:45,975]\u001b[0m Trial 60 finished with value: 0.9855057458680693 and parameters: {'lambda_l1': 7.802622027823196e-05, 'lambda_l2': 7.869693746889833e-05}. Best is trial 60 with value: 0.9855057458680693.\u001b[0m\n",
      "regularization_factors, val_score: 0.985506:  90%|######### | 18/20 [01:59<00:13,  6.70s/it]"
     ]
    },
    {
     "name": "stdout",
     "output_type": "stream",
     "text": [
      "Early stopping, best iteration is:\n",
      "[205]\tvalid_0's rmse: 0.985506\n",
      "Training until validation scores don't improve for 100 rounds\n"
     ]
    },
    {
     "name": "stderr",
     "output_type": "stream",
     "text": [
      "regularization_factors, val_score: 0.985506:  95%|#########5| 19/20 [02:08<00:07,  7.36s/it]\u001b[32m[I 2021-03-10 03:18:54,895]\u001b[0m Trial 61 finished with value: 0.9907502690623784 and parameters: {'lambda_l1': 0.14215426703159406, 'lambda_l2': 0.004069487449622861}. Best is trial 60 with value: 0.9855057458680693.\u001b[0m\n",
      "regularization_factors, val_score: 0.985506:  95%|#########5| 19/20 [02:08<00:07,  7.36s/it]"
     ]
    },
    {
     "name": "stdout",
     "output_type": "stream",
     "text": [
      "Early stopping, best iteration is:\n",
      "[326]\tvalid_0's rmse: 0.99075\n",
      "Training until validation scores don't improve for 100 rounds\n"
     ]
    },
    {
     "name": "stderr",
     "output_type": "stream",
     "text": [
      "regularization_factors, val_score: 0.985506: 100%|##########| 20/20 [02:15<00:00,  7.16s/it]\u001b[32m[I 2021-03-10 03:19:01,595]\u001b[0m Trial 62 finished with value: 0.9855057082573949 and parameters: {'lambda_l1': 0.00011339580973156189, 'lambda_l2': 0.0001687974601137855}. Best is trial 62 with value: 0.9855057082573949.\u001b[0m\n",
      "regularization_factors, val_score: 0.985506: 100%|##########| 20/20 [02:15<00:00,  6.77s/it]\n",
      "min_data_in_leaf, val_score: 0.985506:   0%|          | 0/5 [00:00<?, ?it/s]"
     ]
    },
    {
     "name": "stdout",
     "output_type": "stream",
     "text": [
      "Early stopping, best iteration is:\n",
      "[205]\tvalid_0's rmse: 0.985506\n",
      "Training until validation scores don't improve for 100 rounds\n"
     ]
    },
    {
     "name": "stderr",
     "output_type": "stream",
     "text": [
      "min_data_in_leaf, val_score: 0.985506:  20%|##        | 1/5 [00:06<00:27,  6.96s/it]\u001b[32m[I 2021-03-10 03:19:08,578]\u001b[0m Trial 63 finished with value: 0.9870313346722266 and parameters: {'min_child_samples': 5}. Best is trial 63 with value: 0.9870313346722266.\u001b[0m\n",
      "min_data_in_leaf, val_score: 0.985506:  20%|##        | 1/5 [00:06<00:27,  6.96s/it]"
     ]
    },
    {
     "name": "stdout",
     "output_type": "stream",
     "text": [
      "Early stopping, best iteration is:\n",
      "[178]\tvalid_0's rmse: 0.987031\n",
      "Training until validation scores don't improve for 100 rounds\n"
     ]
    },
    {
     "name": "stderr",
     "output_type": "stream",
     "text": [
      "min_data_in_leaf, val_score: 0.985506:  40%|####      | 2/5 [00:11<00:17,  5.77s/it]\u001b[32m[I 2021-03-10 03:19:13,513]\u001b[0m Trial 64 finished with value: 0.9979747165406815 and parameters: {'min_child_samples': 25}. Best is trial 63 with value: 0.9870313346722266.\u001b[0m\n",
      "min_data_in_leaf, val_score: 0.985506:  40%|####      | 2/5 [00:11<00:17,  5.77s/it]"
     ]
    },
    {
     "name": "stdout",
     "output_type": "stream",
     "text": [
      "Early stopping, best iteration is:\n",
      "[118]\tvalid_0's rmse: 0.997975\n",
      "Training until validation scores don't improve for 100 rounds\n"
     ]
    },
    {
     "name": "stderr",
     "output_type": "stream",
     "text": [
      "min_data_in_leaf, val_score: 0.985506:  60%|######    | 3/5 [00:19<00:13,  6.78s/it]\u001b[32m[I 2021-03-10 03:19:21,491]\u001b[0m Trial 65 finished with value: 0.9926452037576227 and parameters: {'min_child_samples': 100}. Best is trial 63 with value: 0.9870313346722266.\u001b[0m\n",
      "min_data_in_leaf, val_score: 0.985506:  60%|######    | 3/5 [00:19<00:13,  6.78s/it]"
     ]
    },
    {
     "name": "stdout",
     "output_type": "stream",
     "text": [
      "Early stopping, best iteration is:\n",
      "[298]\tvalid_0's rmse: 0.992645\n",
      "Training until validation scores don't improve for 100 rounds\n"
     ]
    },
    {
     "name": "stderr",
     "output_type": "stream",
     "text": [
      "min_data_in_leaf, val_score: 0.985506:  80%|########  | 4/5 [00:24<00:06,  6.06s/it]\u001b[32m[I 2021-03-10 03:19:26,441]\u001b[0m Trial 66 finished with value: 0.9946751966110179 and parameters: {'min_child_samples': 50}. Best is trial 63 with value: 0.9870313346722266.\u001b[0m\n",
      "min_data_in_leaf, val_score: 0.985506:  80%|########  | 4/5 [00:24<00:06,  6.06s/it]"
     ]
    },
    {
     "name": "stdout",
     "output_type": "stream",
     "text": [
      "Early stopping, best iteration is:\n",
      "[127]\tvalid_0's rmse: 0.994675\n",
      "Training until validation scores don't improve for 100 rounds\n"
     ]
    },
    {
     "name": "stderr",
     "output_type": "stream",
     "text": [
      "min_data_in_leaf, val_score: 0.985506: 100%|##########| 5/5 [00:37<00:00,  8.38s/it]\u001b[32m[I 2021-03-10 03:19:38,937]\u001b[0m Trial 67 finished with value: 0.9921262696989528 and parameters: {'min_child_samples': 10}. Best is trial 63 with value: 0.9870313346722266.\u001b[0m\n",
      "min_data_in_leaf, val_score: 0.985506: 100%|##########| 5/5 [00:37<00:00,  7.47s/it]"
     ]
    },
    {
     "name": "stdout",
     "output_type": "stream",
     "text": [
      "Early stopping, best iteration is:\n",
      "[495]\tvalid_0's rmse: 0.992126\n"
     ]
    },
    {
     "name": "stderr",
     "output_type": "stream",
     "text": [
      "\n",
      "\u001b[32m[I 2021-03-10 03:19:39,039]\u001b[0m A new study created in memory with name: no-name-1c8c878b-164f-4fc2-a1af-9b9f40c7ac12\u001b[0m\n",
      "feature_fraction, val_score: inf:   0%|          | 0/7 [00:00<?, ?it/s]"
     ]
    },
    {
     "name": "stdout",
     "output_type": "stream",
     "text": [
      "Training until validation scores don't improve for 100 rounds\n"
     ]
    },
    {
     "name": "stderr",
     "output_type": "stream",
     "text": [
      "feature_fraction, val_score: 0.983405:  14%|#4        | 1/7 [00:04<00:28,  4.73s/it]\u001b[32m[I 2021-03-10 03:19:43,774]\u001b[0m Trial 0 finished with value: 0.9834053786937313 and parameters: {'feature_fraction': 0.6}. Best is trial 0 with value: 0.9834053786937313.\u001b[0m\n",
      "feature_fraction, val_score: 0.983405:  14%|#4        | 1/7 [00:04<00:28,  4.73s/it]"
     ]
    },
    {
     "name": "stdout",
     "output_type": "stream",
     "text": [
      "Early stopping, best iteration is:\n",
      "[209]\tvalid_0's rmse: 0.983405\n",
      "Training until validation scores don't improve for 100 rounds\n"
     ]
    },
    {
     "name": "stderr",
     "output_type": "stream",
     "text": [
      "feature_fraction, val_score: 0.978461:  29%|##8       | 2/7 [00:13<00:35,  7.16s/it]\u001b[32m[I 2021-03-10 03:19:52,644]\u001b[0m Trial 1 finished with value: 0.9784609466951034 and parameters: {'feature_fraction': 0.8999999999999999}. Best is trial 1 with value: 0.9784609466951034.\u001b[0m\n",
      "feature_fraction, val_score: 0.978461:  29%|##8       | 2/7 [00:13<00:35,  7.16s/it]"
     ]
    },
    {
     "name": "stdout",
     "output_type": "stream",
     "text": [
      "Early stopping, best iteration is:\n",
      "[330]\tvalid_0's rmse: 0.978461\n",
      "Training until validation scores don't improve for 100 rounds\n"
     ]
    },
    {
     "name": "stderr",
     "output_type": "stream",
     "text": [
      "feature_fraction, val_score: 0.978281:  43%|####2     | 3/7 [00:23<00:34,  8.52s/it]\u001b[32m[I 2021-03-10 03:20:02,776]\u001b[0m Trial 2 finished with value: 0.9782806114652138 and parameters: {'feature_fraction': 1.0}. Best is trial 2 with value: 0.9782806114652138.\u001b[0m\n",
      "feature_fraction, val_score: 0.978281:  43%|####2     | 3/7 [00:23<00:34,  8.52s/it]"
     ]
    },
    {
     "name": "stdout",
     "output_type": "stream",
     "text": [
      "Early stopping, best iteration is:\n",
      "[366]\tvalid_0's rmse: 0.978281\n",
      "Training until validation scores don't improve for 100 rounds\n"
     ]
    },
    {
     "name": "stderr",
     "output_type": "stream",
     "text": [
      "feature_fraction, val_score: 0.967710:  57%|#####7    | 4/7 [00:31<00:24,  8.29s/it]\u001b[32m[I 2021-03-10 03:20:10,714]\u001b[0m Trial 3 finished with value: 0.9677096098766722 and parameters: {'feature_fraction': 0.7}. Best is trial 3 with value: 0.9677096098766722.\u001b[0m\n",
      "feature_fraction, val_score: 0.967710:  57%|#####7    | 4/7 [00:31<00:24,  8.29s/it]"
     ]
    },
    {
     "name": "stdout",
     "output_type": "stream",
     "text": [
      "Early stopping, best iteration is:\n",
      "[387]\tvalid_0's rmse: 0.96771\n",
      "Training until validation scores don't improve for 100 rounds\n"
     ]
    },
    {
     "name": "stderr",
     "output_type": "stream",
     "text": [
      "feature_fraction, val_score: 0.967710:  71%|#######1  | 5/7 [00:37<00:14,  7.23s/it]\u001b[32m[I 2021-03-10 03:20:16,061]\u001b[0m Trial 4 finished with value: 0.9694676428715172 and parameters: {'feature_fraction': 0.4}. Best is trial 3 with value: 0.9677096098766722.\u001b[0m\n",
      "feature_fraction, val_score: 0.967710:  71%|#######1  | 5/7 [00:37<00:14,  7.23s/it]"
     ]
    },
    {
     "name": "stdout",
     "output_type": "stream",
     "text": [
      "Early stopping, best iteration is:\n",
      "[398]\tvalid_0's rmse: 0.969468\n",
      "Training until validation scores don't improve for 100 rounds\n"
     ]
    },
    {
     "name": "stderr",
     "output_type": "stream",
     "text": [
      "feature_fraction, val_score: 0.967710:  86%|########5 | 6/7 [00:44<00:07,  7.18s/it]\u001b[32m[I 2021-03-10 03:20:23,141]\u001b[0m Trial 5 finished with value: 0.9853988897530422 and parameters: {'feature_fraction': 0.8}. Best is trial 3 with value: 0.9677096098766722.\u001b[0m\n",
      "feature_fraction, val_score: 0.967710:  86%|########5 | 6/7 [00:44<00:07,  7.18s/it]"
     ]
    },
    {
     "name": "stdout",
     "output_type": "stream",
     "text": [
      "Early stopping, best iteration is:\n",
      "[279]\tvalid_0's rmse: 0.985399\n",
      "Training until validation scores don't improve for 100 rounds\n"
     ]
    },
    {
     "name": "stderr",
     "output_type": "stream",
     "text": [
      "feature_fraction, val_score: 0.967710: 100%|##########| 7/7 [00:50<00:00,  6.95s/it]\u001b[32m[I 2021-03-10 03:20:29,628]\u001b[0m Trial 6 finished with value: 0.9782870727926832 and parameters: {'feature_fraction': 0.5}. Best is trial 3 with value: 0.9677096098766722.\u001b[0m\n",
      "feature_fraction, val_score: 0.967710: 100%|##########| 7/7 [00:50<00:00,  7.23s/it]\n",
      "num_leaves, val_score: 0.967710:   0%|          | 0/20 [00:00<?, ?it/s]"
     ]
    },
    {
     "name": "stdout",
     "output_type": "stream",
     "text": [
      "Early stopping, best iteration is:\n",
      "[395]\tvalid_0's rmse: 0.978287\n",
      "Training until validation scores don't improve for 100 rounds\n"
     ]
    },
    {
     "name": "stderr",
     "output_type": "stream",
     "text": [
      "num_leaves, val_score: 0.967710:   5%|5         | 1/20 [00:13<04:24, 13.93s/it]\u001b[32m[I 2021-03-10 03:20:43,575]\u001b[0m Trial 7 finished with value: 0.9763476530475781 and parameters: {'num_leaves': 156}. Best is trial 7 with value: 0.9763476530475781.\u001b[0m\n",
      "num_leaves, val_score: 0.967710:   5%|5         | 1/20 [00:13<04:24, 13.93s/it]"
     ]
    },
    {
     "name": "stdout",
     "output_type": "stream",
     "text": [
      "Early stopping, best iteration is:\n",
      "[108]\tvalid_0's rmse: 0.976348\n",
      "Training until validation scores don't improve for 100 rounds\n"
     ]
    },
    {
     "name": "stderr",
     "output_type": "stream",
     "text": [
      "num_leaves, val_score: 0.967710:  10%|#         | 2/20 [00:24<03:33, 11.86s/it]\u001b[32m[I 2021-03-10 03:20:53,981]\u001b[0m Trial 8 finished with value: 0.9721413142559544 and parameters: {'num_leaves': 99}. Best is trial 8 with value: 0.9721413142559544.\u001b[0m\n",
      "num_leaves, val_score: 0.967710:  10%|#         | 2/20 [00:24<03:33, 11.86s/it]"
     ]
    },
    {
     "name": "stdout",
     "output_type": "stream",
     "text": [
      "Early stopping, best iteration is:\n",
      "[135]\tvalid_0's rmse: 0.972141\n",
      "Training until validation scores don't improve for 100 rounds\n"
     ]
    },
    {
     "name": "stderr",
     "output_type": "stream",
     "text": [
      "num_leaves, val_score: 0.967710:  15%|#5        | 3/20 [00:31<02:47,  9.86s/it]\u001b[32m[I 2021-03-10 03:21:01,459]\u001b[0m Trial 9 finished with value: 0.9784307686607443 and parameters: {'num_leaves': 56}. Best is trial 8 with value: 0.9721413142559544.\u001b[0m\n",
      "num_leaves, val_score: 0.967710:  15%|#5        | 3/20 [00:31<02:47,  9.86s/it]"
     ]
    },
    {
     "name": "stdout",
     "output_type": "stream",
     "text": [
      "Early stopping, best iteration is:\n",
      "[166]\tvalid_0's rmse: 0.978431\n",
      "Training until validation scores don't improve for 100 rounds\n"
     ]
    },
    {
     "name": "stderr",
     "output_type": "stream",
     "text": [
      "num_leaves, val_score: 0.967710:  20%|##        | 4/20 [00:45<03:02, 11.41s/it]\u001b[32m[I 2021-03-10 03:21:15,250]\u001b[0m Trial 10 finished with value: 0.977992839250815 and parameters: {'num_leaves': 230}. Best is trial 8 with value: 0.9721413142559544.\u001b[0m\n",
      "num_leaves, val_score: 0.967710:  20%|##        | 4/20 [00:45<03:02, 11.41s/it]"
     ]
    },
    {
     "name": "stdout",
     "output_type": "stream",
     "text": [
      "Early stopping, best iteration is:\n",
      "[51]\tvalid_0's rmse: 0.977993\n",
      "Training until validation scores don't improve for 100 rounds\n"
     ]
    },
    {
     "name": "stderr",
     "output_type": "stream",
     "text": [
      "num_leaves, val_score: 0.967710:  25%|##5       | 5/20 [00:56<02:45, 11.06s/it]\u001b[32m[I 2021-03-10 03:21:25,686]\u001b[0m Trial 11 finished with value: 0.972442439070674 and parameters: {'num_leaves': 134}. Best is trial 8 with value: 0.9721413142559544.\u001b[0m\n",
      "num_leaves, val_score: 0.967710:  25%|##5       | 5/20 [00:56<02:45, 11.06s/it]"
     ]
    },
    {
     "name": "stdout",
     "output_type": "stream",
     "text": [
      "Early stopping, best iteration is:\n",
      "[75]\tvalid_0's rmse: 0.972442\n",
      "Training until validation scores don't improve for 100 rounds\n"
     ]
    },
    {
     "name": "stderr",
     "output_type": "stream",
     "text": [
      "num_leaves, val_score: 0.967710:  30%|###       | 6/20 [01:03<02:15,  9.68s/it]\u001b[32m[I 2021-03-10 03:21:32,700]\u001b[0m Trial 12 finished with value: 0.9860507087872078 and parameters: {'num_leaves': 22}. Best is trial 8 with value: 0.9721413142559544.\u001b[0m\n",
      "num_leaves, val_score: 0.967710:  30%|###       | 6/20 [01:03<02:15,  9.68s/it]"
     ]
    },
    {
     "name": "stdout",
     "output_type": "stream",
     "text": [
      "Early stopping, best iteration is:\n",
      "[470]\tvalid_0's rmse: 0.986051\n",
      "Training until validation scores don't improve for 100 rounds\n"
     ]
    },
    {
     "name": "stderr",
     "output_type": "stream",
     "text": [
      "num_leaves, val_score: 0.967710:  35%|###5      | 7/20 [01:16<02:20, 10.77s/it]\u001b[32m[I 2021-03-10 03:21:45,718]\u001b[0m Trial 13 finished with value: 0.9738046736983607 and parameters: {'num_leaves': 176}. Best is trial 8 with value: 0.9721413142559544.\u001b[0m\n",
      "num_leaves, val_score: 0.967710:  35%|###5      | 7/20 [01:16<02:20, 10.77s/it]"
     ]
    },
    {
     "name": "stdout",
     "output_type": "stream",
     "text": [
      "Early stopping, best iteration is:\n",
      "[76]\tvalid_0's rmse: 0.973805\n",
      "Training until validation scores don't improve for 100 rounds\n"
     ]
    },
    {
     "name": "stderr",
     "output_type": "stream",
     "text": [
      "num_leaves, val_score: 0.967710:  40%|####      | 8/20 [01:26<02:07, 10.59s/it]\u001b[32m[I 2021-03-10 03:21:55,915]\u001b[0m Trial 14 finished with value: 0.9721413142559544 and parameters: {'num_leaves': 99}. Best is trial 8 with value: 0.9721413142559544.\u001b[0m\n",
      "num_leaves, val_score: 0.967710:  40%|####      | 8/20 [01:26<02:07, 10.59s/it]"
     ]
    },
    {
     "name": "stdout",
     "output_type": "stream",
     "text": [
      "Early stopping, best iteration is:\n",
      "[135]\tvalid_0's rmse: 0.972141\n",
      "Training until validation scores don't improve for 100 rounds\n"
     ]
    },
    {
     "name": "stderr",
     "output_type": "stream",
     "text": [
      "num_leaves, val_score: 0.967710:  45%|####5     | 9/20 [01:33<01:43,  9.43s/it]\u001b[32m[I 2021-03-10 03:22:02,804]\u001b[0m Trial 15 finished with value: 0.9733471923398783 and parameters: {'num_leaves': 61}. Best is trial 8 with value: 0.9721413142559544.\u001b[0m\n",
      "num_leaves, val_score: 0.967710:  45%|####5     | 9/20 [01:33<01:43,  9.43s/it]"
     ]
    },
    {
     "name": "stdout",
     "output_type": "stream",
     "text": [
      "Early stopping, best iteration is:\n",
      "[126]\tvalid_0's rmse: 0.973347\n",
      "Training until validation scores don't improve for 100 rounds\n"
     ]
    },
    {
     "name": "stderr",
     "output_type": "stream",
     "text": [
      "num_leaves, val_score: 0.967710:  50%|#####     | 10/20 [01:48<01:53, 11.31s/it]\u001b[32m[I 2021-03-10 03:22:18,299]\u001b[0m Trial 16 finished with value: 0.9778102424293809 and parameters: {'num_leaves': 225}. Best is trial 8 with value: 0.9721413142559544.\u001b[0m\n",
      "num_leaves, val_score: 0.967710:  50%|#####     | 10/20 [01:48<01:53, 11.31s/it]"
     ]
    },
    {
     "name": "stdout",
     "output_type": "stream",
     "text": [
      "Early stopping, best iteration is:\n",
      "[72]\tvalid_0's rmse: 0.97781\n",
      "Training until validation scores don't improve for 100 rounds\n"
     ]
    },
    {
     "name": "stderr",
     "output_type": "stream",
     "text": [
      "num_leaves, val_score: 0.967710:  55%|#####5    | 11/20 [01:56<01:31, 10.22s/it]\u001b[32m[I 2021-03-10 03:22:26,055]\u001b[0m Trial 17 finished with value: 0.9784218950070711 and parameters: {'num_leaves': 96}. Best is trial 8 with value: 0.9721413142559544.\u001b[0m\n",
      "num_leaves, val_score: 0.967710:  55%|#####5    | 11/20 [01:56<01:31, 10.22s/it]"
     ]
    },
    {
     "name": "stdout",
     "output_type": "stream",
     "text": [
      "Early stopping, best iteration is:\n",
      "[72]\tvalid_0's rmse: 0.978422\n",
      "Training until validation scores don't improve for 100 rounds\n"
     ]
    },
    {
     "name": "stderr",
     "output_type": "stream",
     "text": [
      "num_leaves, val_score: 0.967710:  60%|######    | 12/20 [02:08<01:25, 10.69s/it]\u001b[32m[I 2021-03-10 03:22:37,811]\u001b[0m Trial 18 finished with value: 0.9745793900115183 and parameters: {'num_leaves': 103}. Best is trial 8 with value: 0.9721413142559544.\u001b[0m\n",
      "num_leaves, val_score: 0.967710:  60%|######    | 12/20 [02:08<01:25, 10.69s/it]"
     ]
    },
    {
     "name": "stdout",
     "output_type": "stream",
     "text": [
      "Early stopping, best iteration is:\n",
      "[165]\tvalid_0's rmse: 0.974579\n",
      "Training until validation scores don't improve for 100 rounds\n"
     ]
    },
    {
     "name": "stderr",
     "output_type": "stream",
     "text": [
      "num_leaves, val_score: 0.967710:  65%|######5   | 13/20 [02:19<01:16, 10.97s/it]\u001b[32m[I 2021-03-10 03:22:49,446]\u001b[0m Trial 19 finished with value: 0.976670437287796 and parameters: {'num_leaves': 86}. Best is trial 8 with value: 0.9721413142559544.\u001b[0m\n",
      "num_leaves, val_score: 0.967710:  65%|######5   | 13/20 [02:19<01:16, 10.97s/it]"
     ]
    },
    {
     "name": "stdout",
     "output_type": "stream",
     "text": [
      "Early stopping, best iteration is:\n",
      "[178]\tvalid_0's rmse: 0.97667\n",
      "Training until validation scores don't improve for 100 rounds\n"
     ]
    },
    {
     "name": "stderr",
     "output_type": "stream",
     "text": [
      "num_leaves, val_score: 0.967710:  70%|#######   | 14/20 [02:25<00:55,  9.32s/it]\u001b[32m[I 2021-03-10 03:22:54,933]\u001b[0m Trial 20 finished with value: 0.9811777225154601 and parameters: {'num_leaves': 25}. Best is trial 8 with value: 0.9721413142559544.\u001b[0m\n",
      "num_leaves, val_score: 0.967710:  70%|#######   | 14/20 [02:25<00:55,  9.32s/it]"
     ]
    },
    {
     "name": "stdout",
     "output_type": "stream",
     "text": [
      "Early stopping, best iteration is:\n",
      "[284]\tvalid_0's rmse: 0.981178\n",
      "Training until validation scores don't improve for 100 rounds\n"
     ]
    },
    {
     "name": "stderr",
     "output_type": "stream",
     "text": [
      "num_leaves, val_score: 0.967710:  75%|#######5  | 15/20 [02:37<00:51, 10.27s/it]\u001b[32m[I 2021-03-10 03:23:07,422]\u001b[0m Trial 21 finished with value: 0.9772665517981207 and parameters: {'num_leaves': 185}. Best is trial 8 with value: 0.9721413142559544.\u001b[0m\n",
      "num_leaves, val_score: 0.967710:  75%|#######5  | 15/20 [02:37<00:51, 10.27s/it]"
     ]
    },
    {
     "name": "stdout",
     "output_type": "stream",
     "text": [
      "Early stopping, best iteration is:\n",
      "[65]\tvalid_0's rmse: 0.977267\n",
      "Training until validation scores don't improve for 100 rounds\n"
     ]
    },
    {
     "name": "stderr",
     "output_type": "stream",
     "text": [
      "num_leaves, val_score: 0.967710:  80%|########  | 16/20 [02:47<00:39,  9.96s/it]\u001b[32m[I 2021-03-10 03:23:16,648]\u001b[0m Trial 22 finished with value: 0.9754976228785208 and parameters: {'num_leaves': 119}. Best is trial 8 with value: 0.9721413142559544.\u001b[0m\n",
      "num_leaves, val_score: 0.967710:  80%|########  | 16/20 [02:47<00:39,  9.96s/it]"
     ]
    },
    {
     "name": "stdout",
     "output_type": "stream",
     "text": [
      "Early stopping, best iteration is:\n",
      "[79]\tvalid_0's rmse: 0.975498\n",
      "Training until validation scores don't improve for 100 rounds\n"
     ]
    },
    {
     "name": "stderr",
     "output_type": "stream",
     "text": [
      "num_leaves, val_score: 0.967710:  85%|########5 | 17/20 [02:54<00:27,  9.15s/it]\u001b[32m[I 2021-03-10 03:23:23,928]\u001b[0m Trial 23 finished with value: 0.9751001631049391 and parameters: {'num_leaves': 60}. Best is trial 8 with value: 0.9721413142559544.\u001b[0m\n",
      "num_leaves, val_score: 0.967710:  85%|########5 | 17/20 [02:54<00:27,  9.15s/it]"
     ]
    },
    {
     "name": "stdout",
     "output_type": "stream",
     "text": [
      "Early stopping, best iteration is:\n",
      "[151]\tvalid_0's rmse: 0.9751\n",
      "Training until validation scores don't improve for 100 rounds\n"
     ]
    },
    {
     "name": "stderr",
     "output_type": "stream",
     "text": [
      "num_leaves, val_score: 0.967710:  90%|######### | 18/20 [03:04<00:18,  9.44s/it]\u001b[32m[I 2021-03-10 03:23:34,031]\u001b[0m Trial 24 finished with value: 0.9750902649245285 and parameters: {'num_leaves': 137}. Best is trial 8 with value: 0.9721413142559544.\u001b[0m\n",
      "num_leaves, val_score: 0.967710:  90%|######### | 18/20 [03:04<00:18,  9.44s/it]"
     ]
    },
    {
     "name": "stdout",
     "output_type": "stream",
     "text": [
      "Early stopping, best iteration is:\n",
      "[63]\tvalid_0's rmse: 0.97509\n",
      "Training until validation scores don't improve for 100 rounds\n"
     ]
    },
    {
     "name": "stderr",
     "output_type": "stream",
     "text": [
      "num_leaves, val_score: 0.967710:  95%|#########5| 19/20 [03:16<00:10, 10.19s/it]\u001b[32m[I 2021-03-10 03:23:45,971]\u001b[0m Trial 25 finished with value: 0.9723818850238712 and parameters: {'num_leaves': 75}. Best is trial 8 with value: 0.9721413142559544.\u001b[0m\n",
      "num_leaves, val_score: 0.967710:  95%|#########5| 19/20 [03:16<00:10, 10.19s/it]"
     ]
    },
    {
     "name": "stdout",
     "output_type": "stream",
     "text": [
      "Early stopping, best iteration is:\n",
      "[257]\tvalid_0's rmse: 0.972382\n",
      "Training until validation scores don't improve for 100 rounds\n"
     ]
    },
    {
     "name": "stderr",
     "output_type": "stream",
     "text": [
      "num_leaves, val_score: 0.967710: 100%|##########| 20/20 [03:22<00:00,  9.09s/it]\u001b[32m[I 2021-03-10 03:23:52,518]\u001b[0m Trial 26 finished with value: 0.9797786114120244 and parameters: {'num_leaves': 12}. Best is trial 8 with value: 0.9721413142559544.\u001b[0m\n",
      "num_leaves, val_score: 0.967710: 100%|##########| 20/20 [03:22<00:00, 10.14s/it]\n",
      "bagging, val_score: 0.967710:   0%|          | 0/10 [00:00<?, ?it/s]"
     ]
    },
    {
     "name": "stdout",
     "output_type": "stream",
     "text": [
      "Early stopping, best iteration is:\n",
      "[699]\tvalid_0's rmse: 0.979779\n",
      "Training until validation scores don't improve for 100 rounds\n"
     ]
    },
    {
     "name": "stderr",
     "output_type": "stream",
     "text": [
      "bagging, val_score: 0.967710:  10%|#         | 1/10 [00:05<00:47,  5.28s/it]\u001b[32m[I 2021-03-10 03:23:57,813]\u001b[0m Trial 27 finished with value: 0.9900021117555594 and parameters: {'bagging_fraction': 0.5100485593716517, 'bagging_freq': 3}. Best is trial 27 with value: 0.9900021117555594.\u001b[0m\n",
      "bagging, val_score: 0.967710:  10%|#         | 1/10 [00:05<00:47,  5.28s/it]"
     ]
    },
    {
     "name": "stdout",
     "output_type": "stream",
     "text": [
      "Early stopping, best iteration is:\n",
      "[187]\tvalid_0's rmse: 0.990002\n",
      "Training until validation scores don't improve for 100 rounds\n"
     ]
    },
    {
     "name": "stderr",
     "output_type": "stream",
     "text": [
      "bagging, val_score: 0.967710:  20%|##        | 2/10 [00:09<00:38,  4.78s/it]\u001b[32m[I 2021-03-10 03:24:02,242]\u001b[0m Trial 28 finished with value: 1.0080737664675523 and parameters: {'bagging_fraction': 0.4139685230761715, 'bagging_freq': 7}. Best is trial 27 with value: 0.9900021117555594.\u001b[0m\n",
      "bagging, val_score: 0.967710:  20%|##        | 2/10 [00:09<00:38,  4.78s/it]"
     ]
    },
    {
     "name": "stdout",
     "output_type": "stream",
     "text": [
      "Early stopping, best iteration is:\n",
      "[153]\tvalid_0's rmse: 1.00807\n",
      "Training until validation scores don't improve for 100 rounds\n"
     ]
    },
    {
     "name": "stderr",
     "output_type": "stream",
     "text": [
      "bagging, val_score: 0.967710:  30%|###       | 3/10 [00:15<00:35,  5.11s/it]\u001b[32m[I 2021-03-10 03:24:07,750]\u001b[0m Trial 29 finished with value: 0.9909785324256303 and parameters: {'bagging_fraction': 0.6703446091052384, 'bagging_freq': 7}. Best is trial 27 with value: 0.9900021117555594.\u001b[0m\n",
      "bagging, val_score: 0.967710:  30%|###       | 3/10 [00:15<00:35,  5.11s/it]"
     ]
    },
    {
     "name": "stdout",
     "output_type": "stream",
     "text": [
      "Early stopping, best iteration is:\n",
      "[208]\tvalid_0's rmse: 0.990979\n",
      "Training until validation scores don't improve for 100 rounds\n"
     ]
    },
    {
     "name": "stderr",
     "output_type": "stream",
     "text": [
      "bagging, val_score: 0.967710:  40%|####      | 4/10 [00:20<00:30,  5.11s/it]\u001b[32m[I 2021-03-10 03:24:12,867]\u001b[0m Trial 30 finished with value: 0.9918605137929736 and parameters: {'bagging_fraction': 0.6127913573008966, 'bagging_freq': 5}. Best is trial 27 with value: 0.9900021117555594.\u001b[0m\n",
      "bagging, val_score: 0.967710:  40%|####      | 4/10 [00:20<00:30,  5.11s/it]"
     ]
    },
    {
     "name": "stdout",
     "output_type": "stream",
     "text": [
      "Early stopping, best iteration is:\n",
      "[182]\tvalid_0's rmse: 0.991861\n",
      "Training until validation scores don't improve for 100 rounds\n"
     ]
    },
    {
     "name": "stderr",
     "output_type": "stream",
     "text": [
      "bagging, val_score: 0.967710:  50%|#####     | 5/10 [00:25<00:26,  5.22s/it]\u001b[32m[I 2021-03-10 03:24:18,287]\u001b[0m Trial 31 finished with value: 0.9964047834339396 and parameters: {'bagging_fraction': 0.607487795017362, 'bagging_freq': 3}. Best is trial 27 with value: 0.9900021117555594.\u001b[0m\n",
      "bagging, val_score: 0.967710:  50%|#####     | 5/10 [00:25<00:26,  5.22s/it]"
     ]
    },
    {
     "name": "stdout",
     "output_type": "stream",
     "text": [
      "Early stopping, best iteration is:\n",
      "[199]\tvalid_0's rmse: 0.996405\n",
      "Training until validation scores don't improve for 100 rounds\n"
     ]
    },
    {
     "name": "stderr",
     "output_type": "stream",
     "text": [
      "bagging, val_score: 0.967710:  60%|######    | 6/10 [00:32<00:22,  5.57s/it]\u001b[32m[I 2021-03-10 03:24:24,535]\u001b[0m Trial 32 finished with value: 0.973474736574857 and parameters: {'bagging_fraction': 0.8110137086685949, 'bagging_freq': 1}. Best is trial 32 with value: 0.973474736574857.\u001b[0m\n",
      "bagging, val_score: 0.967710:  60%|######    | 6/10 [00:32<00:22,  5.57s/it]"
     ]
    },
    {
     "name": "stdout",
     "output_type": "stream",
     "text": [
      "Early stopping, best iteration is:\n",
      "[241]\tvalid_0's rmse: 0.973475\n",
      "Training until validation scores don't improve for 100 rounds\n"
     ]
    },
    {
     "name": "stderr",
     "output_type": "stream",
     "text": [
      "bagging, val_score: 0.967710:  70%|#######   | 7/10 [00:37<00:16,  5.48s/it]\u001b[32m[I 2021-03-10 03:24:29,836]\u001b[0m Trial 33 finished with value: 0.9732203031239172 and parameters: {'bagging_fraction': 0.8039779004267145, 'bagging_freq': 1}. Best is trial 33 with value: 0.9732203031239172.\u001b[0m\n",
      "bagging, val_score: 0.967710:  70%|#######   | 7/10 [00:37<00:16,  5.48s/it]"
     ]
    },
    {
     "name": "stdout",
     "output_type": "stream",
     "text": [
      "Early stopping, best iteration is:\n",
      "[190]\tvalid_0's rmse: 0.97322\n",
      "Training until validation scores don't improve for 100 rounds\n"
     ]
    },
    {
     "name": "stderr",
     "output_type": "stream",
     "text": [
      "bagging, val_score: 0.967710:  80%|########  | 8/10 [00:45<00:12,  6.34s/it]\u001b[32m[I 2021-03-10 03:24:38,020]\u001b[0m Trial 34 finished with value: 0.9746536239244481 and parameters: {'bagging_fraction': 0.8492224765279435, 'bagging_freq': 3}. Best is trial 33 with value: 0.9732203031239172.\u001b[0m\n",
      "bagging, val_score: 0.967710:  80%|########  | 8/10 [00:45<00:12,  6.34s/it]"
     ]
    },
    {
     "name": "stdout",
     "output_type": "stream",
     "text": [
      "Early stopping, best iteration is:\n",
      "[378]\tvalid_0's rmse: 0.974654\n",
      "Training until validation scores don't improve for 100 rounds\n"
     ]
    },
    {
     "name": "stderr",
     "output_type": "stream",
     "text": [
      "bagging, val_score: 0.967710:  90%|######### | 9/10 [00:50<00:06,  6.01s/it]\u001b[32m[I 2021-03-10 03:24:43,309]\u001b[0m Trial 35 finished with value: 0.981966114921977 and parameters: {'bagging_fraction': 0.7559513415385385, 'bagging_freq': 1}. Best is trial 33 with value: 0.9732203031239172.\u001b[0m\n",
      "bagging, val_score: 0.967710:  90%|######### | 9/10 [00:50<00:06,  6.01s/it]"
     ]
    },
    {
     "name": "stdout",
     "output_type": "stream",
     "text": [
      "Early stopping, best iteration is:\n",
      "[185]\tvalid_0's rmse: 0.981966\n",
      "Training until validation scores don't improve for 100 rounds\n"
     ]
    },
    {
     "name": "stderr",
     "output_type": "stream",
     "text": [
      "bagging, val_score: 0.967710: 100%|##########| 10/10 [00:56<00:00,  5.93s/it]\u001b[32m[I 2021-03-10 03:24:49,052]\u001b[0m Trial 36 finished with value: 0.9861918910950898 and parameters: {'bagging_fraction': 0.764367520707216, 'bagging_freq': 3}. Best is trial 33 with value: 0.9732203031239172.\u001b[0m\n",
      "bagging, val_score: 0.967710: 100%|##########| 10/10 [00:56<00:00,  5.65s/it]\n",
      "feature_fraction_stage2, val_score: 0.967710:   0%|          | 0/6 [00:00<?, ?it/s]"
     ]
    },
    {
     "name": "stdout",
     "output_type": "stream",
     "text": [
      "Early stopping, best iteration is:\n",
      "[215]\tvalid_0's rmse: 0.986192\n",
      "Training until validation scores don't improve for 100 rounds\n"
     ]
    },
    {
     "name": "stderr",
     "output_type": "stream",
     "text": [
      "feature_fraction_stage2, val_score: 0.967710:  17%|#6        | 1/6 [00:07<00:36,  7.33s/it]\u001b[32m[I 2021-03-10 03:24:56,399]\u001b[0m Trial 37 finished with value: 0.9678639094666772 and parameters: {'feature_fraction': 0.6839999999999999}. Best is trial 37 with value: 0.9678639094666772.\u001b[0m\n",
      "feature_fraction_stage2, val_score: 0.967710:  17%|#6        | 1/6 [00:07<00:36,  7.33s/it]"
     ]
    },
    {
     "name": "stdout",
     "output_type": "stream",
     "text": [
      "Early stopping, best iteration is:\n",
      "[358]\tvalid_0's rmse: 0.967864\n",
      "Training until validation scores don't improve for 100 rounds\n"
     ]
    },
    {
     "name": "stderr",
     "output_type": "stream",
     "text": [
      "feature_fraction_stage2, val_score: 0.967710:  33%|###3      | 2/6 [00:15<00:31,  7.83s/it]\u001b[32m[I 2021-03-10 03:25:04,583]\u001b[0m Trial 38 finished with value: 0.9733054345623591 and parameters: {'feature_fraction': 0.7799999999999999}. Best is trial 37 with value: 0.9678639094666772.\u001b[0m\n",
      "feature_fraction_stage2, val_score: 0.967710:  33%|###3      | 2/6 [00:15<00:31,  7.83s/it]"
     ]
    },
    {
     "name": "stdout",
     "output_type": "stream",
     "text": [
      "Early stopping, best iteration is:\n",
      "[351]\tvalid_0's rmse: 0.973305\n",
      "Training until validation scores don't improve for 100 rounds\n"
     ]
    },
    {
     "name": "stderr",
     "output_type": "stream",
     "text": [
      "feature_fraction_stage2, val_score: 0.967710:  50%|#####     | 3/6 [00:22<00:22,  7.43s/it]\u001b[32m[I 2021-03-10 03:25:11,542]\u001b[0m Trial 39 finished with value: 0.9784208892704752 and parameters: {'feature_fraction': 0.716}. Best is trial 37 with value: 0.9678639094666772.\u001b[0m\n",
      "feature_fraction_stage2, val_score: 0.967710:  50%|#####     | 3/6 [00:22<00:22,  7.43s/it]"
     ]
    },
    {
     "name": "stdout",
     "output_type": "stream",
     "text": [
      "Early stopping, best iteration is:\n",
      "[296]\tvalid_0's rmse: 0.978421\n",
      "Training until validation scores don't improve for 100 rounds\n"
     ]
    },
    {
     "name": "stderr",
     "output_type": "stream",
     "text": [
      "feature_fraction_stage2, val_score: 0.967710:  67%|######6   | 4/6 [00:27<00:12,  6.44s/it]\u001b[32m[I 2021-03-10 03:25:16,472]\u001b[0m Trial 40 finished with value: 0.9783956256993138 and parameters: {'feature_fraction': 0.62}. Best is trial 37 with value: 0.9678639094666772.\u001b[0m\n",
      "feature_fraction_stage2, val_score: 0.967710:  67%|######6   | 4/6 [00:27<00:12,  6.44s/it]"
     ]
    },
    {
     "name": "stdout",
     "output_type": "stream",
     "text": [
      "Early stopping, best iteration is:\n",
      "[208]\tvalid_0's rmse: 0.978396\n",
      "Training until validation scores don't improve for 100 rounds\n"
     ]
    },
    {
     "name": "stderr",
     "output_type": "stream",
     "text": [
      "feature_fraction_stage2, val_score: 0.967710:  83%|########3 | 5/6 [00:33<00:06,  6.23s/it]\u001b[32m[I 2021-03-10 03:25:22,315]\u001b[0m Trial 41 finished with value: 0.9767624218275227 and parameters: {'feature_fraction': 0.652}. Best is trial 37 with value: 0.9678639094666772.\u001b[0m\n",
      "feature_fraction_stage2, val_score: 0.967710:  83%|########3 | 5/6 [00:33<00:06,  6.23s/it]"
     ]
    },
    {
     "name": "stdout",
     "output_type": "stream",
     "text": [
      "Early stopping, best iteration is:\n",
      "[269]\tvalid_0's rmse: 0.976762\n",
      "Training until validation scores don't improve for 100 rounds\n"
     ]
    },
    {
     "name": "stderr",
     "output_type": "stream",
     "text": [
      "feature_fraction_stage2, val_score: 0.967710: 100%|##########| 6/6 [00:39<00:00,  6.28s/it]\u001b[32m[I 2021-03-10 03:25:28,701]\u001b[0m Trial 42 finished with value: 0.9835807213724562 and parameters: {'feature_fraction': 0.748}. Best is trial 37 with value: 0.9678639094666772.\u001b[0m\n",
      "feature_fraction_stage2, val_score: 0.967710: 100%|##########| 6/6 [00:39<00:00,  6.61s/it]\n",
      "regularization_factors, val_score: 0.967710:   0%|          | 0/20 [00:00<?, ?it/s]"
     ]
    },
    {
     "name": "stdout",
     "output_type": "stream",
     "text": [
      "Early stopping, best iteration is:\n",
      "[259]\tvalid_0's rmse: 0.983581\n",
      "Training until validation scores don't improve for 100 rounds\n"
     ]
    },
    {
     "name": "stderr",
     "output_type": "stream",
     "text": [
      "regularization_factors, val_score: 0.967710:   5%|5         | 1/20 [00:08<02:41,  8.52s/it]\u001b[32m[I 2021-03-10 03:25:37,237]\u001b[0m Trial 43 finished with value: 0.9831799664193481 and parameters: {'lambda_l1': 7.460081160523834, 'lambda_l2': 0.0001197232324273424}. Best is trial 43 with value: 0.9831799664193481.\u001b[0m\n",
      "regularization_factors, val_score: 0.967710:   5%|5         | 1/20 [00:08<02:41,  8.52s/it]"
     ]
    },
    {
     "name": "stdout",
     "output_type": "stream",
     "text": [
      "Early stopping, best iteration is:\n",
      "[294]\tvalid_0's rmse: 0.98318\n",
      "Training until validation scores don't improve for 100 rounds\n"
     ]
    },
    {
     "name": "stderr",
     "output_type": "stream",
     "text": [
      "regularization_factors, val_score: 0.967710:  10%|#         | 2/20 [00:18<02:49,  9.42s/it]\u001b[32m[I 2021-03-10 03:25:47,284]\u001b[0m Trial 44 finished with value: 0.9727064851795776 and parameters: {'lambda_l1': 0.28294248312576514, 'lambda_l2': 0.2629751603849072}. Best is trial 44 with value: 0.9727064851795776.\u001b[0m\n",
      "regularization_factors, val_score: 0.967710:  10%|#         | 2/20 [00:18<02:49,  9.42s/it]"
     ]
    },
    {
     "name": "stdout",
     "output_type": "stream",
     "text": [
      "Early stopping, best iteration is:\n",
      "[344]\tvalid_0's rmse: 0.972706\n",
      "Training until validation scores don't improve for 100 rounds\n"
     ]
    },
    {
     "name": "stderr",
     "output_type": "stream",
     "text": [
      "regularization_factors, val_score: 0.967710:  15%|#5        | 3/20 [00:28<02:44,  9.70s/it]\u001b[32m[I 2021-03-10 03:25:57,319]\u001b[0m Trial 45 finished with value: 0.9677229004717715 and parameters: {'lambda_l1': 6.134202808981968e-07, 'lambda_l2': 1.1225583626229753e-07}. Best is trial 45 with value: 0.9677229004717715.\u001b[0m\n",
      "regularization_factors, val_score: 0.967710:  15%|#5        | 3/20 [00:28<02:44,  9.70s/it]"
     ]
    },
    {
     "name": "stdout",
     "output_type": "stream",
     "text": [
      "Early stopping, best iteration is:\n",
      "[387]\tvalid_0's rmse: 0.967723\n",
      "Training until validation scores don't improve for 100 rounds\n"
     ]
    },
    {
     "name": "stderr",
     "output_type": "stream",
     "text": [
      "regularization_factors, val_score: 0.967710:  20%|##        | 4/20 [00:36<02:24,  9.05s/it]\u001b[32m[I 2021-03-10 03:26:05,375]\u001b[0m Trial 46 finished with value: 0.973512255795366 and parameters: {'lambda_l1': 0.2430277164854155, 'lambda_l2': 8.717212686817502}. Best is trial 45 with value: 0.9677229004717715.\u001b[0m\n",
      "regularization_factors, val_score: 0.967710:  20%|##        | 4/20 [00:36<02:24,  9.05s/it]"
     ]
    },
    {
     "name": "stdout",
     "output_type": "stream",
     "text": [
      "Early stopping, best iteration is:\n",
      "[247]\tvalid_0's rmse: 0.973512\n",
      "Training until validation scores don't improve for 100 rounds\n"
     ]
    },
    {
     "name": "stderr",
     "output_type": "stream",
     "text": [
      "regularization_factors, val_score: 0.967710:  25%|##5       | 5/20 [00:43<02:02,  8.18s/it]\u001b[32m[I 2021-03-10 03:26:12,009]\u001b[0m Trial 47 finished with value: 0.9788532171779423 and parameters: {'lambda_l1': 4.046019844142475e-05, 'lambda_l2': 0.0028847571874183672}. Best is trial 45 with value: 0.9677229004717715.\u001b[0m\n",
      "regularization_factors, val_score: 0.967710:  25%|##5       | 5/20 [00:43<02:02,  8.18s/it]"
     ]
    },
    {
     "name": "stdout",
     "output_type": "stream",
     "text": [
      "Early stopping, best iteration is:\n",
      "[209]\tvalid_0's rmse: 0.978853\n",
      "Training until validation scores don't improve for 100 rounds\n"
     ]
    },
    {
     "name": "stderr",
     "output_type": "stream",
     "text": [
      "regularization_factors, val_score: 0.967710:  30%|###       | 6/20 [00:52<01:59,  8.53s/it]\u001b[32m[I 2021-03-10 03:26:21,217]\u001b[0m Trial 48 finished with value: 0.9696639359254827 and parameters: {'lambda_l1': 0.0005521774361842425, 'lambda_l2': 3.055573219719935e-06}. Best is trial 45 with value: 0.9677229004717715.\u001b[0m\n",
      "regularization_factors, val_score: 0.967710:  30%|###       | 6/20 [00:52<01:59,  8.53s/it]"
     ]
    },
    {
     "name": "stdout",
     "output_type": "stream",
     "text": [
      "Early stopping, best iteration is:\n",
      "[355]\tvalid_0's rmse: 0.969664\n",
      "Training until validation scores don't improve for 100 rounds\n"
     ]
    },
    {
     "name": "stderr",
     "output_type": "stream",
     "text": [
      "regularization_factors, val_score: 0.967710:  35%|###5      | 7/20 [01:02<01:57,  9.03s/it]\u001b[32m[I 2021-03-10 03:26:31,289]\u001b[0m Trial 49 finished with value: 0.9750717076951767 and parameters: {'lambda_l1': 1.5619381041718723, 'lambda_l2': 0.3402008122219945}. Best is trial 45 with value: 0.9677229004717715.\u001b[0m\n",
      "regularization_factors, val_score: 0.967710:  35%|###5      | 7/20 [01:02<01:57,  9.03s/it]"
     ]
    },
    {
     "name": "stdout",
     "output_type": "stream",
     "text": [
      "Early stopping, best iteration is:\n",
      "[369]\tvalid_0's rmse: 0.975072\n",
      "Training until validation scores don't improve for 100 rounds\n"
     ]
    },
    {
     "name": "stderr",
     "output_type": "stream",
     "text": [
      "regularization_factors, val_score: 0.967710:  40%|####      | 8/20 [01:12<01:51,  9.30s/it]\u001b[32m[I 2021-03-10 03:26:41,169]\u001b[0m Trial 50 finished with value: 0.9677149412168916 and parameters: {'lambda_l1': 6.18480618853468e-07, 'lambda_l2': 5.703793816436846e-06}. Best is trial 50 with value: 0.9677149412168916.\u001b[0m\n",
      "regularization_factors, val_score: 0.967710:  40%|####      | 8/20 [01:12<01:51,  9.30s/it]"
     ]
    },
    {
     "name": "stdout",
     "output_type": "stream",
     "text": [
      "Early stopping, best iteration is:\n",
      "[387]\tvalid_0's rmse: 0.967715\n",
      "Training until validation scores don't improve for 100 rounds\n"
     ]
    },
    {
     "name": "stderr",
     "output_type": "stream",
     "text": [
      "regularization_factors, val_score: 0.967677:  45%|####5     | 9/20 [01:23<01:48,  9.87s/it]\u001b[32m[I 2021-03-10 03:26:52,285]\u001b[0m Trial 51 finished with value: 0.9676773468574223 and parameters: {'lambda_l1': 1.2808267029168457e-08, 'lambda_l2': 0.00033073283430080425}. Best is trial 51 with value: 0.9676773468574223.\u001b[0m\n",
      "regularization_factors, val_score: 0.967677:  45%|####5     | 9/20 [01:23<01:48,  9.87s/it]"
     ]
    },
    {
     "name": "stdout",
     "output_type": "stream",
     "text": [
      "Early stopping, best iteration is:\n",
      "[462]\tvalid_0's rmse: 0.967677\n",
      "Training until validation scores don't improve for 100 rounds\n"
     ]
    },
    {
     "name": "stderr",
     "output_type": "stream",
     "text": [
      "regularization_factors, val_score: 0.967677:  50%|#####     | 10/20 [01:33<01:37,  9.76s/it]\u001b[32m[I 2021-03-10 03:27:01,791]\u001b[0m Trial 52 finished with value: 0.9751558838368615 and parameters: {'lambda_l1': 2.6446057383838433, 'lambda_l2': 1.207115353711777e-05}. Best is trial 51 with value: 0.9676773468574223.\u001b[0m\n",
      "regularization_factors, val_score: 0.967677:  50%|#####     | 10/20 [01:33<01:37,  9.76s/it]"
     ]
    },
    {
     "name": "stdout",
     "output_type": "stream",
     "text": [
      "Early stopping, best iteration is:\n",
      "[348]\tvalid_0's rmse: 0.975156\n",
      "Training until validation scores don't improve for 100 rounds\n"
     ]
    },
    {
     "name": "stderr",
     "output_type": "stream",
     "text": [
      "regularization_factors, val_score: 0.967677:  55%|#####5    | 11/20 [01:42<01:27,  9.76s/it]\u001b[32m[I 2021-03-10 03:27:11,559]\u001b[0m Trial 53 finished with value: 0.9677227645443458 and parameters: {'lambda_l1': 2.627621426836505e-08, 'lambda_l2': 1.0603600706842452e-08}. Best is trial 51 with value: 0.9676773468574223.\u001b[0m\n",
      "regularization_factors, val_score: 0.967677:  55%|#####5    | 11/20 [01:42<01:27,  9.76s/it]"
     ]
    },
    {
     "name": "stdout",
     "output_type": "stream",
     "text": [
      "Early stopping, best iteration is:\n",
      "[387]\tvalid_0's rmse: 0.967723\n",
      "Training until validation scores don't improve for 100 rounds\n"
     ]
    },
    {
     "name": "stderr",
     "output_type": "stream",
     "text": [
      "regularization_factors, val_score: 0.967677:  60%|######    | 12/20 [01:50<01:13,  9.15s/it]\u001b[32m[I 2021-03-10 03:27:19,320]\u001b[0m Trial 54 finished with value: 0.9730165836370908 and parameters: {'lambda_l1': 1.2368539289832437e-08, 'lambda_l2': 0.002492289134871272}. Best is trial 51 with value: 0.9676773468574223.\u001b[0m\n",
      "regularization_factors, val_score: 0.967677:  60%|######    | 12/20 [01:50<01:13,  9.15s/it]"
     ]
    },
    {
     "name": "stdout",
     "output_type": "stream",
     "text": [
      "Early stopping, best iteration is:\n",
      "[269]\tvalid_0's rmse: 0.973017\n",
      "Training until validation scores don't improve for 100 rounds\n"
     ]
    },
    {
     "name": "stderr",
     "output_type": "stream",
     "text": [
      "regularization_factors, val_score: 0.967677:  65%|######5   | 13/20 [02:00<01:05,  9.36s/it]\u001b[32m[I 2021-03-10 03:27:29,170]\u001b[0m Trial 55 finished with value: 0.9677234711231231 and parameters: {'lambda_l1': 9.696535515582305e-07, 'lambda_l2': 9.175469363940299e-07}. Best is trial 51 with value: 0.9676773468574223.\u001b[0m\n",
      "regularization_factors, val_score: 0.967677:  65%|######5   | 13/20 [02:00<01:05,  9.36s/it]"
     ]
    },
    {
     "name": "stdout",
     "output_type": "stream",
     "text": [
      "Early stopping, best iteration is:\n",
      "[387]\tvalid_0's rmse: 0.967723\n",
      "Training until validation scores don't improve for 100 rounds\n"
     ]
    },
    {
     "name": "stderr",
     "output_type": "stream",
     "text": [
      "regularization_factors, val_score: 0.967677:  70%|#######   | 14/20 [02:10<00:56,  9.49s/it]\u001b[32m[I 2021-03-10 03:27:38,935]\u001b[0m Trial 56 finished with value: 0.9677095218099547 and parameters: {'lambda_l1': 3.548876333879642e-07, 'lambda_l2': 0.0001602156754881366}. Best is trial 51 with value: 0.9676773468574223.\u001b[0m\n",
      "regularization_factors, val_score: 0.967677:  70%|#######   | 14/20 [02:10<00:56,  9.49s/it]"
     ]
    },
    {
     "name": "stdout",
     "output_type": "stream",
     "text": [
      "Early stopping, best iteration is:\n",
      "[387]\tvalid_0's rmse: 0.96771\n",
      "Training until validation scores don't improve for 100 rounds\n"
     ]
    },
    {
     "name": "stderr",
     "output_type": "stream",
     "text": [
      "regularization_factors, val_score: 0.967677:  75%|#######5  | 15/20 [02:19<00:46,  9.32s/it]\u001b[32m[I 2021-03-10 03:27:47,886]\u001b[0m Trial 57 finished with value: 0.9686428510822961 and parameters: {'lambda_l1': 4.745815005915081e-05, 'lambda_l2': 0.0002028341350052174}. Best is trial 51 with value: 0.9676773468574223.\u001b[0m\n",
      "regularization_factors, val_score: 0.967677:  75%|#######5  | 15/20 [02:19<00:46,  9.32s/it]"
     ]
    },
    {
     "name": "stdout",
     "output_type": "stream",
     "text": [
      "Early stopping, best iteration is:\n",
      "[310]\tvalid_0's rmse: 0.968643\n",
      "Training until validation scores don't improve for 100 rounds\n"
     ]
    },
    {
     "name": "stderr",
     "output_type": "stream",
     "text": [
      "regularization_factors, val_score: 0.967677:  80%|########  | 16/20 [02:27<00:36,  9.10s/it]\u001b[32m[I 2021-03-10 03:27:56,457]\u001b[0m Trial 58 finished with value: 0.9742256271720592 and parameters: {'lambda_l1': 1.0032611920786223e-08, 'lambda_l2': 0.0042874231728982646}. Best is trial 51 with value: 0.9676773468574223.\u001b[0m\n",
      "regularization_factors, val_score: 0.967677:  80%|########  | 16/20 [02:27<00:36,  9.10s/it]"
     ]
    },
    {
     "name": "stdout",
     "output_type": "stream",
     "text": [
      "Early stopping, best iteration is:\n",
      "[313]\tvalid_0's rmse: 0.974226\n",
      "Training until validation scores don't improve for 100 rounds\n"
     ]
    },
    {
     "name": "stderr",
     "output_type": "stream",
     "text": [
      "regularization_factors, val_score: 0.967677:  85%|########5 | 17/20 [02:39<00:29,  9.85s/it]\u001b[32m[I 2021-03-10 03:28:08,076]\u001b[0m Trial 59 finished with value: 0.9711826713889035 and parameters: {'lambda_l1': 1.3237561957829122e-07, 'lambda_l2': 0.04705890988648143}. Best is trial 51 with value: 0.9676773468574223.\u001b[0m\n",
      "regularization_factors, val_score: 0.967677:  85%|########5 | 17/20 [02:39<00:29,  9.85s/it]"
     ]
    },
    {
     "name": "stdout",
     "output_type": "stream",
     "text": [
      "Early stopping, best iteration is:\n",
      "[492]\tvalid_0's rmse: 0.971183\n",
      "Training until validation scores don't improve for 100 rounds\n"
     ]
    },
    {
     "name": "stderr",
     "output_type": "stream",
     "text": [
      "regularization_factors, val_score: 0.967677:  90%|######### | 18/20 [02:47<00:18,  9.45s/it]\u001b[32m[I 2021-03-10 03:28:16,566]\u001b[0m Trial 60 finished with value: 0.9714271202523758 and parameters: {'lambda_l1': 0.0025557139362637786, 'lambda_l2': 0.00011156498845790609}. Best is trial 51 with value: 0.9676773468574223.\u001b[0m\n",
      "regularization_factors, val_score: 0.967677:  90%|######### | 18/20 [02:47<00:18,  9.45s/it]"
     ]
    },
    {
     "name": "stdout",
     "output_type": "stream",
     "text": [
      "Early stopping, best iteration is:\n",
      "[301]\tvalid_0's rmse: 0.971427\n",
      "Training until validation scores don't improve for 100 rounds\n"
     ]
    },
    {
     "name": "stderr",
     "output_type": "stream",
     "text": [
      "regularization_factors, val_score: 0.967677:  95%|#########5| 19/20 [02:57<00:09,  9.54s/it]\u001b[32m[I 2021-03-10 03:28:26,327]\u001b[0m Trial 61 finished with value: 0.9677101834980084 and parameters: {'lambda_l1': 9.346740707241695e-06, 'lambda_l2': 2.3796950444891956e-05}. Best is trial 51 with value: 0.9676773468574223.\u001b[0m\n",
      "regularization_factors, val_score: 0.967677:  95%|#########5| 19/20 [02:57<00:09,  9.54s/it]"
     ]
    },
    {
     "name": "stdout",
     "output_type": "stream",
     "text": [
      "Early stopping, best iteration is:\n",
      "[387]\tvalid_0's rmse: 0.96771\n",
      "Training until validation scores don't improve for 100 rounds\n"
     ]
    },
    {
     "name": "stderr",
     "output_type": "stream",
     "text": [
      "regularization_factors, val_score: 0.967677: 100%|##########| 20/20 [03:03<00:00,  8.44s/it]\u001b[32m[I 2021-03-10 03:28:32,197]\u001b[0m Trial 62 finished with value: 0.985226434224807 and parameters: {'lambda_l1': 5.906706705447654e-08, 'lambda_l2': 0.025281710687290244}. Best is trial 51 with value: 0.9676773468574223.\u001b[0m\n",
      "regularization_factors, val_score: 0.967677: 100%|##########| 20/20 [03:03<00:00,  9.17s/it]\n",
      "min_data_in_leaf, val_score: 0.967677:   0%|          | 0/5 [00:00<?, ?it/s]"
     ]
    },
    {
     "name": "stdout",
     "output_type": "stream",
     "text": [
      "Early stopping, best iteration is:\n",
      "[153]\tvalid_0's rmse: 0.985226\n",
      "Training until validation scores don't improve for 100 rounds\n"
     ]
    },
    {
     "name": "stderr",
     "output_type": "stream",
     "text": [
      "min_data_in_leaf, val_score: 0.967677:  20%|##        | 1/5 [00:09<00:39,  9.80s/it]\u001b[32m[I 2021-03-10 03:28:42,025]\u001b[0m Trial 63 finished with value: 0.97834958284068 and parameters: {'min_child_samples': 50}. Best is trial 63 with value: 0.97834958284068.\u001b[0m\n",
      "min_data_in_leaf, val_score: 0.967677:  20%|##        | 1/5 [00:09<00:39,  9.80s/it]"
     ]
    },
    {
     "name": "stdout",
     "output_type": "stream",
     "text": [
      "Early stopping, best iteration is:\n",
      "[413]\tvalid_0's rmse: 0.97835\n",
      "Training until validation scores don't improve for 100 rounds\n"
     ]
    },
    {
     "name": "stderr",
     "output_type": "stream",
     "text": [
      "min_data_in_leaf, val_score: 0.967677:  40%|####      | 2/5 [00:17<00:25,  8.60s/it]\u001b[32m[I 2021-03-10 03:28:49,794]\u001b[0m Trial 64 finished with value: 0.9824024813743515 and parameters: {'min_child_samples': 5}. Best is trial 63 with value: 0.97834958284068.\u001b[0m\n",
      "min_data_in_leaf, val_score: 0.967677:  40%|####      | 2/5 [00:17<00:25,  8.60s/it]"
     ]
    },
    {
     "name": "stdout",
     "output_type": "stream",
     "text": [
      "Early stopping, best iteration is:\n",
      "[216]\tvalid_0's rmse: 0.982402\n",
      "Training until validation scores don't improve for 100 rounds\n"
     ]
    },
    {
     "name": "stderr",
     "output_type": "stream",
     "text": [
      "min_data_in_leaf, val_score: 0.967677:  60%|######    | 3/5 [00:24<00:15,  7.86s/it]\u001b[32m[I 2021-03-10 03:28:56,770]\u001b[0m Trial 65 finished with value: 0.978264825466073 and parameters: {'min_child_samples': 100}. Best is trial 65 with value: 0.978264825466073.\u001b[0m\n",
      "min_data_in_leaf, val_score: 0.967677:  60%|######    | 3/5 [00:24<00:15,  7.86s/it]"
     ]
    },
    {
     "name": "stdout",
     "output_type": "stream",
     "text": [
      "Early stopping, best iteration is:\n",
      "[242]\tvalid_0's rmse: 0.978265\n",
      "Training until validation scores don't improve for 100 rounds\n"
     ]
    },
    {
     "name": "stderr",
     "output_type": "stream",
     "text": [
      "min_data_in_leaf, val_score: 0.967677:  80%|########  | 4/5 [00:32<00:08,  8.08s/it]\u001b[32m[I 2021-03-10 03:29:05,177]\u001b[0m Trial 66 finished with value: 0.9779344372024574 and parameters: {'min_child_samples': 10}. Best is trial 66 with value: 0.9779344372024574.\u001b[0m\n",
      "min_data_in_leaf, val_score: 0.967677:  80%|########  | 4/5 [00:32<00:08,  8.08s/it]"
     ]
    },
    {
     "name": "stdout",
     "output_type": "stream",
     "text": [
      "Early stopping, best iteration is:\n",
      "[286]\tvalid_0's rmse: 0.977934\n",
      "Training until validation scores don't improve for 100 rounds\n"
     ]
    },
    {
     "name": "stderr",
     "output_type": "stream",
     "text": [
      "min_data_in_leaf, val_score: 0.967677: 100%|##########| 5/5 [00:41<00:00,  8.11s/it]\u001b[32m[I 2021-03-10 03:29:13,337]\u001b[0m Trial 67 finished with value: 0.9726970754397336 and parameters: {'min_child_samples': 25}. Best is trial 67 with value: 0.9726970754397336.\u001b[0m\n",
      "min_data_in_leaf, val_score: 0.967677: 100%|##########| 5/5 [00:41<00:00,  8.23s/it]"
     ]
    },
    {
     "name": "stdout",
     "output_type": "stream",
     "text": [
      "Early stopping, best iteration is:\n",
      "[291]\tvalid_0's rmse: 0.972697\n",
      "- TRAIN RMSE=0.9964\n"
     ]
    },
    {
     "name": "stderr",
     "output_type": "stream",
     "text": [
      "\n"
     ]
    },
    {
     "name": "stdout",
     "output_type": "stream",
     "text": [
      "test_pred1 12008\n"
     ]
    }
   ],
   "source": [
    "models1, oof_pred1, score1 = train_kfold(train_X1, train_y1, cat_feat_w_te)\n",
    "pred1 = predict_test(test_X1, models1)\n",
    "test_pred1 = revert_to_real(pred1)\n",
    "print('test_pred1', len(test_pred1))\n",
    "test_X1['likes'] = test_pred1"
   ]
  },
  {
   "cell_type": "code",
   "execution_count": 36,
   "id": "pressed-sperm",
   "metadata": {},
   "outputs": [
    {
     "name": "stdout",
     "output_type": "stream",
     "text": [
      "{'objective': 'regression', 'boosting_type': 'gbdt', 'metric': 'rmse', 'seed': 0, 'learning_rate': 0.1, 'verbosity': -1, 'feature_pre_filter': False, 'lambda_l1': 0.0, 'lambda_l2': 0.0, 'num_leaves': 124, 'feature_fraction': 1.0, 'bagging_fraction': 1.0, 'bagging_freq': 0, 'min_child_samples': 20, 'num_iterations': 10000, 'early_stopping_round': 100, 'categorical_column': [143, 144, 145, 146, 147]}\n",
      "{'objective': 'regression', 'boosting_type': 'gbdt', 'metric': 'rmse', 'seed': 0, 'learning_rate': 0.1, 'verbosity': -1, 'feature_pre_filter': False, 'lambda_l1': 1.784047886757114e-08, 'lambda_l2': 5.161650291157943e-06, 'num_leaves': 29, 'feature_fraction': 0.584, 'bagging_fraction': 1.0, 'bagging_freq': 0, 'min_child_samples': 20, 'num_iterations': 10000, 'early_stopping_round': 100, 'categorical_column': [143, 144, 145, 146, 147]}\n",
      "{'objective': 'regression', 'boosting_type': 'gbdt', 'metric': 'rmse', 'seed': 0, 'learning_rate': 0.1, 'verbosity': -1, 'feature_pre_filter': False, 'lambda_l1': 0.0007745018833180502, 'lambda_l2': 1.9190555245864202e-07, 'num_leaves': 25, 'feature_fraction': 0.8, 'bagging_fraction': 0.9996642823779416, 'bagging_freq': 1, 'min_child_samples': 25, 'num_iterations': 10000, 'early_stopping_round': 100, 'categorical_column': [143, 144, 145, 146, 147]}\n",
      "{'objective': 'regression', 'boosting_type': 'gbdt', 'metric': 'rmse', 'seed': 0, 'learning_rate': 0.1, 'verbosity': -1, 'feature_pre_filter': False, 'lambda_l1': 0.00011339580973156189, 'lambda_l2': 0.0001687974601137855, 'num_leaves': 31, 'feature_fraction': 0.7200000000000001, 'bagging_fraction': 1.0, 'bagging_freq': 0, 'min_child_samples': 20, 'num_iterations': 10000, 'early_stopping_round': 100, 'categorical_column': [143, 144, 145, 146, 147]}\n",
      "{'objective': 'regression', 'boosting_type': 'gbdt', 'metric': 'rmse', 'seed': 0, 'learning_rate': 0.1, 'verbosity': -1, 'feature_pre_filter': False, 'lambda_l1': 1.2808267029168457e-08, 'lambda_l2': 0.00033073283430080425, 'num_leaves': 31, 'feature_fraction': 0.7, 'bagging_fraction': 1.0, 'bagging_freq': 0, 'min_child_samples': 20, 'num_iterations': 10000, 'early_stopping_round': 100, 'categorical_column': [143, 144, 145, 146, 147]}\n"
     ]
    }
   ],
   "source": [
    "# tuning用\n",
    "for model in models1:\n",
    "    print(model.params)"
   ]
  },
  {
   "cell_type": "code",
   "execution_count": 36,
   "id": "subjective-indie",
   "metadata": {},
   "outputs": [],
   "source": [
    "test_X = test_X1\n",
    "assert len(test_X) == len(test)\n",
    "df_test_pred = test_X[['likes']]"
   ]
  },
  {
   "cell_type": "code",
   "execution_count": 37,
   "id": "billion-counter",
   "metadata": {},
   "outputs": [
    {
     "data": {
      "text/html": [
       "<div>\n",
       "<style scoped>\n",
       "    .dataframe tbody tr th:only-of-type {\n",
       "        vertical-align: middle;\n",
       "    }\n",
       "\n",
       "    .dataframe tbody tr th {\n",
       "        vertical-align: top;\n",
       "    }\n",
       "\n",
       "    .dataframe thead th {\n",
       "        text-align: right;\n",
       "    }\n",
       "</style>\n",
       "<table border=\"1\" class=\"dataframe\">\n",
       "  <thead>\n",
       "    <tr style=\"text-align: right;\">\n",
       "      <th></th>\n",
       "      <th>likes</th>\n",
       "    </tr>\n",
       "  </thead>\n",
       "  <tbody>\n",
       "    <tr>\n",
       "      <th>0</th>\n",
       "      <td>0.964462</td>\n",
       "    </tr>\n",
       "    <tr>\n",
       "      <th>1</th>\n",
       "      <td>19.958627</td>\n",
       "    </tr>\n",
       "    <tr>\n",
       "      <th>2</th>\n",
       "      <td>0.473019</td>\n",
       "    </tr>\n",
       "    <tr>\n",
       "      <th>3</th>\n",
       "      <td>5.757328</td>\n",
       "    </tr>\n",
       "    <tr>\n",
       "      <th>4</th>\n",
       "      <td>0.445245</td>\n",
       "    </tr>\n",
       "  </tbody>\n",
       "</table>\n",
       "</div>"
      ],
      "text/plain": [
       "       likes\n",
       "0   0.964462\n",
       "1  19.958627\n",
       "2   0.473019\n",
       "3   5.757328\n",
       "4   0.445245"
      ]
     },
     "execution_count": 37,
     "metadata": {},
     "output_type": "execute_result"
    }
   ],
   "source": [
    "# df_test_pred = pd.DataFrame(test_pred, columns=['likes'])\n",
    "assert len(df_test_pred) == len(test)\n",
    "df_test_pred.to_csv('../output/submit.csv', index=False)\n",
    "df_test_pred.head()"
   ]
  },
  {
   "cell_type": "code",
   "execution_count": 38,
   "id": "collective-stand",
   "metadata": {},
   "outputs": [],
   "source": [
    "def plot_scatter(target, oof):\n",
    "    x1 = target\n",
    "    y1 = oof\n",
    "    xmax = max(max(x1), max(y1))*1.05\n",
    "    fig = plt.figure(figsize=(5, 5))\n",
    "    ax = fig.add_subplot(1, 1, 1)\n",
    "    ax.scatter(x1, y1, alpha=0.3, marker='.')\n",
    "    ax.plot([0, xmax], [0, xmax], color='black', linewidth=0.5)\n",
    "    plt.xlabel('Target')\n",
    "    plt.ylabel('Out of fold')\n",
    "    plt.xlim(0, xmax)\n",
    "    plt.ylim(0, xmax)"
   ]
  },
  {
   "cell_type": "code",
   "execution_count": 39,
   "id": "another-trauma",
   "metadata": {},
   "outputs": [
    {
     "name": "stdout",
     "output_type": "stream",
     "text": [
      "corr1 = 0.8221685086744196\n"
     ]
    },
    {
     "data": {
      "image/png": "[encoded data removed]",
      "text/plain": [
       "<Figure size 360x360 with 1 Axes>"
      ]
     },
     "metadata": {
      "needs_background": "light"
     },
     "output_type": "display_data"
    }
   ],
   "source": [
    "corr1 = train_y1.corr(pd.Series(oof_pred1))\n",
    "print('corr1 =', corr1)\n",
    "plot_scatter(train_y1, oof_pred1)"
   ]
  },
  {
   "cell_type": "code",
   "execution_count": 40,
   "id": "unknown-porter",
   "metadata": {},
   "outputs": [],
   "source": [
    "def plot_hist(oof, pred):\n",
    "    fig, ax = plt.subplots(figsize=(6, 6))\n",
    "    sns.histplot(pred, label='Test Predict', ax=ax, color='black')\n",
    "    sns.histplot(oof, label='Out of fold', ax=ax, color='C1')\n",
    "    ax.legend()\n",
    "    ax.grid()"
   ]
  },
  {
   "cell_type": "code",
   "execution_count": 41,
   "id": "colored-storm",
   "metadata": {},
   "outputs": [
    {
     "data": {
      "image/png": "[encoded data removed]",
      "text/plain": [
       "<Figure size 432x432 with 1 Axes>"
      ]
     },
     "metadata": {
      "needs_background": "light"
     },
     "output_type": "display_data"
    }
   ],
   "source": [
    "plot_hist(oof_pred1, np.log1p(df_test_pred))"
   ]
  },
  {
   "cell_type": "code",
   "execution_count": 42,
   "id": "younger-startup",
   "metadata": {},
   "outputs": [
    {
     "name": "stdout",
     "output_type": "stream",
     "text": [
      "- feat_cnt = 203\n",
      "- score = 1.01014\n",
      "- corr = 0.82217\n"
     ]
    }
   ],
   "source": [
    "print(f'- feat_cnt = {feat_cnt1}')\n",
    "print(f'- score = {score1:.5f}')\n",
    "print(f'- corr = {corr1:.5f}')"
   ]
  },
  {
   "cell_type": "markdown",
   "id": "bearing-culture",
   "metadata": {},
   "source": [
    "#### baseline_15: fit->whole, long_more_titleのみ, titleなし\n",
    "- feat_cnt = 203\n",
    "- score = 1.01014\n",
    "- corr = 0.82217\n",
    "- LB = 0.968\n",
    "\n",
    "#### baseline_14: long_more_title(50), title(30)\n",
    "- feat_cnt = 233\n",
    "- score = 1.00905\n",
    "- corr = 0.82265\n",
    "- LB = 0.9644 ★best★\n",
    "\n",
    "#### baseline_13: title\n",
    "- feat_cnt = 203\n",
    "- score = 1.01047\n",
    "- corr = 0.82207\n",
    "- LB = 0.9657\n",
    "\n",
    "#### baseline_12: description\n",
    "- feat_cnt = 153\n",
    "- score = 1.01823\n",
    "- corr = 0.81906\n",
    "- LB = 0.9804\n",
    "\n",
    "#### baseline_11: principal_maker, maker\n",
    "- feat_cnt = 103\n",
    "- score = 1.03405\n",
    "- corr = 0.81277\n",
    "- LB = 1.0012\n",
    "\n",
    "#### baseline_10-1: tuning\n",
    "- feat_cnt = 96\n",
    "- score = 1.03211\n",
    "- corr = 0.81355\n",
    "- LB = 1.0026\n",
    "\n",
    "#### tuning_10:\n",
    "- feat_cnt = 96\n",
    "- score = 1.02586\n",
    "- corr = 0.81605\n",
    "\n",
    "#### baseline_9-1: TE n_split=5に戻す, testにしかいないprincipal_makerは別モデル\n",
    "- feat_cnt = 96, 92\n",
    "- score = 1.03494, 1.05633\n",
    "- corr = 0.81246, 0.80358\n",
    "- LB = 1.0732\n",
    "\n",
    "#### baseline_8: TE n_split=100\n",
    "- feat_cnt = 96\n",
    "- score = 1.00019\n",
    "- corr = 0.82619\n",
    "- LB = 1.0166\n",
    "\n",
    "#### baseline_7: TE_principal_maker, TE_principal_or_first_maker\n",
    "- feat_cnt = 96\n",
    "- score = 1.03494\n",
    "- corr = 0.81246\n",
    "- LB = 1.0083\n",
    "\n",
    "#### baseline_6: StratifiedKFold(n_splits=5)\n",
    "- feat_cnt = 94\n",
    "- score = 1.04358\n",
    "- corr = 0.80887\n",
    "- LB = 1.0219\n",
    "\n",
    "#### baseline_5: dimension, area, country\n",
    "- feat_cnt = 94\n",
    "- score = 1.04760\n",
    "- corr = 0.80725\n",
    "- LB = 1.0197\n",
    "\n",
    "#### baseline_4: color_count, categorical_feature\n",
    "- feat_cnt = 75\n",
    "- score = 1.05437\n",
    "- corr = 0.80446\n",
    "- LB = 1.0223\n",
    "\n",
    "#### baseline_3: main_color\n",
    "- feat_cnt = 73\n",
    "- score = 1.06423\n",
    "- corr = 0.80027\n",
    "- LB = 1.0363\n",
    "\n",
    "#### baseline_2: material, object_collection, place, technique, person\n",
    "- feat_cnt = 61\n",
    "- score = 1.07486\n",
    "- corr = 0.79573\n",
    "- LB = 1.0525\n",
    "\n",
    "#### baseline_1: size, string_length\n",
    "- feat_cnt = 25\n",
    "- score = 1.11432\n",
    "- corr = 0.77827\n",
    "- LB = 1.1037\n",
    "\n",
    "#### baseline_0\n",
    "- feat_cnt = 16\n",
    "- score = 1.20651\n",
    "- corr = 0.73332\n",
    "- LB = 1.1827"
   ]
  },
  {
   "cell_type": "code",
   "execution_count": 43,
   "id": "healthy-relief",
   "metadata": {},
   "outputs": [],
   "source": [
    "def visualize_importance(models):\n",
    "    feature_importance_df = pd.DataFrame()\n",
    "    for i, model in enumerate(models):\n",
    "        _df = pd.DataFrame()\n",
    "        _df['feature_importance'] = model.feature_importance()\n",
    "        _df['column'] = model.feature_name()\n",
    "        _df['fold'] = i + 1\n",
    "        feature_importance_df = pd.concat([feature_importance_df, _df], \n",
    "                                          axis=0, ignore_index=True)\n",
    "\n",
    "    order = feature_importance_df.groupby('column')\\\n",
    "        .sum()[['feature_importance']]\\\n",
    "        .sort_values('feature_importance', ascending=False).index[:50]\n",
    "\n",
    "    fig, ax = plt.subplots(figsize=(8, max(6, len(order) * .25)))\n",
    "    sns.boxenplot(data=feature_importance_df, \n",
    "                  x='feature_importance', \n",
    "                  y='column', \n",
    "                  order=order, \n",
    "                  ax=ax, \n",
    "                  palette='viridis', \n",
    "                  orient='h')\n",
    "    ax.tick_params(axis='x', rotation=90)\n",
    "    ax.set_title('Importance')\n",
    "    ax.grid()\n",
    "    fig.tight_layout()\n",
    "    return fig, ax"
   ]
  },
  {
   "cell_type": "code",
   "execution_count": 44,
   "id": "qualified-event",
   "metadata": {},
   "outputs": [
    {
     "data": {
      "image/png": "[encoded data removed]",
      "text/plain": [
       "<Figure size 576x900 with 1 Axes>"
      ]
     },
     "metadata": {
      "needs_background": "light"
     },
     "output_type": "display_data"
    }
   ],
   "source": [
    "fig, ax = visualize_importance(models1)"
   ]
  },
  {
   "cell_type": "code",
   "execution_count": null,
   "id": "framed-brazil",
   "metadata": {},
   "outputs": [],
   "source": []
  }
 ],
 "metadata": {
  "kernelspec": {
   "display_name": "Python 3",
   "language": "python",
   "name": "python3"
  },
  "language_info": {
   "codemirror_mode": {
    "name": "ipython",
    "version": 3
   },
   "file_extension": ".py",
   "mimetype": "text/x-python",
   "name": "python",
   "nbconvert_exporter": "python",
   "pygments_lexer": "ipython3",
   "version": "3.9.2"
  }
 },
 "nbformat": 4,
 "nbformat_minor": 5
}
