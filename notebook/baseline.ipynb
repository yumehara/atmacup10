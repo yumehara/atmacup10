{
 "cells": [
  {
   "cell_type": "code",
   "execution_count": 1,
   "id": "documentary-ecuador",
   "metadata": {},
   "outputs": [],
   "source": [
    "import numpy as np\n",
    "import pandas as pd\n",
    "import datetime\n",
    "import matplotlib.pyplot as plt\n",
    "import seaborn as sns\n",
    "from PIL import ImageColor\n",
    "from sklearn import preprocessing\n",
    "from sklearn.model_selection import KFold\n",
    "from sklearn.model_selection import StratifiedKFold\n",
    "import lightgbm as lgbm\n",
    "from sklearn.metrics import mean_squared_error\n",
    "from sklearn.preprocessing import LabelEncoder\n",
    "pd.set_option('display.max_Columns', 100)"
   ]
  },
  {
   "cell_type": "code",
   "execution_count": 2,
   "id": "american-reality",
   "metadata": {},
   "outputs": [
    {
     "name": "stdout",
     "output_type": "stream",
     "text": [
      "color (73636, 6)\n"
     ]
    }
   ],
   "source": [
    "color = pd.read_csv('../input/color.csv')\n",
    "color_rgb = pd.DataFrame(color['hex'].str.strip().map(ImageColor.getrgb).values.tolist(), \n",
    "                         columns=['color_r', 'color_g', 'color_b'])\n",
    "color = pd.concat([color, color_rgb], axis=1)\n",
    "print('color', color.shape)"
   ]
  },
  {
   "cell_type": "code",
   "execution_count": 3,
   "id": "treated-subdivision",
   "metadata": {},
   "outputs": [
    {
     "name": "stdout",
     "output_type": "stream",
     "text": [
      "palette (527890, 5)\n",
      "material (35394, 2)\n",
      "object_collection (14210, 2)\n",
      "technique (20481, 2)\n",
      "maker (3291, 6)\n",
      "principal_maker (24538, 6)\n",
      "principal_maker_occupation (25372, 2)\n",
      "train (12026, 19)\n",
      "test (12008, 18)\n",
      "whole (24034, 19)\n"
     ]
    }
   ],
   "source": [
    "palette = pd.read_csv('../input/palette.csv')\n",
    "print('palette', palette.shape)\n",
    "material = pd.read_csv('../input/material.csv')\n",
    "print('material', material.shape)\n",
    "object_collection = pd.read_csv('../input/object_collection.csv')\n",
    "print('object_collection', object_collection.shape)\n",
    "technique = pd.read_csv('../input/technique.csv')\n",
    "print('technique', technique.shape)\n",
    "maker = pd.read_csv('../input/maker.csv')\n",
    "print('maker', maker.shape)\n",
    "principal_maker = pd.read_csv('../input/principal_maker.csv')\n",
    "print('principal_maker', principal_maker.shape)\n",
    "principal_maker_occupation = pd.read_csv('../input/principal_maker_occupation.csv')\n",
    "print('principal_maker_occupation', principal_maker_occupation.shape)\n",
    "train = pd.read_csv('../input/train.csv')\n",
    "print('train', train.shape)\n",
    "test = pd.read_csv('../input/test.csv')\n",
    "print('test', test.shape)\n",
    "whole = pd.concat([train, test])\n",
    "print('whole', whole.shape)"
   ]
  },
  {
   "cell_type": "code",
   "execution_count": 4,
   "id": "hidden-phoenix",
   "metadata": {},
   "outputs": [],
   "source": [
    "def create_numeric_feature(df_input):\n",
    "    cp = df_input.copy()\n",
    "    cp['acquisition_year'] = pd.to_datetime(df_input['acquisition_date']).dt.year\n",
    "    return cp[['acquisition_year', 'dating_sorting_date', 'dating_period', 'dating_year_early', 'dating_year_late']]"
   ]
  },
  {
   "cell_type": "code",
   "execution_count": 5,
   "id": "every-science",
   "metadata": {},
   "outputs": [],
   "source": [
    "def create_count_encoding_feature_sub(df_whole, df_input, column):\n",
    "    cp = df_input.copy()\n",
    "    newcol = 'CE_'+column\n",
    "    group = df_whole.groupby(column).size().rename(newcol)\n",
    "    group = pd.DataFrame(group).reset_index()\n",
    "    cp = pd.merge(cp, group, on=column, how='left')\n",
    "    return cp[[newcol]].fillna(0)"
   ]
  },
  {
   "cell_type": "code",
   "execution_count": 6,
   "id": "entitled-processing",
   "metadata": {},
   "outputs": [],
   "source": [
    "def create_count_encoding_feature(df_input):\n",
    "    col_list = ['art_series_id', 'principal_maker', 'principal_or_first_maker', \n",
    "                'copyright_holder', 'acquisition_method', 'dating_sorting_date']\n",
    "    cp = df_input.copy()\n",
    "    org_col = cp.columns\n",
    "    for col in col_list:\n",
    "        tmp = create_count_encoding_feature_sub(whole, cp, col)\n",
    "        cp = pd.concat([cp, tmp], axis=1)\n",
    "    return cp.drop(columns=org_col)"
   ]
  },
  {
   "cell_type": "code",
   "execution_count": 7,
   "id": "restricted-holmes",
   "metadata": {},
   "outputs": [],
   "source": [
    "def create_label_encoding_feature(df_input):\n",
    "    col_list = ['art_series_id', 'principal_maker', 'principal_or_first_maker', \n",
    "                'copyright_holder', 'acquisition_method']\n",
    "    out_df = pd.DataFrame()\n",
    "    le = LabelEncoder()\n",
    "    for col in col_list:\n",
    "        le.fit(whole[col])\n",
    "        out_df[col] = le.transform(df_input[col])\n",
    "    return out_df.add_prefix('LE_')"
   ]
  },
  {
   "cell_type": "code",
   "execution_count": 8,
   "id": "technological-fruit",
   "metadata": {},
   "outputs": [],
   "source": [
    "def create_string_length_feature(df_input):\n",
    "    out_df = pd.DataFrame()\n",
    "    str_columns = ['title', 'long_title', 'sub_title', 'more_title', 'description']\n",
    "    for c in str_columns:\n",
    "        out_df[c] = df_input[c].str.len()\n",
    "    return out_df.add_prefix('LN_')"
   ]
  },
  {
   "cell_type": "code",
   "execution_count": 9,
   "id": "major-lending",
   "metadata": {},
   "outputs": [],
   "source": [
    "def create_sub_title_feature(df_input):\n",
    "    out = pd.DataFrame(index=df_input.index)\n",
    "    for axis in ['h', 'w', 't', 'd']:\n",
    "        column_name = f'size_{axis}'\n",
    "        size_info = df_input['sub_title'].str.extract(r'{} (\\d*|\\d*\\.\\d*)(cm|mm)'.format(axis))\n",
    "        size_info = size_info.rename(columns={0: column_name, 1: 'unit'})\n",
    "        size_info[column_name] = size_info[column_name].replace('', np.nan).astype(float)\n",
    "        size_info[column_name] = size_info.apply(lambda row: row[column_name] * 10 if row['unit'] == 'cm' else row[column_name], axis=1) \n",
    "        out[column_name] = size_info[column_name]\n",
    "    return out"
   ]
  },
  {
   "cell_type": "code",
   "execution_count": 10,
   "id": "blond-cooper",
   "metadata": {},
   "outputs": [],
   "source": [
    "def create_all_feature(df_input):\n",
    "    func_list = [\n",
    "        create_numeric_feature,\n",
    "        create_count_encoding_feature,\n",
    "        create_label_encoding_feature,\n",
    "        create_string_length_feature,\n",
    "        create_sub_title_feature,\n",
    "    ]\n",
    "    out = pd.DataFrame(index=df_input.index)\n",
    "    for func in func_list:\n",
    "        out = pd.concat([out, func(df_input)], axis=1)\n",
    "        \n",
    "    assert len(df_input) == len(out)\n",
    "    return out"
   ]
  },
  {
   "cell_type": "code",
   "execution_count": 11,
   "id": "binding-costs",
   "metadata": {},
   "outputs": [],
   "source": [
    "def split_train_target(df_input):\n",
    "    target = df_input[['likes']].copy()\n",
    "    target['target'] = target['likes'].apply(lambda x: np.log1p(x))\n",
    "    return target['target']"
   ]
  },
  {
   "cell_type": "code",
   "execution_count": 12,
   "id": "canadian-munich",
   "metadata": {},
   "outputs": [
    {
     "name": "stdout",
     "output_type": "stream",
     "text": [
      "(12026, 25)\n",
      "(12026,)\n",
      "(12008, 25)\n"
     ]
    }
   ],
   "source": [
    "train_X = create_all_feature(train)\n",
    "test_X = create_all_feature(test)\n",
    "train_y = split_train_target(train)\n",
    "print(train_X.shape)\n",
    "print(train_y.shape)\n",
    "print(test_X.shape)\n",
    "feat_cnt = len(train_X.columns)"
   ]
  },
  {
   "cell_type": "code",
   "execution_count": 13,
   "id": "stainless-workstation",
   "metadata": {},
   "outputs": [
    {
     "data": {
      "text/html": [
       "<div>\n",
       "<style scoped>\n",
       "    .dataframe tbody tr th:only-of-type {\n",
       "        vertical-align: middle;\n",
       "    }\n",
       "\n",
       "    .dataframe tbody tr th {\n",
       "        vertical-align: top;\n",
       "    }\n",
       "\n",
       "    .dataframe thead th {\n",
       "        text-align: right;\n",
       "    }\n",
       "</style>\n",
       "<table border=\"1\" class=\"dataframe\">\n",
       "  <thead>\n",
       "    <tr style=\"text-align: right;\">\n",
       "      <th></th>\n",
       "      <th>acquisition_year</th>\n",
       "      <th>dating_sorting_date</th>\n",
       "      <th>dating_period</th>\n",
       "      <th>dating_year_early</th>\n",
       "      <th>dating_year_late</th>\n",
       "      <th>CE_art_series_id</th>\n",
       "      <th>CE_principal_maker</th>\n",
       "      <th>CE_principal_or_first_maker</th>\n",
       "      <th>CE_copyright_holder</th>\n",
       "      <th>CE_acquisition_method</th>\n",
       "      <th>CE_dating_sorting_date</th>\n",
       "      <th>LE_art_series_id</th>\n",
       "      <th>LE_principal_maker</th>\n",
       "      <th>LE_principal_or_first_maker</th>\n",
       "      <th>LE_copyright_holder</th>\n",
       "      <th>LE_acquisition_method</th>\n",
       "      <th>LN_title</th>\n",
       "      <th>LN_long_title</th>\n",
       "      <th>LN_sub_title</th>\n",
       "      <th>LN_more_title</th>\n",
       "      <th>LN_description</th>\n",
       "      <th>size_h</th>\n",
       "      <th>size_w</th>\n",
       "      <th>size_t</th>\n",
       "      <th>size_d</th>\n",
       "    </tr>\n",
       "  </thead>\n",
       "  <tbody>\n",
       "    <tr>\n",
       "      <th>0</th>\n",
       "      <td>1808.0</td>\n",
       "      <td>1660.0</td>\n",
       "      <td>17</td>\n",
       "      <td>1660.0</td>\n",
       "      <td>1685.0</td>\n",
       "      <td>1</td>\n",
       "      <td>5</td>\n",
       "      <td>5.0</td>\n",
       "      <td>0.0</td>\n",
       "      <td>8387.0</td>\n",
       "      <td>138.0</td>\n",
       "      <td>12962</td>\n",
       "      <td>1782</td>\n",
       "      <td>1793</td>\n",
       "      <td>42</td>\n",
       "      <td>5</td>\n",
       "      <td>21</td>\n",
       "      <td>48</td>\n",
       "      <td>39.0</td>\n",
       "      <td>21.0</td>\n",
       "      <td>NaN</td>\n",
       "      <td>665.0</td>\n",
       "      <td>537.0</td>\n",
       "      <td>25.0</td>\n",
       "      <td>47.0</td>\n",
       "    </tr>\n",
       "    <tr>\n",
       "      <th>1</th>\n",
       "      <td>2000.0</td>\n",
       "      <td>1900.0</td>\n",
       "      <td>19</td>\n",
       "      <td>1900.0</td>\n",
       "      <td>1930.0</td>\n",
       "      <td>1</td>\n",
       "      <td>364</td>\n",
       "      <td>364.0</td>\n",
       "      <td>364.0</td>\n",
       "      <td>8387.0</td>\n",
       "      <td>637.0</td>\n",
       "      <td>13131</td>\n",
       "      <td>2880</td>\n",
       "      <td>2899</td>\n",
       "      <td>39</td>\n",
       "      <td>5</td>\n",
       "      <td>15</td>\n",
       "      <td>64</td>\n",
       "      <td>17.0</td>\n",
       "      <td>15.0</td>\n",
       "      <td>NaN</td>\n",
       "      <td>165.0</td>\n",
       "      <td>223.0</td>\n",
       "      <td>NaN</td>\n",
       "      <td>NaN</td>\n",
       "    </tr>\n",
       "    <tr>\n",
       "      <th>2</th>\n",
       "      <td>2007.0</td>\n",
       "      <td>1860.0</td>\n",
       "      <td>19</td>\n",
       "      <td>1860.0</td>\n",
       "      <td>1880.0</td>\n",
       "      <td>1</td>\n",
       "      <td>1</td>\n",
       "      <td>1.0</td>\n",
       "      <td>0.0</td>\n",
       "      <td>3196.0</td>\n",
       "      <td>727.0</td>\n",
       "      <td>6653</td>\n",
       "      <td>3063</td>\n",
       "      <td>3082</td>\n",
       "      <td>42</td>\n",
       "      <td>2</td>\n",
       "      <td>21</td>\n",
       "      <td>52</td>\n",
       "      <td>15.0</td>\n",
       "      <td>21.0</td>\n",
       "      <td>46.0</td>\n",
       "      <td>87.0</td>\n",
       "      <td>56.0</td>\n",
       "      <td>NaN</td>\n",
       "      <td>NaN</td>\n",
       "    </tr>\n",
       "    <tr>\n",
       "      <th>3</th>\n",
       "      <td>1881.0</td>\n",
       "      <td>1850.0</td>\n",
       "      <td>19</td>\n",
       "      <td>1850.0</td>\n",
       "      <td>1879.0</td>\n",
       "      <td>1</td>\n",
       "      <td>1</td>\n",
       "      <td>1.0</td>\n",
       "      <td>0.0</td>\n",
       "      <td>1161.0</td>\n",
       "      <td>458.0</td>\n",
       "      <td>21814</td>\n",
       "      <td>404</td>\n",
       "      <td>406</td>\n",
       "      <td>42</td>\n",
       "      <td>0</td>\n",
       "      <td>16</td>\n",
       "      <td>53</td>\n",
       "      <td>25.0</td>\n",
       "      <td>16.0</td>\n",
       "      <td>71.0</td>\n",
       "      <td>1790.0</td>\n",
       "      <td>2480.0</td>\n",
       "      <td>40.0</td>\n",
       "      <td>NaN</td>\n",
       "    </tr>\n",
       "    <tr>\n",
       "      <th>4</th>\n",
       "      <td>1971.0</td>\n",
       "      <td>1825.0</td>\n",
       "      <td>19</td>\n",
       "      <td>1825.0</td>\n",
       "      <td>1874.0</td>\n",
       "      <td>1</td>\n",
       "      <td>3457</td>\n",
       "      <td>3373.0</td>\n",
       "      <td>0.0</td>\n",
       "      <td>2315.0</td>\n",
       "      <td>33.0</td>\n",
       "      <td>11266</td>\n",
       "      <td>3246</td>\n",
       "      <td>3267</td>\n",
       "      <td>42</td>\n",
       "      <td>7</td>\n",
       "      <td>27</td>\n",
       "      <td>51</td>\n",
       "      <td>27.0</td>\n",
       "      <td>27.0</td>\n",
       "      <td>28.0</td>\n",
       "      <td>130.0</td>\n",
       "      <td>175.0</td>\n",
       "      <td>NaN</td>\n",
       "      <td>7.0</td>\n",
       "    </tr>\n",
       "  </tbody>\n",
       "</table>\n",
       "</div>"
      ],
      "text/plain": [
       "   acquisition_year  dating_sorting_date  dating_period  dating_year_early  \\\n",
       "0            1808.0               1660.0             17             1660.0   \n",
       "1            2000.0               1900.0             19             1900.0   \n",
       "2            2007.0               1860.0             19             1860.0   \n",
       "3            1881.0               1850.0             19             1850.0   \n",
       "4            1971.0               1825.0             19             1825.0   \n",
       "\n",
       "   dating_year_late  CE_art_series_id  CE_principal_maker  \\\n",
       "0            1685.0                 1                   5   \n",
       "1            1930.0                 1                 364   \n",
       "2            1880.0                 1                   1   \n",
       "3            1879.0                 1                   1   \n",
       "4            1874.0                 1                3457   \n",
       "\n",
       "   CE_principal_or_first_maker  CE_copyright_holder  CE_acquisition_method  \\\n",
       "0                          5.0                  0.0                 8387.0   \n",
       "1                        364.0                364.0                 8387.0   \n",
       "2                          1.0                  0.0                 3196.0   \n",
       "3                          1.0                  0.0                 1161.0   \n",
       "4                       3373.0                  0.0                 2315.0   \n",
       "\n",
       "   CE_dating_sorting_date  LE_art_series_id  LE_principal_maker  \\\n",
       "0                   138.0             12962                1782   \n",
       "1                   637.0             13131                2880   \n",
       "2                   727.0              6653                3063   \n",
       "3                   458.0             21814                 404   \n",
       "4                    33.0             11266                3246   \n",
       "\n",
       "   LE_principal_or_first_maker  LE_copyright_holder  LE_acquisition_method  \\\n",
       "0                         1793                   42                      5   \n",
       "1                         2899                   39                      5   \n",
       "2                         3082                   42                      2   \n",
       "3                          406                   42                      0   \n",
       "4                         3267                   42                      7   \n",
       "\n",
       "   LN_title  LN_long_title  LN_sub_title  LN_more_title  LN_description  \\\n",
       "0        21             48          39.0           21.0             NaN   \n",
       "1        15             64          17.0           15.0             NaN   \n",
       "2        21             52          15.0           21.0            46.0   \n",
       "3        16             53          25.0           16.0            71.0   \n",
       "4        27             51          27.0           27.0            28.0   \n",
       "\n",
       "   size_h  size_w  size_t  size_d  \n",
       "0   665.0   537.0    25.0    47.0  \n",
       "1   165.0   223.0     NaN     NaN  \n",
       "2    87.0    56.0     NaN     NaN  \n",
       "3  1790.0  2480.0    40.0     NaN  \n",
       "4   130.0   175.0     NaN     7.0  "
      ]
     },
     "execution_count": 13,
     "metadata": {},
     "output_type": "execute_result"
    }
   ],
   "source": [
    "train_X.head()"
   ]
  },
  {
   "cell_type": "code",
   "execution_count": 14,
   "id": "thrown-encoding",
   "metadata": {},
   "outputs": [],
   "source": [
    "LGBM_PARAM = {\n",
    "    'objective' : 'regression',\n",
    "    'boosting_type': 'gbdt',\n",
    "    'metric' : 'rmse',\n",
    "    'seed' : 0,\n",
    "    'learning_rate':  0.1,\n",
    "    'max_depth' : 6,\n",
    "    'verbosity': -1\n",
    "}\n",
    "KFOLD = 4"
   ]
  },
  {
   "cell_type": "code",
   "execution_count": 15,
   "id": "unusual-composition",
   "metadata": {},
   "outputs": [],
   "source": [
    "def train_kfold(X, y, params=LGBM_PARAM, k_fold=KFOLD):\n",
    "    rmse_list = []\n",
    "    models = []\n",
    "    oof_pred = np.zeros_like(y, dtype=np.float)\n",
    "\n",
    "    kf = KFold(n_splits=k_fold, shuffle=True, random_state=0)\n",
    "    for train_index, valid_index in kf.split(X):\n",
    "\n",
    "        x_train, x_valid = X.iloc[train_index], X.iloc[valid_index]\n",
    "        y_train, y_valid = y.iloc[train_index], y.iloc[valid_index]\n",
    "\n",
    "        lgbm_train = lgbm.Dataset(x_train, y_train)\n",
    "        lgbm_eval = lgbm.Dataset(x_valid, y_valid, reference=lgbm_train)\n",
    "        lgbm_model = lgbm.train(params, \n",
    "                                                lgbm_train, \n",
    "                                                valid_sets=lgbm_eval,\n",
    "                                                num_boost_round=10000,\n",
    "                                                early_stopping_rounds=100,\n",
    "                                                verbose_eval=-1)\n",
    "        y_pred = lgbm_model.predict(x_valid, num_iteration=lgbm_model.best_iteration)\n",
    "        oof_pred[valid_index] = y_pred\n",
    "\n",
    "        rmse = np.sqrt(mean_squared_error(y_valid, y_pred))\n",
    "\n",
    "        rmse_list.append(rmse)\n",
    "        models.append(lgbm_model)\n",
    "\n",
    "    score = np.sqrt(mean_squared_error(y, oof_pred))\n",
    "    print('- TRAIN RMSE={:.4f}'.format(score))\n",
    "\n",
    "    return models, oof_pred, score"
   ]
  },
  {
   "cell_type": "code",
   "execution_count": 16,
   "id": "comparable-tyler",
   "metadata": {},
   "outputs": [],
   "source": [
    "def predict_test(test_X, models):\n",
    "    pred_list = []\n",
    "    for model in models:\n",
    "        pred = model.predict(test_X, num_iteration = model.best_iteration)\n",
    "        pred_list.append(pred)\n",
    "    pred_test = np.mean(pred_list, axis=0)\n",
    "    return pred_test"
   ]
  },
  {
   "cell_type": "code",
   "execution_count": 17,
   "id": "aging-morning",
   "metadata": {},
   "outputs": [],
   "source": [
    "def revert_to_real(y_log):\n",
    "    _pred = np.expm1(y_log)\n",
    "    _pred = np.where(_pred < 0, 0, _pred)\n",
    "    return _pred"
   ]
  },
  {
   "cell_type": "code",
   "execution_count": 18,
   "id": "constant-virginia",
   "metadata": {},
   "outputs": [
    {
     "name": "stdout",
     "output_type": "stream",
     "text": [
      "[LightGBM] [Warning] Accuracy may be bad since you didn't explicitly set num_leaves OR 2^max_depth > num_leaves. (num_leaves=31).\n",
      "Training until validation scores don't improve for 100 rounds\n",
      "Early stopping, best iteration is:\n",
      "[216]\tvalid_0's rmse: 1.08341\n",
      "[LightGBM] [Warning] Accuracy may be bad since you didn't explicitly set num_leaves OR 2^max_depth > num_leaves. (num_leaves=31).\n",
      "Training until validation scores don't improve for 100 rounds\n",
      "Early stopping, best iteration is:\n",
      "[142]\tvalid_0's rmse: 1.16831\n",
      "[LightGBM] [Warning] Accuracy may be bad since you didn't explicitly set num_leaves OR 2^max_depth > num_leaves. (num_leaves=31).\n",
      "Training until validation scores don't improve for 100 rounds\n",
      "Early stopping, best iteration is:\n",
      "[158]\tvalid_0's rmse: 1.09589\n",
      "[LightGBM] [Warning] Accuracy may be bad since you didn't explicitly set num_leaves OR 2^max_depth > num_leaves. (num_leaves=31).\n",
      "Training until validation scores don't improve for 100 rounds\n",
      "Early stopping, best iteration is:\n",
      "[297]\tvalid_0's rmse: 1.10775\n",
      "- TRAIN RMSE=1.1143\n"
     ]
    }
   ],
   "source": [
    "models, oof_pred, score = train_kfold(train_X, train_y)\n",
    "pred = predict_test(test_X, models)\n",
    "test_pred = revert_to_real(pred)"
   ]
  },
  {
   "cell_type": "code",
   "execution_count": 19,
   "id": "billion-counter",
   "metadata": {},
   "outputs": [
    {
     "data": {
      "text/html": [
       "<div>\n",
       "<style scoped>\n",
       "    .dataframe tbody tr th:only-of-type {\n",
       "        vertical-align: middle;\n",
       "    }\n",
       "\n",
       "    .dataframe tbody tr th {\n",
       "        vertical-align: top;\n",
       "    }\n",
       "\n",
       "    .dataframe thead th {\n",
       "        text-align: right;\n",
       "    }\n",
       "</style>\n",
       "<table border=\"1\" class=\"dataframe\">\n",
       "  <thead>\n",
       "    <tr style=\"text-align: right;\">\n",
       "      <th></th>\n",
       "      <th>likes</th>\n",
       "    </tr>\n",
       "  </thead>\n",
       "  <tbody>\n",
       "    <tr>\n",
       "      <th>0</th>\n",
       "      <td>0.574629</td>\n",
       "    </tr>\n",
       "    <tr>\n",
       "      <th>1</th>\n",
       "      <td>32.604165</td>\n",
       "    </tr>\n",
       "    <tr>\n",
       "      <th>2</th>\n",
       "      <td>0.525244</td>\n",
       "    </tr>\n",
       "    <tr>\n",
       "      <th>3</th>\n",
       "      <td>4.335554</td>\n",
       "    </tr>\n",
       "    <tr>\n",
       "      <th>4</th>\n",
       "      <td>1.130891</td>\n",
       "    </tr>\n",
       "  </tbody>\n",
       "</table>\n",
       "</div>"
      ],
      "text/plain": [
       "       likes\n",
       "0   0.574629\n",
       "1  32.604165\n",
       "2   0.525244\n",
       "3   4.335554\n",
       "4   1.130891"
      ]
     },
     "execution_count": 19,
     "metadata": {},
     "output_type": "execute_result"
    }
   ],
   "source": [
    "df_test_pred = pd.DataFrame(test_pred, columns=['likes'])\n",
    "assert len(df_test_pred) == len(test)\n",
    "df_test_pred.to_csv('../output/submit.csv', index=False)\n",
    "df_test_pred.head()"
   ]
  },
  {
   "cell_type": "code",
   "execution_count": 20,
   "id": "collective-stand",
   "metadata": {},
   "outputs": [],
   "source": [
    "def plot_scatter(target, oof):\n",
    "    x1 = target\n",
    "    y1 = oof\n",
    "    xmax = max(max(x1), max(y1))*1.05\n",
    "    fig = plt.figure(figsize=(5, 5))\n",
    "    ax = fig.add_subplot(1, 1, 1)\n",
    "    ax.scatter(x1, y1, alpha=0.3, marker='.')\n",
    "    ax.plot([0, xmax], [0, xmax], color='black', linewidth=0.5)\n",
    "    plt.xlabel('Target')\n",
    "    plt.ylabel('Out of fold')\n",
    "    plt.xlim(0, xmax)\n",
    "    plt.ylim(0, xmax)"
   ]
  },
  {
   "cell_type": "code",
   "execution_count": 21,
   "id": "another-trauma",
   "metadata": {},
   "outputs": [
    {
     "data": {
      "image/png": "[encoded data removed]",
      "text/plain": [
       "<Figure size 360x360 with 1 Axes>"
      ]
     },
     "metadata": {
      "needs_background": "light"
     },
     "output_type": "display_data"
    }
   ],
   "source": [
    "corr = train_y.corr(pd.Series(oof_pred))\n",
    "plot_scatter(train_y, oof_pred)"
   ]
  },
  {
   "cell_type": "code",
   "execution_count": 22,
   "id": "recorded-ordering",
   "metadata": {},
   "outputs": [],
   "source": [
    "def plot_hist(oof, pred):\n",
    "    fig, ax = plt.subplots(figsize=(6, 6))\n",
    "    sns.histplot(pred, label='Test Predict', ax=ax, color='black')\n",
    "    sns.histplot(oof, label='Out of fold', ax=ax, color='C1')\n",
    "    ax.legend()\n",
    "    ax.grid()"
   ]
  },
  {
   "cell_type": "code",
   "execution_count": 23,
   "id": "rapid-feeding",
   "metadata": {},
   "outputs": [
    {
     "data": {
      "image/png": "[encoded data removed]",
      "text/plain": [
       "<Figure size 432x432 with 1 Axes>"
      ]
     },
     "metadata": {
      "needs_background": "light"
     },
     "output_type": "display_data"
    }
   ],
   "source": [
    "plot_hist(oof_pred, pred)"
   ]
  },
  {
   "cell_type": "code",
   "execution_count": 24,
   "id": "younger-startup",
   "metadata": {},
   "outputs": [
    {
     "name": "stdout",
     "output_type": "stream",
     "text": [
      "- feat_cnt = 25\n",
      "- score = 1.11432\n",
      "- corr = 0.77827\n"
     ]
    }
   ],
   "source": [
    "print('- feat_cnt =', feat_cnt)\n",
    "print(f'- score = {score:.5f}')\n",
    "print(f'- corr = {corr:.5f}')"
   ]
  },
  {
   "cell_type": "markdown",
   "id": "bearing-culture",
   "metadata": {},
   "source": [
    "#### baseline_1: size, string_length\n",
    "- feat_cnt = 25\n",
    "- score = 1.11432\n",
    "- corr = 0.77827\n",
    "- LB = 1.1037\n",
    "\n",
    "#### baseline_0\n",
    "- feat_cnt = 16\n",
    "- score = 1.20651\n",
    "- corr = 0.73332\n",
    "- LB = 1.1827"
   ]
  },
  {
   "cell_type": "code",
   "execution_count": 25,
   "id": "postal-privacy",
   "metadata": {},
   "outputs": [],
   "source": [
    "def visualize_importance(models):\n",
    "    feature_importance_df = pd.DataFrame()\n",
    "    for i, model in enumerate(models):\n",
    "        _df = pd.DataFrame()\n",
    "        _df['feature_importance'] = model.feature_importance()\n",
    "        _df['column'] = model.feature_name()\n",
    "        _df['fold'] = i + 1\n",
    "        feature_importance_df = pd.concat([feature_importance_df, _df], \n",
    "                                          axis=0, ignore_index=True)\n",
    "\n",
    "    order = feature_importance_df.groupby('column')\\\n",
    "        .sum()[['feature_importance']]\\\n",
    "        .sort_values('feature_importance', ascending=False).index[:50]\n",
    "\n",
    "    fig, ax = plt.subplots(figsize=(8, max(6, len(order) * .25)))\n",
    "    sns.boxenplot(data=feature_importance_df, \n",
    "                  x='feature_importance', \n",
    "                  y='column', \n",
    "                  order=order, \n",
    "                  ax=ax, \n",
    "                  palette='viridis', \n",
    "                  orient='h')\n",
    "    ax.tick_params(axis='x', rotation=90)\n",
    "    ax.set_title('Importance')\n",
    "    ax.grid()\n",
    "    fig.tight_layout()\n",
    "    return fig, ax"
   ]
  },
  {
   "cell_type": "code",
   "execution_count": 26,
   "id": "disturbed-supply",
   "metadata": {},
   "outputs": [
    {
     "data": {
      "image/png": "[encoded data removed]",
      "text/plain": [
       "<Figure size 576x450 with 1 Axes>"
      ]
     },
     "metadata": {
      "needs_background": "light"
     },
     "output_type": "display_data"
    }
   ],
   "source": [
    "fig, ax = visualize_importance(models)"
   ]
  },
  {
   "cell_type": "code",
   "execution_count": null,
   "id": "scenic-royalty",
   "metadata": {},
   "outputs": [],
   "source": []
  }
 ],
 "metadata": {
  "kernelspec": {
   "display_name": "Python 3",
   "language": "python",
   "name": "python3"
  },
  "language_info": {
   "codemirror_mode": {
    "name": "ipython",
    "version": 3
   },
   "file_extension": ".py",
   "mimetype": "text/x-python",
   "name": "python",
   "nbconvert_exporter": "python",
   "pygments_lexer": "ipython3",
   "version": "3.9.2"
  }
 },
 "nbformat": 4,
 "nbformat_minor": 5
}
