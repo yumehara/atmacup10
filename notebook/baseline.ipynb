{
 "cells": [
  {
   "cell_type": "code",
   "execution_count": 1,
   "id": "documentary-ecuador",
   "metadata": {},
   "outputs": [],
   "source": [
    "import numpy as np\n",
    "import pandas as pd\n",
    "import datetime\n",
    "import matplotlib.pyplot as plt\n",
    "from PIL import ImageColor\n",
    "from sklearn import preprocessing\n",
    "from sklearn.model_selection import KFold\n",
    "from sklearn.model_selection import StratifiedKFold\n",
    "import lightgbm as lgbm\n",
    "from sklearn.metrics import mean_squared_error\n",
    "from sklearn.preprocessing import LabelEncoder\n",
    "pd.set_option('display.max_Columns', 100)"
   ]
  },
  {
   "cell_type": "code",
   "execution_count": 2,
   "id": "american-reality",
   "metadata": {},
   "outputs": [
    {
     "name": "stdout",
     "output_type": "stream",
     "text": [
      "color (73636, 6)\n"
     ]
    }
   ],
   "source": [
    "color = pd.read_csv('../input/color.csv')\n",
    "color_rgb = pd.DataFrame(color['hex'].str.strip().map(ImageColor.getrgb).values.tolist(), \n",
    "                         columns=['color_r', 'color_g', 'color_b'])\n",
    "color = pd.concat([color, color_rgb], axis=1)\n",
    "print('color', color.shape)"
   ]
  },
  {
   "cell_type": "code",
   "execution_count": 3,
   "id": "treated-subdivision",
   "metadata": {},
   "outputs": [
    {
     "name": "stdout",
     "output_type": "stream",
     "text": [
      "palette (527890, 5)\n",
      "material (35394, 2)\n",
      "object_collection (14210, 2)\n",
      "technique (20481, 2)\n",
      "maker (3291, 6)\n",
      "principal_maker (24538, 6)\n",
      "principal_maker_occupation (25372, 2)\n",
      "train (12026, 19)\n",
      "test (12008, 18)\n",
      "whole (24034, 19)\n"
     ]
    }
   ],
   "source": [
    "palette = pd.read_csv('../input/palette.csv')\n",
    "print('palette', palette.shape)\n",
    "material = pd.read_csv('../input/material.csv')\n",
    "print('material', material.shape)\n",
    "object_collection = pd.read_csv('../input/object_collection.csv')\n",
    "print('object_collection', object_collection.shape)\n",
    "technique = pd.read_csv('../input/technique.csv')\n",
    "print('technique', technique.shape)\n",
    "maker = pd.read_csv('../input/maker.csv')\n",
    "print('maker', maker.shape)\n",
    "principal_maker = pd.read_csv('../input/principal_maker.csv')\n",
    "print('principal_maker', principal_maker.shape)\n",
    "principal_maker_occupation = pd.read_csv('../input/principal_maker_occupation.csv')\n",
    "print('principal_maker_occupation', principal_maker_occupation.shape)\n",
    "train = pd.read_csv('../input/train.csv')\n",
    "print('train', train.shape)\n",
    "test = pd.read_csv('../input/test.csv')\n",
    "print('test', test.shape)\n",
    "whole = pd.concat([train, test])\n",
    "print('whole', whole.shape)"
   ]
  },
  {
   "cell_type": "code",
   "execution_count": 4,
   "id": "hidden-phoenix",
   "metadata": {},
   "outputs": [],
   "source": [
    "def create_numeric_feature(df_input):\n",
    "    cp = df_input.copy()\n",
    "    cp['acquisition_year'] = pd.to_datetime(df_input['acquisition_date']).dt.year\n",
    "    return cp[['acquisition_year', 'dating_sorting_date', 'dating_period', 'dating_year_early', 'dating_year_late']]"
   ]
  },
  {
   "cell_type": "code",
   "execution_count": 5,
   "id": "every-science",
   "metadata": {},
   "outputs": [],
   "source": [
    "def create_count_encoding_feature_sub(df_whole, df_input, column):\n",
    "    cp = df_input.copy()\n",
    "    newcol = 'CE_'+column\n",
    "    group = df_whole.groupby(column).size().rename(newcol)\n",
    "    group = pd.DataFrame(group).reset_index()\n",
    "    cp = pd.merge(cp, group, on=column, how='left')\n",
    "    return cp[[newcol]].fillna(0)"
   ]
  },
  {
   "cell_type": "code",
   "execution_count": 6,
   "id": "entitled-processing",
   "metadata": {},
   "outputs": [],
   "source": [
    "def create_count_encoding_feature(df_input):\n",
    "    col_list = ['art_series_id', 'principal_maker', 'principal_or_first_maker', \n",
    "                'copyright_holder', 'acquisition_method', 'dating_sorting_date']\n",
    "    cp = df_input.copy()\n",
    "    org_col = cp.columns\n",
    "    for col in col_list:\n",
    "        tmp = create_count_encoding_feature_sub(whole, cp, col)\n",
    "        cp = pd.concat([cp, tmp], axis=1)\n",
    "    return cp.drop(columns=org_col)"
   ]
  },
  {
   "cell_type": "code",
   "execution_count": 7,
   "id": "restricted-holmes",
   "metadata": {},
   "outputs": [],
   "source": [
    "def create_label_encoding_feature(df_input):\n",
    "    col_list = ['art_series_id', 'principal_maker', 'principal_or_first_maker', \n",
    "                'copyright_holder', 'acquisition_method']\n",
    "    cp = df_input.copy()\n",
    "    org_col = cp.columns\n",
    "    le = LabelEncoder()\n",
    "    for col in col_list:\n",
    "        le.fit(whole[col])\n",
    "        cp[col] = le.transform(cp[col])\n",
    "    return cp[col_list]"
   ]
  },
  {
   "cell_type": "code",
   "execution_count": 8,
   "id": "blond-cooper",
   "metadata": {},
   "outputs": [],
   "source": [
    "def create_all_feature(df_input):\n",
    "    func_list = [\n",
    "        create_numeric_feature,\n",
    "        create_count_encoding_feature,\n",
    "        create_label_encoding_feature,\n",
    "    ]\n",
    "    out = pd.DataFrame(index=df_input.index)\n",
    "    for func in func_list:\n",
    "        out = pd.concat([out, func(df_input)], axis=1)\n",
    "        \n",
    "    assert len(df_input) == len(out)\n",
    "    return out"
   ]
  },
  {
   "cell_type": "code",
   "execution_count": 9,
   "id": "binding-costs",
   "metadata": {},
   "outputs": [],
   "source": [
    "def split_train_target(df_input):\n",
    "    target = df_input[['likes']].copy()\n",
    "    target['target'] = target['likes'].apply(lambda x: np.log1p(x))\n",
    "    return target['target']"
   ]
  },
  {
   "cell_type": "code",
   "execution_count": 10,
   "id": "canadian-munich",
   "metadata": {},
   "outputs": [
    {
     "name": "stdout",
     "output_type": "stream",
     "text": [
      "(12026, 16)\n",
      "(12026,)\n",
      "(12008, 16)\n"
     ]
    }
   ],
   "source": [
    "train_X = create_all_feature(train)\n",
    "test_X = create_all_feature(test)\n",
    "train_y = split_train_target(train)\n",
    "print(train_X.shape)\n",
    "print(train_y.shape)\n",
    "print(test_X.shape)\n",
    "feat_cnt = len(train_X.columns)"
   ]
  },
  {
   "cell_type": "code",
   "execution_count": 11,
   "id": "thrown-encoding",
   "metadata": {},
   "outputs": [],
   "source": [
    "LGBM_PARAM = {\n",
    "    'objective' : 'regression',\n",
    "    'boosting_type': 'gbdt',\n",
    "    'metric' : 'rmse',\n",
    "    'seed' : 0,\n",
    "    'learning_rate':  0.1,\n",
    "    'max_depth' : 6,\n",
    "    'verbosity': -1\n",
    "}\n",
    "KFOLD = 4"
   ]
  },
  {
   "cell_type": "code",
   "execution_count": 12,
   "id": "unusual-composition",
   "metadata": {},
   "outputs": [],
   "source": [
    "def train_kfold(X, y, params=LGBM_PARAM, k_fold=KFOLD):\n",
    "    rmse_list = []\n",
    "    models = []\n",
    "    oof_pred = np.zeros_like(y, dtype=np.float)\n",
    "\n",
    "    kf = KFold(n_splits=k_fold, shuffle=True, random_state=0)\n",
    "    for train_index, valid_index in kf.split(X):\n",
    "\n",
    "        x_train, x_valid = X.iloc[train_index], X.iloc[valid_index]\n",
    "        y_train, y_valid = y.iloc[train_index], y.iloc[valid_index]\n",
    "\n",
    "        lgbm_train = lgbm.Dataset(x_train, y_train)\n",
    "        lgbm_eval = lgbm.Dataset(x_valid, y_valid, reference=lgbm_train)\n",
    "        lgbm_model = lgbm.train(params, \n",
    "                                                lgbm_train, \n",
    "                                                valid_sets=lgbm_eval,\n",
    "                                                num_boost_round=10000,\n",
    "                                                early_stopping_rounds=100,\n",
    "                                                verbose_eval=-1)\n",
    "        y_pred = lgbm_model.predict(x_valid, num_iteration=lgbm_model.best_iteration)\n",
    "        oof_pred[valid_index] = y_pred\n",
    "\n",
    "        rmse = np.sqrt(mean_squared_error(y_valid, y_pred))\n",
    "\n",
    "        rmse_list.append(rmse)\n",
    "        models.append(lgbm_model)\n",
    "\n",
    "    score = np.sqrt(mean_squared_error(y, oof_pred))\n",
    "    print('- TRAIN RMSE={:.4f}'.format(score))\n",
    "\n",
    "    return models, oof_pred, score"
   ]
  },
  {
   "cell_type": "code",
   "execution_count": 13,
   "id": "comparable-tyler",
   "metadata": {},
   "outputs": [],
   "source": [
    "def predict_test(test_X, models):\n",
    "    pred_list = []\n",
    "    for model in models:\n",
    "        pred = model.predict(test_X, num_iteration = model.best_iteration)\n",
    "        pred_list.append(pred)\n",
    "    pred_test = np.mean(pred_list, axis=0)\n",
    "    return pred_test"
   ]
  },
  {
   "cell_type": "code",
   "execution_count": 14,
   "id": "constant-virginia",
   "metadata": {},
   "outputs": [
    {
     "name": "stdout",
     "output_type": "stream",
     "text": [
      "[LightGBM] [Warning] Accuracy may be bad since you didn't explicitly set num_leaves OR 2^max_depth > num_leaves. (num_leaves=31).\n",
      "Training until validation scores don't improve for 100 rounds\n",
      "Early stopping, best iteration is:\n",
      "[243]\tvalid_0's rmse: 1.17959\n",
      "[LightGBM] [Warning] Accuracy may be bad since you didn't explicitly set num_leaves OR 2^max_depth > num_leaves. (num_leaves=31).\n",
      "Training until validation scores don't improve for 100 rounds\n",
      "Early stopping, best iteration is:\n",
      "[286]\tvalid_0's rmse: 1.26964\n",
      "[LightGBM] [Warning] Accuracy may be bad since you didn't explicitly set num_leaves OR 2^max_depth > num_leaves. (num_leaves=31).\n",
      "Training until validation scores don't improve for 100 rounds\n",
      "Early stopping, best iteration is:\n",
      "[304]\tvalid_0's rmse: 1.19072\n",
      "[LightGBM] [Warning] Accuracy may be bad since you didn't explicitly set num_leaves OR 2^max_depth > num_leaves. (num_leaves=31).\n",
      "Training until validation scores don't improve for 100 rounds\n",
      "Early stopping, best iteration is:\n",
      "[249]\tvalid_0's rmse: 1.18383\n",
      "- TRAIN RMSE=1.2065\n"
     ]
    }
   ],
   "source": [
    "models, oof_pred, score = train_kfold(train_X, train_y)\n",
    "\n",
    "train_pred = np.expm1(oof_pred)\n",
    "train_pred[train_pred < 0] = 0\n",
    "\n",
    "train_target = pd.DataFrame(index=train_X.index)\n",
    "train_target['target'] = train_y\n",
    "train_target['log_pred'] = oof_pred\n",
    "train_target['likes'] = train['likes']\n",
    "train_target['pred'] = train_pred"
   ]
  },
  {
   "cell_type": "code",
   "execution_count": 15,
   "id": "minimal-gossip",
   "metadata": {},
   "outputs": [],
   "source": [
    "pred = predict_test(test_X, models)\n",
    "\n",
    "test_pred = np.expm1(pred)\n",
    "test_pred[test_pred < 0] = 0\n",
    "df_test_pred = pd.DataFrame(test_pred, columns=['likes'])\n",
    "assert len(df_test_pred) == len(test)"
   ]
  },
  {
   "cell_type": "code",
   "execution_count": 16,
   "id": "billion-counter",
   "metadata": {},
   "outputs": [],
   "source": [
    "df_test_pred.to_csv('../output/submit.csv', index=False)"
   ]
  },
  {
   "cell_type": "code",
   "execution_count": 17,
   "id": "virtual-today",
   "metadata": {},
   "outputs": [
    {
     "data": {
      "text/html": [
       "<div>\n",
       "<style scoped>\n",
       "    .dataframe tbody tr th:only-of-type {\n",
       "        vertical-align: middle;\n",
       "    }\n",
       "\n",
       "    .dataframe tbody tr th {\n",
       "        vertical-align: top;\n",
       "    }\n",
       "\n",
       "    .dataframe thead th {\n",
       "        text-align: right;\n",
       "    }\n",
       "</style>\n",
       "<table border=\"1\" class=\"dataframe\">\n",
       "  <thead>\n",
       "    <tr style=\"text-align: right;\">\n",
       "      <th></th>\n",
       "      <th>likes</th>\n",
       "    </tr>\n",
       "  </thead>\n",
       "  <tbody>\n",
       "    <tr>\n",
       "      <th>0</th>\n",
       "      <td>0.490416</td>\n",
       "    </tr>\n",
       "    <tr>\n",
       "      <th>1</th>\n",
       "      <td>27.628783</td>\n",
       "    </tr>\n",
       "    <tr>\n",
       "      <th>2</th>\n",
       "      <td>0.717185</td>\n",
       "    </tr>\n",
       "    <tr>\n",
       "      <th>3</th>\n",
       "      <td>5.485818</td>\n",
       "    </tr>\n",
       "    <tr>\n",
       "      <th>4</th>\n",
       "      <td>1.018684</td>\n",
       "    </tr>\n",
       "  </tbody>\n",
       "</table>\n",
       "</div>"
      ],
      "text/plain": [
       "       likes\n",
       "0   0.490416\n",
       "1  27.628783\n",
       "2   0.717185\n",
       "3   5.485818\n",
       "4   1.018684"
      ]
     },
     "execution_count": 17,
     "metadata": {},
     "output_type": "execute_result"
    }
   ],
   "source": [
    "df_test_pred.head()"
   ]
  },
  {
   "cell_type": "code",
   "execution_count": 18,
   "id": "sapphire-radical",
   "metadata": {},
   "outputs": [
    {
     "data": {
      "text/html": [
       "<div>\n",
       "<style scoped>\n",
       "    .dataframe tbody tr th:only-of-type {\n",
       "        vertical-align: middle;\n",
       "    }\n",
       "\n",
       "    .dataframe tbody tr th {\n",
       "        vertical-align: top;\n",
       "    }\n",
       "\n",
       "    .dataframe thead th {\n",
       "        text-align: right;\n",
       "    }\n",
       "</style>\n",
       "<table border=\"1\" class=\"dataframe\">\n",
       "  <thead>\n",
       "    <tr style=\"text-align: right;\">\n",
       "      <th></th>\n",
       "      <th>target</th>\n",
       "      <th>log_pred</th>\n",
       "      <th>likes</th>\n",
       "      <th>pred</th>\n",
       "    </tr>\n",
       "  </thead>\n",
       "  <tbody>\n",
       "    <tr>\n",
       "      <th>0</th>\n",
       "      <td>3.891820</td>\n",
       "      <td>4.752441</td>\n",
       "      <td>48</td>\n",
       "      <td>114.866723</td>\n",
       "    </tr>\n",
       "    <tr>\n",
       "      <th>1</th>\n",
       "      <td>1.098612</td>\n",
       "      <td>1.585635</td>\n",
       "      <td>2</td>\n",
       "      <td>3.882392</td>\n",
       "    </tr>\n",
       "    <tr>\n",
       "      <th>2</th>\n",
       "      <td>1.791759</td>\n",
       "      <td>1.131691</td>\n",
       "      <td>5</td>\n",
       "      <td>2.100896</td>\n",
       "    </tr>\n",
       "    <tr>\n",
       "      <th>3</th>\n",
       "      <td>4.615121</td>\n",
       "      <td>3.206697</td>\n",
       "      <td>100</td>\n",
       "      <td>23.697385</td>\n",
       "    </tr>\n",
       "    <tr>\n",
       "      <th>4</th>\n",
       "      <td>2.079442</td>\n",
       "      <td>3.248398</td>\n",
       "      <td>7</td>\n",
       "      <td>24.749061</td>\n",
       "    </tr>\n",
       "  </tbody>\n",
       "</table>\n",
       "</div>"
      ],
      "text/plain": [
       "     target  log_pred  likes        pred\n",
       "0  3.891820  4.752441     48  114.866723\n",
       "1  1.098612  1.585635      2    3.882392\n",
       "2  1.791759  1.131691      5    2.100896\n",
       "3  4.615121  3.206697    100   23.697385\n",
       "4  2.079442  3.248398      7   24.749061"
      ]
     },
     "execution_count": 18,
     "metadata": {},
     "output_type": "execute_result"
    }
   ],
   "source": [
    "train_target.head()"
   ]
  },
  {
   "cell_type": "code",
   "execution_count": 19,
   "id": "collective-stand",
   "metadata": {},
   "outputs": [],
   "source": [
    "def plot_scatter(data1):\n",
    "    x1 = data1['target']\n",
    "    y1 = data1['log_pred']\n",
    "    xmax = max(max(x1), max(y1))*1.05\n",
    "    fig = plt.figure(figsize=(5, 5))\n",
    "    ax = fig.add_subplot(1, 1, 1)\n",
    "    ax.scatter(x1, y1, alpha=0.3, marker='.')\n",
    "    ax.plot([0, xmax], [0, xmax], color='black', linewidth=0.5)\n",
    "    plt.xlabel('target')\n",
    "    plt.ylabel('pred')\n",
    "    plt.xlim(0, xmax)\n",
    "    plt.ylim(0, xmax)"
   ]
  },
  {
   "cell_type": "code",
   "execution_count": 20,
   "id": "another-trauma",
   "metadata": {},
   "outputs": [
    {
     "data": {
      "image/png": "[encoded data removed]",
      "text/plain": [
       "<Figure size 360x360 with 1 Axes>"
      ]
     },
     "metadata": {
      "needs_background": "light"
     },
     "output_type": "display_data"
    }
   ],
   "source": [
    "corr = train_target[['target', 'log_pred']].corr().iat[0,1]\n",
    "plot_scatter(train_target)"
   ]
  },
  {
   "cell_type": "code",
   "execution_count": 21,
   "id": "younger-startup",
   "metadata": {},
   "outputs": [
    {
     "name": "stdout",
     "output_type": "stream",
     "text": [
      "- feat_cnt = 16\n",
      "- score = 1.20651\n",
      "- corr = 0.73332\n"
     ]
    }
   ],
   "source": [
    "print('- feat_cnt =', feat_cnt)\n",
    "print(f'- score = {score:.5f}')\n",
    "print(f'- corr = {corr:.5f}')"
   ]
  },
  {
   "cell_type": "markdown",
   "id": "bearing-culture",
   "metadata": {},
   "source": [
    "#### baseline_0\n",
    "- feat_cnt = 16\n",
    "- score = 1.20651\n",
    "- corr = 0.73332\n",
    "- LB = 1.1827"
   ]
  },
  {
   "cell_type": "code",
   "execution_count": 22,
   "id": "usual-hurricane",
   "metadata": {},
   "outputs": [],
   "source": [
    "def feat_imp(model):\n",
    "    fi = model.feature_importance()\n",
    "    fn = model.feature_name()\n",
    "    df_feature_importance = pd.DataFrame({'name':fn, 'imp':fi})\n",
    "    df_feature_importance.sort_values('imp', inplace=True)\n",
    "    return df_feature_importance\n",
    "\n",
    "def feature_importance(models):\n",
    "    fi = pd.DataFrame(columns=['name'])\n",
    "    for i, model in enumerate(models):\n",
    "        fi_tmp = feat_imp(model)\n",
    "        colname = 'imp_{}'.format(i)\n",
    "        fi_tmp.rename(columns={'imp': colname}, inplace=True)\n",
    "        fi = pd.merge(fi, fi_tmp, on=['name'], how='outer')\n",
    "    fi['sum'] = fi.sum(axis=1)\n",
    "    return fi.sort_values(['sum'], ascending=False)\n",
    "\n",
    "def draw_feature_importance(fi):\n",
    "    fi_plot = fi.head(20).sort_values('sum', ascending=True)\n",
    "    X = np.arange(len(fi_plot))\n",
    "    plt.figure(figsize=(5, 7))\n",
    "    plt.barh(X, fi_plot['sum'], tick_label=fi_plot['name'])\n",
    "    plt.title('Feature Importance')"
   ]
  },
  {
   "cell_type": "code",
   "execution_count": 23,
   "id": "regulated-mainstream",
   "metadata": {},
   "outputs": [
    {
     "data": {
      "text/html": [
       "<div>\n",
       "<style scoped>\n",
       "    .dataframe tbody tr th:only-of-type {\n",
       "        vertical-align: middle;\n",
       "    }\n",
       "\n",
       "    .dataframe tbody tr th {\n",
       "        vertical-align: top;\n",
       "    }\n",
       "\n",
       "    .dataframe thead th {\n",
       "        text-align: right;\n",
       "    }\n",
       "</style>\n",
       "<table border=\"1\" class=\"dataframe\">\n",
       "  <thead>\n",
       "    <tr style=\"text-align: right;\">\n",
       "      <th></th>\n",
       "      <th>name</th>\n",
       "      <th>imp_0</th>\n",
       "      <th>imp_1</th>\n",
       "      <th>imp_2</th>\n",
       "      <th>imp_3</th>\n",
       "      <th>sum</th>\n",
       "    </tr>\n",
       "  </thead>\n",
       "  <tbody>\n",
       "    <tr>\n",
       "      <th>15</th>\n",
       "      <td>acquisition_year</td>\n",
       "      <td>1059</td>\n",
       "      <td>1270</td>\n",
       "      <td>1313</td>\n",
       "      <td>1155</td>\n",
       "      <td>4797</td>\n",
       "    </tr>\n",
       "    <tr>\n",
       "      <th>14</th>\n",
       "      <td>art_series_id</td>\n",
       "      <td>939</td>\n",
       "      <td>1138</td>\n",
       "      <td>1261</td>\n",
       "      <td>939</td>\n",
       "      <td>4277</td>\n",
       "    </tr>\n",
       "    <tr>\n",
       "      <th>13</th>\n",
       "      <td>principal_maker</td>\n",
       "      <td>784</td>\n",
       "      <td>901</td>\n",
       "      <td>956</td>\n",
       "      <td>820</td>\n",
       "      <td>3461</td>\n",
       "    </tr>\n",
       "    <tr>\n",
       "      <th>11</th>\n",
       "      <td>dating_year_late</td>\n",
       "      <td>730</td>\n",
       "      <td>937</td>\n",
       "      <td>962</td>\n",
       "      <td>779</td>\n",
       "      <td>3408</td>\n",
       "    </tr>\n",
       "    <tr>\n",
       "      <th>12</th>\n",
       "      <td>dating_sorting_date</td>\n",
       "      <td>765</td>\n",
       "      <td>831</td>\n",
       "      <td>921</td>\n",
       "      <td>775</td>\n",
       "      <td>3292</td>\n",
       "    </tr>\n",
       "    <tr>\n",
       "      <th>9</th>\n",
       "      <td>CE_dating_sorting_date</td>\n",
       "      <td>638</td>\n",
       "      <td>748</td>\n",
       "      <td>895</td>\n",
       "      <td>707</td>\n",
       "      <td>2988</td>\n",
       "    </tr>\n",
       "    <tr>\n",
       "      <th>10</th>\n",
       "      <td>CE_principal_maker</td>\n",
       "      <td>680</td>\n",
       "      <td>695</td>\n",
       "      <td>727</td>\n",
       "      <td>604</td>\n",
       "      <td>2706</td>\n",
       "    </tr>\n",
       "    <tr>\n",
       "      <th>8</th>\n",
       "      <td>CE_acquisition_method</td>\n",
       "      <td>236</td>\n",
       "      <td>212</td>\n",
       "      <td>235</td>\n",
       "      <td>235</td>\n",
       "      <td>918</td>\n",
       "    </tr>\n",
       "    <tr>\n",
       "      <th>7</th>\n",
       "      <td>acquisition_method</td>\n",
       "      <td>162</td>\n",
       "      <td>159</td>\n",
       "      <td>188</td>\n",
       "      <td>150</td>\n",
       "      <td>659</td>\n",
       "    </tr>\n",
       "    <tr>\n",
       "      <th>6</th>\n",
       "      <td>CE_principal_or_first_maker</td>\n",
       "      <td>127</td>\n",
       "      <td>153</td>\n",
       "      <td>146</td>\n",
       "      <td>126</td>\n",
       "      <td>552</td>\n",
       "    </tr>\n",
       "    <tr>\n",
       "      <th>5</th>\n",
       "      <td>CE_art_series_id</td>\n",
       "      <td>108</td>\n",
       "      <td>129</td>\n",
       "      <td>118</td>\n",
       "      <td>139</td>\n",
       "      <td>494</td>\n",
       "    </tr>\n",
       "    <tr>\n",
       "      <th>4</th>\n",
       "      <td>principal_or_first_maker</td>\n",
       "      <td>64</td>\n",
       "      <td>22</td>\n",
       "      <td>71</td>\n",
       "      <td>70</td>\n",
       "      <td>227</td>\n",
       "    </tr>\n",
       "    <tr>\n",
       "      <th>3</th>\n",
       "      <td>copyright_holder</td>\n",
       "      <td>15</td>\n",
       "      <td>19</td>\n",
       "      <td>28</td>\n",
       "      <td>13</td>\n",
       "      <td>75</td>\n",
       "    </tr>\n",
       "    <tr>\n",
       "      <th>2</th>\n",
       "      <td>CE_copyright_holder</td>\n",
       "      <td>13</td>\n",
       "      <td>17</td>\n",
       "      <td>21</td>\n",
       "      <td>23</td>\n",
       "      <td>74</td>\n",
       "    </tr>\n",
       "    <tr>\n",
       "      <th>1</th>\n",
       "      <td>dating_period</td>\n",
       "      <td>3</td>\n",
       "      <td>0</td>\n",
       "      <td>1</td>\n",
       "      <td>0</td>\n",
       "      <td>4</td>\n",
       "    </tr>\n",
       "    <tr>\n",
       "      <th>0</th>\n",
       "      <td>dating_year_early</td>\n",
       "      <td>0</td>\n",
       "      <td>0</td>\n",
       "      <td>0</td>\n",
       "      <td>0</td>\n",
       "      <td>0</td>\n",
       "    </tr>\n",
       "  </tbody>\n",
       "</table>\n",
       "</div>"
      ],
      "text/plain": [
       "                           name  imp_0  imp_1  imp_2  imp_3   sum\n",
       "15             acquisition_year   1059   1270   1313   1155  4797\n",
       "14                art_series_id    939   1138   1261    939  4277\n",
       "13              principal_maker    784    901    956    820  3461\n",
       "11             dating_year_late    730    937    962    779  3408\n",
       "12          dating_sorting_date    765    831    921    775  3292\n",
       "9        CE_dating_sorting_date    638    748    895    707  2988\n",
       "10           CE_principal_maker    680    695    727    604  2706\n",
       "8         CE_acquisition_method    236    212    235    235   918\n",
       "7            acquisition_method    162    159    188    150   659\n",
       "6   CE_principal_or_first_maker    127    153    146    126   552\n",
       "5              CE_art_series_id    108    129    118    139   494\n",
       "4      principal_or_first_maker     64     22     71     70   227\n",
       "3              copyright_holder     15     19     28     13    75\n",
       "2           CE_copyright_holder     13     17     21     23    74\n",
       "1                 dating_period      3      0      1      0     4\n",
       "0             dating_year_early      0      0      0      0     0"
      ]
     },
     "execution_count": 23,
     "metadata": {},
     "output_type": "execute_result"
    }
   ],
   "source": [
    "fi = feature_importance(models)\n",
    "fi"
   ]
  },
  {
   "cell_type": "code",
   "execution_count": 24,
   "id": "dated-palace",
   "metadata": {},
   "outputs": [
    {
     "data": {
      "image/png": "[encoded data removed]",
      "text/plain": [
       "<Figure size 360x504 with 1 Axes>"
      ]
     },
     "metadata": {
      "needs_background": "light"
     },
     "output_type": "display_data"
    }
   ],
   "source": [
    "draw_feature_importance(fi)"
   ]
  },
  {
   "cell_type": "code",
   "execution_count": null,
   "id": "marked-labor",
   "metadata": {},
   "outputs": [],
   "source": []
  }
 ],
 "metadata": {
  "kernelspec": {
   "display_name": "Python 3",
   "language": "python",
   "name": "python3"
  },
  "language_info": {
   "codemirror_mode": {
    "name": "ipython",
    "version": 3
   },
   "file_extension": ".py",
   "mimetype": "text/x-python",
   "name": "python",
   "nbconvert_exporter": "python",
   "pygments_lexer": "ipython3",
   "version": "3.9.2"
  }
 },
 "nbformat": 4,
 "nbformat_minor": 5
}
