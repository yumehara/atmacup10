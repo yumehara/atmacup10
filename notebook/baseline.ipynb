{
 "cells": [
  {
   "cell_type": "code",
   "execution_count": 38,
   "id": "documentary-ecuador",
   "metadata": {},
   "outputs": [],
   "source": [
    "import numpy as np\n",
    "import pandas as pd\n",
    "import datetime\n",
    "import matplotlib.pyplot as plt\n",
    "import seaborn as sns\n",
    "from PIL import ImageColor\n",
    "import colorsys\n",
    "from sklearn import preprocessing\n",
    "from sklearn.model_selection import KFold\n",
    "from sklearn.model_selection import StratifiedKFold\n",
    "# import lightgbm as lgbm\n",
    "import optuna.integration.lightgbm as lgbm\n",
    "from sklearn.metrics import mean_squared_error\n",
    "from sklearn.preprocessing import LabelEncoder\n",
    "import warnings\n",
    "pd.set_option('display.max_Columns', 100)\n",
    "warnings.simplefilter('ignore', UserWarning)"
   ]
  },
  {
   "cell_type": "code",
   "execution_count": 2,
   "id": "american-reality",
   "metadata": {},
   "outputs": [
    {
     "name": "stdout",
     "output_type": "stream",
     "text": [
      "color (73636, 7)\n"
     ]
    }
   ],
   "source": [
    "color = pd.read_csv('../input/color.csv')\n",
    "color_rgb = pd.DataFrame(color['hex'].str.strip().map(ImageColor.getrgb).values.tolist(), \n",
    "                         columns=['color_r', 'color_g', 'color_b'])\n",
    "color = pd.concat([color, color_rgb], axis=1)\n",
    "color['ratio'] = color['percentage']/100\n",
    "print('color', color.shape)"
   ]
  },
  {
   "cell_type": "code",
   "execution_count": 3,
   "id": "treated-subdivision",
   "metadata": {},
   "outputs": [
    {
     "name": "stdout",
     "output_type": "stream",
     "text": [
      "palette (527890, 5)\n",
      "material (35394, 2)\n",
      "object_collection (14210, 2)\n",
      "technique (20481, 2)\n",
      "production_place (17686, 2)\n",
      "production_country (17686, 2)\n",
      "historical_person (6745, 2)\n",
      "maker (3291, 6)\n",
      "principal_maker (24538, 6)\n",
      "principal_maker_occupation (25372, 2)\n",
      "train (12026, 19)\n",
      "test (12008, 18)\n",
      "whole (24034, 19)\n"
     ]
    }
   ],
   "source": [
    "palette = pd.read_csv('../input/palette.csv')\n",
    "print('palette', palette.shape)\n",
    "material = pd.read_csv('../input/material.csv')\n",
    "print('material', material.shape)\n",
    "object_collection = pd.read_csv('../input/object_collection.csv')\n",
    "print('object_collection', object_collection.shape)\n",
    "technique = pd.read_csv('../input/technique.csv')\n",
    "print('technique', technique.shape)\n",
    "production_place = pd.read_csv('../input/production_place.csv')\n",
    "print('production_place', production_place.shape)\n",
    "production_country = pd.read_csv('../input/production_country.csv')\n",
    "print('production_country', production_country.shape)\n",
    "historical_person = pd.read_csv('../input/historical_person.csv')\n",
    "print('historical_person', historical_person.shape)\n",
    "maker = pd.read_csv('../input/maker.csv')\n",
    "print('maker', maker.shape)\n",
    "principal_maker = pd.read_csv('../input/principal_maker.csv')\n",
    "print('principal_maker', principal_maker.shape)\n",
    "principal_maker_occupation = pd.read_csv('../input/principal_maker_occupation.csv')\n",
    "print('principal_maker_occupation', principal_maker_occupation.shape)\n",
    "train = pd.read_csv('../input/train.csv')\n",
    "print('train', train.shape)\n",
    "test = pd.read_csv('../input/test.csv')\n",
    "print('test', test.shape)\n",
    "whole = pd.concat([train, test])\n",
    "print('whole', whole.shape)"
   ]
  },
  {
   "cell_type": "markdown",
   "id": "national-estimate",
   "metadata": {},
   "source": [
    "### Color"
   ]
  },
  {
   "cell_type": "code",
   "execution_count": 5,
   "id": "mineral-artist",
   "metadata": {},
   "outputs": [],
   "source": [
    "def rgb_to_h(row):\n",
    "    return colorsys.rgb_to_hsv(row['R'], row['G'], row['B'])[0]\n",
    "\n",
    "def rgb_to_s(row):\n",
    "    return colorsys.rgb_to_hsv(row['R'], row['G'], row['B'])[1]\n",
    "\n",
    "def rgb_to_v(row):\n",
    "    return colorsys.rgb_to_hsv(row['R'], row['G'], row['B'])[2]\n",
    "\n",
    "def get_total_color(color_input):\n",
    "    cp = color_input.copy()\n",
    "    cp['R'] = cp['color_r']*cp['ratio']/255\n",
    "    cp['G'] = cp['color_g']*cp['ratio']/255\n",
    "    cp['B'] = cp['color_b']*cp['ratio']/255\n",
    "    rgb = cp.groupby('object_id').sum()[['R','G','B']]\n",
    "    rgb['H'] = rgb.apply(rgb_to_h, axis=1)\n",
    "    rgb['S'] = rgb.apply(rgb_to_s, axis=1)\n",
    "    rgb['V'] = rgb.apply(rgb_to_v, axis=1)\n",
    "    return rgb\n",
    "\n",
    "main_color = get_total_color(color).add_prefix('color_').reset_index()\n",
    "main_palette = get_total_color(palette).add_prefix('plt_').reset_index()"
   ]
  },
  {
   "cell_type": "code",
   "execution_count": 6,
   "id": "scheduled-gossip",
   "metadata": {},
   "outputs": [],
   "source": [
    "def create_main_color_feature(df_input):\n",
    "    cp = df_input[['object_id']].copy()\n",
    "    cp = pd.merge(cp, main_color, on='object_id', how='left')\n",
    "    cp = pd.merge(cp, main_palette, on='object_id', how='left')\n",
    "    cp = cp.fillna(0).drop(columns=['object_id'])\n",
    "    cp.index = df_input.index\n",
    "    return cp"
   ]
  },
  {
   "cell_type": "code",
   "execution_count": 7,
   "id": "blond-dispatch",
   "metadata": {},
   "outputs": [],
   "source": [
    "def get_color_count(df_input, color_input, col):\n",
    "    color_cp = color_input[color_input['ratio'] > 0.05].copy()\n",
    "    group = color_cp.groupby('object_id').size().rename(col).reset_index()\n",
    "    cp = df_input[['object_id']].copy()\n",
    "    cp = pd.merge(cp, group, on='object_id', how='left').fillna(0)\n",
    "    return cp[[col]]\n",
    "\n",
    "def create_color_count_feature(df_input):\n",
    "    color_count = get_color_count(df_input, color, 'color_count')\n",
    "    color_count.index = df_input.index\n",
    "    palette_count = get_color_count(df_input, palette, 'palette_count')\n",
    "    palette_count.index = df_input.index\n",
    "    return pd.concat([color_count, palette_count], axis=1)"
   ]
  },
  {
   "cell_type": "code",
   "execution_count": 8,
   "id": "hidden-phoenix",
   "metadata": {},
   "outputs": [],
   "source": [
    "def create_numeric_feature(df_input):\n",
    "    cp = df_input.copy()\n",
    "    cp['acquisition_year'] = pd.to_datetime(df_input['acquisition_date']).dt.year\n",
    "    return cp[['acquisition_year', 'dating_sorting_date', 'dating_period', 'dating_year_early', 'dating_year_late']]"
   ]
  },
  {
   "cell_type": "markdown",
   "id": "flexible-anxiety",
   "metadata": {},
   "source": [
    "#### Count encoding"
   ]
  },
  {
   "cell_type": "code",
   "execution_count": 9,
   "id": "entitled-processing",
   "metadata": {},
   "outputs": [],
   "source": [
    "def create_count_encoding_feature_sub(df_whole, df_input, column):\n",
    "    cp = df_input.copy()\n",
    "    newcol = 'CE_'+column\n",
    "    group = df_whole.groupby(column).size().rename(newcol)\n",
    "    group = pd.DataFrame(group).reset_index()\n",
    "    cp = pd.merge(cp, group, on=column, how='left')\n",
    "    cp = cp[[newcol]].fillna(0)\n",
    "    cp.index = df_input.index\n",
    "    return cp\n",
    "\n",
    "def create_count_encoding_feature(df_input):\n",
    "    col_list = ['art_series_id', 'principal_maker', 'principal_or_first_maker', \n",
    "                'copyright_holder', 'acquisition_method', 'dating_sorting_date']\n",
    "    cp = df_input.copy()\n",
    "    len_cp = len(cp)\n",
    "    org_col = cp.columns\n",
    "    for col in col_list:\n",
    "        tmp = create_count_encoding_feature_sub(whole, cp, col)\n",
    "        cp = pd.concat([cp, tmp], axis=1)\n",
    "        assert len(cp) == len_cp\n",
    "    return cp.drop(columns=org_col)"
   ]
  },
  {
   "cell_type": "markdown",
   "id": "cleared-experience",
   "metadata": {},
   "source": [
    "#### Label encoding"
   ]
  },
  {
   "cell_type": "code",
   "execution_count": 10,
   "id": "restricted-holmes",
   "metadata": {},
   "outputs": [],
   "source": [
    "def create_label_encoding_feature(df_input):\n",
    "    col_list = ['art_series_id', 'principal_maker', 'principal_or_first_maker', \n",
    "                'copyright_holder', 'acquisition_method']\n",
    "    out_df = pd.DataFrame(index=df_input.index)\n",
    "    le = LabelEncoder()\n",
    "    for col in col_list:\n",
    "        le.fit(whole[col])\n",
    "        out_df[col] = le.transform(df_input[col])\n",
    "    return out_df.add_prefix('LE_')"
   ]
  },
  {
   "cell_type": "markdown",
   "id": "decent-startup",
   "metadata": {},
   "source": [
    "#### One-hot encoding"
   ]
  },
  {
   "cell_type": "code",
   "execution_count": 11,
   "id": "juvenile-crystal",
   "metadata": {},
   "outputs": [],
   "source": [
    "def get_one_hot_encoding(df_input, df_merge, count, prefix):\n",
    "    value_counts = df_merge['name'].value_counts()\n",
    "    col_list = list(value_counts.index[0:count])\n",
    "    dummy = pd.get_dummies(df_merge['name'])[col_list]\n",
    "    dummy = pd.concat([df_merge, dummy], axis=1)\n",
    "    group = dummy.groupby('object_id').sum()\n",
    "    group = group.add_prefix(prefix).reset_index()\n",
    "    out = pd.merge(df_input[['object_id']], group, on='object_id', how='left')\n",
    "    out = out.fillna(0).drop(columns=['object_id'])\n",
    "    out.index = df_input.index\n",
    "    return out\n",
    "\n",
    "def creat_material_feature(df_input):\n",
    "    return get_one_hot_encoding(df_input, material, 10, 'MT_')\n",
    "\n",
    "def creat_object_collection_feature(df_input):\n",
    "    return get_one_hot_encoding(df_input, object_collection, 3, 'OC_')\n",
    "\n",
    "def creat_production_place_feature(df_input):\n",
    "    return get_one_hot_encoding(df_input, production_place, 10, 'PP_')\n",
    "\n",
    "def creat_production_country_feature(df_input):\n",
    "    return get_one_hot_encoding(df_input, production_country, 17, 'PC_')\n",
    "\n",
    "def creat_technique_feature(df_input):\n",
    "    return get_one_hot_encoding(df_input, technique, 10, 'TC_')\n",
    "\n",
    "def creat_historical_person_feature(df_input):\n",
    "    ohe = get_one_hot_encoding(df_input, historical_person, 3, 'HP_')\n",
    "    ohe.columns = ['HP_' + str(i) for i in range(len(ohe.columns))]\n",
    "    return ohe"
   ]
  },
  {
   "cell_type": "code",
   "execution_count": 12,
   "id": "temporal-proposition",
   "metadata": {},
   "outputs": [],
   "source": [
    "def create_string_length_feature(df_input):\n",
    "    out_df = pd.DataFrame()\n",
    "    str_columns = ['title', 'long_title', 'sub_title', 'more_title', 'description']\n",
    "    for c in str_columns:\n",
    "        out_df[c] = df_input[c].str.len()\n",
    "    return out_df.add_prefix('LN_')"
   ]
  },
  {
   "cell_type": "code",
   "execution_count": 13,
   "id": "absent-russian",
   "metadata": {},
   "outputs": [],
   "source": [
    "def create_sub_title_feature(df_input):\n",
    "    out = pd.DataFrame(index=df_input.index)\n",
    "    out['dimension'] = 0\n",
    "    for axis in ['h', 'w', 't', 'd']:\n",
    "        column_name = f'size_{axis}'\n",
    "        size_info = df_input['sub_title'].str.extract(r'{} (\\d*|\\d*\\.\\d*)(cm|mm)'.format(axis))\n",
    "        size_info = size_info.rename(columns={0: column_name, 1: 'unit'})\n",
    "        size_info[column_name] = size_info[column_name].replace('', np.nan).astype(float)\n",
    "        size_info[column_name] = size_info.apply(lambda row: row[column_name] * 10 if row['unit'] == 'cm' else row[column_name], axis=1) \n",
    "        out[column_name] = size_info[column_name]\n",
    "        out['dimension'] += out[column_name].apply(lambda x: 0 if np.isnan(x) else 1)\n",
    "    out['area'] = out['size_h'] * out['size_w']\n",
    "    return out"
   ]
  },
  {
   "cell_type": "code",
   "execution_count": 14,
   "id": "catholic-hobby",
   "metadata": {},
   "outputs": [],
   "source": [
    "def target_encoding(df_input, target_col, k_fold=5):\n",
    "    encoding_col = 'TE_' + target_col\n",
    "    X = df_input\n",
    "    out = pd.DataFrame(index=X.index)\n",
    "    out[encoding_col] = np.NaN\n",
    "\n",
    "    if 'likes' in df_input.columns:\n",
    "        # train\n",
    "        cv = KFold(n_splits=k_fold, shuffle=True, random_state=0)\n",
    "        for train_index, valid_index in cv.split(X):\n",
    "            x_train, x_valid = X.iloc[train_index], X.iloc[valid_index]\n",
    "            likes = x_train.groupby(target_col)[['likes']].mean().reset_index()\n",
    "            tmp = pd.merge(x_valid[[target_col]], likes, on=[target_col], how='left')\n",
    "            tmp.index = valid_index\n",
    "            out.loc[valid_index, encoding_col] = tmp['likes'].apply(np.log1p)\n",
    "    else:\n",
    "        # test\n",
    "        likes = train.groupby(target_col)[['likes']].mean().reset_index()\n",
    "        tmp = pd.merge(X[[target_col]], likes, on=[target_col], how='left')\n",
    "        out[encoding_col] = tmp['likes'].apply(np.log1p)\n",
    "    return out\n",
    "\n",
    "def creat_target_encoding_principal_maker(df_input):\n",
    "    return target_encoding(df_input, 'principal_maker')\n",
    "\n",
    "def creat_target_encoding_principal_or_first_maker(df_input):\n",
    "    return target_encoding(df_input, 'principal_or_first_maker')"
   ]
  },
  {
   "cell_type": "code",
   "execution_count": 15,
   "id": "peaceful-judge",
   "metadata": {},
   "outputs": [],
   "source": [
    "func_list = [\n",
    "    create_numeric_feature,\n",
    "    create_count_encoding_feature,\n",
    "    create_label_encoding_feature,\n",
    "    create_string_length_feature,\n",
    "    create_sub_title_feature,\n",
    "    creat_material_feature,\n",
    "    creat_object_collection_feature,\n",
    "    creat_production_place_feature,\n",
    "    creat_production_country_feature,\n",
    "    creat_technique_feature,\n",
    "    creat_historical_person_feature,\n",
    "    create_main_color_feature,\n",
    "    create_color_count_feature,\n",
    "]\n",
    "\n",
    "func_list_w_te = func_list + [\n",
    "    creat_target_encoding_principal_maker,\n",
    "    creat_target_encoding_principal_or_first_maker,\n",
    "]"
   ]
  },
  {
   "cell_type": "code",
   "execution_count": 16,
   "id": "blond-cooper",
   "metadata": {},
   "outputs": [],
   "source": [
    "def create_all_feature(df_input, func_list):\n",
    "    out = pd.DataFrame(index=df_input.index)\n",
    "    for func in func_list:\n",
    "        out = pd.concat([out, func(df_input)], axis=1)\n",
    "        assert len(df_input) == len(out)\n",
    "    return out"
   ]
  },
  {
   "cell_type": "code",
   "execution_count": 17,
   "id": "binding-costs",
   "metadata": {},
   "outputs": [],
   "source": [
    "def split_train_target(df_input):\n",
    "    target = df_input[['likes']].copy()\n",
    "    target['target'] = target['likes'].apply(np.log1p)\n",
    "    return target['target']"
   ]
  },
  {
   "cell_type": "code",
   "execution_count": 45,
   "id": "thrown-encoding",
   "metadata": {},
   "outputs": [],
   "source": [
    "LGBM_PARAM = {\n",
    "    'objective' : 'regression',\n",
    "    'boosting_type': 'gbdt',\n",
    "    'metric' : 'rmse',\n",
    "    'seed' : 0,\n",
    "    'learning_rate':  0.1,\n",
    "#     'max_depth' : 6,\n",
    "    'verbosity': -1\n",
    "}\n",
    "KFOLD = 5"
   ]
  },
  {
   "cell_type": "code",
   "execution_count": 19,
   "id": "likely-civilian",
   "metadata": {},
   "outputs": [],
   "source": [
    "cat_feat = [\n",
    "    'LE_art_series_id', \n",
    "    'LE_copyright_holder', 'LE_acquisition_method'\n",
    "]\n",
    "\n",
    "cat_feat_te = [\n",
    "    'LE_principal_maker', 'LE_principal_or_first_maker', \n",
    "]\n",
    "\n",
    "cat_feat_w_te = cat_feat + cat_feat_te"
   ]
  },
  {
   "cell_type": "code",
   "execution_count": 20,
   "id": "addressed-internet",
   "metadata": {},
   "outputs": [],
   "source": [
    "def get_stratified(y):\n",
    "    y_bin = y.astype(int)\n",
    "    y_bin[y_bin >=8] = 8\n",
    "    return y_bin"
   ]
  },
  {
   "cell_type": "code",
   "execution_count": 21,
   "id": "convinced-butterfly",
   "metadata": {},
   "outputs": [],
   "source": [
    "#get_stratified(train_y1).value_counts()"
   ]
  },
  {
   "cell_type": "code",
   "execution_count": 46,
   "id": "unusual-composition",
   "metadata": {},
   "outputs": [],
   "source": [
    "def train_kfold(X, y, cat_feat, params=LGBM_PARAM, k_fold=KFOLD):\n",
    "    rmse_list = []\n",
    "    models = []\n",
    "    oof_pred = np.zeros_like(y, dtype=np.float)\n",
    "\n",
    "    cv = StratifiedKFold(n_splits=k_fold, shuffle=True, random_state=0)\n",
    "    cv_split = cv.split(X, get_stratified(y))\n",
    "    \n",
    "#     cv = KFold(n_splits=k_fold, shuffle=True, random_state=0)\n",
    "#     cv_split = cv.split(X)\n",
    "\n",
    "    for train_index, valid_index in cv_split:\n",
    "\n",
    "        x_train, x_valid = X.iloc[train_index], X.iloc[valid_index]\n",
    "        y_train, y_valid = y.iloc[train_index], y.iloc[valid_index]\n",
    "\n",
    "        lgbm_train = lgbm.Dataset(x_train, y_train)\n",
    "        lgbm_eval = lgbm.Dataset(x_valid, y_valid, reference=lgbm_train)\n",
    "        lgbm_model = lgbm.train(params, \n",
    "                                                lgbm_train, \n",
    "                                                valid_sets=lgbm_eval,\n",
    "                                                num_boost_round=10000,\n",
    "                                                early_stopping_rounds=100,\n",
    "                                                categorical_feature = cat_feat,\n",
    "                                                verbose_eval=-1)\n",
    "        y_pred = lgbm_model.predict(x_valid, num_iteration=lgbm_model.best_iteration)\n",
    "        oof_pred[valid_index] = y_pred\n",
    "\n",
    "        rmse = np.sqrt(mean_squared_error(y_valid, y_pred))\n",
    "\n",
    "        rmse_list.append(rmse)\n",
    "        models.append(lgbm_model)\n",
    "\n",
    "    score = np.sqrt(mean_squared_error(y, oof_pred))\n",
    "    print('- TRAIN RMSE={:.4f}'.format(score))\n",
    "\n",
    "    return models, oof_pred, score"
   ]
  },
  {
   "cell_type": "code",
   "execution_count": 23,
   "id": "comparable-tyler",
   "metadata": {},
   "outputs": [],
   "source": [
    "def predict_test(test_X, models):\n",
    "    pred_list = []\n",
    "    for model in models:\n",
    "        pred = model.predict(test_X, num_iteration = model.best_iteration)\n",
    "        pred_list.append(pred)\n",
    "    pred_test = np.mean(pred_list, axis=0)\n",
    "    return pred_test"
   ]
  },
  {
   "cell_type": "code",
   "execution_count": 24,
   "id": "informative-peninsula",
   "metadata": {},
   "outputs": [],
   "source": [
    "def revert_to_real(y_log):\n",
    "    _pred = np.expm1(y_log)\n",
    "    _pred = np.where(_pred < 0, 0, _pred)\n",
    "    return _pred"
   ]
  },
  {
   "cell_type": "code",
   "execution_count": 47,
   "id": "mighty-camel",
   "metadata": {},
   "outputs": [
    {
     "name": "stdout",
     "output_type": "stream",
     "text": [
      "(12026, 96)\n",
      "(12026,)\n",
      "(12008, 96)\n"
     ]
    }
   ],
   "source": [
    "train_X1 = create_all_feature(train, func_list_w_te)\n",
    "test_X1 = create_all_feature(test, func_list_w_te)\n",
    "train_y1 = split_train_target(train)\n",
    "print(train_X1.shape)\n",
    "print(train_y1.shape)\n",
    "print(test_X1.shape)\n",
    "feat_cnt1 = len(train_X1.columns)"
   ]
  },
  {
   "cell_type": "code",
   "execution_count": 48,
   "id": "constant-virginia",
   "metadata": {
    "scrolled": false
   },
   "outputs": [
    {
     "name": "stderr",
     "output_type": "stream",
     "text": [
      "\u001b[32m[I 2021-03-07 19:44:59,230]\u001b[0m A new study created in memory with name: no-name-7776e9e4-1a08-4d67-bb17-93277245e873\u001b[0m\n",
      "feature_fraction, val_score: inf:   0%|          | 0/7 [00:00<?, ?it/s]"
     ]
    },
    {
     "name": "stdout",
     "output_type": "stream",
     "text": [
      "Training until validation scores don't improve for 100 rounds\n"
     ]
    },
    {
     "name": "stderr",
     "output_type": "stream",
     "text": [
      "feature_fraction, val_score: 1.045421:  14%|#4        | 1/7 [00:00<00:05,  1.10it/s]\u001b[32m[I 2021-03-07 19:45:00,149]\u001b[0m Trial 0 finished with value: 1.0454208131965572 and parameters: {'feature_fraction': 0.5}. Best is trial 0 with value: 1.0454208131965572.\u001b[0m\n",
      "feature_fraction, val_score: 1.045421:  14%|#4        | 1/7 [00:00<00:05,  1.10it/s]"
     ]
    },
    {
     "name": "stdout",
     "output_type": "stream",
     "text": [
      "Early stopping, best iteration is:\n",
      "[101]\tvalid_0's rmse: 1.04542\n",
      "Training until validation scores don't improve for 100 rounds\n"
     ]
    },
    {
     "name": "stderr",
     "output_type": "stream",
     "text": [
      "feature_fraction, val_score: 1.041060:  29%|##8       | 2/7 [00:02<00:05,  1.02s/it]\u001b[32m[I 2021-03-07 19:45:01,247]\u001b[0m Trial 1 finished with value: 1.0410599785975185 and parameters: {'feature_fraction': 1.0}. Best is trial 1 with value: 1.0410599785975185.\u001b[0m\n",
      "feature_fraction, val_score: 1.041060:  29%|##8       | 2/7 [00:02<00:05,  1.02s/it]"
     ]
    },
    {
     "name": "stdout",
     "output_type": "stream",
     "text": [
      "Early stopping, best iteration is:\n",
      "[84]\tvalid_0's rmse: 1.04106\n",
      "Training until validation scores don't improve for 100 rounds\n"
     ]
    },
    {
     "name": "stderr",
     "output_type": "stream",
     "text": [
      "feature_fraction, val_score: 1.034979:  43%|####2     | 3/7 [00:03<00:04,  1.21s/it]\u001b[32m[I 2021-03-07 19:45:02,688]\u001b[0m Trial 2 finished with value: 1.0349785968027507 and parameters: {'feature_fraction': 0.7}. Best is trial 2 with value: 1.0349785968027507.\u001b[0m\n",
      "feature_fraction, val_score: 1.034979:  43%|####2     | 3/7 [00:03<00:04,  1.21s/it]"
     ]
    },
    {
     "name": "stdout",
     "output_type": "stream",
     "text": [
      "Early stopping, best iteration is:\n",
      "[230]\tvalid_0's rmse: 1.03498\n",
      "Training until validation scores don't improve for 100 rounds\n"
     ]
    },
    {
     "name": "stderr",
     "output_type": "stream",
     "text": [
      "feature_fraction, val_score: 1.034979:  57%|#####7    | 4/7 [00:04<00:03,  1.33s/it]\u001b[32m[I 2021-03-07 19:45:04,196]\u001b[0m Trial 3 finished with value: 1.041977609209974 and parameters: {'feature_fraction': 0.4}. Best is trial 2 with value: 1.0349785968027507.\u001b[0m\n",
      "feature_fraction, val_score: 1.034979:  57%|#####7    | 4/7 [00:04<00:03,  1.33s/it]"
     ]
    },
    {
     "name": "stdout",
     "output_type": "stream",
     "text": [
      "Early stopping, best iteration is:\n",
      "[307]\tvalid_0's rmse: 1.04198\n",
      "Training until validation scores don't improve for 100 rounds\n"
     ]
    },
    {
     "name": "stderr",
     "output_type": "stream",
     "text": [
      "feature_fraction, val_score: 1.034979:  71%|#######1  | 5/7 [00:05<00:02,  1.20s/it]\u001b[32m[I 2021-03-07 19:45:05,175]\u001b[0m Trial 4 finished with value: 1.0397214081876645 and parameters: {'feature_fraction': 0.8}. Best is trial 2 with value: 1.0349785968027507.\u001b[0m\n",
      "feature_fraction, val_score: 1.034979:  71%|#######1  | 5/7 [00:05<00:02,  1.20s/it]"
     ]
    },
    {
     "name": "stdout",
     "output_type": "stream",
     "text": [
      "Early stopping, best iteration is:\n",
      "[82]\tvalid_0's rmse: 1.03972\n",
      "Training until validation scores don't improve for 100 rounds\n"
     ]
    },
    {
     "name": "stderr",
     "output_type": "stream",
     "text": [
      "feature_fraction, val_score: 1.034574:  86%|########5 | 6/7 [00:07<00:01,  1.32s/it]\u001b[32m[I 2021-03-07 19:45:06,737]\u001b[0m Trial 5 finished with value: 1.0345738126823232 and parameters: {'feature_fraction': 0.8999999999999999}. Best is trial 5 with value: 1.0345738126823232.\u001b[0m\n",
      "feature_fraction, val_score: 1.034574:  86%|########5 | 6/7 [00:07<00:01,  1.32s/it]"
     ]
    },
    {
     "name": "stdout",
     "output_type": "stream",
     "text": [
      "Early stopping, best iteration is:\n",
      "[148]\tvalid_0's rmse: 1.03457\n",
      "Training until validation scores don't improve for 100 rounds\n"
     ]
    },
    {
     "name": "stderr",
     "output_type": "stream",
     "text": [
      "feature_fraction, val_score: 1.031293: 100%|##########| 7/7 [00:08<00:00,  1.29s/it]\u001b[32m[I 2021-03-07 19:45:07,960]\u001b[0m Trial 6 finished with value: 1.0312928170766775 and parameters: {'feature_fraction': 0.6}. Best is trial 6 with value: 1.0312928170766775.\u001b[0m\n",
      "feature_fraction, val_score: 1.031293: 100%|##########| 7/7 [00:08<00:00,  1.25s/it]\n",
      "num_leaves, val_score: 1.031293:   0%|          | 0/20 [00:00<?, ?it/s]"
     ]
    },
    {
     "name": "stdout",
     "output_type": "stream",
     "text": [
      "Early stopping, best iteration is:\n",
      "[188]\tvalid_0's rmse: 1.03129\n",
      "Training until validation scores don't improve for 100 rounds\n"
     ]
    },
    {
     "name": "stderr",
     "output_type": "stream",
     "text": [
      "num_leaves, val_score: 1.031293:   5%|5         | 1/20 [00:02<00:49,  2.63s/it]\u001b[32m[I 2021-03-07 19:45:10,604]\u001b[0m Trial 7 finished with value: 1.0446696942410472 and parameters: {'num_leaves': 224}. Best is trial 7 with value: 1.0446696942410472.\u001b[0m\n",
      "num_leaves, val_score: 1.031293:   5%|5         | 1/20 [00:02<00:49,  2.63s/it]"
     ]
    },
    {
     "name": "stdout",
     "output_type": "stream",
     "text": [
      "Early stopping, best iteration is:\n",
      "[27]\tvalid_0's rmse: 1.04467\n",
      "Training until validation scores don't improve for 100 rounds\n"
     ]
    },
    {
     "name": "stderr",
     "output_type": "stream",
     "text": [
      "num_leaves, val_score: 1.031293:  10%|#         | 2/20 [00:05<00:54,  3.03s/it]\u001b[32m[I 2021-03-07 19:45:13,914]\u001b[0m Trial 8 finished with value: 1.0327627917909206 and parameters: {'num_leaves': 208}. Best is trial 8 with value: 1.0327627917909206.\u001b[0m\n",
      "num_leaves, val_score: 1.031293:  10%|#         | 2/20 [00:05<00:54,  3.03s/it]"
     ]
    },
    {
     "name": "stdout",
     "output_type": "stream",
     "text": [
      "Early stopping, best iteration is:\n",
      "[55]\tvalid_0's rmse: 1.03276\n",
      "Training until validation scores don't improve for 100 rounds\n"
     ]
    },
    {
     "name": "stderr",
     "output_type": "stream",
     "text": [
      "num_leaves, val_score: 1.031293:  15%|#5        | 3/20 [00:08<00:49,  2.93s/it]\u001b[32m[I 2021-03-07 19:45:16,725]\u001b[0m Trial 9 finished with value: 1.037675590487125 and parameters: {'num_leaves': 184}. Best is trial 8 with value: 1.0327627917909206.\u001b[0m\n",
      "num_leaves, val_score: 1.031293:  15%|#5        | 3/20 [00:08<00:49,  2.93s/it]"
     ]
    },
    {
     "name": "stdout",
     "output_type": "stream",
     "text": [
      "Early stopping, best iteration is:\n",
      "[52]\tvalid_0's rmse: 1.03768\n",
      "Training until validation scores don't improve for 100 rounds\n"
     ]
    },
    {
     "name": "stderr",
     "output_type": "stream",
     "text": [
      "num_leaves, val_score: 1.031293:  20%|##        | 4/20 [00:12<00:49,  3.11s/it]\u001b[32m[I 2021-03-07 19:45:20,116]\u001b[0m Trial 10 finished with value: 1.0374868554678758 and parameters: {'num_leaves': 143}. Best is trial 8 with value: 1.0327627917909206.\u001b[0m\n",
      "num_leaves, val_score: 1.031293:  20%|##        | 4/20 [00:12<00:49,  3.11s/it]"
     ]
    },
    {
     "name": "stdout",
     "output_type": "stream",
     "text": [
      "Early stopping, best iteration is:\n",
      "[65]\tvalid_0's rmse: 1.03749\n",
      "Training until validation scores don't improve for 100 rounds\n"
     ]
    },
    {
     "name": "stderr",
     "output_type": "stream",
     "text": [
      "num_leaves, val_score: 1.031293:  25%|##5       | 5/20 [00:15<00:47,  3.15s/it]\u001b[32m[I 2021-03-07 19:45:23,344]\u001b[0m Trial 11 finished with value: 1.0383681568471759 and parameters: {'num_leaves': 221}. Best is trial 8 with value: 1.0327627917909206.\u001b[0m\n",
      "num_leaves, val_score: 1.031293:  25%|##5       | 5/20 [00:15<00:47,  3.15s/it]"
     ]
    },
    {
     "name": "stdout",
     "output_type": "stream",
     "text": [
      "Early stopping, best iteration is:\n",
      "[50]\tvalid_0's rmse: 1.03837\n",
      "Training until validation scores don't improve for 100 rounds\n"
     ]
    },
    {
     "name": "stderr",
     "output_type": "stream",
     "text": [
      "num_leaves, val_score: 1.031293:  30%|###       | 6/20 [00:18<00:45,  3.23s/it]\u001b[32m[I 2021-03-07 19:45:26,726]\u001b[0m Trial 12 finished with value: 1.0334623417390219 and parameters: {'num_leaves': 204}. Best is trial 8 with value: 1.0327627917909206.\u001b[0m\n",
      "num_leaves, val_score: 1.031293:  30%|###       | 6/20 [00:18<00:45,  3.23s/it]"
     ]
    },
    {
     "name": "stdout",
     "output_type": "stream",
     "text": [
      "Early stopping, best iteration is:\n",
      "[61]\tvalid_0's rmse: 1.03346\n",
      "Training until validation scores don't improve for 100 rounds\n"
     ]
    },
    {
     "name": "stderr",
     "output_type": "stream",
     "text": [
      "num_leaves, val_score: 1.031293:  35%|###5      | 7/20 [00:20<00:36,  2.84s/it]\u001b[32m[I 2021-03-07 19:45:28,746]\u001b[0m Trial 13 finished with value: 1.044792748629389 and parameters: {'num_leaves': 103}. Best is trial 8 with value: 1.0327627917909206.\u001b[0m\n",
      "num_leaves, val_score: 1.031293:  35%|###5      | 7/20 [00:20<00:36,  2.84s/it]"
     ]
    },
    {
     "name": "stdout",
     "output_type": "stream",
     "text": [
      "Early stopping, best iteration is:\n",
      "[76]\tvalid_0's rmse: 1.04479\n",
      "Training until validation scores don't improve for 100 rounds\n"
     ]
    },
    {
     "name": "stderr",
     "output_type": "stream",
     "text": [
      "num_leaves, val_score: 1.031293:  40%|####      | 8/20 [00:22<00:28,  2.35s/it]\u001b[32m[I 2021-03-07 19:45:30,070]\u001b[0m Trial 14 finished with value: 1.0393283839420264 and parameters: {'num_leaves': 55}. Best is trial 8 with value: 1.0327627917909206.\u001b[0m\n",
      "num_leaves, val_score: 1.031293:  40%|####      | 8/20 [00:22<00:28,  2.35s/it]"
     ]
    },
    {
     "name": "stdout",
     "output_type": "stream",
     "text": [
      "Early stopping, best iteration is:\n",
      "[83]\tvalid_0's rmse: 1.03933\n",
      "Training until validation scores don't improve for 100 rounds\n"
     ]
    },
    {
     "name": "stderr",
     "output_type": "stream",
     "text": [
      "num_leaves, val_score: 1.031293:  45%|####5     | 9/20 [00:24<00:27,  2.50s/it]\u001b[32m[I 2021-03-07 19:45:32,891]\u001b[0m Trial 15 finished with value: 1.0442534019592267 and parameters: {'num_leaves': 215}. Best is trial 8 with value: 1.0327627917909206.\u001b[0m\n",
      "num_leaves, val_score: 1.031293:  45%|####5     | 9/20 [00:24<00:27,  2.50s/it]"
     ]
    },
    {
     "name": "stdout",
     "output_type": "stream",
     "text": [
      "Early stopping, best iteration is:\n",
      "[30]\tvalid_0's rmse: 1.04425\n",
      "Training until validation scores don't improve for 100 rounds\n"
     ]
    },
    {
     "name": "stderr",
     "output_type": "stream",
     "text": [
      "num_leaves, val_score: 1.031293:  50%|#####     | 10/20 [00:26<00:21,  2.15s/it]\u001b[32m[I 2021-03-07 19:45:34,247]\u001b[0m Trial 16 finished with value: 1.033584136746205 and parameters: {'num_leaves': 25}. Best is trial 8 with value: 1.0327627917909206.\u001b[0m\n",
      "num_leaves, val_score: 1.031293:  50%|#####     | 10/20 [00:26<00:21,  2.15s/it]"
     ]
    },
    {
     "name": "stdout",
     "output_type": "stream",
     "text": [
      "Early stopping, best iteration is:\n",
      "[222]\tvalid_0's rmse: 1.03358\n",
      "Training until validation scores don't improve for 100 rounds\n"
     ]
    },
    {
     "name": "stderr",
     "output_type": "stream",
     "text": [
      "num_leaves, val_score: 1.031293:  55%|#####5    | 11/20 [00:30<00:24,  2.74s/it]\u001b[32m[I 2021-03-07 19:45:38,336]\u001b[0m Trial 17 finished with value: 1.0429088034891956 and parameters: {'num_leaves': 255}. Best is trial 8 with value: 1.0327627917909206.\u001b[0m\n",
      "num_leaves, val_score: 1.031293:  55%|#####5    | 11/20 [00:30<00:24,  2.74s/it]"
     ]
    },
    {
     "name": "stdout",
     "output_type": "stream",
     "text": [
      "Early stopping, best iteration is:\n",
      "[33]\tvalid_0's rmse: 1.04291\n",
      "Training until validation scores don't improve for 100 rounds\n"
     ]
    },
    {
     "name": "stderr",
     "output_type": "stream",
     "text": [
      "num_leaves, val_score: 1.031293:  60%|######    | 12/20 [00:32<00:21,  2.68s/it]\u001b[32m[I 2021-03-07 19:45:40,884]\u001b[0m Trial 18 finished with value: 1.0360895722508714 and parameters: {'num_leaves': 162}. Best is trial 8 with value: 1.0327627917909206.\u001b[0m\n",
      "num_leaves, val_score: 1.031293:  60%|######    | 12/20 [00:32<00:21,  2.68s/it]"
     ]
    },
    {
     "name": "stdout",
     "output_type": "stream",
     "text": [
      "Early stopping, best iteration is:\n",
      "[50]\tvalid_0's rmse: 1.03609\n",
      "Training until validation scores don't improve for 100 rounds\n"
     ]
    },
    {
     "name": "stderr",
     "output_type": "stream",
     "text": [
      "num_leaves, val_score: 1.031293:  65%|######5   | 13/20 [00:34<00:16,  2.42s/it]\u001b[32m[I 2021-03-07 19:45:42,716]\u001b[0m Trial 19 finished with value: 1.0326013978098172 and parameters: {'num_leaves': 104}. Best is trial 19 with value: 1.0326013978098172.\u001b[0m\n",
      "num_leaves, val_score: 1.031293:  65%|######5   | 13/20 [00:34<00:16,  2.42s/it]"
     ]
    },
    {
     "name": "stdout",
     "output_type": "stream",
     "text": [
      "Early stopping, best iteration is:\n",
      "[58]\tvalid_0's rmse: 1.0326\n",
      "Training until validation scores don't improve for 100 rounds\n"
     ]
    },
    {
     "name": "stderr",
     "output_type": "stream",
     "text": [
      "num_leaves, val_score: 1.031293:  70%|#######   | 14/20 [00:36<00:14,  2.37s/it]\u001b[32m[I 2021-03-07 19:45:44,968]\u001b[0m Trial 20 finished with value: 1.0358625993800552 and parameters: {'num_leaves': 92}. Best is trial 19 with value: 1.0326013978098172.\u001b[0m\n",
      "num_leaves, val_score: 1.031293:  70%|#######   | 14/20 [00:37<00:14,  2.37s/it]"
     ]
    },
    {
     "name": "stdout",
     "output_type": "stream",
     "text": [
      "Early stopping, best iteration is:\n",
      "[123]\tvalid_0's rmse: 1.03586\n",
      "Training until validation scores don't improve for 100 rounds\n"
     ]
    },
    {
     "name": "stderr",
     "output_type": "stream",
     "text": [
      "num_leaves, val_score: 1.031293:  75%|#######5  | 15/20 [00:39<00:11,  2.27s/it]\u001b[32m[I 2021-03-07 19:45:47,012]\u001b[0m Trial 21 finished with value: 1.0344813433842004 and parameters: {'num_leaves': 102}. Best is trial 19 with value: 1.0326013978098172.\u001b[0m\n",
      "num_leaves, val_score: 1.031293:  75%|#######5  | 15/20 [00:39<00:11,  2.27s/it]"
     ]
    },
    {
     "name": "stdout",
     "output_type": "stream",
     "text": [
      "Early stopping, best iteration is:\n",
      "[64]\tvalid_0's rmse: 1.03448\n",
      "Training until validation scores don't improve for 100 rounds\n"
     ]
    },
    {
     "name": "stderr",
     "output_type": "stream",
     "text": [
      "num_leaves, val_score: 1.031293:  80%|########  | 16/20 [00:41<00:08,  2.20s/it]\u001b[32m[I 2021-03-07 19:45:49,038]\u001b[0m Trial 22 finished with value: 1.0389297159348574 and parameters: {'num_leaves': 52}. Best is trial 19 with value: 1.0326013978098172.\u001b[0m\n",
      "num_leaves, val_score: 1.031293:  80%|########  | 16/20 [00:41<00:08,  2.20s/it]"
     ]
    },
    {
     "name": "stdout",
     "output_type": "stream",
     "text": [
      "Early stopping, best iteration is:\n",
      "[74]\tvalid_0's rmse: 1.03893\n",
      "Training until validation scores don't improve for 100 rounds\n"
     ]
    },
    {
     "name": "stderr",
     "output_type": "stream",
     "text": [
      "num_leaves, val_score: 1.031293:  85%|########5 | 17/20 [00:46<00:09,  3.27s/it]\u001b[32m[I 2021-03-07 19:45:54,803]\u001b[0m Trial 23 finished with value: 1.0358526932584609 and parameters: {'num_leaves': 134}. Best is trial 19 with value: 1.0326013978098172.\u001b[0m\n",
      "num_leaves, val_score: 1.031293:  85%|########5 | 17/20 [00:46<00:09,  3.27s/it]"
     ]
    },
    {
     "name": "stdout",
     "output_type": "stream",
     "text": [
      "Early stopping, best iteration is:\n",
      "[56]\tvalid_0's rmse: 1.03585\n",
      "Training until validation scores don't improve for 100 rounds\n"
     ]
    },
    {
     "name": "stderr",
     "output_type": "stream",
     "text": [
      "num_leaves, val_score: 1.031293:  90%|######### | 18/20 [00:49<00:06,  3.04s/it]\u001b[32m[I 2021-03-07 19:45:57,314]\u001b[0m Trial 24 finished with value: 1.0407804118455337 and parameters: {'num_leaves': 75}. Best is trial 19 with value: 1.0326013978098172.\u001b[0m\n",
      "num_leaves, val_score: 1.031293:  90%|######### | 18/20 [00:49<00:06,  3.04s/it]"
     ]
    },
    {
     "name": "stdout",
     "output_type": "stream",
     "text": [
      "Early stopping, best iteration is:\n",
      "[90]\tvalid_0's rmse: 1.04078\n",
      "Training until validation scores don't improve for 100 rounds\n"
     ]
    },
    {
     "name": "stderr",
     "output_type": "stream",
     "text": [
      "num_leaves, val_score: 1.031293:  95%|#########5| 19/20 [00:52<00:03,  3.08s/it]\u001b[32m[I 2021-03-07 19:46:00,482]\u001b[0m Trial 25 finished with value: 1.0367957935261858 and parameters: {'num_leaves': 167}. Best is trial 19 with value: 1.0326013978098172.\u001b[0m\n",
      "num_leaves, val_score: 1.031293:  95%|#########5| 19/20 [00:52<00:03,  3.08s/it]"
     ]
    },
    {
     "name": "stdout",
     "output_type": "stream",
     "text": [
      "Early stopping, best iteration is:\n",
      "[40]\tvalid_0's rmse: 1.0368\n",
      "Training until validation scores don't improve for 100 rounds\n"
     ]
    },
    {
     "name": "stderr",
     "output_type": "stream",
     "text": [
      "num_leaves, val_score: 1.031293: 100%|##########| 20/20 [00:57<00:00,  3.59s/it]\u001b[32m[I 2021-03-07 19:46:05,274]\u001b[0m Trial 26 finished with value: 1.0429088034891956 and parameters: {'num_leaves': 255}. Best is trial 19 with value: 1.0326013978098172.\u001b[0m\n",
      "num_leaves, val_score: 1.031293: 100%|##########| 20/20 [00:57<00:00,  2.87s/it]\n",
      "bagging, val_score: 1.031293:   0%|          | 0/10 [00:00<?, ?it/s]"
     ]
    },
    {
     "name": "stdout",
     "output_type": "stream",
     "text": [
      "Early stopping, best iteration is:\n",
      "[33]\tvalid_0's rmse: 1.04291\n",
      "Training until validation scores don't improve for 100 rounds\n"
     ]
    },
    {
     "name": "stderr",
     "output_type": "stream",
     "text": [
      "bagging, val_score: 1.031293:  10%|#         | 1/10 [00:03<00:27,  3.02s/it]\u001b[32m[I 2021-03-07 19:46:08,325]\u001b[0m Trial 27 finished with value: 1.050810881061481 and parameters: {'bagging_fraction': 0.5218932135051516, 'bagging_freq': 7}. Best is trial 27 with value: 1.050810881061481.\u001b[0m\n",
      "bagging, val_score: 1.031293:  10%|#         | 1/10 [00:03<00:27,  3.02s/it]"
     ]
    },
    {
     "name": "stdout",
     "output_type": "stream",
     "text": [
      "Early stopping, best iteration is:\n",
      "[65]\tvalid_0's rmse: 1.05081\n",
      "Training until validation scores don't improve for 100 rounds\n"
     ]
    },
    {
     "name": "stderr",
     "output_type": "stream",
     "text": [
      "bagging, val_score: 1.031293:  20%|##        | 2/10 [00:07<00:31,  3.96s/it]\u001b[32m[I 2021-03-07 19:46:12,937]\u001b[0m Trial 28 finished with value: 1.0407221299131786 and parameters: {'bagging_fraction': 0.7677537830097371, 'bagging_freq': 5}. Best is trial 28 with value: 1.0407221299131786.\u001b[0m\n",
      "bagging, val_score: 1.031293:  20%|##        | 2/10 [00:07<00:31,  3.96s/it]"
     ]
    },
    {
     "name": "stdout",
     "output_type": "stream",
     "text": [
      "Early stopping, best iteration is:\n",
      "[195]\tvalid_0's rmse: 1.04072\n",
      "Training until validation scores don't improve for 100 rounds\n"
     ]
    },
    {
     "name": "stderr",
     "output_type": "stream",
     "text": [
      "bagging, val_score: 1.031293:  30%|###       | 3/10 [00:08<00:18,  2.71s/it]\u001b[32m[I 2021-03-07 19:46:14,149]\u001b[0m Trial 29 finished with value: 1.0554792946459535 and parameters: {'bagging_fraction': 0.48383681828927716, 'bagging_freq': 4}. Best is trial 28 with value: 1.0407221299131786.\u001b[0m\n",
      "bagging, val_score: 1.031293:  30%|###       | 3/10 [00:08<00:18,  2.71s/it]"
     ]
    },
    {
     "name": "stdout",
     "output_type": "stream",
     "text": [
      "Early stopping, best iteration is:\n",
      "[58]\tvalid_0's rmse: 1.05548\n",
      "Training until validation scores don't improve for 100 rounds\n"
     ]
    },
    {
     "name": "stderr",
     "output_type": "stream",
     "text": [
      "bagging, val_score: 1.031293:  40%|####      | 4/10 [00:10<00:12,  2.15s/it]\u001b[32m[I 2021-03-07 19:46:15,447]\u001b[0m Trial 30 finished with value: 1.03339241453868 and parameters: {'bagging_fraction': 0.897357382184717, 'bagging_freq': 1}. Best is trial 30 with value: 1.03339241453868.\u001b[0m\n",
      "bagging, val_score: 1.031293:  40%|####      | 4/10 [00:10<00:12,  2.15s/it]"
     ]
    },
    {
     "name": "stdout",
     "output_type": "stream",
     "text": [
      "Early stopping, best iteration is:\n",
      "[158]\tvalid_0's rmse: 1.03339\n",
      "Training until validation scores don't improve for 100 rounds\n"
     ]
    },
    {
     "name": "stderr",
     "output_type": "stream",
     "text": [
      "bagging, val_score: 1.031293:  50%|#####     | 5/10 [00:12<00:10,  2.09s/it]\u001b[32m[I 2021-03-07 19:46:17,444]\u001b[0m Trial 31 finished with value: 1.0620747869920066 and parameters: {'bagging_fraction': 0.4050060330889325, 'bagging_freq': 2}. Best is trial 30 with value: 1.03339241453868.\u001b[0m\n",
      "bagging, val_score: 1.031293:  50%|#####     | 5/10 [00:12<00:10,  2.09s/it]"
     ]
    },
    {
     "name": "stdout",
     "output_type": "stream",
     "text": [
      "Early stopping, best iteration is:\n",
      "[241]\tvalid_0's rmse: 1.06207\n",
      "Training until validation scores don't improve for 100 rounds\n"
     ]
    },
    {
     "name": "stderr",
     "output_type": "stream",
     "text": [
      "bagging, val_score: 1.031293:  60%|######    | 6/10 [00:13<00:07,  1.81s/it]\u001b[32m[I 2021-03-07 19:46:18,698]\u001b[0m Trial 32 finished with value: 1.0477786735510484 and parameters: {'bagging_fraction': 0.5767159160064796, 'bagging_freq': 1}. Best is trial 30 with value: 1.03339241453868.\u001b[0m\n",
      "bagging, val_score: 1.031293:  60%|######    | 6/10 [00:13<00:07,  1.81s/it]"
     ]
    },
    {
     "name": "stdout",
     "output_type": "stream",
     "text": [
      "Early stopping, best iteration is:\n",
      "[130]\tvalid_0's rmse: 1.04778\n",
      "Training until validation scores don't improve for 100 rounds\n"
     ]
    },
    {
     "name": "stderr",
     "output_type": "stream",
     "text": [
      "bagging, val_score: 1.031293:  70%|#######   | 7/10 [00:14<00:04,  1.66s/it]\u001b[32m[I 2021-03-07 19:46:20,065]\u001b[0m Trial 33 finished with value: 1.0393082525711974 and parameters: {'bagging_fraction': 0.7534939870278397, 'bagging_freq': 3}. Best is trial 30 with value: 1.03339241453868.\u001b[0m\n",
      "bagging, val_score: 1.031293:  70%|#######   | 7/10 [00:14<00:04,  1.66s/it]"
     ]
    },
    {
     "name": "stdout",
     "output_type": "stream",
     "text": [
      "Early stopping, best iteration is:\n",
      "[131]\tvalid_0's rmse: 1.03931\n",
      "Training until validation scores don't improve for 100 rounds\n"
     ]
    },
    {
     "name": "stderr",
     "output_type": "stream",
     "text": [
      "bagging, val_score: 1.031293:  80%|########  | 8/10 [00:16<00:03,  1.65s/it]\u001b[32m[I 2021-03-07 19:46:21,698]\u001b[0m Trial 34 finished with value: 1.0377359163405846 and parameters: {'bagging_fraction': 0.8816385469936168, 'bagging_freq': 3}. Best is trial 30 with value: 1.03339241453868.\u001b[0m\n",
      "bagging, val_score: 1.031293:  80%|########  | 8/10 [00:16<00:03,  1.65s/it]"
     ]
    },
    {
     "name": "stdout",
     "output_type": "stream",
     "text": [
      "Early stopping, best iteration is:\n",
      "[182]\tvalid_0's rmse: 1.03774\n",
      "Training until validation scores don't improve for 100 rounds\n"
     ]
    },
    {
     "name": "stderr",
     "output_type": "stream",
     "text": [
      "bagging, val_score: 1.031293:  90%|######### | 9/10 [00:17<00:01,  1.62s/it]\u001b[32m[I 2021-03-07 19:46:23,247]\u001b[0m Trial 35 finished with value: 1.0374544866189106 and parameters: {'bagging_fraction': 0.8895855139687757, 'bagging_freq': 4}. Best is trial 30 with value: 1.03339241453868.\u001b[0m\n",
      "bagging, val_score: 1.031293:  90%|######### | 9/10 [00:17<00:01,  1.62s/it]"
     ]
    },
    {
     "name": "stdout",
     "output_type": "stream",
     "text": [
      "Early stopping, best iteration is:\n",
      "[183]\tvalid_0's rmse: 1.03745\n",
      "Training until validation scores don't improve for 100 rounds\n"
     ]
    },
    {
     "name": "stderr",
     "output_type": "stream",
     "text": [
      "bagging, val_score: 1.031293: 100%|##########| 10/10 [00:19<00:00,  1.62s/it]\u001b[32m[I 2021-03-07 19:46:24,848]\u001b[0m Trial 36 finished with value: 1.0505439188737729 and parameters: {'bagging_fraction': 0.6211049690520498, 'bagging_freq': 3}. Best is trial 30 with value: 1.03339241453868.\u001b[0m\n",
      "bagging, val_score: 1.031293: 100%|##########| 10/10 [00:19<00:00,  1.96s/it]\n",
      "feature_fraction_stage2, val_score: 1.031293:   0%|          | 0/6 [00:00<?, ?it/s]"
     ]
    },
    {
     "name": "stdout",
     "output_type": "stream",
     "text": [
      "Early stopping, best iteration is:\n",
      "[162]\tvalid_0's rmse: 1.05054\n",
      "Training until validation scores don't improve for 100 rounds\n"
     ]
    },
    {
     "name": "stderr",
     "output_type": "stream",
     "text": [
      "feature_fraction_stage2, val_score: 1.031293:  17%|#6        | 1/6 [00:01<00:05,  1.15s/it]\u001b[32m[I 2021-03-07 19:46:26,013]\u001b[0m Trial 37 finished with value: 1.0426015535051383 and parameters: {'feature_fraction': 0.52}. Best is trial 37 with value: 1.0426015535051383.\u001b[0m\n",
      "feature_fraction_stage2, val_score: 1.031293:  17%|#6        | 1/6 [00:01<00:05,  1.15s/it]"
     ]
    },
    {
     "name": "stdout",
     "output_type": "stream",
     "text": [
      "Early stopping, best iteration is:\n",
      "[114]\tvalid_0's rmse: 1.0426\n",
      "Training until validation scores don't improve for 100 rounds\n"
     ]
    },
    {
     "name": "stderr",
     "output_type": "stream",
     "text": [
      "feature_fraction_stage2, val_score: 1.031293:  33%|###3      | 2/6 [00:02<00:05,  1.33s/it]\u001b[32m[I 2021-03-07 19:46:27,476]\u001b[0m Trial 38 finished with value: 1.0329803874879044 and parameters: {'feature_fraction': 0.616}. Best is trial 38 with value: 1.0329803874879044.\u001b[0m\n",
      "feature_fraction_stage2, val_score: 1.031293:  33%|###3      | 2/6 [00:02<00:05,  1.33s/it]"
     ]
    },
    {
     "name": "stdout",
     "output_type": "stream",
     "text": [
      "Early stopping, best iteration is:\n",
      "[224]\tvalid_0's rmse: 1.03298\n",
      "Training until validation scores don't improve for 100 rounds\n"
     ]
    },
    {
     "name": "stderr",
     "output_type": "stream",
     "text": [
      "feature_fraction_stage2, val_score: 1.031293:  50%|#####     | 3/6 [00:03<00:03,  1.32s/it]\u001b[32m[I 2021-03-07 19:46:28,789]\u001b[0m Trial 39 finished with value: 1.037929718004419 and parameters: {'feature_fraction': 0.552}. Best is trial 38 with value: 1.0329803874879044.\u001b[0m\n",
      "feature_fraction_stage2, val_score: 1.031293:  50%|#####     | 3/6 [00:03<00:03,  1.32s/it]"
     ]
    },
    {
     "name": "stdout",
     "output_type": "stream",
     "text": [
      "Early stopping, best iteration is:\n",
      "[191]\tvalid_0's rmse: 1.03793\n",
      "Training until validation scores don't improve for 100 rounds\n"
     ]
    },
    {
     "name": "stderr",
     "output_type": "stream",
     "text": [
      "feature_fraction_stage2, val_score: 1.031293:  67%|######6   | 4/6 [00:05<00:02,  1.36s/it]\u001b[32m[I 2021-03-07 19:46:30,205]\u001b[0m Trial 40 finished with value: 1.0317472075528693 and parameters: {'feature_fraction': 0.6799999999999999}. Best is trial 40 with value: 1.0317472075528693.\u001b[0m\n",
      "feature_fraction_stage2, val_score: 1.031293:  67%|######6   | 4/6 [00:05<00:02,  1.36s/it]"
     ]
    },
    {
     "name": "stdout",
     "output_type": "stream",
     "text": [
      "Early stopping, best iteration is:\n",
      "[185]\tvalid_0's rmse: 1.03175\n",
      "Training until validation scores don't improve for 100 rounds\n"
     ]
    },
    {
     "name": "stderr",
     "output_type": "stream",
     "text": [
      "feature_fraction_stage2, val_score: 1.031293:  83%|########3 | 5/6 [00:06<00:01,  1.40s/it]\u001b[32m[I 2021-03-07 19:46:31,684]\u001b[0m Trial 41 finished with value: 1.0317324172014104 and parameters: {'feature_fraction': 0.6479999999999999}. Best is trial 41 with value: 1.0317324172014104.\u001b[0m\n",
      "feature_fraction_stage2, val_score: 1.031293:  83%|########3 | 5/6 [00:06<00:01,  1.40s/it]"
     ]
    },
    {
     "name": "stdout",
     "output_type": "stream",
     "text": [
      "Early stopping, best iteration is:\n",
      "[195]\tvalid_0's rmse: 1.03173\n",
      "Training until validation scores don't improve for 100 rounds\n"
     ]
    },
    {
     "name": "stderr",
     "output_type": "stream",
     "text": [
      "feature_fraction_stage2, val_score: 1.031293: 100%|##########| 6/6 [00:07<00:00,  1.23s/it]\u001b[32m[I 2021-03-07 19:46:32,583]\u001b[0m Trial 42 finished with value: 1.0416356333582506 and parameters: {'feature_fraction': 0.584}. Best is trial 41 with value: 1.0317324172014104.\u001b[0m\n",
      "feature_fraction_stage2, val_score: 1.031293: 100%|##########| 6/6 [00:07<00:00,  1.29s/it]\n",
      "regularization_factors, val_score: 1.031293:   0%|          | 0/20 [00:00<?, ?it/s]"
     ]
    },
    {
     "name": "stdout",
     "output_type": "stream",
     "text": [
      "Early stopping, best iteration is:\n",
      "[80]\tvalid_0's rmse: 1.04164\n",
      "Training until validation scores don't improve for 100 rounds\n"
     ]
    },
    {
     "name": "stderr",
     "output_type": "stream",
     "text": [
      "regularization_factors, val_score: 1.031293:   5%|5         | 1/20 [00:01<00:27,  1.44s/it]\u001b[32m[I 2021-03-07 19:46:34,037]\u001b[0m Trial 43 finished with value: 1.0362629979881384 and parameters: {'lambda_l1': 1.7036829201819102e-07, 'lambda_l2': 1.411447668135482}. Best is trial 43 with value: 1.0362629979881384.\u001b[0m\n",
      "regularization_factors, val_score: 1.031293:   5%|5         | 1/20 [00:01<00:27,  1.44s/it]"
     ]
    },
    {
     "name": "stdout",
     "output_type": "stream",
     "text": [
      "Early stopping, best iteration is:\n",
      "[161]\tvalid_0's rmse: 1.03626\n",
      "Training until validation scores don't improve for 100 rounds\n"
     ]
    },
    {
     "name": "stderr",
     "output_type": "stream",
     "text": [
      "regularization_factors, val_score: 1.031293:  10%|#         | 2/20 [00:02<00:27,  1.51s/it]\u001b[32m[I 2021-03-07 19:46:35,591]\u001b[0m Trial 44 finished with value: 1.0312950256655098 and parameters: {'lambda_l1': 4.360656330440376e-06, 'lambda_l2': 0.0005699288235005515}. Best is trial 44 with value: 1.0312950256655098.\u001b[0m\n",
      "regularization_factors, val_score: 1.031293:  10%|#         | 2/20 [00:03<00:27,  1.51s/it]"
     ]
    },
    {
     "name": "stdout",
     "output_type": "stream",
     "text": [
      "Early stopping, best iteration is:\n",
      "[188]\tvalid_0's rmse: 1.0313\n",
      "Training until validation scores don't improve for 100 rounds\n"
     ]
    },
    {
     "name": "stderr",
     "output_type": "stream",
     "text": [
      "regularization_factors, val_score: 1.031293:  15%|#5        | 3/20 [00:04<00:25,  1.51s/it]\u001b[32m[I 2021-03-07 19:46:37,109]\u001b[0m Trial 45 finished with value: 1.0330452077937344 and parameters: {'lambda_l1': 0.0013478568989907745, 'lambda_l2': 2.3998784733300746e-06}. Best is trial 44 with value: 1.0312950256655098.\u001b[0m\n",
      "regularization_factors, val_score: 1.031293:  15%|#5        | 3/20 [00:04<00:25,  1.51s/it]"
     ]
    },
    {
     "name": "stdout",
     "output_type": "stream",
     "text": [
      "Early stopping, best iteration is:\n",
      "[186]\tvalid_0's rmse: 1.03305\n",
      "Training until validation scores don't improve for 100 rounds\n"
     ]
    },
    {
     "name": "stderr",
     "output_type": "stream",
     "text": [
      "regularization_factors, val_score: 1.031293:  20%|##        | 4/20 [00:06<00:24,  1.55s/it]\u001b[32m[I 2021-03-07 19:46:38,727]\u001b[0m Trial 46 finished with value: 1.0313152405120418 and parameters: {'lambda_l1': 1.5119448607705936e-07, 'lambda_l2': 4.746360994938866e-05}. Best is trial 44 with value: 1.0312950256655098.\u001b[0m\n",
      "regularization_factors, val_score: 1.031293:  20%|##        | 4/20 [00:06<00:24,  1.55s/it]"
     ]
    },
    {
     "name": "stdout",
     "output_type": "stream",
     "text": [
      "Early stopping, best iteration is:\n",
      "[188]\tvalid_0's rmse: 1.03132\n",
      "Training until validation scores don't improve for 100 rounds\n"
     ]
    },
    {
     "name": "stderr",
     "output_type": "stream",
     "text": [
      "regularization_factors, val_score: 1.031293:  25%|##5       | 5/20 [00:07<00:24,  1.64s/it]\u001b[32m[I 2021-03-07 19:46:40,531]\u001b[0m Trial 47 finished with value: 1.0361846965597745 and parameters: {'lambda_l1': 6.3623065224796415e-06, 'lambda_l2': 0.0069676623593034025}. Best is trial 44 with value: 1.0312950256655098.\u001b[0m\n",
      "regularization_factors, val_score: 1.031293:  25%|##5       | 5/20 [00:07<00:24,  1.64s/it]"
     ]
    },
    {
     "name": "stdout",
     "output_type": "stream",
     "text": [
      "Early stopping, best iteration is:\n",
      "[202]\tvalid_0's rmse: 1.03618\n",
      "Training until validation scores don't improve for 100 rounds\n"
     ]
    },
    {
     "name": "stderr",
     "output_type": "stream",
     "text": [
      "regularization_factors, val_score: 1.031293:  30%|###       | 6/20 [00:09<00:22,  1.63s/it]\u001b[32m[I 2021-03-07 19:46:42,124]\u001b[0m Trial 48 finished with value: 1.0352415952619936 and parameters: {'lambda_l1': 0.0021732505680081026, 'lambda_l2': 5.433432777181775e-08}. Best is trial 44 with value: 1.0312950256655098.\u001b[0m\n",
      "regularization_factors, val_score: 1.031293:  30%|###       | 6/20 [00:09<00:22,  1.63s/it]"
     ]
    },
    {
     "name": "stdout",
     "output_type": "stream",
     "text": [
      "Early stopping, best iteration is:\n",
      "[170]\tvalid_0's rmse: 1.03524\n",
      "Training until validation scores don't improve for 100 rounds\n"
     ]
    },
    {
     "name": "stderr",
     "output_type": "stream",
     "text": [
      "regularization_factors, val_score: 1.031293:  35%|###5      | 7/20 [00:11<00:21,  1.68s/it]\u001b[32m[I 2021-03-07 19:46:43,906]\u001b[0m Trial 49 finished with value: 1.0369903350324488 and parameters: {'lambda_l1': 1.866529317137162e-07, 'lambda_l2': 0.017591602041750316}. Best is trial 44 with value: 1.0312950256655098.\u001b[0m\n",
      "regularization_factors, val_score: 1.031293:  35%|###5      | 7/20 [00:11<00:21,  1.68s/it]"
     ]
    },
    {
     "name": "stdout",
     "output_type": "stream",
     "text": [
      "Early stopping, best iteration is:\n",
      "[242]\tvalid_0's rmse: 1.03699\n",
      "Training until validation scores don't improve for 100 rounds\n"
     ]
    },
    {
     "name": "stderr",
     "output_type": "stream",
     "text": [
      "regularization_factors, val_score: 1.031293:  40%|####      | 8/20 [00:12<00:19,  1.64s/it]\u001b[32m[I 2021-03-07 19:46:45,479]\u001b[0m Trial 50 finished with value: 1.0312949878978277 and parameters: {'lambda_l1': 1.342291891996751e-07, 'lambda_l2': 0.0006604598623043376}. Best is trial 50 with value: 1.0312949878978277.\u001b[0m\n",
      "regularization_factors, val_score: 1.031293:  40%|####      | 8/20 [00:12<00:19,  1.64s/it]"
     ]
    },
    {
     "name": "stdout",
     "output_type": "stream",
     "text": [
      "Early stopping, best iteration is:\n",
      "[188]\tvalid_0's rmse: 1.03129\n",
      "Training until validation scores don't improve for 100 rounds\n"
     ]
    },
    {
     "name": "stderr",
     "output_type": "stream",
     "text": [
      "regularization_factors, val_score: 1.031293:  45%|####5     | 9/20 [00:14<00:18,  1.65s/it]\u001b[32m[I 2021-03-07 19:46:47,149]\u001b[0m Trial 51 finished with value: 1.0313085861623021 and parameters: {'lambda_l1': 0.00021662251005453523, 'lambda_l2': 6.070865288722064e-08}. Best is trial 50 with value: 1.0312949878978277.\u001b[0m\n",
      "regularization_factors, val_score: 1.031293:  45%|####5     | 9/20 [00:14<00:18,  1.65s/it]"
     ]
    },
    {
     "name": "stdout",
     "output_type": "stream",
     "text": [
      "Early stopping, best iteration is:\n",
      "[188]\tvalid_0's rmse: 1.03131\n",
      "Training until validation scores don't improve for 100 rounds\n"
     ]
    },
    {
     "name": "stderr",
     "output_type": "stream",
     "text": [
      "regularization_factors, val_score: 1.031293:  50%|#####     | 10/20 [00:16<00:15,  1.59s/it]\u001b[32m[I 2021-03-07 19:46:48,611]\u001b[0m Trial 52 finished with value: 1.0334922056367715 and parameters: {'lambda_l1': 0.0023996829213239436, 'lambda_l2': 1.436696749699995e-08}. Best is trial 50 with value: 1.0312949878978277.\u001b[0m\n",
      "regularization_factors, val_score: 1.031293:  50%|#####     | 10/20 [00:16<00:15,  1.59s/it]"
     ]
    },
    {
     "name": "stdout",
     "output_type": "stream",
     "text": [
      "Early stopping, best iteration is:\n",
      "[169]\tvalid_0's rmse: 1.03349\n",
      "Training until validation scores don't improve for 100 rounds\n"
     ]
    },
    {
     "name": "stderr",
     "output_type": "stream",
     "text": [
      "regularization_factors, val_score: 1.031293:  55%|#####5    | 11/20 [00:18<00:16,  1.79s/it]\u001b[32m[I 2021-03-07 19:46:50,844]\u001b[0m Trial 53 finished with value: 1.0392576515970327 and parameters: {'lambda_l1': 3.9258960654140607, 'lambda_l2': 8.97297327929646}. Best is trial 50 with value: 1.0312949878978277.\u001b[0m\n",
      "regularization_factors, val_score: 1.031293:  55%|#####5    | 11/20 [00:18<00:16,  1.79s/it]"
     ]
    },
    {
     "name": "stdout",
     "output_type": "stream",
     "text": [
      "Early stopping, best iteration is:\n",
      "[291]\tvalid_0's rmse: 1.03926\n",
      "Training until validation scores don't improve for 100 rounds\n"
     ]
    },
    {
     "name": "stderr",
     "output_type": "stream",
     "text": [
      "regularization_factors, val_score: 1.031293:  60%|######    | 12/20 [00:19<00:13,  1.72s/it]\u001b[32m[I 2021-03-07 19:46:52,393]\u001b[0m Trial 54 finished with value: 1.0312950915830474 and parameters: {'lambda_l1': 9.434778945831839e-06, 'lambda_l2': 0.0004141139799697087}. Best is trial 50 with value: 1.0312949878978277.\u001b[0m\n",
      "regularization_factors, val_score: 1.031293:  60%|######    | 12/20 [00:19<00:13,  1.72s/it]"
     ]
    },
    {
     "name": "stdout",
     "output_type": "stream",
     "text": [
      "Early stopping, best iteration is:\n",
      "[188]\tvalid_0's rmse: 1.0313\n",
      "Training until validation scores don't improve for 100 rounds\n"
     ]
    },
    {
     "name": "stderr",
     "output_type": "stream",
     "text": [
      "regularization_factors, val_score: 1.031293:  65%|######5   | 13/20 [00:21<00:11,  1.71s/it]\u001b[32m[I 2021-03-07 19:46:54,098]\u001b[0m Trial 55 finished with value: 1.0381701480806433 and parameters: {'lambda_l1': 1.2028703964869176e-08, 'lambda_l2': 0.03056086394806933}. Best is trial 50 with value: 1.0312949878978277.\u001b[0m\n",
      "regularization_factors, val_score: 1.031293:  65%|######5   | 13/20 [00:21<00:11,  1.71s/it]"
     ]
    },
    {
     "name": "stdout",
     "output_type": "stream",
     "text": [
      "Early stopping, best iteration is:\n",
      "[180]\tvalid_0's rmse: 1.03817\n",
      "Training until validation scores don't improve for 100 rounds\n"
     ]
    },
    {
     "name": "stderr",
     "output_type": "stream",
     "text": [
      "regularization_factors, val_score: 1.031291:  70%|#######   | 14/20 [00:23<00:09,  1.66s/it]\u001b[32m[I 2021-03-07 19:46:55,640]\u001b[0m Trial 56 finished with value: 1.0312909280359663 and parameters: {'lambda_l1': 5.810385434591239e-06, 'lambda_l2': 8.57035146764108e-05}. Best is trial 56 with value: 1.0312909280359663.\u001b[0m\n",
      "regularization_factors, val_score: 1.031291:  70%|#######   | 14/20 [00:23<00:09,  1.66s/it]"
     ]
    },
    {
     "name": "stdout",
     "output_type": "stream",
     "text": [
      "Early stopping, best iteration is:\n",
      "[188]\tvalid_0's rmse: 1.03129\n",
      "Training until validation scores don't improve for 100 rounds\n"
     ]
    },
    {
     "name": "stderr",
     "output_type": "stream",
     "text": [
      "regularization_factors, val_score: 1.031291:  75%|#######5  | 15/20 [00:24<00:08,  1.62s/it]\u001b[32m[I 2021-03-07 19:46:57,155]\u001b[0m Trial 57 finished with value: 1.0388616806687867 and parameters: {'lambda_l1': 0.16250909322126883, 'lambda_l2': 1.9549856967087034e-05}. Best is trial 56 with value: 1.0312909280359663.\u001b[0m\n",
      "regularization_factors, val_score: 1.031291:  75%|#######5  | 15/20 [00:24<00:08,  1.62s/it]"
     ]
    },
    {
     "name": "stdout",
     "output_type": "stream",
     "text": [
      "Early stopping, best iteration is:\n",
      "[176]\tvalid_0's rmse: 1.03886\n",
      "Training until validation scores don't improve for 100 rounds\n"
     ]
    },
    {
     "name": "stderr",
     "output_type": "stream",
     "text": [
      "regularization_factors, val_score: 1.031291:  80%|########  | 16/20 [00:26<00:06,  1.63s/it]\u001b[32m[I 2021-03-07 19:46:58,830]\u001b[0m Trial 58 finished with value: 1.0312952746050568 and parameters: {'lambda_l1': 1.482053756394025e-08, 'lambda_l2': 2.5917044640200313e-06}. Best is trial 56 with value: 1.0312909280359663.\u001b[0m\n",
      "regularization_factors, val_score: 1.031291:  80%|########  | 16/20 [00:26<00:06,  1.63s/it]"
     ]
    },
    {
     "name": "stdout",
     "output_type": "stream",
     "text": [
      "Early stopping, best iteration is:\n",
      "[188]\tvalid_0's rmse: 1.0313\n",
      "Training until validation scores don't improve for 100 rounds\n"
     ]
    },
    {
     "name": "stderr",
     "output_type": "stream",
     "text": [
      "regularization_factors, val_score: 1.029832:  85%|########5 | 17/20 [00:27<00:04,  1.65s/it]\u001b[32m[I 2021-03-07 19:47:00,509]\u001b[0m Trial 59 finished with value: 1.0298315244337284 and parameters: {'lambda_l1': 6.704427554963601e-05, 'lambda_l2': 0.2594818452171153}. Best is trial 59 with value: 1.0298315244337284.\u001b[0m\n",
      "regularization_factors, val_score: 1.029832:  85%|########5 | 17/20 [00:27<00:04,  1.65s/it]"
     ]
    },
    {
     "name": "stdout",
     "output_type": "stream",
     "text": [
      "Early stopping, best iteration is:\n",
      "[193]\tvalid_0's rmse: 1.02983\n",
      "Training until validation scores don't improve for 100 rounds\n"
     ]
    },
    {
     "name": "stderr",
     "output_type": "stream",
     "text": [
      "regularization_factors, val_score: 1.029832:  90%|######### | 18/20 [00:29<00:03,  1.64s/it]\u001b[32m[I 2021-03-07 19:47:02,132]\u001b[0m Trial 60 finished with value: 1.0347425238104326 and parameters: {'lambda_l1': 9.126128160649361e-05, 'lambda_l2': 0.35048291273890236}. Best is trial 59 with value: 1.0298315244337284.\u001b[0m\n",
      "regularization_factors, val_score: 1.029832:  90%|######### | 18/20 [00:29<00:03,  1.64s/it]"
     ]
    },
    {
     "name": "stdout",
     "output_type": "stream",
     "text": [
      "Early stopping, best iteration is:\n",
      "[167]\tvalid_0's rmse: 1.03474\n",
      "Training until validation scores don't improve for 100 rounds\n"
     ]
    },
    {
     "name": "stderr",
     "output_type": "stream",
     "text": [
      "regularization_factors, val_score: 1.029832:  95%|#########5| 19/20 [00:30<00:01,  1.56s/it]\u001b[32m[I 2021-03-07 19:47:03,514]\u001b[0m Trial 61 finished with value: 1.0436157391226892 and parameters: {'lambda_l1': 0.044280993770438426, 'lambda_l2': 0.227273262507662}. Best is trial 59 with value: 1.0298315244337284.\u001b[0m\n",
      "regularization_factors, val_score: 1.029832:  95%|#########5| 19/20 [00:30<00:01,  1.56s/it]"
     ]
    },
    {
     "name": "stdout",
     "output_type": "stream",
     "text": [
      "Early stopping, best iteration is:\n",
      "[142]\tvalid_0's rmse: 1.04362\n",
      "Training until validation scores don't improve for 100 rounds\n"
     ]
    },
    {
     "name": "stderr",
     "output_type": "stream",
     "text": [
      "regularization_factors, val_score: 1.029832: 100%|##########| 20/20 [00:32<00:00,  1.50s/it]\u001b[32m[I 2021-03-07 19:47:04,883]\u001b[0m Trial 62 finished with value: 1.0390308164569704 and parameters: {'lambda_l1': 5.447977340625164e-05, 'lambda_l2': 8.067218164963252}. Best is trial 59 with value: 1.0298315244337284.\u001b[0m\n",
      "regularization_factors, val_score: 1.029832: 100%|##########| 20/20 [00:32<00:00,  1.61s/it]\n",
      "min_data_in_leaf, val_score: 1.029832:   0%|          | 0/5 [00:00<?, ?it/s]"
     ]
    },
    {
     "name": "stdout",
     "output_type": "stream",
     "text": [
      "Early stopping, best iteration is:\n",
      "[125]\tvalid_0's rmse: 1.03903\n",
      "Training until validation scores don't improve for 100 rounds\n"
     ]
    },
    {
     "name": "stderr",
     "output_type": "stream",
     "text": [
      "min_data_in_leaf, val_score: 1.029832:  20%|##        | 1/5 [00:01<00:07,  1.76s/it]\u001b[32m[I 2021-03-07 19:47:06,663]\u001b[0m Trial 63 finished with value: 1.044717225942698 and parameters: {'min_child_samples': 50}. Best is trial 63 with value: 1.044717225942698.\u001b[0m\n",
      "min_data_in_leaf, val_score: 1.029832:  20%|##        | 1/5 [00:01<00:07,  1.76s/it]"
     ]
    },
    {
     "name": "stdout",
     "output_type": "stream",
     "text": [
      "Early stopping, best iteration is:\n",
      "[228]\tvalid_0's rmse: 1.04472\n",
      "Training until validation scores don't improve for 100 rounds\n"
     ]
    },
    {
     "name": "stderr",
     "output_type": "stream",
     "text": [
      "min_data_in_leaf, val_score: 1.029832:  40%|####      | 2/5 [00:04<00:06,  2.14s/it]\u001b[32m[I 2021-03-07 19:47:09,072]\u001b[0m Trial 64 finished with value: 1.0309373264874055 and parameters: {'min_child_samples': 5}. Best is trial 64 with value: 1.0309373264874055.\u001b[0m\n",
      "min_data_in_leaf, val_score: 1.029832:  40%|####      | 2/5 [00:04<00:06,  2.14s/it]"
     ]
    },
    {
     "name": "stdout",
     "output_type": "stream",
     "text": [
      "Early stopping, best iteration is:\n",
      "[310]\tvalid_0's rmse: 1.03094\n",
      "Training until validation scores don't improve for 100 rounds\n"
     ]
    },
    {
     "name": "stderr",
     "output_type": "stream",
     "text": [
      "min_data_in_leaf, val_score: 1.029832:  60%|######    | 3/5 [00:05<00:03,  1.87s/it]\u001b[32m[I 2021-03-07 19:47:10,629]\u001b[0m Trial 65 finished with value: 1.0373921122583663 and parameters: {'min_child_samples': 25}. Best is trial 64 with value: 1.0309373264874055.\u001b[0m\n",
      "min_data_in_leaf, val_score: 1.029832:  60%|######    | 3/5 [00:05<00:03,  1.87s/it]"
     ]
    },
    {
     "name": "stdout",
     "output_type": "stream",
     "text": [
      "Early stopping, best iteration is:\n",
      "[174]\tvalid_0's rmse: 1.03739\n",
      "Training until validation scores don't improve for 100 rounds\n"
     ]
    },
    {
     "name": "stderr",
     "output_type": "stream",
     "text": [
      "min_data_in_leaf, val_score: 1.029832:  80%|########  | 4/5 [00:07<00:01,  1.79s/it]\u001b[32m[I 2021-03-07 19:47:12,288]\u001b[0m Trial 66 finished with value: 1.0380096635013918 and parameters: {'min_child_samples': 10}. Best is trial 64 with value: 1.0309373264874055.\u001b[0m\n",
      "min_data_in_leaf, val_score: 1.029832:  80%|########  | 4/5 [00:07<00:01,  1.79s/it]"
     ]
    },
    {
     "name": "stdout",
     "output_type": "stream",
     "text": [
      "Early stopping, best iteration is:\n",
      "[189]\tvalid_0's rmse: 1.03801\n",
      "Training until validation scores don't improve for 100 rounds\n"
     ]
    },
    {
     "name": "stderr",
     "output_type": "stream",
     "text": [
      "min_data_in_leaf, val_score: 1.029832: 100%|##########| 5/5 [00:09<00:00,  1.75s/it]\u001b[32m[I 2021-03-07 19:47:13,957]\u001b[0m Trial 67 finished with value: 1.0544585479344966 and parameters: {'min_child_samples': 100}. Best is trial 64 with value: 1.0309373264874055.\u001b[0m\n",
      "min_data_in_leaf, val_score: 1.029832: 100%|##########| 5/5 [00:09<00:00,  1.81s/it]\n",
      "\u001b[32m[I 2021-03-07 19:47:14,010]\u001b[0m A new study created in memory with name: no-name-7372f78d-2eac-41e0-b6b8-bcd6c1e1cc3f\u001b[0m\n",
      "feature_fraction, val_score: inf:   0%|          | 0/7 [00:00<?, ?it/s]"
     ]
    },
    {
     "name": "stdout",
     "output_type": "stream",
     "text": [
      "Early stopping, best iteration is:\n",
      "[189]\tvalid_0's rmse: 1.05446\n",
      "Training until validation scores don't improve for 100 rounds\n"
     ]
    },
    {
     "name": "stderr",
     "output_type": "stream",
     "text": [
      "feature_fraction, val_score: 1.071643:  14%|#4        | 1/7 [00:01<00:09,  1.66s/it]\u001b[32m[I 2021-03-07 19:47:15,678]\u001b[0m Trial 0 finished with value: 1.0716434785967734 and parameters: {'feature_fraction': 0.4}. Best is trial 0 with value: 1.0716434785967734.\u001b[0m\n",
      "feature_fraction, val_score: 1.071643:  14%|#4        | 1/7 [00:01<00:09,  1.66s/it]"
     ]
    },
    {
     "name": "stdout",
     "output_type": "stream",
     "text": [
      "Early stopping, best iteration is:\n",
      "[303]\tvalid_0's rmse: 1.07164\n",
      "Training until validation scores don't improve for 100 rounds\n"
     ]
    },
    {
     "name": "stderr",
     "output_type": "stream",
     "text": [
      "feature_fraction, val_score: 1.071643:  29%|##8       | 2/7 [00:03<00:07,  1.49s/it]\u001b[32m[I 2021-03-07 19:47:17,052]\u001b[0m Trial 1 finished with value: 1.0724039858461614 and parameters: {'feature_fraction': 1.0}. Best is trial 0 with value: 1.0716434785967734.\u001b[0m\n",
      "feature_fraction, val_score: 1.071643:  29%|##8       | 2/7 [00:03<00:07,  1.49s/it]"
     ]
    },
    {
     "name": "stdout",
     "output_type": "stream",
     "text": [
      "Early stopping, best iteration is:\n",
      "[147]\tvalid_0's rmse: 1.0724\n",
      "Training until validation scores don't improve for 100 rounds\n"
     ]
    },
    {
     "name": "stderr",
     "output_type": "stream",
     "text": [
      "feature_fraction, val_score: 1.071643:  43%|####2     | 3/7 [00:04<00:05,  1.29s/it]\u001b[32m[I 2021-03-07 19:47:18,107]\u001b[0m Trial 2 finished with value: 1.0745739867978485 and parameters: {'feature_fraction': 0.6}. Best is trial 0 with value: 1.0716434785967734.\u001b[0m\n",
      "feature_fraction, val_score: 1.071643:  43%|####2     | 3/7 [00:04<00:05,  1.29s/it]"
     ]
    },
    {
     "name": "stdout",
     "output_type": "stream",
     "text": [
      "Early stopping, best iteration is:\n",
      "[142]\tvalid_0's rmse: 1.07457\n",
      "Training until validation scores don't improve for 100 rounds\n"
     ]
    },
    {
     "name": "stderr",
     "output_type": "stream",
     "text": [
      "feature_fraction, val_score: 1.071643:  57%|#####7    | 4/7 [00:05<00:03,  1.32s/it]\u001b[32m[I 2021-03-07 19:47:19,463]\u001b[0m Trial 3 finished with value: 1.0724889425038988 and parameters: {'feature_fraction': 0.5}. Best is trial 0 with value: 1.0716434785967734.\u001b[0m\n",
      "feature_fraction, val_score: 1.071643:  57%|#####7    | 4/7 [00:05<00:03,  1.32s/it]"
     ]
    },
    {
     "name": "stdout",
     "output_type": "stream",
     "text": [
      "Early stopping, best iteration is:\n",
      "[199]\tvalid_0's rmse: 1.07249\n",
      "Training until validation scores don't improve for 100 rounds\n"
     ]
    },
    {
     "name": "stderr",
     "output_type": "stream",
     "text": [
      "feature_fraction, val_score: 1.070360:  71%|#######1  | 5/7 [00:06<00:02,  1.28s/it]\u001b[32m[I 2021-03-07 19:47:20,683]\u001b[0m Trial 4 finished with value: 1.070360257052792 and parameters: {'feature_fraction': 0.8}. Best is trial 4 with value: 1.070360257052792.\u001b[0m\n",
      "feature_fraction, val_score: 1.070360:  71%|#######1  | 5/7 [00:06<00:02,  1.28s/it]"
     ]
    },
    {
     "name": "stdout",
     "output_type": "stream",
     "text": [
      "Early stopping, best iteration is:\n",
      "[146]\tvalid_0's rmse: 1.07036\n",
      "Training until validation scores don't improve for 100 rounds\n"
     ]
    },
    {
     "name": "stderr",
     "output_type": "stream",
     "text": [
      "feature_fraction, val_score: 1.066519:  86%|########5 | 6/7 [00:08<00:01,  1.59s/it]\u001b[32m[I 2021-03-07 19:47:22,881]\u001b[0m Trial 5 finished with value: 1.0665187160691163 and parameters: {'feature_fraction': 0.7}. Best is trial 5 with value: 1.0665187160691163.\u001b[0m\n",
      "feature_fraction, val_score: 1.066519:  86%|########5 | 6/7 [00:08<00:01,  1.59s/it]"
     ]
    },
    {
     "name": "stdout",
     "output_type": "stream",
     "text": [
      "Early stopping, best iteration is:\n",
      "[388]\tvalid_0's rmse: 1.06652\n",
      "Training until validation scores don't improve for 100 rounds\n"
     ]
    },
    {
     "name": "stderr",
     "output_type": "stream",
     "text": [
      "feature_fraction, val_score: 1.066519: 100%|##########| 7/7 [00:10<00:00,  1.68s/it]\u001b[32m[I 2021-03-07 19:47:24,732]\u001b[0m Trial 6 finished with value: 1.074737994745107 and parameters: {'feature_fraction': 0.8999999999999999}. Best is trial 5 with value: 1.0665187160691163.\u001b[0m\n",
      "feature_fraction, val_score: 1.066519: 100%|##########| 7/7 [00:10<00:00,  1.53s/it]\n",
      "num_leaves, val_score: 1.066519:   0%|          | 0/20 [00:00<?, ?it/s]"
     ]
    },
    {
     "name": "stdout",
     "output_type": "stream",
     "text": [
      "Early stopping, best iteration is:\n",
      "[272]\tvalid_0's rmse: 1.07474\n",
      "Training until validation scores don't improve for 100 rounds\n"
     ]
    },
    {
     "name": "stderr",
     "output_type": "stream",
     "text": [
      "num_leaves, val_score: 1.066519:   5%|5         | 1/20 [00:02<00:48,  2.55s/it]\u001b[32m[I 2021-03-07 19:47:27,294]\u001b[0m Trial 7 finished with value: 1.0753378638722066 and parameters: {'num_leaves': 180}. Best is trial 7 with value: 1.0753378638722066.\u001b[0m\n",
      "num_leaves, val_score: 1.066519:   5%|5         | 1/20 [00:02<00:48,  2.55s/it]"
     ]
    },
    {
     "name": "stdout",
     "output_type": "stream",
     "text": [
      "Early stopping, best iteration is:\n",
      "[49]\tvalid_0's rmse: 1.07534\n",
      "Training until validation scores don't improve for 100 rounds\n"
     ]
    },
    {
     "name": "stderr",
     "output_type": "stream",
     "text": [
      "num_leaves, val_score: 1.066519:  10%|#         | 2/20 [00:05<00:45,  2.53s/it]\u001b[32m[I 2021-03-07 19:47:29,819]\u001b[0m Trial 8 finished with value: 1.0694798877134002 and parameters: {'num_leaves': 108}. Best is trial 8 with value: 1.0694798877134002.\u001b[0m\n",
      "num_leaves, val_score: 1.066519:  10%|#         | 2/20 [00:05<00:45,  2.53s/it]"
     ]
    },
    {
     "name": "stdout",
     "output_type": "stream",
     "text": [
      "Early stopping, best iteration is:\n",
      "[112]\tvalid_0's rmse: 1.06948\n",
      "Training until validation scores don't improve for 100 rounds\n"
     ]
    },
    {
     "name": "stderr",
     "output_type": "stream",
     "text": [
      "num_leaves, val_score: 1.066519:  15%|#5        | 3/20 [00:08<00:49,  2.93s/it]\u001b[32m[I 2021-03-07 19:47:33,211]\u001b[0m Trial 9 finished with value: 1.0670798467405587 and parameters: {'num_leaves': 232}. Best is trial 9 with value: 1.0670798467405587.\u001b[0m\n",
      "num_leaves, val_score: 1.066519:  15%|#5        | 3/20 [00:08<00:49,  2.93s/it]"
     ]
    },
    {
     "name": "stdout",
     "output_type": "stream",
     "text": [
      "Early stopping, best iteration is:\n",
      "[54]\tvalid_0's rmse: 1.06708\n",
      "Training until validation scores don't improve for 100 rounds\n"
     ]
    },
    {
     "name": "stderr",
     "output_type": "stream",
     "text": [
      "num_leaves, val_score: 1.066066:  20%|##        | 4/20 [00:10<00:43,  2.73s/it]\u001b[32m[I 2021-03-07 19:47:35,644]\u001b[0m Trial 10 finished with value: 1.066065758721378 and parameters: {'num_leaves': 134}. Best is trial 10 with value: 1.066065758721378.\u001b[0m\n",
      "num_leaves, val_score: 1.066066:  20%|##        | 4/20 [00:10<00:43,  2.73s/it]"
     ]
    },
    {
     "name": "stdout",
     "output_type": "stream",
     "text": [
      "Early stopping, best iteration is:\n",
      "[77]\tvalid_0's rmse: 1.06607\n",
      "Training until validation scores don't improve for 100 rounds\n"
     ]
    },
    {
     "name": "stderr",
     "output_type": "stream",
     "text": [
      "num_leaves, val_score: 1.065746:  25%|##5       | 5/20 [00:14<00:44,  2.98s/it]\u001b[32m[I 2021-03-07 19:47:39,077]\u001b[0m Trial 11 finished with value: 1.0657461298608308 and parameters: {'num_leaves': 168}. Best is trial 11 with value: 1.0657461298608308.\u001b[0m\n",
      "num_leaves, val_score: 1.065746:  25%|##5       | 5/20 [00:14<00:44,  2.98s/it]"
     ]
    },
    {
     "name": "stdout",
     "output_type": "stream",
     "text": [
      "Early stopping, best iteration is:\n",
      "[106]\tvalid_0's rmse: 1.06575\n",
      "Training until validation scores don't improve for 100 rounds\n"
     ]
    },
    {
     "name": "stderr",
     "output_type": "stream",
     "text": [
      "num_leaves, val_score: 1.065746:  30%|###       | 6/20 [00:17<00:44,  3.16s/it]\u001b[32m[I 2021-03-07 19:47:42,586]\u001b[0m Trial 12 finished with value: 1.0727786771587762 and parameters: {'num_leaves': 187}. Best is trial 11 with value: 1.0657461298608308.\u001b[0m\n",
      "num_leaves, val_score: 1.065746:  30%|###       | 6/20 [00:17<00:44,  3.16s/it]"
     ]
    },
    {
     "name": "stdout",
     "output_type": "stream",
     "text": [
      "Early stopping, best iteration is:\n",
      "[94]\tvalid_0's rmse: 1.07278\n",
      "Training until validation scores don't improve for 100 rounds\n"
     ]
    },
    {
     "name": "stderr",
     "output_type": "stream",
     "text": [
      "num_leaves, val_score: 1.065746:  35%|###5      | 7/20 [00:21<00:42,  3.29s/it]\u001b[32m[I 2021-03-07 19:47:46,138]\u001b[0m Trial 13 finished with value: 1.072619291169075 and parameters: {'num_leaves': 256}. Best is trial 11 with value: 1.0657461298608308.\u001b[0m\n",
      "num_leaves, val_score: 1.065746:  35%|###5      | 7/20 [00:21<00:42,  3.29s/it]"
     ]
    },
    {
     "name": "stdout",
     "output_type": "stream",
     "text": [
      "Early stopping, best iteration is:\n",
      "[45]\tvalid_0's rmse: 1.07262\n",
      "Training until validation scores don't improve for 100 rounds\n"
     ]
    },
    {
     "name": "stderr",
     "output_type": "stream",
     "text": [
      "num_leaves, val_score: 1.065681:  40%|####      | 8/20 [00:24<00:39,  3.25s/it]\u001b[32m[I 2021-03-07 19:47:49,305]\u001b[0m Trial 14 finished with value: 1.0656813269711247 and parameters: {'num_leaves': 237}. Best is trial 14 with value: 1.0656813269711247.\u001b[0m\n",
      "num_leaves, val_score: 1.065681:  40%|####      | 8/20 [00:24<00:39,  3.25s/it]"
     ]
    },
    {
     "name": "stdout",
     "output_type": "stream",
     "text": [
      "Early stopping, best iteration is:\n",
      "[45]\tvalid_0's rmse: 1.06568\n",
      "Training until validation scores don't improve for 100 rounds\n"
     ]
    },
    {
     "name": "stderr",
     "output_type": "stream",
     "text": [
      "num_leaves, val_score: 1.065681:  45%|####5     | 9/20 [00:26<00:30,  2.74s/it]\u001b[32m[I 2021-03-07 19:47:50,936]\u001b[0m Trial 15 finished with value: 1.0721836152610533 and parameters: {'num_leaves': 65}. Best is trial 14 with value: 1.0656813269711247.\u001b[0m\n",
      "num_leaves, val_score: 1.065681:  45%|####5     | 9/20 [00:26<00:30,  2.74s/it]"
     ]
    },
    {
     "name": "stdout",
     "output_type": "stream",
     "text": [
      "Early stopping, best iteration is:\n",
      "[116]\tvalid_0's rmse: 1.07218\n",
      "Training until validation scores don't improve for 100 rounds\n"
     ]
    },
    {
     "name": "stderr",
     "output_type": "stream",
     "text": [
      "num_leaves, val_score: 1.065681:  50%|#####     | 10/20 [00:29<00:28,  2.85s/it]\u001b[32m[I 2021-03-07 19:47:54,016]\u001b[0m Trial 16 finished with value: 1.076134275300186 and parameters: {'num_leaves': 230}. Best is trial 14 with value: 1.0656813269711247.\u001b[0m\n",
      "num_leaves, val_score: 1.065681:  50%|#####     | 10/20 [00:29<00:28,  2.85s/it]"
     ]
    },
    {
     "name": "stdout",
     "output_type": "stream",
     "text": [
      "Early stopping, best iteration is:\n",
      "[41]\tvalid_0's rmse: 1.07613\n",
      "Training until validation scores don't improve for 100 rounds\n"
     ]
    },
    {
     "name": "stderr",
     "output_type": "stream",
     "text": [
      "num_leaves, val_score: 1.063965:  55%|#####5    | 11/20 [00:32<00:25,  2.81s/it]\u001b[32m[I 2021-03-07 19:47:56,749]\u001b[0m Trial 17 finished with value: 1.0639649635304258 and parameters: {'num_leaves': 8}. Best is trial 17 with value: 1.0639649635304258.\u001b[0m\n",
      "num_leaves, val_score: 1.063965:  55%|#####5    | 11/20 [00:32<00:25,  2.81s/it]"
     ]
    },
    {
     "name": "stdout",
     "output_type": "stream",
     "text": [
      "Early stopping, best iteration is:\n",
      "[1425]\tvalid_0's rmse: 1.06396\n",
      "Training until validation scores don't improve for 100 rounds\n"
     ]
    },
    {
     "name": "stderr",
     "output_type": "stream",
     "text": [
      "num_leaves, val_score: 1.063965:  60%|######    | 12/20 [00:33<00:19,  2.41s/it]\u001b[32m[I 2021-03-07 19:47:58,234]\u001b[0m Trial 18 finished with value: 1.073089044350519 and parameters: {'num_leaves': 9}. Best is trial 17 with value: 1.0639649635304258.\u001b[0m\n",
      "num_leaves, val_score: 1.063965:  60%|######    | 12/20 [00:33<00:19,  2.41s/it]"
     ]
    },
    {
     "name": "stdout",
     "output_type": "stream",
     "text": [
      "Early stopping, best iteration is:\n",
      "[667]\tvalid_0's rmse: 1.07309\n",
      "Training until validation scores don't improve for 100 rounds\n"
     ]
    },
    {
     "name": "stderr",
     "output_type": "stream",
     "text": [
      "num_leaves, val_score: 1.063965:  65%|######5   | 13/20 [00:35<00:15,  2.28s/it]\u001b[32m[I 2021-03-07 19:48:00,232]\u001b[0m Trial 19 finished with value: 1.0676816137662135 and parameters: {'num_leaves': 12}. Best is trial 17 with value: 1.0639649635304258.\u001b[0m\n",
      "num_leaves, val_score: 1.063965:  65%|######5   | 13/20 [00:35<00:15,  2.28s/it]"
     ]
    },
    {
     "name": "stdout",
     "output_type": "stream",
     "text": [
      "Early stopping, best iteration is:\n",
      "[746]\tvalid_0's rmse: 1.06768\n",
      "Training until validation scores don't improve for 100 rounds\n"
     ]
    },
    {
     "name": "stderr",
     "output_type": "stream",
     "text": [
      "num_leaves, val_score: 1.063965:  70%|#######   | 14/20 [00:37<00:12,  2.07s/it]\u001b[32m[I 2021-03-07 19:48:01,813]\u001b[0m Trial 20 finished with value: 1.068087566910483 and parameters: {'num_leaves': 53}. Best is trial 17 with value: 1.0639649635304258.\u001b[0m\n",
      "num_leaves, val_score: 1.063965:  70%|#######   | 14/20 [00:37<00:12,  2.07s/it]"
     ]
    },
    {
     "name": "stdout",
     "output_type": "stream",
     "text": [
      "Early stopping, best iteration is:\n",
      "[130]\tvalid_0's rmse: 1.06809\n",
      "Training until validation scores don't improve for 100 rounds\n"
     ]
    },
    {
     "name": "stderr",
     "output_type": "stream",
     "text": [
      "num_leaves, val_score: 1.063965:  75%|#######5  | 15/20 [00:39<00:10,  2.15s/it]\u001b[32m[I 2021-03-07 19:48:04,144]\u001b[0m Trial 21 finished with value: 1.0751306068634727 and parameters: {'num_leaves': 95}. Best is trial 17 with value: 1.0639649635304258.\u001b[0m\n",
      "num_leaves, val_score: 1.063965:  75%|#######5  | 15/20 [00:39<00:10,  2.15s/it]"
     ]
    },
    {
     "name": "stdout",
     "output_type": "stream",
     "text": [
      "Early stopping, best iteration is:\n",
      "[129]\tvalid_0's rmse: 1.07513\n",
      "Training until validation scores don't improve for 100 rounds\n"
     ]
    },
    {
     "name": "stderr",
     "output_type": "stream",
     "text": [
      "num_leaves, val_score: 1.063965:  80%|########  | 16/20 [00:40<00:07,  1.91s/it]\u001b[32m[I 2021-03-07 19:48:05,498]\u001b[0m Trial 22 finished with value: 1.0711610147796347 and parameters: {'num_leaves': 47}. Best is trial 17 with value: 1.0639649635304258.\u001b[0m\n",
      "num_leaves, val_score: 1.063965:  80%|########  | 16/20 [00:40<00:07,  1.91s/it]"
     ]
    },
    {
     "name": "stdout",
     "output_type": "stream",
     "text": [
      "Early stopping, best iteration is:\n",
      "[108]\tvalid_0's rmse: 1.07116\n",
      "Training until validation scores don't improve for 100 rounds\n"
     ]
    },
    {
     "name": "stderr",
     "output_type": "stream",
     "text": [
      "num_leaves, val_score: 1.063965:  85%|########5 | 17/20 [00:43<00:06,  2.06s/it]\u001b[32m[I 2021-03-07 19:48:07,918]\u001b[0m Trial 23 finished with value: 1.0763449654254074 and parameters: {'num_leaves': 147}. Best is trial 17 with value: 1.0639649635304258.\u001b[0m\n",
      "num_leaves, val_score: 1.063965:  85%|########5 | 17/20 [00:43<00:06,  2.06s/it]"
     ]
    },
    {
     "name": "stdout",
     "output_type": "stream",
     "text": [
      "Early stopping, best iteration is:\n",
      "[58]\tvalid_0's rmse: 1.07634\n",
      "Training until validation scores don't improve for 100 rounds\n"
     ]
    },
    {
     "name": "stderr",
     "output_type": "stream",
     "text": [
      "num_leaves, val_score: 1.063965:  90%|######### | 18/20 [00:46<00:04,  2.44s/it]\u001b[32m[I 2021-03-07 19:48:11,228]\u001b[0m Trial 24 finished with value: 1.0710463195654394 and parameters: {'num_leaves': 217}. Best is trial 17 with value: 1.0639649635304258.\u001b[0m\n",
      "num_leaves, val_score: 1.063965:  90%|######### | 18/20 [00:46<00:04,  2.44s/it]"
     ]
    },
    {
     "name": "stdout",
     "output_type": "stream",
     "text": [
      "Early stopping, best iteration is:\n",
      "[42]\tvalid_0's rmse: 1.07105\n",
      "Training until validation scores don't improve for 100 rounds\n"
     ]
    },
    {
     "name": "stderr",
     "output_type": "stream",
     "text": [
      "num_leaves, val_score: 1.063965:  95%|#########5| 19/20 [00:49<00:02,  2.71s/it]\u001b[32m[I 2021-03-07 19:48:14,580]\u001b[0m Trial 25 finished with value: 1.0771629215045997 and parameters: {'num_leaves': 254}. Best is trial 17 with value: 1.0639649635304258.\u001b[0m\n",
      "num_leaves, val_score: 1.063965:  95%|#########5| 19/20 [00:49<00:02,  2.71s/it]"
     ]
    },
    {
     "name": "stdout",
     "output_type": "stream",
     "text": [
      "Early stopping, best iteration is:\n",
      "[39]\tvalid_0's rmse: 1.07716\n",
      "Training until validation scores don't improve for 100 rounds\n"
     ]
    },
    {
     "name": "stderr",
     "output_type": "stream",
     "text": [
      "num_leaves, val_score: 1.063965: 100%|##########| 20/20 [00:52<00:00,  2.69s/it]\u001b[32m[I 2021-03-07 19:48:17,210]\u001b[0m Trial 26 finished with value: 1.0649107785954488 and parameters: {'num_leaves': 87}. Best is trial 17 with value: 1.0639649635304258.\u001b[0m\n",
      "num_leaves, val_score: 1.063965: 100%|##########| 20/20 [00:52<00:00,  2.62s/it]\n",
      "bagging, val_score: 1.063965:   0%|          | 0/10 [00:00<?, ?it/s]"
     ]
    },
    {
     "name": "stdout",
     "output_type": "stream",
     "text": [
      "Early stopping, best iteration is:\n",
      "[118]\tvalid_0's rmse: 1.06491\n",
      "Training until validation scores don't improve for 100 rounds\n"
     ]
    },
    {
     "name": "stderr",
     "output_type": "stream",
     "text": [
      "bagging, val_score: 1.063965:  10%|#         | 1/10 [00:03<00:30,  3.40s/it]\u001b[32m[I 2021-03-07 19:48:20,634]\u001b[0m Trial 27 finished with value: 1.0857819947751677 and parameters: {'bagging_fraction': 0.5355317940455725, 'bagging_freq': 2}. Best is trial 27 with value: 1.0857819947751677.\u001b[0m\n",
      "bagging, val_score: 1.063965:  10%|#         | 1/10 [00:03<00:30,  3.40s/it]"
     ]
    },
    {
     "name": "stdout",
     "output_type": "stream",
     "text": [
      "Early stopping, best iteration is:\n",
      "[384]\tvalid_0's rmse: 1.08578\n",
      "Training until validation scores don't improve for 100 rounds\n"
     ]
    },
    {
     "name": "stderr",
     "output_type": "stream",
     "text": [
      "bagging, val_score: 1.063965:  20%|##        | 2/10 [00:06<00:26,  3.37s/it]\u001b[32m[I 2021-03-07 19:48:23,987]\u001b[0m Trial 28 finished with value: 1.0733551627272195 and parameters: {'bagging_fraction': 0.8130417517006385, 'bagging_freq': 6}. Best is trial 28 with value: 1.0733551627272195.\u001b[0m\n",
      "bagging, val_score: 1.063965:  20%|##        | 2/10 [00:06<00:26,  3.37s/it]"
     ]
    },
    {
     "name": "stdout",
     "output_type": "stream",
     "text": [
      "Early stopping, best iteration is:\n",
      "[642]\tvalid_0's rmse: 1.07336\n",
      "Training until validation scores don't improve for 100 rounds\n"
     ]
    },
    {
     "name": "stderr",
     "output_type": "stream",
     "text": [
      "bagging, val_score: 1.063965:  30%|###       | 3/10 [00:08<00:17,  2.50s/it]\u001b[32m[I 2021-03-07 19:48:25,453]\u001b[0m Trial 29 finished with value: 1.0786379395521022 and parameters: {'bagging_fraction': 0.8177637012211978, 'bagging_freq': 5}. Best is trial 28 with value: 1.0733551627272195.\u001b[0m\n",
      "bagging, val_score: 1.063965:  30%|###       | 3/10 [00:08<00:17,  2.50s/it]"
     ]
    },
    {
     "name": "stdout",
     "output_type": "stream",
     "text": [
      "Early stopping, best iteration is:\n",
      "[410]\tvalid_0's rmse: 1.07864\n",
      "Training until validation scores don't improve for 100 rounds\n"
     ]
    },
    {
     "name": "stderr",
     "output_type": "stream",
     "text": [
      "bagging, val_score: 1.063965:  40%|####      | 4/10 [00:12<00:18,  3.16s/it]\u001b[32m[I 2021-03-07 19:48:29,618]\u001b[0m Trial 30 finished with value: 1.0751805033030972 and parameters: {'bagging_fraction': 0.7712531090589885, 'bagging_freq': 6}. Best is trial 28 with value: 1.0733551627272195.\u001b[0m\n",
      "bagging, val_score: 1.063965:  40%|####      | 4/10 [00:12<00:18,  3.16s/it]"
     ]
    },
    {
     "name": "stdout",
     "output_type": "stream",
     "text": [
      "Early stopping, best iteration is:\n",
      "[554]\tvalid_0's rmse: 1.07518\n",
      "Training until validation scores don't improve for 100 rounds\n"
     ]
    },
    {
     "name": "stderr",
     "output_type": "stream",
     "text": [
      "bagging, val_score: 1.063965:  50%|#####     | 5/10 [00:14<00:14,  2.93s/it]\u001b[32m[I 2021-03-07 19:48:32,150]\u001b[0m Trial 31 finished with value: 1.0788703105541853 and parameters: {'bagging_fraction': 0.6391671691586835, 'bagging_freq': 1}. Best is trial 28 with value: 1.0733551627272195.\u001b[0m\n",
      "bagging, val_score: 1.063965:  50%|#####     | 5/10 [00:14<00:14,  2.93s/it]"
     ]
    },
    {
     "name": "stdout",
     "output_type": "stream",
     "text": [
      "Early stopping, best iteration is:\n",
      "[581]\tvalid_0's rmse: 1.07887\n",
      "Training until validation scores don't improve for 100 rounds\n"
     ]
    },
    {
     "name": "stderr",
     "output_type": "stream",
     "text": [
      "bagging, val_score: 1.063965:  60%|######    | 6/10 [00:17<00:10,  2.73s/it]\u001b[32m[I 2021-03-07 19:48:34,492]\u001b[0m Trial 32 finished with value: 1.070616637980986 and parameters: {'bagging_fraction': 0.6289999840094299, 'bagging_freq': 3}. Best is trial 32 with value: 1.070616637980986.\u001b[0m\n",
      "bagging, val_score: 1.063965:  60%|######    | 6/10 [00:17<00:10,  2.73s/it]"
     ]
    },
    {
     "name": "stdout",
     "output_type": "stream",
     "text": [
      "Early stopping, best iteration is:\n",
      "[650]\tvalid_0's rmse: 1.07062\n",
      "Training until validation scores don't improve for 100 rounds\n"
     ]
    },
    {
     "name": "stderr",
     "output_type": "stream",
     "text": [
      "bagging, val_score: 1.063965:  70%|#######   | 7/10 [00:19<00:08,  2.67s/it]\u001b[32m[I 2021-03-07 19:48:37,050]\u001b[0m Trial 33 finished with value: 1.072936841571137 and parameters: {'bagging_fraction': 0.6777990066043204, 'bagging_freq': 1}. Best is trial 32 with value: 1.070616637980986.\u001b[0m\n",
      "bagging, val_score: 1.063965:  70%|#######   | 7/10 [00:19<00:08,  2.67s/it]"
     ]
    },
    {
     "name": "stdout",
     "output_type": "stream",
     "text": [
      "Early stopping, best iteration is:\n",
      "[783]\tvalid_0's rmse: 1.07294\n",
      "Training until validation scores don't improve for 100 rounds\n"
     ]
    },
    {
     "name": "stderr",
     "output_type": "stream",
     "text": [
      "bagging, val_score: 1.063965:  80%|########  | 8/10 [00:22<00:05,  2.75s/it]\u001b[32m[I 2021-03-07 19:48:39,971]\u001b[0m Trial 34 finished with value: 1.0682402847706103 and parameters: {'bagging_fraction': 0.6490534514551668, 'bagging_freq': 3}. Best is trial 34 with value: 1.0682402847706103.\u001b[0m\n",
      "bagging, val_score: 1.063965:  80%|########  | 8/10 [00:22<00:05,  2.75s/it]"
     ]
    },
    {
     "name": "stdout",
     "output_type": "stream",
     "text": [
      "Early stopping, best iteration is:\n",
      "[732]\tvalid_0's rmse: 1.06824\n",
      "Training until validation scores don't improve for 100 rounds\n"
     ]
    },
    {
     "name": "stderr",
     "output_type": "stream",
     "text": [
      "bagging, val_score: 1.063965:  90%|######### | 9/10 [00:24<00:02,  2.56s/it]\u001b[32m[I 2021-03-07 19:48:42,098]\u001b[0m Trial 35 finished with value: 1.0803230257908416 and parameters: {'bagging_fraction': 0.41278623254147967, 'bagging_freq': 6}. Best is trial 34 with value: 1.0682402847706103.\u001b[0m\n",
      "bagging, val_score: 1.063965:  90%|######### | 9/10 [00:24<00:02,  2.56s/it]"
     ]
    },
    {
     "name": "stdout",
     "output_type": "stream",
     "text": [
      "Early stopping, best iteration is:\n",
      "[610]\tvalid_0's rmse: 1.08032\n",
      "Training until validation scores don't improve for 100 rounds\n"
     ]
    },
    {
     "name": "stderr",
     "output_type": "stream",
     "text": [
      "bagging, val_score: 1.063965: 100%|##########| 10/10 [00:29<00:00,  3.29s/it]\u001b[32m[I 2021-03-07 19:48:47,019]\u001b[0m Trial 36 finished with value: 1.0803300245596252 and parameters: {'bagging_fraction': 0.4130635807381751, 'bagging_freq': 1}. Best is trial 34 with value: 1.0682402847706103.\u001b[0m\n",
      "bagging, val_score: 1.063965: 100%|##########| 10/10 [00:29<00:00,  2.98s/it]\n",
      "feature_fraction_stage2, val_score: 1.063965:   0%|          | 0/6 [00:00<?, ?it/s]"
     ]
    },
    {
     "name": "stdout",
     "output_type": "stream",
     "text": [
      "Early stopping, best iteration is:\n",
      "[696]\tvalid_0's rmse: 1.08033\n",
      "Training until validation scores don't improve for 100 rounds\n"
     ]
    },
    {
     "name": "stderr",
     "output_type": "stream",
     "text": [
      "feature_fraction_stage2, val_score: 1.063965:  17%|#6        | 1/6 [00:02<00:11,  2.23s/it]\u001b[32m[I 2021-03-07 19:48:49,275]\u001b[0m Trial 37 finished with value: 1.074127861776077 and parameters: {'feature_fraction': 0.748}. Best is trial 37 with value: 1.074127861776077.\u001b[0m\n",
      "feature_fraction_stage2, val_score: 1.063965:  17%|#6        | 1/6 [00:02<00:11,  2.23s/it]"
     ]
    },
    {
     "name": "stdout",
     "output_type": "stream",
     "text": [
      "Early stopping, best iteration is:\n",
      "[824]\tvalid_0's rmse: 1.07413\n",
      "Training until validation scores don't improve for 100 rounds\n"
     ]
    },
    {
     "name": "stderr",
     "output_type": "stream",
     "text": [
      "feature_fraction_stage2, val_score: 1.063965:  33%|###3      | 2/6 [00:05<00:10,  2.74s/it]\u001b[32m[I 2021-03-07 19:48:52,366]\u001b[0m Trial 38 finished with value: 1.0740881573874272 and parameters: {'feature_fraction': 0.652}. Best is trial 38 with value: 1.0740881573874272.\u001b[0m\n",
      "feature_fraction_stage2, val_score: 1.063965:  33%|###3      | 2/6 [00:05<00:10,  2.74s/it]"
     ]
    },
    {
     "name": "stdout",
     "output_type": "stream",
     "text": [
      "Early stopping, best iteration is:\n",
      "[810]\tvalid_0's rmse: 1.07409\n",
      "Training until validation scores don't improve for 100 rounds\n"
     ]
    },
    {
     "name": "stderr",
     "output_type": "stream",
     "text": [
      "feature_fraction_stage2, val_score: 1.063965:  50%|#####     | 3/6 [00:07<00:07,  2.42s/it]\u001b[32m[I 2021-03-07 19:48:54,424]\u001b[0m Trial 39 finished with value: 1.0746109636642016 and parameters: {'feature_fraction': 0.6839999999999999}. Best is trial 38 with value: 1.0740881573874272.\u001b[0m\n",
      "feature_fraction_stage2, val_score: 1.063965:  50%|#####     | 3/6 [00:07<00:07,  2.42s/it]"
     ]
    },
    {
     "name": "stdout",
     "output_type": "stream",
     "text": [
      "Early stopping, best iteration is:\n",
      "[802]\tvalid_0's rmse: 1.07461\n",
      "Training until validation scores don't improve for 100 rounds\n"
     ]
    },
    {
     "name": "stderr",
     "output_type": "stream",
     "text": [
      "feature_fraction_stage2, val_score: 1.063965:  67%|######6   | 4/6 [00:10<00:05,  2.84s/it]\u001b[32m[I 2021-03-07 19:48:57,902]\u001b[0m Trial 40 finished with value: 1.0761224737314614 and parameters: {'feature_fraction': 0.62}. Best is trial 38 with value: 1.0740881573874272.\u001b[0m\n",
      "feature_fraction_stage2, val_score: 1.063965:  67%|######6   | 4/6 [00:10<00:05,  2.84s/it]"
     ]
    },
    {
     "name": "stdout",
     "output_type": "stream",
     "text": [
      "Early stopping, best iteration is:\n",
      "[684]\tvalid_0's rmse: 1.07612\n",
      "Training until validation scores don't improve for 100 rounds\n"
     ]
    },
    {
     "name": "stderr",
     "output_type": "stream",
     "text": [
      "feature_fraction_stage2, val_score: 1.063965:  83%|########3 | 5/6 [00:12<00:02,  2.36s/it]\u001b[32m[I 2021-03-07 19:48:59,392]\u001b[0m Trial 41 finished with value: 1.0814552220042315 and parameters: {'feature_fraction': 0.716}. Best is trial 38 with value: 1.0740881573874272.\u001b[0m\n",
      "feature_fraction_stage2, val_score: 1.063965:  83%|########3 | 5/6 [00:12<00:02,  2.36s/it]"
     ]
    },
    {
     "name": "stdout",
     "output_type": "stream",
     "text": [
      "Early stopping, best iteration is:\n",
      "[555]\tvalid_0's rmse: 1.08146\n",
      "Training until validation scores don't improve for 100 rounds\n"
     ]
    },
    {
     "name": "stderr",
     "output_type": "stream",
     "text": [
      "feature_fraction_stage2, val_score: 1.063965: 100%|##########| 6/6 [00:13<00:00,  2.06s/it]\u001b[32m[I 2021-03-07 19:49:00,892]\u001b[0m Trial 42 finished with value: 1.076159254066429 and parameters: {'feature_fraction': 0.7799999999999999}. Best is trial 38 with value: 1.0740881573874272.\u001b[0m\n",
      "feature_fraction_stage2, val_score: 1.063965: 100%|##########| 6/6 [00:13<00:00,  2.31s/it]\n",
      "regularization_factors, val_score: 1.063965:   0%|          | 0/20 [00:00<?, ?it/s]"
     ]
    },
    {
     "name": "stdout",
     "output_type": "stream",
     "text": [
      "Early stopping, best iteration is:\n",
      "[634]\tvalid_0's rmse: 1.07616\n",
      "Training until validation scores don't improve for 100 rounds\n"
     ]
    },
    {
     "name": "stderr",
     "output_type": "stream",
     "text": [
      "regularization_factors, val_score: 1.063965:   5%|5         | 1/20 [00:01<00:35,  1.87s/it]\u001b[32m[I 2021-03-07 19:49:02,779]\u001b[0m Trial 43 finished with value: 1.0730154967844914 and parameters: {'lambda_l1': 1.1076015585136783, 'lambda_l2': 2.5548305444195046e-05}. Best is trial 43 with value: 1.0730154967844914.\u001b[0m\n",
      "regularization_factors, val_score: 1.063965:   5%|5         | 1/20 [00:01<00:35,  1.87s/it]"
     ]
    },
    {
     "name": "stdout",
     "output_type": "stream",
     "text": [
      "Early stopping, best iteration is:\n",
      "[780]\tvalid_0's rmse: 1.07302\n",
      "Training until validation scores don't improve for 100 rounds\n"
     ]
    },
    {
     "name": "stderr",
     "output_type": "stream",
     "text": [
      "regularization_factors, val_score: 1.063965:  10%|#         | 2/20 [00:03<00:33,  1.84s/it]\u001b[32m[I 2021-03-07 19:49:04,605]\u001b[0m Trial 44 finished with value: 1.0802680924382178 and parameters: {'lambda_l1': 0.0042314273917233546, 'lambda_l2': 0.1561847691479897}. Best is trial 43 with value: 1.0730154967844914.\u001b[0m\n",
      "regularization_factors, val_score: 1.063965:  10%|#         | 2/20 [00:03<00:33,  1.84s/it]"
     ]
    },
    {
     "name": "stdout",
     "output_type": "stream",
     "text": [
      "Early stopping, best iteration is:\n",
      "[761]\tvalid_0's rmse: 1.08027\n",
      "Training until validation scores don't improve for 100 rounds\n"
     ]
    },
    {
     "name": "stderr",
     "output_type": "stream",
     "text": [
      "regularization_factors, val_score: 1.063965:  15%|#5        | 3/20 [00:07<00:43,  2.55s/it]\u001b[32m[I 2021-03-07 19:49:08,008]\u001b[0m Trial 45 finished with value: 1.0640238846735885 and parameters: {'lambda_l1': 4.762541398572858e-06, 'lambda_l2': 9.046906839907514e-07}. Best is trial 45 with value: 1.0640238846735885.\u001b[0m\n",
      "regularization_factors, val_score: 1.063965:  15%|#5        | 3/20 [00:07<00:43,  2.55s/it]"
     ]
    },
    {
     "name": "stdout",
     "output_type": "stream",
     "text": [
      "Early stopping, best iteration is:\n",
      "[1425]\tvalid_0's rmse: 1.06402\n",
      "Training until validation scores don't improve for 100 rounds\n"
     ]
    },
    {
     "name": "stderr",
     "output_type": "stream",
     "text": [
      "regularization_factors, val_score: 1.063965:  20%|##        | 4/20 [00:10<00:45,  2.87s/it]\u001b[32m[I 2021-03-07 19:49:11,370]\u001b[0m Trial 46 finished with value: 1.0640146158055364 and parameters: {'lambda_l1': 2.9206339234186388e-08, 'lambda_l2': 4.348742539945612e-05}. Best is trial 46 with value: 1.0640146158055364.\u001b[0m\n",
      "regularization_factors, val_score: 1.063965:  20%|##        | 4/20 [00:10<00:45,  2.87s/it]"
     ]
    },
    {
     "name": "stdout",
     "output_type": "stream",
     "text": [
      "Early stopping, best iteration is:\n",
      "[1425]\tvalid_0's rmse: 1.06401\n",
      "Training until validation scores don't improve for 100 rounds\n"
     ]
    },
    {
     "name": "stderr",
     "output_type": "stream",
     "text": [
      "regularization_factors, val_score: 1.063965:  25%|##5       | 5/20 [00:12<00:40,  2.69s/it]\u001b[32m[I 2021-03-07 19:49:13,729]\u001b[0m Trial 47 finished with value: 1.0700073560756034 and parameters: {'lambda_l1': 4.923163179837286, 'lambda_l2': 2.4242697736652226e-06}. Best is trial 46 with value: 1.0640146158055364.\u001b[0m\n",
      "regularization_factors, val_score: 1.063965:  25%|##5       | 5/20 [00:12<00:40,  2.69s/it]"
     ]
    },
    {
     "name": "stdout",
     "output_type": "stream",
     "text": [
      "Early stopping, best iteration is:\n",
      "[1006]\tvalid_0's rmse: 1.07001\n",
      "Training until validation scores don't improve for 100 rounds\n"
     ]
    },
    {
     "name": "stderr",
     "output_type": "stream",
     "text": [
      "regularization_factors, val_score: 1.063965:  30%|###       | 6/20 [00:14<00:31,  2.24s/it]\u001b[32m[I 2021-03-07 19:49:15,104]\u001b[0m Trial 48 finished with value: 1.0793599577613595 and parameters: {'lambda_l1': 0.0014470987556633992, 'lambda_l2': 1.6675858934540561e-06}. Best is trial 46 with value: 1.0640146158055364.\u001b[0m\n",
      "regularization_factors, val_score: 1.063965:  30%|###       | 6/20 [00:14<00:31,  2.24s/it]"
     ]
    },
    {
     "name": "stdout",
     "output_type": "stream",
     "text": [
      "Early stopping, best iteration is:\n",
      "[563]\tvalid_0's rmse: 1.07936\n",
      "Training until validation scores don't improve for 100 rounds\n"
     ]
    },
    {
     "name": "stderr",
     "output_type": "stream",
     "text": [
      "regularization_factors, val_score: 1.063965:  35%|###5      | 7/20 [00:16<00:27,  2.14s/it]\u001b[32m[I 2021-03-07 19:49:17,044]\u001b[0m Trial 49 finished with value: 1.0713954081793087 and parameters: {'lambda_l1': 1.6890646447674174, 'lambda_l2': 7.704973924163621e-05}. Best is trial 46 with value: 1.0640146158055364.\u001b[0m\n",
      "regularization_factors, val_score: 1.063965:  35%|###5      | 7/20 [00:16<00:27,  2.14s/it]"
     ]
    },
    {
     "name": "stdout",
     "output_type": "stream",
     "text": [
      "Early stopping, best iteration is:\n",
      "[796]\tvalid_0's rmse: 1.0714\n",
      "Training until validation scores don't improve for 100 rounds\n"
     ]
    },
    {
     "name": "stderr",
     "output_type": "stream",
     "text": [
      "regularization_factors, val_score: 1.063965:  40%|####      | 8/20 [00:20<00:33,  2.82s/it]\u001b[32m[I 2021-03-07 19:49:21,307]\u001b[0m Trial 50 finished with value: 1.071360949707731 and parameters: {'lambda_l1': 0.0019004341811791076, 'lambda_l2': 2.1295759098742495e-05}. Best is trial 46 with value: 1.0640146158055364.\u001b[0m\n",
      "regularization_factors, val_score: 1.063965:  40%|####      | 8/20 [00:20<00:33,  2.82s/it]"
     ]
    },
    {
     "name": "stdout",
     "output_type": "stream",
     "text": [
      "Early stopping, best iteration is:\n",
      "[977]\tvalid_0's rmse: 1.07136\n",
      "Training until validation scores don't improve for 100 rounds\n"
     ]
    },
    {
     "name": "stderr",
     "output_type": "stream",
     "text": [
      "regularization_factors, val_score: 1.063965:  45%|####5     | 9/20 [00:22<00:29,  2.69s/it]\u001b[32m[I 2021-03-07 19:49:23,728]\u001b[0m Trial 51 finished with value: 1.0709482682629623 and parameters: {'lambda_l1': 6.572176686421802e-05, 'lambda_l2': 1.2424694425127036e-05}. Best is trial 46 with value: 1.0640146158055364.\u001b[0m\n",
      "regularization_factors, val_score: 1.063965:  45%|####5     | 9/20 [00:22<00:29,  2.69s/it]"
     ]
    },
    {
     "name": "stdout",
     "output_type": "stream",
     "text": [
      "Early stopping, best iteration is:\n",
      "[787]\tvalid_0's rmse: 1.07095\n",
      "Training until validation scores don't improve for 100 rounds\n"
     ]
    },
    {
     "name": "stderr",
     "output_type": "stream",
     "text": [
      "regularization_factors, val_score: 1.063965:  50%|#####     | 10/20 [00:25<00:27,  2.79s/it]\u001b[32m[I 2021-03-07 19:49:26,744]\u001b[0m Trial 52 finished with value: 1.063973062211511 and parameters: {'lambda_l1': 3.2117002808015694e-08, 'lambda_l2': 4.967553419754825e-07}. Best is trial 52 with value: 1.063973062211511.\u001b[0m\n",
      "regularization_factors, val_score: 1.063965:  50%|#####     | 10/20 [00:25<00:27,  2.79s/it]"
     ]
    },
    {
     "name": "stdout",
     "output_type": "stream",
     "text": [
      "Early stopping, best iteration is:\n",
      "[1425]\tvalid_0's rmse: 1.06397\n",
      "Training until validation scores don't improve for 100 rounds\n"
     ]
    },
    {
     "name": "stderr",
     "output_type": "stream",
     "text": [
      "regularization_factors, val_score: 1.063965:  55%|#####5    | 11/20 [00:29<00:26,  2.99s/it]\u001b[32m[I 2021-03-07 19:49:30,175]\u001b[0m Trial 53 finished with value: 1.0640519479532693 and parameters: {'lambda_l1': 1.2391066063013953e-08, 'lambda_l2': 1.0903056230042468e-08}. Best is trial 52 with value: 1.063973062211511.\u001b[0m\n",
      "regularization_factors, val_score: 1.063965:  55%|#####5    | 11/20 [00:29<00:26,  2.99s/it]"
     ]
    },
    {
     "name": "stdout",
     "output_type": "stream",
     "text": [
      "Early stopping, best iteration is:\n",
      "[1425]\tvalid_0's rmse: 1.06405\n",
      "Training until validation scores don't improve for 100 rounds\n"
     ]
    },
    {
     "name": "stderr",
     "output_type": "stream",
     "text": [
      "regularization_factors, val_score: 1.063965:  60%|######    | 12/20 [00:34<00:29,  3.69s/it]\u001b[32m[I 2021-03-07 19:49:35,462]\u001b[0m Trial 54 finished with value: 1.074077900034031 and parameters: {'lambda_l1': 1.1223882240260838e-08, 'lambda_l2': 0.00982194777373225}. Best is trial 52 with value: 1.063973062211511.\u001b[0m\n",
      "regularization_factors, val_score: 1.063965:  60%|######    | 12/20 [00:34<00:29,  3.69s/it]"
     ]
    },
    {
     "name": "stdout",
     "output_type": "stream",
     "text": [
      "Early stopping, best iteration is:\n",
      "[823]\tvalid_0's rmse: 1.07408\n",
      "Training until validation scores don't improve for 100 rounds\n"
     ]
    },
    {
     "name": "stderr",
     "output_type": "stream",
     "text": [
      "regularization_factors, val_score: 1.063965:  65%|######5   | 13/20 [00:39<00:28,  4.02s/it]\u001b[32m[I 2021-03-07 19:49:40,256]\u001b[0m Trial 55 finished with value: 1.0640755240339677 and parameters: {'lambda_l1': 3.826341350049376e-07, 'lambda_l2': 1.990447956197207e-08}. Best is trial 52 with value: 1.063973062211511.\u001b[0m\n",
      "regularization_factors, val_score: 1.063965:  65%|######5   | 13/20 [00:39<00:28,  4.02s/it]"
     ]
    },
    {
     "name": "stdout",
     "output_type": "stream",
     "text": [
      "Early stopping, best iteration is:\n",
      "[1425]\tvalid_0's rmse: 1.06408\n",
      "Training until validation scores don't improve for 100 rounds\n"
     ]
    },
    {
     "name": "stderr",
     "output_type": "stream",
     "text": [
      "regularization_factors, val_score: 1.063965:  70%|#######   | 14/20 [00:42<00:21,  3.62s/it]\u001b[32m[I 2021-03-07 19:49:42,953]\u001b[0m Trial 56 finished with value: 1.0737598225887959 and parameters: {'lambda_l1': 2.3017730106497782e-07, 'lambda_l2': 0.0023158768198746783}. Best is trial 52 with value: 1.063973062211511.\u001b[0m\n",
      "regularization_factors, val_score: 1.063965:  70%|#######   | 14/20 [00:42<00:21,  3.62s/it]"
     ]
    },
    {
     "name": "stdout",
     "output_type": "stream",
     "text": [
      "Early stopping, best iteration is:\n",
      "[621]\tvalid_0's rmse: 1.07376\n",
      "Training until validation scores don't improve for 100 rounds\n"
     ]
    },
    {
     "name": "stderr",
     "output_type": "stream",
     "text": [
      "regularization_factors, val_score: 1.063965:  75%|#######5  | 15/20 [00:45<00:17,  3.57s/it]\u001b[32m[I 2021-03-07 19:49:46,403]\u001b[0m Trial 57 finished with value: 1.064060877030987 and parameters: {'lambda_l1': 2.0638451996665839e-07, 'lambda_l2': 7.15434840009402e-08}. Best is trial 52 with value: 1.063973062211511.\u001b[0m\n",
      "regularization_factors, val_score: 1.063965:  75%|#######5  | 15/20 [00:45<00:17,  3.57s/it]"
     ]
    },
    {
     "name": "stdout",
     "output_type": "stream",
     "text": [
      "Early stopping, best iteration is:\n",
      "[1425]\tvalid_0's rmse: 1.06406\n",
      "Training until validation scores don't improve for 100 rounds\n"
     ]
    },
    {
     "name": "stderr",
     "output_type": "stream",
     "text": [
      "regularization_factors, val_score: 1.063965:  80%|########  | 16/20 [00:48<00:13,  3.33s/it]\u001b[32m[I 2021-03-07 19:49:49,165]\u001b[0m Trial 58 finished with value: 1.0787926558490397 and parameters: {'lambda_l1': 1.4701312720330532e-08, 'lambda_l2': 8.466392725527456}. Best is trial 52 with value: 1.063973062211511.\u001b[0m\n",
      "regularization_factors, val_score: 1.063965:  80%|########  | 16/20 [00:48<00:13,  3.33s/it]"
     ]
    },
    {
     "name": "stdout",
     "output_type": "stream",
     "text": [
      "Early stopping, best iteration is:\n",
      "[658]\tvalid_0's rmse: 1.07879\n",
      "Training until validation scores don't improve for 100 rounds\n"
     ]
    },
    {
     "name": "stderr",
     "output_type": "stream",
     "text": [
      "regularization_factors, val_score: 1.063965:  85%|########5 | 17/20 [00:52<00:10,  3.66s/it]\u001b[32m[I 2021-03-07 19:49:53,595]\u001b[0m Trial 59 finished with value: 1.0698056456437504 and parameters: {'lambda_l1': 8.836323004571762e-06, 'lambda_l2': 0.0009248809108179783}. Best is trial 52 with value: 1.063973062211511.\u001b[0m\n",
      "regularization_factors, val_score: 1.063965:  85%|########5 | 17/20 [00:52<00:10,  3.66s/it]"
     ]
    },
    {
     "name": "stdout",
     "output_type": "stream",
     "text": [
      "Early stopping, best iteration is:\n",
      "[981]\tvalid_0's rmse: 1.06981\n",
      "Training until validation scores don't improve for 100 rounds\n"
     ]
    },
    {
     "name": "stderr",
     "output_type": "stream",
     "text": [
      "regularization_factors, val_score: 1.063965:  90%|######### | 18/20 [00:56<00:07,  3.69s/it]\u001b[32m[I 2021-03-07 19:49:57,340]\u001b[0m Trial 60 finished with value: 1.0710813794633651 and parameters: {'lambda_l1': 0.04511359752100039, 'lambda_l2': 6.515049904934166e-08}. Best is trial 52 with value: 1.063973062211511.\u001b[0m\n",
      "regularization_factors, val_score: 1.063965:  90%|######### | 18/20 [00:56<00:07,  3.69s/it]"
     ]
    },
    {
     "name": "stdout",
     "output_type": "stream",
     "text": [
      "Early stopping, best iteration is:\n",
      "[826]\tvalid_0's rmse: 1.07108\n",
      "Training until validation scores don't improve for 100 rounds\n"
     ]
    },
    {
     "name": "stderr",
     "output_type": "stream",
     "text": [
      "regularization_factors, val_score: 1.063965:  95%|#########5| 19/20 [01:00<00:03,  3.66s/it]\u001b[32m[I 2021-03-07 19:50:00,956]\u001b[0m Trial 61 finished with value: 1.0640314562180904 and parameters: {'lambda_l1': 1.0035374158029486e-06, 'lambda_l2': 3.637970130409502e-07}. Best is trial 52 with value: 1.063973062211511.\u001b[0m\n",
      "regularization_factors, val_score: 1.063965:  95%|#########5| 19/20 [01:00<00:03,  3.66s/it]"
     ]
    },
    {
     "name": "stdout",
     "output_type": "stream",
     "text": [
      "Early stopping, best iteration is:\n",
      "[1425]\tvalid_0's rmse: 1.06403\n",
      "Training until validation scores don't improve for 100 rounds\n"
     ]
    },
    {
     "name": "stderr",
     "output_type": "stream",
     "text": [
      "regularization_factors, val_score: 1.063965: 100%|##########| 20/20 [01:03<00:00,  3.51s/it]\u001b[32m[I 2021-03-07 19:50:04,123]\u001b[0m Trial 62 finished with value: 1.0640326856931197 and parameters: {'lambda_l1': 3.4876431007296774e-08, 'lambda_l2': 0.0001932993698691121}. Best is trial 52 with value: 1.063973062211511.\u001b[0m\n",
      "regularization_factors, val_score: 1.063965: 100%|##########| 20/20 [01:03<00:00,  3.16s/it]\n",
      "min_data_in_leaf, val_score: 1.063965:   0%|          | 0/5 [00:00<?, ?it/s]"
     ]
    },
    {
     "name": "stdout",
     "output_type": "stream",
     "text": [
      "Early stopping, best iteration is:\n",
      "[1425]\tvalid_0's rmse: 1.06403\n",
      "Training until validation scores don't improve for 100 rounds\n"
     ]
    },
    {
     "name": "stderr",
     "output_type": "stream",
     "text": [
      "min_data_in_leaf, val_score: 1.063965:  20%|##        | 1/5 [00:01<00:06,  1.64s/it]\u001b[32m[I 2021-03-07 19:50:05,790]\u001b[0m Trial 63 finished with value: 1.0808160592499285 and parameters: {'min_child_samples': 100}. Best is trial 63 with value: 1.0808160592499285.\u001b[0m\n",
      "min_data_in_leaf, val_score: 1.063965:  20%|##        | 1/5 [00:01<00:06,  1.64s/it]"
     ]
    },
    {
     "name": "stdout",
     "output_type": "stream",
     "text": [
      "Early stopping, best iteration is:\n",
      "[751]\tvalid_0's rmse: 1.08082\n",
      "Training until validation scores don't improve for 100 rounds\n"
     ]
    },
    {
     "name": "stderr",
     "output_type": "stream",
     "text": [
      "min_data_in_leaf, val_score: 1.063965:  40%|####      | 2/5 [00:03<00:04,  1.53s/it]\u001b[32m[I 2021-03-07 19:50:07,244]\u001b[0m Trial 64 finished with value: 1.076232201574001 and parameters: {'min_child_samples': 50}. Best is trial 64 with value: 1.076232201574001.\u001b[0m\n",
      "min_data_in_leaf, val_score: 1.063965:  40%|####      | 2/5 [00:03<00:04,  1.53s/it]"
     ]
    },
    {
     "name": "stdout",
     "output_type": "stream",
     "text": [
      "Early stopping, best iteration is:\n",
      "[676]\tvalid_0's rmse: 1.07623\n",
      "Training until validation scores don't improve for 100 rounds\n"
     ]
    },
    {
     "name": "stderr",
     "output_type": "stream",
     "text": [
      "min_data_in_leaf, val_score: 1.063965:  60%|######    | 3/5 [00:04<00:02,  1.27s/it]\u001b[32m[I 2021-03-07 19:50:08,202]\u001b[0m Trial 65 finished with value: 1.0782317393699008 and parameters: {'min_child_samples': 25}. Best is trial 64 with value: 1.076232201574001.\u001b[0m\n",
      "min_data_in_leaf, val_score: 1.063965:  60%|######    | 3/5 [00:04<00:02,  1.27s/it]"
     ]
    },
    {
     "name": "stdout",
     "output_type": "stream",
     "text": [
      "Early stopping, best iteration is:\n",
      "[380]\tvalid_0's rmse: 1.07823\n",
      "Training until validation scores don't improve for 100 rounds\n"
     ]
    },
    {
     "name": "stderr",
     "output_type": "stream",
     "text": [
      "min_data_in_leaf, val_score: 1.063965:  80%|########  | 4/5 [00:05<00:01,  1.53s/it]\u001b[32m[I 2021-03-07 19:50:10,139]\u001b[0m Trial 66 finished with value: 1.075181244103891 and parameters: {'min_child_samples': 10}. Best is trial 66 with value: 1.075181244103891.\u001b[0m\n",
      "min_data_in_leaf, val_score: 1.063965:  80%|########  | 4/5 [00:06<00:01,  1.53s/it]"
     ]
    },
    {
     "name": "stdout",
     "output_type": "stream",
     "text": [
      "Early stopping, best iteration is:\n",
      "[767]\tvalid_0's rmse: 1.07518\n",
      "Training until validation scores don't improve for 100 rounds\n"
     ]
    },
    {
     "name": "stderr",
     "output_type": "stream",
     "text": [
      "min_data_in_leaf, val_score: 1.063965: 100%|##########| 5/5 [00:07<00:00,  1.67s/it]\u001b[32m[I 2021-03-07 19:50:12,039]\u001b[0m Trial 67 finished with value: 1.0753222259557387 and parameters: {'min_child_samples': 5}. Best is trial 66 with value: 1.075181244103891.\u001b[0m\n",
      "min_data_in_leaf, val_score: 1.063965: 100%|##########| 5/5 [00:07<00:00,  1.58s/it]\n",
      "\u001b[32m[I 2021-03-07 19:50:12,165]\u001b[0m A new study created in memory with name: no-name-6a938d28-a01f-436c-adcc-dfb147149228\u001b[0m\n",
      "feature_fraction, val_score: inf:   0%|          | 0/7 [00:00<?, ?it/s]"
     ]
    },
    {
     "name": "stdout",
     "output_type": "stream",
     "text": [
      "Early stopping, best iteration is:\n",
      "[858]\tvalid_0's rmse: 1.07532\n",
      "Training until validation scores don't improve for 100 rounds\n"
     ]
    },
    {
     "name": "stderr",
     "output_type": "stream",
     "text": [
      "feature_fraction, val_score: 1.048707:  14%|#4        | 1/7 [00:01<00:06,  1.07s/it]\u001b[32m[I 2021-03-07 19:50:13,239]\u001b[0m Trial 0 finished with value: 1.0487066418207829 and parameters: {'feature_fraction': 0.4}. Best is trial 0 with value: 1.0487066418207829.\u001b[0m\n",
      "feature_fraction, val_score: 1.048707:  14%|#4        | 1/7 [00:01<00:06,  1.07s/it]"
     ]
    },
    {
     "name": "stdout",
     "output_type": "stream",
     "text": [
      "Early stopping, best iteration is:\n",
      "[165]\tvalid_0's rmse: 1.04871\n",
      "Training until validation scores don't improve for 100 rounds\n"
     ]
    },
    {
     "name": "stderr",
     "output_type": "stream",
     "text": [
      "feature_fraction, val_score: 1.046315:  29%|##8       | 2/7 [00:02<00:06,  1.21s/it]\u001b[32m[I 2021-03-07 19:50:14,552]\u001b[0m Trial 1 finished with value: 1.046315264647109 and parameters: {'feature_fraction': 0.5}. Best is trial 1 with value: 1.046315264647109.\u001b[0m\n",
      "feature_fraction, val_score: 1.046315:  29%|##8       | 2/7 [00:02<00:06,  1.21s/it]"
     ]
    },
    {
     "name": "stdout",
     "output_type": "stream",
     "text": [
      "Early stopping, best iteration is:\n",
      "[194]\tvalid_0's rmse: 1.04632\n",
      "Training until validation scores don't improve for 100 rounds\n"
     ]
    },
    {
     "name": "stderr",
     "output_type": "stream",
     "text": [
      "feature_fraction, val_score: 1.046315:  43%|####2     | 3/7 [00:03<00:04,  1.23s/it]\u001b[32m[I 2021-03-07 19:50:15,794]\u001b[0m Trial 2 finished with value: 1.0500762603828573 and parameters: {'feature_fraction': 0.8999999999999999}. Best is trial 1 with value: 1.046315264647109.\u001b[0m\n",
      "feature_fraction, val_score: 1.046315:  43%|####2     | 3/7 [00:03<00:04,  1.23s/it]"
     ]
    },
    {
     "name": "stdout",
     "output_type": "stream",
     "text": [
      "Early stopping, best iteration is:\n",
      "[127]\tvalid_0's rmse: 1.05008\n",
      "Training until validation scores don't improve for 100 rounds\n"
     ]
    },
    {
     "name": "stderr",
     "output_type": "stream",
     "text": [
      "feature_fraction, val_score: 1.042945:  57%|#####7    | 4/7 [00:05<00:03,  1.30s/it]\u001b[32m[I 2021-03-07 19:50:17,221]\u001b[0m Trial 3 finished with value: 1.042944759573183 and parameters: {'feature_fraction': 0.8}. Best is trial 3 with value: 1.042944759573183.\u001b[0m\n",
      "feature_fraction, val_score: 1.042945:  57%|#####7    | 4/7 [00:05<00:03,  1.30s/it]"
     ]
    },
    {
     "name": "stdout",
     "output_type": "stream",
     "text": [
      "Early stopping, best iteration is:\n",
      "[183]\tvalid_0's rmse: 1.04294\n",
      "Training until validation scores don't improve for 100 rounds\n"
     ]
    },
    {
     "name": "stderr",
     "output_type": "stream",
     "text": [
      "feature_fraction, val_score: 1.042945:  71%|#######1  | 5/7 [00:06<00:02,  1.32s/it]\u001b[32m[I 2021-03-07 19:50:18,574]\u001b[0m Trial 4 finished with value: 1.0456884870246244 and parameters: {'feature_fraction': 0.6}. Best is trial 3 with value: 1.042944759573183.\u001b[0m\n",
      "feature_fraction, val_score: 1.042945:  71%|#######1  | 5/7 [00:06<00:02,  1.32s/it]"
     ]
    },
    {
     "name": "stdout",
     "output_type": "stream",
     "text": [
      "Early stopping, best iteration is:\n",
      "[241]\tvalid_0's rmse: 1.04569\n",
      "Training until validation scores don't improve for 100 rounds\n"
     ]
    },
    {
     "name": "stderr",
     "output_type": "stream",
     "text": [
      "feature_fraction, val_score: 1.042945:  86%|########5 | 6/7 [00:07<00:01,  1.30s/it]\u001b[32m[I 2021-03-07 19:50:19,834]\u001b[0m Trial 5 finished with value: 1.050188164403151 and parameters: {'feature_fraction': 1.0}. Best is trial 3 with value: 1.042944759573183.\u001b[0m\n",
      "feature_fraction, val_score: 1.042945:  86%|########5 | 6/7 [00:07<00:01,  1.30s/it]"
     ]
    },
    {
     "name": "stdout",
     "output_type": "stream",
     "text": [
      "Early stopping, best iteration is:\n",
      "[106]\tvalid_0's rmse: 1.05019\n",
      "Training until validation scores don't improve for 100 rounds\n"
     ]
    },
    {
     "name": "stderr",
     "output_type": "stream",
     "text": [
      "feature_fraction, val_score: 1.042945: 100%|##########| 7/7 [00:08<00:00,  1.24s/it]\u001b[32m[I 2021-03-07 19:50:20,951]\u001b[0m Trial 6 finished with value: 1.0441848354029748 and parameters: {'feature_fraction': 0.7}. Best is trial 3 with value: 1.042944759573183.\u001b[0m\n",
      "feature_fraction, val_score: 1.042945: 100%|##########| 7/7 [00:08<00:00,  1.25s/it]\n",
      "num_leaves, val_score: 1.042945:   0%|          | 0/20 [00:00<?, ?it/s]"
     ]
    },
    {
     "name": "stdout",
     "output_type": "stream",
     "text": [
      "Early stopping, best iteration is:\n",
      "[117]\tvalid_0's rmse: 1.04418\n",
      "Training until validation scores don't improve for 100 rounds\n"
     ]
    },
    {
     "name": "stderr",
     "output_type": "stream",
     "text": [
      "num_leaves, val_score: 1.042945:   5%|5         | 1/20 [00:03<01:10,  3.69s/it]\u001b[32m[I 2021-03-07 19:50:24,654]\u001b[0m Trial 7 finished with value: 1.0501051158823402 and parameters: {'num_leaves': 219}. Best is trial 7 with value: 1.0501051158823402.\u001b[0m\n",
      "num_leaves, val_score: 1.042945:   5%|5         | 1/20 [00:03<01:10,  3.69s/it]"
     ]
    },
    {
     "name": "stdout",
     "output_type": "stream",
     "text": [
      "Early stopping, best iteration is:\n",
      "[35]\tvalid_0's rmse: 1.05011\n",
      "Training until validation scores don't improve for 100 rounds\n"
     ]
    },
    {
     "name": "stderr",
     "output_type": "stream",
     "text": [
      "num_leaves, val_score: 1.042945:  10%|#         | 2/20 [00:06<00:57,  3.17s/it]\u001b[32m[I 2021-03-07 19:50:27,468]\u001b[0m Trial 8 finished with value: 1.0585623041120318 and parameters: {'num_leaves': 24}. Best is trial 7 with value: 1.0501051158823402.\u001b[0m\n",
      "num_leaves, val_score: 1.042945:  10%|#         | 2/20 [00:06<00:57,  3.17s/it]"
     ]
    },
    {
     "name": "stdout",
     "output_type": "stream",
     "text": [
      "Early stopping, best iteration is:\n",
      "[176]\tvalid_0's rmse: 1.05856\n",
      "Training until validation scores don't improve for 100 rounds\n"
     ]
    },
    {
     "name": "stderr",
     "output_type": "stream",
     "text": [
      "num_leaves, val_score: 1.042945:  15%|#5        | 3/20 [00:09<00:55,  3.28s/it]\u001b[32m[I 2021-03-07 19:50:30,881]\u001b[0m Trial 9 finished with value: 1.0475790351339005 and parameters: {'num_leaves': 106}. Best is trial 9 with value: 1.0475790351339005.\u001b[0m\n",
      "num_leaves, val_score: 1.042945:  15%|#5        | 3/20 [00:09<00:55,  3.28s/it]"
     ]
    },
    {
     "name": "stdout",
     "output_type": "stream",
     "text": [
      "Early stopping, best iteration is:\n",
      "[38]\tvalid_0's rmse: 1.04758\n",
      "Training until validation scores don't improve for 100 rounds\n"
     ]
    },
    {
     "name": "stderr",
     "output_type": "stream",
     "text": [
      "num_leaves, val_score: 1.042945:  20%|##        | 4/20 [00:13<00:53,  3.36s/it]\u001b[32m[I 2021-03-07 19:50:34,354]\u001b[0m Trial 10 finished with value: 1.0450892490823718 and parameters: {'num_leaves': 127}. Best is trial 10 with value: 1.0450892490823718.\u001b[0m\n",
      "num_leaves, val_score: 1.042945:  20%|##        | 4/20 [00:13<00:53,  3.36s/it]"
     ]
    },
    {
     "name": "stdout",
     "output_type": "stream",
     "text": [
      "Early stopping, best iteration is:\n",
      "[40]\tvalid_0's rmse: 1.04509\n",
      "Training until validation scores don't improve for 100 rounds\n"
     ]
    },
    {
     "name": "stderr",
     "output_type": "stream",
     "text": [
      "num_leaves, val_score: 1.040951:  25%|##5       | 5/20 [00:19<01:05,  4.34s/it]\u001b[32m[I 2021-03-07 19:50:40,432]\u001b[0m Trial 11 finished with value: 1.040950762749979 and parameters: {'num_leaves': 232}. Best is trial 11 with value: 1.040950762749979.\u001b[0m\n",
      "num_leaves, val_score: 1.040951:  25%|##5       | 5/20 [00:19<01:05,  4.34s/it]"
     ]
    },
    {
     "name": "stdout",
     "output_type": "stream",
     "text": [
      "Early stopping, best iteration is:\n",
      "[42]\tvalid_0's rmse: 1.04095\n",
      "Training until validation scores don't improve for 100 rounds\n"
     ]
    },
    {
     "name": "stderr",
     "output_type": "stream",
     "text": [
      "num_leaves, val_score: 1.040667:  30%|###       | 6/20 [00:22<00:54,  3.87s/it]\u001b[32m[I 2021-03-07 19:50:43,376]\u001b[0m Trial 12 finished with value: 1.0406671384191737 and parameters: {'num_leaves': 61}. Best is trial 12 with value: 1.0406671384191737.\u001b[0m\n",
      "num_leaves, val_score: 1.040667:  30%|###       | 6/20 [00:22<00:54,  3.87s/it]"
     ]
    },
    {
     "name": "stdout",
     "output_type": "stream",
     "text": [
      "Early stopping, best iteration is:\n",
      "[124]\tvalid_0's rmse: 1.04067\n",
      "Training until validation scores don't improve for 100 rounds\n"
     ]
    },
    {
     "name": "stderr",
     "output_type": "stream",
     "text": [
      "num_leaves, val_score: 1.040667:  35%|###5      | 7/20 [00:26<00:51,  3.93s/it]\u001b[32m[I 2021-03-07 19:50:47,429]\u001b[0m Trial 13 finished with value: 1.0480142026212413 and parameters: {'num_leaves': 169}. Best is trial 12 with value: 1.0406671384191737.\u001b[0m\n",
      "num_leaves, val_score: 1.040667:  35%|###5      | 7/20 [00:26<00:51,  3.93s/it]"
     ]
    },
    {
     "name": "stdout",
     "output_type": "stream",
     "text": [
      "Early stopping, best iteration is:\n",
      "[51]\tvalid_0's rmse: 1.04801\n",
      "Training until validation scores don't improve for 100 rounds\n"
     ]
    },
    {
     "name": "stderr",
     "output_type": "stream",
     "text": [
      "num_leaves, val_score: 1.038685:  40%|####      | 8/20 [00:31<00:49,  4.12s/it]\u001b[32m[I 2021-03-07 19:50:51,968]\u001b[0m Trial 14 finished with value: 1.038685172293749 and parameters: {'num_leaves': 224}. Best is trial 14 with value: 1.038685172293749.\u001b[0m\n",
      "num_leaves, val_score: 1.038685:  40%|####      | 8/20 [00:31<00:49,  4.12s/it]"
     ]
    },
    {
     "name": "stdout",
     "output_type": "stream",
     "text": [
      "Early stopping, best iteration is:\n",
      "[35]\tvalid_0's rmse: 1.03869\n",
      "Training until validation scores don't improve for 100 rounds\n"
     ]
    },
    {
     "name": "stderr",
     "output_type": "stream",
     "text": [
      "num_leaves, val_score: 1.038685:  45%|####5     | 9/20 [00:32<00:37,  3.37s/it]\u001b[32m[I 2021-03-07 19:50:53,688]\u001b[0m Trial 15 finished with value: 1.0397679102712578 and parameters: {'num_leaves': 21}. Best is trial 14 with value: 1.038685172293749.\u001b[0m\n",
      "num_leaves, val_score: 1.038685:  45%|####5     | 9/20 [00:32<00:37,  3.37s/it]"
     ]
    },
    {
     "name": "stdout",
     "output_type": "stream",
     "text": [
      "Early stopping, best iteration is:\n",
      "[219]\tvalid_0's rmse: 1.03977\n",
      "Training until validation scores don't improve for 100 rounds\n"
     ]
    },
    {
     "name": "stderr",
     "output_type": "stream",
     "text": [
      "num_leaves, val_score: 1.035447:  50%|#####     | 10/20 [00:38<00:41,  4.16s/it]\u001b[32m[I 2021-03-07 19:50:59,608]\u001b[0m Trial 16 finished with value: 1.0354467288262528 and parameters: {'num_leaves': 70}. Best is trial 16 with value: 1.0354467288262528.\u001b[0m\n",
      "num_leaves, val_score: 1.035447:  50%|#####     | 10/20 [00:38<00:41,  4.16s/it]"
     ]
    },
    {
     "name": "stdout",
     "output_type": "stream",
     "text": [
      "Early stopping, best iteration is:\n",
      "[101]\tvalid_0's rmse: 1.03545\n",
      "Training until validation scores don't improve for 100 rounds\n"
     ]
    },
    {
     "name": "stderr",
     "output_type": "stream",
     "text": [
      "num_leaves, val_score: 1.035447:  55%|#####5    | 11/20 [00:40<00:31,  3.48s/it]\u001b[32m[I 2021-03-07 19:51:01,557]\u001b[0m Trial 17 finished with value: 1.0453937259073613 and parameters: {'num_leaves': 88}. Best is trial 16 with value: 1.0354467288262528.\u001b[0m\n",
      "num_leaves, val_score: 1.035447:  55%|#####5    | 11/20 [00:40<00:31,  3.48s/it]"
     ]
    },
    {
     "name": "stdout",
     "output_type": "stream",
     "text": [
      "Early stopping, best iteration is:\n",
      "[65]\tvalid_0's rmse: 1.04539\n",
      "Training until validation scores don't improve for 100 rounds\n"
     ]
    },
    {
     "name": "stderr",
     "output_type": "stream",
     "text": [
      "num_leaves, val_score: 1.035447:  60%|######    | 12/20 [00:43<00:25,  3.25s/it]\u001b[32m[I 2021-03-07 19:51:04,267]\u001b[0m Trial 18 finished with value: 1.0423178538329676 and parameters: {'num_leaves': 175}. Best is trial 16 with value: 1.0354467288262528.\u001b[0m\n",
      "num_leaves, val_score: 1.035447:  60%|######    | 12/20 [00:43<00:25,  3.25s/it]"
     ]
    },
    {
     "name": "stdout",
     "output_type": "stream",
     "text": [
      "Early stopping, best iteration is:\n",
      "[33]\tvalid_0's rmse: 1.04232\n",
      "Training until validation scores don't improve for 100 rounds\n"
     ]
    },
    {
     "name": "stderr",
     "output_type": "stream",
     "text": [
      "num_leaves, val_score: 1.035447:  65%|######5   | 13/20 [00:48<00:26,  3.83s/it]\u001b[32m[I 2021-03-07 19:51:09,450]\u001b[0m Trial 19 finished with value: 1.0413237072875747 and parameters: {'num_leaves': 60}. Best is trial 16 with value: 1.0354467288262528.\u001b[0m\n",
      "num_leaves, val_score: 1.035447:  65%|######5   | 13/20 [00:48<00:26,  3.83s/it]"
     ]
    },
    {
     "name": "stdout",
     "output_type": "stream",
     "text": [
      "Early stopping, best iteration is:\n",
      "[176]\tvalid_0's rmse: 1.04132\n",
      "Training until validation scores don't improve for 100 rounds\n"
     ]
    },
    {
     "name": "stderr",
     "output_type": "stream",
     "text": [
      "num_leaves, val_score: 1.035447:  70%|#######   | 14/20 [00:54<00:27,  4.51s/it]\u001b[32m[I 2021-03-07 19:51:15,530]\u001b[0m Trial 20 finished with value: 1.0378670445330127 and parameters: {'num_leaves': 256}. Best is trial 16 with value: 1.0354467288262528.\u001b[0m\n",
      "num_leaves, val_score: 1.035447:  70%|#######   | 14/20 [00:54<00:27,  4.51s/it]"
     ]
    },
    {
     "name": "stdout",
     "output_type": "stream",
     "text": [
      "Early stopping, best iteration is:\n",
      "[32]\tvalid_0's rmse: 1.03787\n",
      "Training until validation scores don't improve for 100 rounds\n"
     ]
    },
    {
     "name": "stderr",
     "output_type": "stream",
     "text": [
      "num_leaves, val_score: 1.035447:  75%|#######5  | 15/20 [00:58<00:21,  4.37s/it]\u001b[32m[I 2021-03-07 19:51:19,568]\u001b[0m Trial 21 finished with value: 1.0425913399325089 and parameters: {'num_leaves': 155}. Best is trial 16 with value: 1.0354467288262528.\u001b[0m\n",
      "num_leaves, val_score: 1.035447:  75%|#######5  | 15/20 [00:58<00:21,  4.37s/it]"
     ]
    },
    {
     "name": "stdout",
     "output_type": "stream",
     "text": [
      "Early stopping, best iteration is:\n",
      "[37]\tvalid_0's rmse: 1.04259\n",
      "Training until validation scores don't improve for 100 rounds\n"
     ]
    },
    {
     "name": "stderr",
     "output_type": "stream",
     "text": [
      "num_leaves, val_score: 1.035447:  80%|########  | 16/20 [01:00<00:14,  3.74s/it]\u001b[32m[I 2021-03-07 19:51:21,856]\u001b[0m Trial 22 finished with value: 1.0438747636406205 and parameters: {'num_leaves': 71}. Best is trial 16 with value: 1.0354467288262528.\u001b[0m\n",
      "num_leaves, val_score: 1.035447:  80%|########  | 16/20 [01:00<00:14,  3.74s/it]"
     ]
    },
    {
     "name": "stdout",
     "output_type": "stream",
     "text": [
      "Early stopping, best iteration is:\n",
      "[111]\tvalid_0's rmse: 1.04387\n",
      "Training until validation scores don't improve for 100 rounds\n"
     ]
    },
    {
     "name": "stderr",
     "output_type": "stream",
     "text": [
      "num_leaves, val_score: 1.035447:  85%|########5 | 17/20 [01:05<00:11,  3.90s/it]\u001b[32m[I 2021-03-07 19:51:26,135]\u001b[0m Trial 23 finished with value: 1.0400704164273935 and parameters: {'num_leaves': 255}. Best is trial 16 with value: 1.0354467288262528.\u001b[0m\n",
      "num_leaves, val_score: 1.035447:  85%|########5 | 17/20 [01:05<00:11,  3.90s/it]"
     ]
    },
    {
     "name": "stdout",
     "output_type": "stream",
     "text": [
      "Early stopping, best iteration is:\n",
      "[36]\tvalid_0's rmse: 1.04007\n",
      "Training until validation scores don't improve for 100 rounds\n"
     ]
    },
    {
     "name": "stderr",
     "output_type": "stream",
     "text": [
      "num_leaves, val_score: 1.035447:  90%|######### | 18/20 [01:06<00:06,  3.18s/it]\u001b[32m[I 2021-03-07 19:51:27,619]\u001b[0m Trial 24 finished with value: 1.0566632553799487 and parameters: {'num_leaves': 5}. Best is trial 16 with value: 1.0354467288262528.\u001b[0m\n",
      "num_leaves, val_score: 1.035447:  90%|######### | 18/20 [01:06<00:06,  3.18s/it]"
     ]
    },
    {
     "name": "stdout",
     "output_type": "stream",
     "text": [
      "Early stopping, best iteration is:\n",
      "[669]\tvalid_0's rmse: 1.05666\n",
      "Training until validation scores don't improve for 100 rounds\n"
     ]
    },
    {
     "name": "stderr",
     "output_type": "stream",
     "text": [
      "num_leaves, val_score: 1.035447:  95%|#########5| 19/20 [01:11<00:03,  3.76s/it]\u001b[32m[I 2021-03-07 19:51:32,747]\u001b[0m Trial 25 finished with value: 1.0402860162859702 and parameters: {'num_leaves': 129}. Best is trial 16 with value: 1.0354467288262528.\u001b[0m\n",
      "num_leaves, val_score: 1.035447:  95%|#########5| 19/20 [01:11<00:03,  3.76s/it]"
     ]
    },
    {
     "name": "stdout",
     "output_type": "stream",
     "text": [
      "Early stopping, best iteration is:\n",
      "[42]\tvalid_0's rmse: 1.04029\n",
      "Training until validation scores don't improve for 100 rounds\n"
     ]
    },
    {
     "name": "stderr",
     "output_type": "stream",
     "text": [
      "num_leaves, val_score: 1.035447: 100%|##########| 20/20 [01:13<00:00,  3.21s/it]\u001b[32m[I 2021-03-07 19:51:34,661]\u001b[0m Trial 26 finished with value: 1.0455230220197278 and parameters: {'num_leaves': 41}. Best is trial 16 with value: 1.0354467288262528.\u001b[0m\n",
      "num_leaves, val_score: 1.035447: 100%|##########| 20/20 [01:13<00:00,  3.69s/it]\n",
      "bagging, val_score: 1.035447:   0%|          | 0/10 [00:00<?, ?it/s]"
     ]
    },
    {
     "name": "stdout",
     "output_type": "stream",
     "text": [
      "Early stopping, best iteration is:\n",
      "[142]\tvalid_0's rmse: 1.04552\n",
      "Training until validation scores don't improve for 100 rounds\n"
     ]
    },
    {
     "name": "stderr",
     "output_type": "stream",
     "text": [
      "bagging, val_score: 1.035447:  10%|#         | 1/10 [00:01<00:14,  1.63s/it]\u001b[32m[I 2021-03-07 19:51:36,305]\u001b[0m Trial 27 finished with value: 1.0494183515495248 and parameters: {'bagging_fraction': 0.7024753209101695, 'bagging_freq': 5}. Best is trial 27 with value: 1.0494183515495248.\u001b[0m\n",
      "bagging, val_score: 1.035447:  10%|#         | 1/10 [00:01<00:14,  1.63s/it]"
     ]
    },
    {
     "name": "stdout",
     "output_type": "stream",
     "text": [
      "Early stopping, best iteration is:\n",
      "[45]\tvalid_0's rmse: 1.04942\n",
      "Training until validation scores don't improve for 100 rounds\n"
     ]
    },
    {
     "name": "stderr",
     "output_type": "stream",
     "text": [
      "bagging, val_score: 1.035447:  20%|##        | 2/10 [00:03<00:13,  1.74s/it]\u001b[32m[I 2021-03-07 19:51:38,128]\u001b[0m Trial 28 finished with value: 1.0479721361678613 and parameters: {'bagging_fraction': 0.7445920826351344, 'bagging_freq': 4}. Best is trial 28 with value: 1.0479721361678613.\u001b[0m\n",
      "bagging, val_score: 1.035447:  20%|##        | 2/10 [00:03<00:13,  1.74s/it]"
     ]
    },
    {
     "name": "stdout",
     "output_type": "stream",
     "text": [
      "Early stopping, best iteration is:\n",
      "[76]\tvalid_0's rmse: 1.04797\n",
      "Training until validation scores don't improve for 100 rounds\n"
     ]
    },
    {
     "name": "stderr",
     "output_type": "stream",
     "text": [
      "bagging, val_score: 1.035447:  30%|###       | 3/10 [00:05<00:14,  2.02s/it]\u001b[32m[I 2021-03-07 19:51:40,479]\u001b[0m Trial 29 finished with value: 1.0452601943794027 and parameters: {'bagging_fraction': 0.6731413098818129, 'bagging_freq': 5}. Best is trial 29 with value: 1.0452601943794027.\u001b[0m\n",
      "bagging, val_score: 1.035447:  30%|###       | 3/10 [00:05<00:14,  2.02s/it]"
     ]
    },
    {
     "name": "stdout",
     "output_type": "stream",
     "text": [
      "Early stopping, best iteration is:\n",
      "[107]\tvalid_0's rmse: 1.04526\n",
      "Training until validation scores don't improve for 100 rounds\n"
     ]
    },
    {
     "name": "stderr",
     "output_type": "stream",
     "text": [
      "bagging, val_score: 1.035447:  40%|####      | 4/10 [00:07<00:11,  2.00s/it]\u001b[32m[I 2021-03-07 19:51:42,441]\u001b[0m Trial 30 finished with value: 1.0460301522838247 and parameters: {'bagging_fraction': 0.7832924845203499, 'bagging_freq': 7}. Best is trial 29 with value: 1.0452601943794027.\u001b[0m\n",
      "bagging, val_score: 1.035447:  40%|####      | 4/10 [00:07<00:11,  2.00s/it]"
     ]
    },
    {
     "name": "stdout",
     "output_type": "stream",
     "text": [
      "Early stopping, best iteration is:\n",
      "[94]\tvalid_0's rmse: 1.04603\n",
      "Training until validation scores don't improve for 100 rounds\n"
     ]
    },
    {
     "name": "stderr",
     "output_type": "stream",
     "text": [
      "bagging, val_score: 1.035447:  50%|#####     | 5/10 [00:09<00:09,  1.82s/it]\u001b[32m[I 2021-03-07 19:51:43,955]\u001b[0m Trial 31 finished with value: 1.0513048000543368 and parameters: {'bagging_fraction': 0.5274289400290025, 'bagging_freq': 4}. Best is trial 29 with value: 1.0452601943794027.\u001b[0m\n",
      "bagging, val_score: 1.035447:  50%|#####     | 5/10 [00:09<00:09,  1.82s/it]"
     ]
    },
    {
     "name": "stdout",
     "output_type": "stream",
     "text": [
      "Early stopping, best iteration is:\n",
      "[52]\tvalid_0's rmse: 1.0513\n",
      "Training until validation scores don't improve for 100 rounds\n"
     ]
    },
    {
     "name": "stderr",
     "output_type": "stream",
     "text": [
      "bagging, val_score: 1.035447:  60%|######    | 6/10 [00:11<00:07,  1.79s/it]\u001b[32m[I 2021-03-07 19:51:45,676]\u001b[0m Trial 32 finished with value: 1.0517733493472845 and parameters: {'bagging_fraction': 0.5853502198702971, 'bagging_freq': 2}. Best is trial 29 with value: 1.0452601943794027.\u001b[0m\n",
      "bagging, val_score: 1.035447:  60%|######    | 6/10 [00:11<00:07,  1.79s/it]"
     ]
    },
    {
     "name": "stdout",
     "output_type": "stream",
     "text": [
      "Early stopping, best iteration is:\n",
      "[53]\tvalid_0's rmse: 1.05177\n",
      "Training until validation scores don't improve for 100 rounds\n"
     ]
    },
    {
     "name": "stderr",
     "output_type": "stream",
     "text": [
      "bagging, val_score: 1.035447:  70%|#######   | 7/10 [00:12<00:05,  1.69s/it]\u001b[32m[I 2021-03-07 19:51:47,156]\u001b[0m Trial 33 finished with value: 1.0507433150511605 and parameters: {'bagging_fraction': 0.5222218288198283, 'bagging_freq': 6}. Best is trial 29 with value: 1.0452601943794027.\u001b[0m\n",
      "bagging, val_score: 1.035447:  70%|#######   | 7/10 [00:12<00:05,  1.69s/it]"
     ]
    },
    {
     "name": "stdout",
     "output_type": "stream",
     "text": [
      "Early stopping, best iteration is:\n",
      "[41]\tvalid_0's rmse: 1.05074\n",
      "Training until validation scores don't improve for 100 rounds\n"
     ]
    },
    {
     "name": "stderr",
     "output_type": "stream",
     "text": [
      "bagging, val_score: 1.035447:  80%|########  | 8/10 [00:13<00:03,  1.58s/it]\u001b[32m[I 2021-03-07 19:51:48,513]\u001b[0m Trial 34 finished with value: 1.052077774305916 and parameters: {'bagging_fraction': 0.5560515028566824, 'bagging_freq': 5}. Best is trial 29 with value: 1.0452601943794027.\u001b[0m\n",
      "bagging, val_score: 1.035447:  80%|########  | 8/10 [00:13<00:03,  1.58s/it]"
     ]
    },
    {
     "name": "stdout",
     "output_type": "stream",
     "text": [
      "Early stopping, best iteration is:\n",
      "[38]\tvalid_0's rmse: 1.05208\n",
      "Training until validation scores don't improve for 100 rounds\n"
     ]
    },
    {
     "name": "stderr",
     "output_type": "stream",
     "text": [
      "bagging, val_score: 1.035447:  90%|######### | 9/10 [00:15<00:01,  1.67s/it]\u001b[32m[I 2021-03-07 19:51:50,369]\u001b[0m Trial 35 finished with value: 1.0430623409504658 and parameters: {'bagging_fraction': 0.6883434265029147, 'bagging_freq': 1}. Best is trial 35 with value: 1.0430623409504658.\u001b[0m\n",
      "bagging, val_score: 1.035447:  90%|######### | 9/10 [00:15<00:01,  1.67s/it]"
     ]
    },
    {
     "name": "stdout",
     "output_type": "stream",
     "text": [
      "Early stopping, best iteration is:\n",
      "[55]\tvalid_0's rmse: 1.04306\n",
      "Training until validation scores don't improve for 100 rounds\n"
     ]
    },
    {
     "name": "stderr",
     "output_type": "stream",
     "text": [
      "bagging, val_score: 1.035447: 100%|##########| 10/10 [00:20<00:00,  2.63s/it]\u001b[32m[I 2021-03-07 19:51:55,166]\u001b[0m Trial 36 finished with value: 1.0434804766755716 and parameters: {'bagging_fraction': 0.9268136330664247, 'bagging_freq': 7}. Best is trial 35 with value: 1.0430623409504658.\u001b[0m\n",
      "bagging, val_score: 1.035447: 100%|##########| 10/10 [00:20<00:00,  2.05s/it]\n",
      "feature_fraction_stage2, val_score: 1.035447:   0%|          | 0/6 [00:00<?, ?it/s]"
     ]
    },
    {
     "name": "stdout",
     "output_type": "stream",
     "text": [
      "Early stopping, best iteration is:\n",
      "[85]\tvalid_0's rmse: 1.04348\n",
      "Training until validation scores don't improve for 100 rounds\n"
     ]
    },
    {
     "name": "stderr",
     "output_type": "stream",
     "text": [
      "feature_fraction_stage2, val_score: 1.035447:  17%|#6        | 1/6 [00:02<00:13,  2.70s/it]\u001b[32m[I 2021-03-07 19:51:57,892]\u001b[0m Trial 37 finished with value: 1.0430848059584776 and parameters: {'feature_fraction': 0.8480000000000001}. Best is trial 37 with value: 1.0430848059584776.\u001b[0m\n",
      "feature_fraction_stage2, val_score: 1.035447:  17%|#6        | 1/6 [00:02<00:13,  2.70s/it]"
     ]
    },
    {
     "name": "stdout",
     "output_type": "stream",
     "text": [
      "Early stopping, best iteration is:\n",
      "[54]\tvalid_0's rmse: 1.04308\n",
      "Training until validation scores don't improve for 100 rounds\n"
     ]
    },
    {
     "name": "stderr",
     "output_type": "stream",
     "text": [
      "feature_fraction_stage2, val_score: 1.035447:  33%|###3      | 2/6 [00:08<00:16,  4.23s/it]\u001b[32m[I 2021-03-07 19:52:03,195]\u001b[0m Trial 38 finished with value: 1.0418551740812871 and parameters: {'feature_fraction': 0.784}. Best is trial 38 with value: 1.0418551740812871.\u001b[0m\n",
      "feature_fraction_stage2, val_score: 1.035447:  33%|###3      | 2/6 [00:08<00:16,  4.23s/it]"
     ]
    },
    {
     "name": "stdout",
     "output_type": "stream",
     "text": [
      "Early stopping, best iteration is:\n",
      "[76]\tvalid_0's rmse: 1.04186\n",
      "Training until validation scores don't improve for 100 rounds\n"
     ]
    },
    {
     "name": "stderr",
     "output_type": "stream",
     "text": [
      "feature_fraction_stage2, val_score: 1.035447:  50%|#####     | 3/6 [00:09<00:09,  3.15s/it]\u001b[32m[I 2021-03-07 19:52:05,065]\u001b[0m Trial 39 finished with value: 1.0458206085522104 and parameters: {'feature_fraction': 0.7520000000000001}. Best is trial 38 with value: 1.0418551740812871.\u001b[0m\n",
      "feature_fraction_stage2, val_score: 1.035447:  50%|#####     | 3/6 [00:09<00:09,  3.15s/it]"
     ]
    },
    {
     "name": "stdout",
     "output_type": "stream",
     "text": [
      "Early stopping, best iteration is:\n",
      "[78]\tvalid_0's rmse: 1.04582\n",
      "Training until validation scores don't improve for 100 rounds\n"
     ]
    },
    {
     "name": "stderr",
     "output_type": "stream",
     "text": [
      "feature_fraction_stage2, val_score: 1.035447:  67%|######6   | 4/6 [00:12<00:05,  2.80s/it]\u001b[32m[I 2021-03-07 19:52:07,309]\u001b[0m Trial 40 finished with value: 1.0455719511607557 and parameters: {'feature_fraction': 0.88}. Best is trial 38 with value: 1.0418551740812871.\u001b[0m\n",
      "feature_fraction_stage2, val_score: 1.035447:  67%|######6   | 4/6 [00:12<00:05,  2.80s/it]"
     ]
    },
    {
     "name": "stdout",
     "output_type": "stream",
     "text": [
      "Early stopping, best iteration is:\n",
      "[106]\tvalid_0's rmse: 1.04557\n",
      "Training until validation scores don't improve for 100 rounds\n"
     ]
    },
    {
     "name": "stderr",
     "output_type": "stream",
     "text": [
      "feature_fraction_stage2, val_score: 1.035447:  83%|########3 | 5/6 [00:17<00:03,  3.70s/it]\u001b[32m[I 2021-03-07 19:52:12,610]\u001b[0m Trial 41 finished with value: 1.0450545777600366 and parameters: {'feature_fraction': 0.7200000000000001}. Best is trial 38 with value: 1.0418551740812871.\u001b[0m\n",
      "feature_fraction_stage2, val_score: 1.035447:  83%|########3 | 5/6 [00:17<00:03,  3.70s/it]"
     ]
    },
    {
     "name": "stdout",
     "output_type": "stream",
     "text": [
      "Early stopping, best iteration is:\n",
      "[94]\tvalid_0's rmse: 1.04505\n",
      "Training until validation scores don't improve for 100 rounds\n"
     ]
    },
    {
     "name": "stderr",
     "output_type": "stream",
     "text": [
      "feature_fraction_stage2, val_score: 1.035447: 100%|##########| 6/6 [00:20<00:00,  3.54s/it]\u001b[32m[I 2021-03-07 19:52:15,858]\u001b[0m Trial 42 finished with value: 1.0386678970517162 and parameters: {'feature_fraction': 0.8160000000000001}. Best is trial 42 with value: 1.0386678970517162.\u001b[0m\n",
      "feature_fraction_stage2, val_score: 1.035447: 100%|##########| 6/6 [00:20<00:00,  3.45s/it]\n",
      "regularization_factors, val_score: 1.035447:   0%|          | 0/20 [00:00<?, ?it/s]"
     ]
    },
    {
     "name": "stdout",
     "output_type": "stream",
     "text": [
      "Early stopping, best iteration is:\n",
      "[147]\tvalid_0's rmse: 1.03867\n",
      "Training until validation scores don't improve for 100 rounds\n"
     ]
    },
    {
     "name": "stderr",
     "output_type": "stream",
     "text": [
      "regularization_factors, val_score: 1.035447:   5%|5         | 1/20 [00:02<00:46,  2.44s/it]\u001b[32m[I 2021-03-07 19:52:18,316]\u001b[0m Trial 43 finished with value: 1.042954750393691 and parameters: {'lambda_l1': 3.4766404019576305, 'lambda_l2': 1.2497316038476264e-07}. Best is trial 43 with value: 1.042954750393691.\u001b[0m\n",
      "regularization_factors, val_score: 1.035447:   5%|5         | 1/20 [00:02<00:46,  2.44s/it]"
     ]
    },
    {
     "name": "stdout",
     "output_type": "stream",
     "text": [
      "Early stopping, best iteration is:\n",
      "[99]\tvalid_0's rmse: 1.04295\n",
      "Training until validation scores don't improve for 100 rounds\n"
     ]
    },
    {
     "name": "stderr",
     "output_type": "stream",
     "text": [
      "regularization_factors, val_score: 1.035346:  10%|#         | 2/20 [00:05<00:55,  3.09s/it]\u001b[32m[I 2021-03-07 19:52:21,860]\u001b[0m Trial 44 finished with value: 1.0353464924599074 and parameters: {'lambda_l1': 2.342614291519248e-06, 'lambda_l2': 1.5809795312947415e-08}. Best is trial 44 with value: 1.0353464924599074.\u001b[0m\n",
      "regularization_factors, val_score: 1.035346:  10%|#         | 2/20 [00:05<00:55,  3.09s/it]"
     ]
    },
    {
     "name": "stdout",
     "output_type": "stream",
     "text": [
      "Early stopping, best iteration is:\n",
      "[101]\tvalid_0's rmse: 1.03535\n",
      "Training until validation scores don't improve for 100 rounds\n"
     ]
    },
    {
     "name": "stderr",
     "output_type": "stream",
     "text": [
      "regularization_factors, val_score: 1.035346:  15%|#5        | 3/20 [00:09<00:52,  3.11s/it]\u001b[32m[I 2021-03-07 19:52:25,005]\u001b[0m Trial 45 finished with value: 1.0382824224493858 and parameters: {'lambda_l1': 3.3743833744084966, 'lambda_l2': 0.00022122555694775766}. Best is trial 44 with value: 1.0353464924599074.\u001b[0m\n",
      "regularization_factors, val_score: 1.035346:  15%|#5        | 3/20 [00:09<00:52,  3.11s/it]"
     ]
    },
    {
     "name": "stdout",
     "output_type": "stream",
     "text": [
      "Early stopping, best iteration is:\n",
      "[125]\tvalid_0's rmse: 1.03828\n",
      "Training until validation scores don't improve for 100 rounds\n"
     ]
    },
    {
     "name": "stderr",
     "output_type": "stream",
     "text": [
      "regularization_factors, val_score: 1.035346:  20%|##        | 4/20 [00:12<00:54,  3.40s/it]\u001b[32m[I 2021-03-07 19:52:28,843]\u001b[0m Trial 46 finished with value: 1.0472510246637634 and parameters: {'lambda_l1': 0.7443967095138747, 'lambda_l2': 0.01961779567651852}. Best is trial 44 with value: 1.0353464924599074.\u001b[0m\n",
      "regularization_factors, val_score: 1.035346:  20%|##        | 4/20 [00:12<00:54,  3.40s/it]"
     ]
    },
    {
     "name": "stdout",
     "output_type": "stream",
     "text": [
      "Early stopping, best iteration is:\n",
      "[60]\tvalid_0's rmse: 1.04725\n",
      "Training until validation scores don't improve for 100 rounds\n"
     ]
    },
    {
     "name": "stderr",
     "output_type": "stream",
     "text": [
      "regularization_factors, val_score: 1.035346:  25%|##5       | 5/20 [00:16<00:53,  3.56s/it]\u001b[32m[I 2021-03-07 19:52:32,704]\u001b[0m Trial 47 finished with value: 1.0410561155220255 and parameters: {'lambda_l1': 0.00942374559793688, 'lambda_l2': 1.2997562408833713e-07}. Best is trial 44 with value: 1.0353464924599074.\u001b[0m\n",
      "regularization_factors, val_score: 1.035346:  25%|##5       | 5/20 [00:16<00:53,  3.56s/it]"
     ]
    },
    {
     "name": "stdout",
     "output_type": "stream",
     "text": [
      "Early stopping, best iteration is:\n",
      "[127]\tvalid_0's rmse: 1.04106\n",
      "Training until validation scores don't improve for 100 rounds\n"
     ]
    },
    {
     "name": "stderr",
     "output_type": "stream",
     "text": [
      "regularization_factors, val_score: 1.035346:  30%|###       | 6/20 [00:24<01:10,  5.03s/it]\u001b[32m[I 2021-03-07 19:52:40,576]\u001b[0m Trial 48 finished with value: 1.0409160938393989 and parameters: {'lambda_l1': 0.8247199103191566, 'lambda_l2': 0.0053932391518764855}. Best is trial 44 with value: 1.0353464924599074.\u001b[0m\n",
      "regularization_factors, val_score: 1.035346:  30%|###       | 6/20 [00:24<01:10,  5.03s/it]"
     ]
    },
    {
     "name": "stdout",
     "output_type": "stream",
     "text": [
      "Early stopping, best iteration is:\n",
      "[111]\tvalid_0's rmse: 1.04092\n",
      "Training until validation scores don't improve for 100 rounds\n"
     ]
    },
    {
     "name": "stderr",
     "output_type": "stream",
     "text": [
      "regularization_factors, val_score: 1.035346:  35%|###5      | 7/20 [00:27<00:55,  4.24s/it]\u001b[32m[I 2021-03-07 19:52:43,181]\u001b[0m Trial 49 finished with value: 1.0353628819849747 and parameters: {'lambda_l1': 4.58591045239622e-06, 'lambda_l2': 4.498119351280288e-05}. Best is trial 44 with value: 1.0353464924599074.\u001b[0m\n",
      "regularization_factors, val_score: 1.035346:  35%|###5      | 7/20 [00:27<00:55,  4.24s/it]"
     ]
    },
    {
     "name": "stdout",
     "output_type": "stream",
     "text": [
      "Early stopping, best iteration is:\n",
      "[101]\tvalid_0's rmse: 1.03536\n",
      "Training until validation scores don't improve for 100 rounds\n"
     ]
    },
    {
     "name": "stderr",
     "output_type": "stream",
     "text": [
      "regularization_factors, val_score: 1.035325:  40%|####      | 8/20 [00:30<00:47,  3.93s/it]\u001b[32m[I 2021-03-07 19:52:46,457]\u001b[0m Trial 50 finished with value: 1.0353245851443096 and parameters: {'lambda_l1': 3.349468313736676e-07, 'lambda_l2': 3.293820132730396e-07}. Best is trial 50 with value: 1.0353245851443096.\u001b[0m\n",
      "regularization_factors, val_score: 1.035325:  40%|####      | 8/20 [00:30<00:47,  3.93s/it]"
     ]
    },
    {
     "name": "stdout",
     "output_type": "stream",
     "text": [
      "Early stopping, best iteration is:\n",
      "[101]\tvalid_0's rmse: 1.03532\n",
      "Training until validation scores don't improve for 100 rounds\n"
     ]
    },
    {
     "name": "stderr",
     "output_type": "stream",
     "text": [
      "regularization_factors, val_score: 1.035325:  45%|####5     | 9/20 [00:35<00:46,  4.26s/it]\u001b[32m[I 2021-03-07 19:52:51,459]\u001b[0m Trial 51 finished with value: 1.0353581839414903 and parameters: {'lambda_l1': 2.7281465709797664e-07, 'lambda_l2': 0.00011501299784116029}. Best is trial 50 with value: 1.0353245851443096.\u001b[0m\n",
      "regularization_factors, val_score: 1.035325:  45%|####5     | 9/20 [00:35<00:46,  4.26s/it]"
     ]
    },
    {
     "name": "stdout",
     "output_type": "stream",
     "text": [
      "Early stopping, best iteration is:\n",
      "[101]\tvalid_0's rmse: 1.03536\n",
      "Training until validation scores don't improve for 100 rounds\n"
     ]
    },
    {
     "name": "stderr",
     "output_type": "stream",
     "text": [
      "regularization_factors, val_score: 1.035325:  50%|#####     | 10/20 [00:40<00:44,  4.41s/it]\u001b[32m[I 2021-03-07 19:52:56,172]\u001b[0m Trial 52 finished with value: 1.0403246632627783 and parameters: {'lambda_l1': 0.6377040943390705, 'lambda_l2': 0.0014816027747254295}. Best is trial 50 with value: 1.0353245851443096.\u001b[0m\n",
      "regularization_factors, val_score: 1.035325:  50%|#####     | 10/20 [00:40<00:44,  4.41s/it]"
     ]
    },
    {
     "name": "stdout",
     "output_type": "stream",
     "text": [
      "Early stopping, best iteration is:\n",
      "[71]\tvalid_0's rmse: 1.04032\n",
      "Training until validation scores don't improve for 100 rounds\n"
     ]
    },
    {
     "name": "stderr",
     "output_type": "stream",
     "text": [
      "regularization_factors, val_score: 1.035325:  55%|#####5    | 11/20 [00:42<00:33,  3.70s/it]\u001b[32m[I 2021-03-07 19:52:58,269]\u001b[0m Trial 53 finished with value: 1.0401191707582944 and parameters: {'lambda_l1': 1.3730760670018386e-08, 'lambda_l2': 7.556399836540808}. Best is trial 50 with value: 1.0353245851443096.\u001b[0m\n",
      "regularization_factors, val_score: 1.035325:  55%|#####5    | 11/20 [00:42<00:33,  3.70s/it]"
     ]
    },
    {
     "name": "stdout",
     "output_type": "stream",
     "text": [
      "Early stopping, best iteration is:\n",
      "[76]\tvalid_0's rmse: 1.04012\n",
      "Training until validation scores don't improve for 100 rounds\n"
     ]
    },
    {
     "name": "stderr",
     "output_type": "stream",
     "text": [
      "regularization_factors, val_score: 1.035275:  60%|######    | 12/20 [00:44<00:26,  3.31s/it]\u001b[32m[I 2021-03-07 19:53:00,683]\u001b[0m Trial 54 finished with value: 1.035274809126957 and parameters: {'lambda_l1': 3.055024366525963e-05, 'lambda_l2': 1.2402166045062701e-08}. Best is trial 54 with value: 1.035274809126957.\u001b[0m\n",
      "regularization_factors, val_score: 1.035275:  60%|######    | 12/20 [00:44<00:26,  3.31s/it]"
     ]
    },
    {
     "name": "stdout",
     "output_type": "stream",
     "text": [
      "Early stopping, best iteration is:\n",
      "[101]\tvalid_0's rmse: 1.03527\n",
      "Training until validation scores don't improve for 100 rounds\n"
     ]
    },
    {
     "name": "stderr",
     "output_type": "stream",
     "text": [
      "regularization_factors, val_score: 1.035275:  65%|######5   | 13/20 [00:47<00:22,  3.22s/it]\u001b[32m[I 2021-03-07 19:53:03,726]\u001b[0m Trial 55 finished with value: 1.0452545381394822 and parameters: {'lambda_l1': 0.00012589593433557996, 'lambda_l2': 2.509932106799469e-06}. Best is trial 54 with value: 1.035274809126957.\u001b[0m\n",
      "regularization_factors, val_score: 1.035275:  65%|######5   | 13/20 [00:47<00:22,  3.22s/it]"
     ]
    },
    {
     "name": "stdout",
     "output_type": "stream",
     "text": [
      "Early stopping, best iteration is:\n",
      "[170]\tvalid_0's rmse: 1.04525\n",
      "Training until validation scores don't improve for 100 rounds\n"
     ]
    },
    {
     "name": "stderr",
     "output_type": "stream",
     "text": [
      "regularization_factors, val_score: 1.035275:  70%|#######   | 14/20 [00:50<00:17,  2.97s/it]\u001b[32m[I 2021-03-07 19:53:06,105]\u001b[0m Trial 56 finished with value: 1.0444691050236132 and parameters: {'lambda_l1': 0.0002667308521450243, 'lambda_l2': 2.254481156249665e-08}. Best is trial 54 with value: 1.035274809126957.\u001b[0m\n",
      "regularization_factors, val_score: 1.035275:  70%|#######   | 14/20 [00:50<00:17,  2.97s/it]"
     ]
    },
    {
     "name": "stdout",
     "output_type": "stream",
     "text": [
      "Early stopping, best iteration is:\n",
      "[100]\tvalid_0's rmse: 1.04447\n",
      "Training until validation scores don't improve for 100 rounds\n"
     ]
    },
    {
     "name": "stderr",
     "output_type": "stream",
     "text": [
      "regularization_factors, val_score: 1.035275:  75%|#######5  | 15/20 [00:52<00:13,  2.73s/it]\u001b[32m[I 2021-03-07 19:53:08,281]\u001b[0m Trial 57 finished with value: 1.0354596582512596 and parameters: {'lambda_l1': 1.0092084376880147e-08, 'lambda_l2': 1.7673563856137835e-06}. Best is trial 54 with value: 1.035274809126957.\u001b[0m\n",
      "regularization_factors, val_score: 1.035275:  75%|#######5  | 15/20 [00:52<00:13,  2.73s/it]"
     ]
    },
    {
     "name": "stdout",
     "output_type": "stream",
     "text": [
      "Early stopping, best iteration is:\n",
      "[101]\tvalid_0's rmse: 1.03546\n",
      "Training until validation scores don't improve for 100 rounds\n"
     ]
    },
    {
     "name": "stderr",
     "output_type": "stream",
     "text": [
      "regularization_factors, val_score: 1.035275:  80%|########  | 16/20 [00:54<00:10,  2.60s/it]\u001b[32m[I 2021-03-07 19:53:10,577]\u001b[0m Trial 58 finished with value: 1.0353744272021501 and parameters: {'lambda_l1': 1.868785726748214e-05, 'lambda_l2': 1.4344685919142514e-06}. Best is trial 54 with value: 1.035274809126957.\u001b[0m\n",
      "regularization_factors, val_score: 1.035275:  80%|########  | 16/20 [00:54<00:10,  2.60s/it]"
     ]
    },
    {
     "name": "stdout",
     "output_type": "stream",
     "text": [
      "Early stopping, best iteration is:\n",
      "[101]\tvalid_0's rmse: 1.03537\n",
      "Training until validation scores don't improve for 100 rounds\n"
     ]
    },
    {
     "name": "stderr",
     "output_type": "stream",
     "text": [
      "regularization_factors, val_score: 1.035275:  85%|########5 | 17/20 [00:59<00:09,  3.13s/it]\u001b[32m[I 2021-03-07 19:53:14,949]\u001b[0m Trial 59 finished with value: 1.04545422757619 and parameters: {'lambda_l1': 0.0054310197285211146, 'lambda_l2': 0.25380026252129423}. Best is trial 54 with value: 1.035274809126957.\u001b[0m\n",
      "regularization_factors, val_score: 1.035275:  85%|########5 | 17/20 [00:59<00:09,  3.13s/it]"
     ]
    },
    {
     "name": "stdout",
     "output_type": "stream",
     "text": [
      "Early stopping, best iteration is:\n",
      "[101]\tvalid_0's rmse: 1.04545\n",
      "Training until validation scores don't improve for 100 rounds\n"
     ]
    },
    {
     "name": "stderr",
     "output_type": "stream",
     "text": [
      "regularization_factors, val_score: 1.035275:  90%|######### | 18/20 [01:01<00:05,  2.88s/it]\u001b[32m[I 2021-03-07 19:53:17,251]\u001b[0m Trial 60 finished with value: 1.0354014425998403 and parameters: {'lambda_l1': 1.0618823659253502e-07, 'lambda_l2': 1.1183515419776337e-08}. Best is trial 54 with value: 1.035274809126957.\u001b[0m\n",
      "regularization_factors, val_score: 1.035275:  90%|######### | 18/20 [01:01<00:05,  2.88s/it]"
     ]
    },
    {
     "name": "stdout",
     "output_type": "stream",
     "text": [
      "Early stopping, best iteration is:\n",
      "[101]\tvalid_0's rmse: 1.0354\n",
      "Training until validation scores don't improve for 100 rounds\n"
     ]
    },
    {
     "name": "stderr",
     "output_type": "stream",
     "text": [
      "regularization_factors, val_score: 1.035275:  95%|#########5| 19/20 [01:06<00:03,  3.44s/it]\u001b[32m[I 2021-03-07 19:53:22,002]\u001b[0m Trial 61 finished with value: 1.0354100338672145 and parameters: {'lambda_l1': 3.7613674696416006e-07, 'lambda_l2': 1.0798004780629254e-05}. Best is trial 54 with value: 1.035274809126957.\u001b[0m\n",
      "regularization_factors, val_score: 1.035275:  95%|#########5| 19/20 [01:06<00:03,  3.44s/it]"
     ]
    },
    {
     "name": "stdout",
     "output_type": "stream",
     "text": [
      "Early stopping, best iteration is:\n",
      "[101]\tvalid_0's rmse: 1.03541\n",
      "Training until validation scores don't improve for 100 rounds\n"
     ]
    },
    {
     "name": "stderr",
     "output_type": "stream",
     "text": [
      "regularization_factors, val_score: 1.035275: 100%|##########| 20/20 [01:10<00:00,  3.75s/it]\u001b[32m[I 2021-03-07 19:53:26,456]\u001b[0m Trial 62 finished with value: 1.0353443955095916 and parameters: {'lambda_l1': 3.341941540947018e-05, 'lambda_l2': 2.0199789083228063e-07}. Best is trial 54 with value: 1.035274809126957.\u001b[0m\n",
      "regularization_factors, val_score: 1.035275: 100%|##########| 20/20 [01:10<00:00,  3.53s/it]\n",
      "min_data_in_leaf, val_score: 1.035275:   0%|          | 0/5 [00:00<?, ?it/s]"
     ]
    },
    {
     "name": "stdout",
     "output_type": "stream",
     "text": [
      "Early stopping, best iteration is:\n",
      "[101]\tvalid_0's rmse: 1.03534\n",
      "Training until validation scores don't improve for 100 rounds\n"
     ]
    },
    {
     "name": "stderr",
     "output_type": "stream",
     "text": [
      "min_data_in_leaf, val_score: 1.035275:  20%|##        | 1/5 [00:02<00:11,  2.97s/it]\u001b[32m[I 2021-03-07 19:53:29,447]\u001b[0m Trial 63 finished with value: 1.0478510077100456 and parameters: {'min_child_samples': 5}. Best is trial 63 with value: 1.0478510077100456.\u001b[0m\n",
      "min_data_in_leaf, val_score: 1.035275:  20%|##        | 1/5 [00:02<00:11,  2.97s/it]"
     ]
    },
    {
     "name": "stdout",
     "output_type": "stream",
     "text": [
      "Early stopping, best iteration is:\n",
      "[105]\tvalid_0's rmse: 1.04785\n",
      "Training until validation scores don't improve for 100 rounds\n"
     ]
    },
    {
     "name": "stderr",
     "output_type": "stream",
     "text": [
      "min_data_in_leaf, val_score: 1.035275:  40%|####      | 2/5 [00:05<00:07,  2.65s/it]\u001b[32m[I 2021-03-07 19:53:31,867]\u001b[0m Trial 64 finished with value: 1.0404877250119042 and parameters: {'min_child_samples': 50}. Best is trial 64 with value: 1.0404877250119042.\u001b[0m\n",
      "min_data_in_leaf, val_score: 1.035275:  40%|####      | 2/5 [00:05<00:07,  2.65s/it]"
     ]
    },
    {
     "name": "stdout",
     "output_type": "stream",
     "text": [
      "Early stopping, best iteration is:\n",
      "[114]\tvalid_0's rmse: 1.04049\n",
      "Training until validation scores don't improve for 100 rounds\n"
     ]
    },
    {
     "name": "stderr",
     "output_type": "stream",
     "text": [
      "min_data_in_leaf, val_score: 1.035275:  60%|######    | 3/5 [00:07<00:04,  2.36s/it]\u001b[32m[I 2021-03-07 19:53:33,894]\u001b[0m Trial 65 finished with value: 1.0394914887039768 and parameters: {'min_child_samples': 25}. Best is trial 65 with value: 1.0394914887039768.\u001b[0m\n",
      "min_data_in_leaf, val_score: 1.035275:  60%|######    | 3/5 [00:07<00:04,  2.36s/it]"
     ]
    },
    {
     "name": "stdout",
     "output_type": "stream",
     "text": [
      "Early stopping, best iteration is:\n",
      "[84]\tvalid_0's rmse: 1.03949\n",
      "Training until validation scores don't improve for 100 rounds\n"
     ]
    },
    {
     "name": "stderr",
     "output_type": "stream",
     "text": [
      "min_data_in_leaf, val_score: 1.035275:  80%|########  | 4/5 [00:09<00:02,  2.30s/it]\u001b[32m[I 2021-03-07 19:53:36,097]\u001b[0m Trial 66 finished with value: 1.040561043421074 and parameters: {'min_child_samples': 100}. Best is trial 65 with value: 1.0394914887039768.\u001b[0m\n",
      "min_data_in_leaf, val_score: 1.035275:  80%|########  | 4/5 [00:09<00:02,  2.30s/it]"
     ]
    },
    {
     "name": "stdout",
     "output_type": "stream",
     "text": [
      "Early stopping, best iteration is:\n",
      "[98]\tvalid_0's rmse: 1.04056\n",
      "Training until validation scores don't improve for 100 rounds\n"
     ]
    },
    {
     "name": "stderr",
     "output_type": "stream",
     "text": [
      "min_data_in_leaf, val_score: 1.035275: 100%|##########| 5/5 [00:12<00:00,  2.39s/it]\u001b[32m[I 2021-03-07 19:53:38,637]\u001b[0m Trial 67 finished with value: 1.0463133544782461 and parameters: {'min_child_samples': 10}. Best is trial 65 with value: 1.0394914887039768.\u001b[0m\n",
      "min_data_in_leaf, val_score: 1.035275: 100%|##########| 5/5 [00:12<00:00,  2.44s/it]\n",
      "\u001b[32m[I 2021-03-07 19:53:38,682]\u001b[0m A new study created in memory with name: no-name-90cd109b-e2de-45a1-a6fc-a4d105bd0725\u001b[0m\n",
      "feature_fraction, val_score: inf:   0%|          | 0/7 [00:00<?, ?it/s]"
     ]
    },
    {
     "name": "stdout",
     "output_type": "stream",
     "text": [
      "Early stopping, best iteration is:\n",
      "[114]\tvalid_0's rmse: 1.04631\n",
      "Training until validation scores don't improve for 100 rounds\n"
     ]
    },
    {
     "name": "stderr",
     "output_type": "stream",
     "text": [
      "feature_fraction, val_score: 1.021420:  14%|#4        | 1/7 [00:01<00:08,  1.36s/it]\u001b[32m[I 2021-03-07 19:53:40,051]\u001b[0m Trial 0 finished with value: 1.021419846832606 and parameters: {'feature_fraction': 0.6}. Best is trial 0 with value: 1.021419846832606.\u001b[0m\n",
      "feature_fraction, val_score: 1.021420:  14%|#4        | 1/7 [00:01<00:08,  1.36s/it]"
     ]
    },
    {
     "name": "stdout",
     "output_type": "stream",
     "text": [
      "Early stopping, best iteration is:\n",
      "[215]\tvalid_0's rmse: 1.02142\n",
      "Training until validation scores don't improve for 100 rounds\n"
     ]
    },
    {
     "name": "stderr",
     "output_type": "stream",
     "text": [
      "feature_fraction, val_score: 1.019459:  29%|##8       | 2/7 [00:03<00:09,  1.91s/it]\u001b[32m[I 2021-03-07 19:53:42,340]\u001b[0m Trial 1 finished with value: 1.0194588452112785 and parameters: {'feature_fraction': 1.0}. Best is trial 1 with value: 1.0194588452112785.\u001b[0m\n",
      "feature_fraction, val_score: 1.019459:  29%|##8       | 2/7 [00:03<00:09,  1.91s/it]"
     ]
    },
    {
     "name": "stdout",
     "output_type": "stream",
     "text": [
      "Early stopping, best iteration is:\n",
      "[274]\tvalid_0's rmse: 1.01946\n",
      "Training until validation scores don't improve for 100 rounds\n"
     ]
    },
    {
     "name": "stderr",
     "output_type": "stream",
     "text": [
      "feature_fraction, val_score: 1.015718:  43%|####2     | 3/7 [00:05<00:08,  2.07s/it]\u001b[32m[I 2021-03-07 19:53:44,605]\u001b[0m Trial 2 finished with value: 1.0157178203772317 and parameters: {'feature_fraction': 0.7}. Best is trial 2 with value: 1.0157178203772317.\u001b[0m\n",
      "feature_fraction, val_score: 1.015718:  43%|####2     | 3/7 [00:05<00:08,  2.07s/it]"
     ]
    },
    {
     "name": "stdout",
     "output_type": "stream",
     "text": [
      "Early stopping, best iteration is:\n",
      "[205]\tvalid_0's rmse: 1.01572\n",
      "Training until validation scores don't improve for 100 rounds\n"
     ]
    },
    {
     "name": "stderr",
     "output_type": "stream",
     "text": [
      "feature_fraction, val_score: 1.015718:  57%|#####7    | 4/7 [00:11<00:10,  3.53s/it]\u001b[32m[I 2021-03-07 19:53:50,388]\u001b[0m Trial 3 finished with value: 1.0199771577762855 and parameters: {'feature_fraction': 0.5}. Best is trial 2 with value: 1.0157178203772317.\u001b[0m\n",
      "feature_fraction, val_score: 1.015718:  57%|#####7    | 4/7 [00:11<00:10,  3.53s/it]"
     ]
    },
    {
     "name": "stdout",
     "output_type": "stream",
     "text": [
      "Early stopping, best iteration is:\n",
      "[305]\tvalid_0's rmse: 1.01998\n",
      "Training until validation scores don't improve for 100 rounds\n"
     ]
    },
    {
     "name": "stderr",
     "output_type": "stream",
     "text": [
      "feature_fraction, val_score: 1.015718:  71%|#######1  | 5/7 [00:18<00:09,  4.69s/it]\u001b[32m[I 2021-03-07 19:53:57,110]\u001b[0m Trial 4 finished with value: 1.018428230601303 and parameters: {'feature_fraction': 0.8}. Best is trial 2 with value: 1.0157178203772317.\u001b[0m\n",
      "feature_fraction, val_score: 1.015718:  71%|#######1  | 5/7 [00:18<00:09,  4.69s/it]"
     ]
    },
    {
     "name": "stdout",
     "output_type": "stream",
     "text": [
      "Early stopping, best iteration is:\n",
      "[201]\tvalid_0's rmse: 1.01843\n",
      "Training until validation scores don't improve for 100 rounds\n"
     ]
    },
    {
     "name": "stderr",
     "output_type": "stream",
     "text": [
      "feature_fraction, val_score: 1.015718:  86%|########5 | 6/7 [00:20<00:03,  3.94s/it]\u001b[32m[I 2021-03-07 19:53:59,606]\u001b[0m Trial 5 finished with value: 1.0213084615282553 and parameters: {'feature_fraction': 0.8999999999999999}. Best is trial 2 with value: 1.0157178203772317.\u001b[0m\n",
      "feature_fraction, val_score: 1.015718:  86%|########5 | 6/7 [00:20<00:03,  3.94s/it]"
     ]
    },
    {
     "name": "stdout",
     "output_type": "stream",
     "text": [
      "Early stopping, best iteration is:\n",
      "[126]\tvalid_0's rmse: 1.02131\n",
      "Training until validation scores don't improve for 100 rounds\n"
     ]
    },
    {
     "name": "stderr",
     "output_type": "stream",
     "text": [
      "feature_fraction, val_score: 1.015718: 100%|##########| 7/7 [00:21<00:00,  3.00s/it]\u001b[32m[I 2021-03-07 19:54:00,661]\u001b[0m Trial 6 finished with value: 1.02206092657823 and parameters: {'feature_fraction': 0.4}. Best is trial 2 with value: 1.0157178203772317.\u001b[0m\n",
      "feature_fraction, val_score: 1.015718: 100%|##########| 7/7 [00:21<00:00,  3.14s/it]\n",
      "num_leaves, val_score: 1.015718:   0%|          | 0/20 [00:00<?, ?it/s]"
     ]
    },
    {
     "name": "stdout",
     "output_type": "stream",
     "text": [
      "Early stopping, best iteration is:\n",
      "[148]\tvalid_0's rmse: 1.02206\n",
      "Training until validation scores don't improve for 100 rounds\n"
     ]
    },
    {
     "name": "stderr",
     "output_type": "stream",
     "text": [
      "num_leaves, val_score: 1.015718:   5%|5         | 1/20 [00:07<02:17,  7.22s/it]\u001b[32m[I 2021-03-07 19:54:07,897]\u001b[0m Trial 7 finished with value: 1.0182044218186357 and parameters: {'num_leaves': 178}. Best is trial 7 with value: 1.0182044218186357.\u001b[0m\n",
      "num_leaves, val_score: 1.015718:   5%|5         | 1/20 [00:07<02:17,  7.22s/it]"
     ]
    },
    {
     "name": "stdout",
     "output_type": "stream",
     "text": [
      "Early stopping, best iteration is:\n",
      "[48]\tvalid_0's rmse: 1.0182\n",
      "Training until validation scores don't improve for 100 rounds\n"
     ]
    },
    {
     "name": "stderr",
     "output_type": "stream",
     "text": [
      "num_leaves, val_score: 1.015718:  10%|#         | 2/20 [00:11<01:36,  5.36s/it]\u001b[32m[I 2021-03-07 19:54:11,951]\u001b[0m Trial 8 finished with value: 1.021873651321795 and parameters: {'num_leaves': 227}. Best is trial 7 with value: 1.0182044218186357.\u001b[0m\n",
      "num_leaves, val_score: 1.015718:  10%|#         | 2/20 [00:11<01:36,  5.36s/it]"
     ]
    },
    {
     "name": "stdout",
     "output_type": "stream",
     "text": [
      "Early stopping, best iteration is:\n",
      "[39]\tvalid_0's rmse: 1.02187\n",
      "Training until validation scores don't improve for 100 rounds\n"
     ]
    },
    {
     "name": "stderr",
     "output_type": "stream",
     "text": [
      "num_leaves, val_score: 1.015718:  15%|#5        | 3/20 [00:15<01:24,  4.99s/it]\u001b[32m[I 2021-03-07 19:54:16,494]\u001b[0m Trial 9 finished with value: 1.017791362789227 and parameters: {'num_leaves': 51}. Best is trial 9 with value: 1.017791362789227.\u001b[0m\n",
      "num_leaves, val_score: 1.015718:  15%|#5        | 3/20 [00:15<01:24,  4.99s/it]"
     ]
    },
    {
     "name": "stdout",
     "output_type": "stream",
     "text": [
      "Early stopping, best iteration is:\n",
      "[155]\tvalid_0's rmse: 1.01779\n",
      "Training until validation scores don't improve for 100 rounds\n"
     ]
    },
    {
     "name": "stderr",
     "output_type": "stream",
     "text": [
      "num_leaves, val_score: 1.015718:  20%|##        | 4/20 [00:20<01:15,  4.73s/it]\u001b[32m[I 2021-03-07 19:54:20,836]\u001b[0m Trial 10 finished with value: 1.0174313907528278 and parameters: {'num_leaves': 203}. Best is trial 10 with value: 1.0174313907528278.\u001b[0m\n",
      "num_leaves, val_score: 1.015718:  20%|##        | 4/20 [00:20<01:15,  4.73s/it]"
     ]
    },
    {
     "name": "stdout",
     "output_type": "stream",
     "text": [
      "Early stopping, best iteration is:\n",
      "[34]\tvalid_0's rmse: 1.01743\n",
      "Training until validation scores don't improve for 100 rounds\n"
     ]
    },
    {
     "name": "stderr",
     "output_type": "stream",
     "text": [
      "num_leaves, val_score: 1.015718:  25%|##5       | 5/20 [00:23<01:00,  4.07s/it]\u001b[32m[I 2021-03-07 19:54:23,721]\u001b[0m Trial 11 finished with value: 1.0208460762906253 and parameters: {'num_leaves': 141}. Best is trial 10 with value: 1.0174313907528278.\u001b[0m\n",
      "num_leaves, val_score: 1.015718:  25%|##5       | 5/20 [00:23<01:00,  4.07s/it]"
     ]
    },
    {
     "name": "stdout",
     "output_type": "stream",
     "text": [
      "Early stopping, best iteration is:\n",
      "[71]\tvalid_0's rmse: 1.02085\n",
      "Training until validation scores don't improve for 100 rounds\n"
     ]
    },
    {
     "name": "stderr",
     "output_type": "stream",
     "text": [
      "num_leaves, val_score: 1.015718:  30%|###       | 6/20 [00:28<01:04,  4.62s/it]\u001b[32m[I 2021-03-07 19:54:29,425]\u001b[0m Trial 12 finished with value: 1.0169734252205531 and parameters: {'num_leaves': 103}. Best is trial 12 with value: 1.0169734252205531.\u001b[0m\n",
      "num_leaves, val_score: 1.015718:  30%|###       | 6/20 [00:28<01:04,  4.62s/it]"
     ]
    },
    {
     "name": "stdout",
     "output_type": "stream",
     "text": [
      "Early stopping, best iteration is:\n",
      "[122]\tvalid_0's rmse: 1.01697\n",
      "Training until validation scores don't improve for 100 rounds\n"
     ]
    },
    {
     "name": "stderr",
     "output_type": "stream",
     "text": [
      "num_leaves, val_score: 1.015718:  35%|###5      | 7/20 [00:31<00:50,  3.92s/it]\u001b[32m[I 2021-03-07 19:54:31,892]\u001b[0m Trial 13 finished with value: 1.0171315381590271 and parameters: {'num_leaves': 64}. Best is trial 12 with value: 1.0169734252205531.\u001b[0m\n",
      "num_leaves, val_score: 1.015718:  35%|###5      | 7/20 [00:31<00:50,  3.92s/it]"
     ]
    },
    {
     "name": "stdout",
     "output_type": "stream",
     "text": [
      "Early stopping, best iteration is:\n",
      "[120]\tvalid_0's rmse: 1.01713\n",
      "Training until validation scores don't improve for 100 rounds\n"
     ]
    },
    {
     "name": "stderr",
     "output_type": "stream",
     "text": [
      "num_leaves, val_score: 1.015718:  40%|####      | 8/20 [00:32<00:38,  3.23s/it]\u001b[32m[I 2021-03-07 19:54:33,648]\u001b[0m Trial 14 finished with value: 1.0240215837928157 and parameters: {'num_leaves': 10}. Best is trial 12 with value: 1.0169734252205531.\u001b[0m\n",
      "num_leaves, val_score: 1.015718:  40%|####      | 8/20 [00:32<00:38,  3.23s/it]"
     ]
    },
    {
     "name": "stdout",
     "output_type": "stream",
     "text": [
      "Early stopping, best iteration is:\n",
      "[459]\tvalid_0's rmse: 1.02402\n",
      "Training until validation scores don't improve for 100 rounds\n"
     ]
    },
    {
     "name": "stderr",
     "output_type": "stream",
     "text": [
      "num_leaves, val_score: 1.015718:  45%|####5     | 9/20 [00:35<00:32,  2.97s/it]\u001b[32m[I 2021-03-07 19:54:36,035]\u001b[0m Trial 15 finished with value: 1.0193179421232157 and parameters: {'num_leaves': 58}. Best is trial 12 with value: 1.0169734252205531.\u001b[0m\n",
      "num_leaves, val_score: 1.015718:  45%|####5     | 9/20 [00:35<00:32,  2.97s/it]"
     ]
    },
    {
     "name": "stdout",
     "output_type": "stream",
     "text": [
      "Early stopping, best iteration is:\n",
      "[92]\tvalid_0's rmse: 1.01932\n",
      "Training until validation scores don't improve for 100 rounds\n"
     ]
    },
    {
     "name": "stderr",
     "output_type": "stream",
     "text": [
      "num_leaves, val_score: 1.015718:  50%|#####     | 10/20 [00:37<00:27,  2.76s/it]\u001b[32m[I 2021-03-07 19:54:38,327]\u001b[0m Trial 16 finished with value: 1.032347140198848 and parameters: {'num_leaves': 28}. Best is trial 12 with value: 1.0169734252205531.\u001b[0m\n",
      "num_leaves, val_score: 1.015718:  50%|#####     | 10/20 [00:37<00:27,  2.76s/it]"
     ]
    },
    {
     "name": "stdout",
     "output_type": "stream",
     "text": [
      "Early stopping, best iteration is:\n",
      "[190]\tvalid_0's rmse: 1.03235\n",
      "Training until validation scores don't improve for 100 rounds\n"
     ]
    },
    {
     "name": "stderr",
     "output_type": "stream",
     "text": [
      "num_leaves, val_score: 1.015718:  55%|#####5    | 11/20 [00:41<00:26,  2.95s/it]\u001b[32m[I 2021-03-07 19:54:41,714]\u001b[0m Trial 17 finished with value: 1.0177316787655624 and parameters: {'num_leaves': 105}. Best is trial 12 with value: 1.0169734252205531.\u001b[0m\n",
      "num_leaves, val_score: 1.015718:  55%|#####5    | 11/20 [00:41<00:26,  2.95s/it]"
     ]
    },
    {
     "name": "stdout",
     "output_type": "stream",
     "text": [
      "Early stopping, best iteration is:\n",
      "[102]\tvalid_0's rmse: 1.01773\n",
      "Training until validation scores don't improve for 100 rounds\n"
     ]
    },
    {
     "name": "stderr",
     "output_type": "stream",
     "text": [
      "num_leaves, val_score: 1.013857:  60%|######    | 12/20 [00:43<00:22,  2.77s/it]\u001b[32m[I 2021-03-07 19:54:44,062]\u001b[0m Trial 18 finished with value: 1.013856619092983 and parameters: {'num_leaves': 97}. Best is trial 18 with value: 1.013856619092983.\u001b[0m\n",
      "num_leaves, val_score: 1.013857:  60%|######    | 12/20 [00:43<00:22,  2.77s/it]"
     ]
    },
    {
     "name": "stdout",
     "output_type": "stream",
     "text": [
      "Early stopping, best iteration is:\n",
      "[61]\tvalid_0's rmse: 1.01386\n",
      "Training until validation scores don't improve for 100 rounds\n"
     ]
    },
    {
     "name": "stderr",
     "output_type": "stream",
     "text": [
      "num_leaves, val_score: 1.013857:  65%|######5   | 13/20 [00:46<00:20,  2.98s/it]\u001b[32m[I 2021-03-07 19:54:47,544]\u001b[0m Trial 19 finished with value: 1.0146570327588336 and parameters: {'num_leaves': 125}. Best is trial 18 with value: 1.013856619092983.\u001b[0m\n",
      "num_leaves, val_score: 1.013857:  65%|######5   | 13/20 [00:46<00:20,  2.98s/it]"
     ]
    },
    {
     "name": "stdout",
     "output_type": "stream",
     "text": [
      "Early stopping, best iteration is:\n",
      "[93]\tvalid_0's rmse: 1.01466\n",
      "Training until validation scores don't improve for 100 rounds\n"
     ]
    },
    {
     "name": "stderr",
     "output_type": "stream",
     "text": [
      "num_leaves, val_score: 1.013857:  70%|#######   | 14/20 [00:54<00:26,  4.43s/it]\u001b[32m[I 2021-03-07 19:54:55,313]\u001b[0m Trial 20 finished with value: 1.0153915047116786 and parameters: {'num_leaves': 152}. Best is trial 18 with value: 1.013856619092983.\u001b[0m\n",
      "num_leaves, val_score: 1.013857:  70%|#######   | 14/20 [00:54<00:26,  4.43s/it]"
     ]
    },
    {
     "name": "stdout",
     "output_type": "stream",
     "text": [
      "Early stopping, best iteration is:\n",
      "[56]\tvalid_0's rmse: 1.01539\n",
      "Training until validation scores don't improve for 100 rounds\n"
     ]
    },
    {
     "name": "stderr",
     "output_type": "stream",
     "text": [
      "num_leaves, val_score: 1.012759:  75%|#######5  | 15/20 [01:00<00:24,  4.97s/it]\u001b[32m[I 2021-03-07 19:55:01,540]\u001b[0m Trial 21 finished with value: 1.0127593370210568 and parameters: {'num_leaves': 92}. Best is trial 21 with value: 1.0127593370210568.\u001b[0m\n",
      "num_leaves, val_score: 1.012759:  75%|#######5  | 15/20 [01:00<00:24,  4.97s/it]"
     ]
    },
    {
     "name": "stdout",
     "output_type": "stream",
     "text": [
      "Early stopping, best iteration is:\n",
      "[77]\tvalid_0's rmse: 1.01276\n",
      "Training until validation scores don't improve for 100 rounds\n"
     ]
    },
    {
     "name": "stderr",
     "output_type": "stream",
     "text": [
      "num_leaves, val_score: 1.009476:  80%|########  | 16/20 [01:04<00:17,  4.44s/it]\u001b[32m[I 2021-03-07 19:55:04,755]\u001b[0m Trial 22 finished with value: 1.0094764668379044 and parameters: {'num_leaves': 86}. Best is trial 22 with value: 1.0094764668379044.\u001b[0m\n",
      "num_leaves, val_score: 1.009476:  80%|########  | 16/20 [01:04<00:17,  4.44s/it]"
     ]
    },
    {
     "name": "stdout",
     "output_type": "stream",
     "text": [
      "Early stopping, best iteration is:\n",
      "[122]\tvalid_0's rmse: 1.00948\n",
      "Training until validation scores don't improve for 100 rounds\n"
     ]
    },
    {
     "name": "stderr",
     "output_type": "stream",
     "text": [
      "num_leaves, val_score: 1.009476:  85%|########5 | 17/20 [01:06<00:11,  3.78s/it]\u001b[32m[I 2021-03-07 19:55:07,005]\u001b[0m Trial 23 finished with value: 1.010719753707514 and parameters: {'num_leaves': 81}. Best is trial 22 with value: 1.0094764668379044.\u001b[0m\n",
      "num_leaves, val_score: 1.009476:  85%|########5 | 17/20 [01:06<00:11,  3.78s/it]"
     ]
    },
    {
     "name": "stdout",
     "output_type": "stream",
     "text": [
      "Early stopping, best iteration is:\n",
      "[132]\tvalid_0's rmse: 1.01072\n",
      "Training until validation scores don't improve for 100 rounds\n"
     ]
    },
    {
     "name": "stderr",
     "output_type": "stream",
     "text": [
      "num_leaves, val_score: 1.009476:  90%|######### | 18/20 [01:07<00:06,  3.12s/it]\u001b[32m[I 2021-03-07 19:55:08,569]\u001b[0m Trial 24 finished with value: 1.0310616766617464 and parameters: {'num_leaves': 6}. Best is trial 22 with value: 1.0094764668379044.\u001b[0m\n",
      "num_leaves, val_score: 1.009476:  90%|######### | 18/20 [01:07<00:06,  3.12s/it]"
     ]
    },
    {
     "name": "stdout",
     "output_type": "stream",
     "text": [
      "Early stopping, best iteration is:\n",
      "[801]\tvalid_0's rmse: 1.03106\n",
      "Training until validation scores don't improve for 100 rounds\n"
     ]
    },
    {
     "name": "stderr",
     "output_type": "stream",
     "text": [
      "num_leaves, val_score: 1.008033:  95%|#########5| 19/20 [01:11<00:03,  3.39s/it]\u001b[32m[I 2021-03-07 19:55:12,582]\u001b[0m Trial 25 finished with value: 1.0080334273268925 and parameters: {'num_leaves': 73}. Best is trial 25 with value: 1.0080334273268925.\u001b[0m\n",
      "num_leaves, val_score: 1.008033:  95%|#########5| 19/20 [01:11<00:03,  3.39s/it]"
     ]
    },
    {
     "name": "stdout",
     "output_type": "stream",
     "text": [
      "Early stopping, best iteration is:\n",
      "[125]\tvalid_0's rmse: 1.00803\n",
      "Training until validation scores don't improve for 100 rounds\n"
     ]
    },
    {
     "name": "stderr",
     "output_type": "stream",
     "text": [
      "num_leaves, val_score: 1.008033: 100%|##########| 20/20 [01:20<00:00,  5.04s/it]\u001b[32m[I 2021-03-07 19:55:21,490]\u001b[0m Trial 26 finished with value: 1.0213562891812566 and parameters: {'num_leaves': 44}. Best is trial 25 with value: 1.0080334273268925.\u001b[0m\n",
      "num_leaves, val_score: 1.008033: 100%|##########| 20/20 [01:20<00:00,  4.04s/it]\n",
      "bagging, val_score: 1.008033:   0%|          | 0/10 [00:00<?, ?it/s]"
     ]
    },
    {
     "name": "stdout",
     "output_type": "stream",
     "text": [
      "Early stopping, best iteration is:\n",
      "[239]\tvalid_0's rmse: 1.02136\n",
      "Training until validation scores don't improve for 100 rounds\n"
     ]
    },
    {
     "name": "stderr",
     "output_type": "stream",
     "text": [
      "bagging, val_score: 1.008033:  10%|#         | 1/10 [00:03<00:28,  3.13s/it]\u001b[32m[I 2021-03-07 19:55:24,631]\u001b[0m Trial 27 finished with value: 1.02489425936796 and parameters: {'bagging_fraction': 0.8465491451944507, 'bagging_freq': 7}. Best is trial 27 with value: 1.02489425936796.\u001b[0m\n",
      "bagging, val_score: 1.008033:  10%|#         | 1/10 [00:03<00:28,  3.13s/it]"
     ]
    },
    {
     "name": "stdout",
     "output_type": "stream",
     "text": [
      "Early stopping, best iteration is:\n",
      "[84]\tvalid_0's rmse: 1.02489\n",
      "Training until validation scores don't improve for 100 rounds\n"
     ]
    },
    {
     "name": "stderr",
     "output_type": "stream",
     "text": [
      "bagging, val_score: 1.008033:  20%|##        | 2/10 [00:04<00:18,  2.34s/it]\u001b[32m[I 2021-03-07 19:55:26,418]\u001b[0m Trial 28 finished with value: 1.0306237655961625 and parameters: {'bagging_fraction': 0.5766872077213094, 'bagging_freq': 7}. Best is trial 27 with value: 1.02489425936796.\u001b[0m\n",
      "bagging, val_score: 1.008033:  20%|##        | 2/10 [00:04<00:18,  2.34s/it]"
     ]
    },
    {
     "name": "stdout",
     "output_type": "stream",
     "text": [
      "Early stopping, best iteration is:\n",
      "[81]\tvalid_0's rmse: 1.03062\n",
      "Training until validation scores don't improve for 100 rounds\n"
     ]
    },
    {
     "name": "stderr",
     "output_type": "stream",
     "text": [
      "bagging, val_score: 1.008033:  30%|###       | 3/10 [00:07<00:16,  2.37s/it]\u001b[32m[I 2021-03-07 19:55:28,832]\u001b[0m Trial 29 finished with value: 1.0090730876655782 and parameters: {'bagging_fraction': 0.8886567873351633, 'bagging_freq': 4}. Best is trial 29 with value: 1.0090730876655782.\u001b[0m\n",
      "bagging, val_score: 1.008033:  30%|###       | 3/10 [00:07<00:16,  2.37s/it]"
     ]
    },
    {
     "name": "stdout",
     "output_type": "stream",
     "text": [
      "Early stopping, best iteration is:\n",
      "[111]\tvalid_0's rmse: 1.00907\n",
      "Training until validation scores don't improve for 100 rounds\n"
     ]
    },
    {
     "name": "stderr",
     "output_type": "stream",
     "text": [
      "bagging, val_score: 1.008033:  40%|####      | 4/10 [00:09<00:14,  2.45s/it]\u001b[32m[I 2021-03-07 19:55:31,401]\u001b[0m Trial 30 finished with value: 1.016158929118248 and parameters: {'bagging_fraction': 0.8986287862324567, 'bagging_freq': 3}. Best is trial 29 with value: 1.0090730876655782.\u001b[0m\n",
      "bagging, val_score: 1.008033:  40%|####      | 4/10 [00:09<00:14,  2.45s/it]"
     ]
    },
    {
     "name": "stdout",
     "output_type": "stream",
     "text": [
      "Early stopping, best iteration is:\n",
      "[89]\tvalid_0's rmse: 1.01616\n",
      "Training until validation scores don't improve for 100 rounds\n"
     ]
    },
    {
     "name": "stderr",
     "output_type": "stream",
     "text": [
      "bagging, val_score: 1.008033:  50%|#####     | 5/10 [00:12<00:11,  2.39s/it]\u001b[32m[I 2021-03-07 19:55:33,670]\u001b[0m Trial 31 finished with value: 1.024007793670852 and parameters: {'bagging_fraction': 0.7521599963115679, 'bagging_freq': 4}. Best is trial 29 with value: 1.0090730876655782.\u001b[0m\n",
      "bagging, val_score: 1.008033:  50%|#####     | 5/10 [00:12<00:11,  2.39s/it]"
     ]
    },
    {
     "name": "stdout",
     "output_type": "stream",
     "text": [
      "Early stopping, best iteration is:\n",
      "[99]\tvalid_0's rmse: 1.02401\n",
      "Training until validation scores don't improve for 100 rounds\n"
     ]
    },
    {
     "name": "stderr",
     "output_type": "stream",
     "text": [
      "bagging, val_score: 1.008033:  60%|######    | 6/10 [00:14<00:08,  2.20s/it]\u001b[32m[I 2021-03-07 19:55:35,513]\u001b[0m Trial 32 finished with value: 1.035176134271737 and parameters: {'bagging_fraction': 0.682277098709709, 'bagging_freq': 7}. Best is trial 29 with value: 1.0090730876655782.\u001b[0m\n",
      "bagging, val_score: 1.008033:  60%|######    | 6/10 [00:14<00:08,  2.20s/it]"
     ]
    },
    {
     "name": "stdout",
     "output_type": "stream",
     "text": [
      "Early stopping, best iteration is:\n",
      "[81]\tvalid_0's rmse: 1.03518\n",
      "Training until validation scores don't improve for 100 rounds\n"
     ]
    },
    {
     "name": "stderr",
     "output_type": "stream",
     "text": [
      "bagging, val_score: 1.008033:  70%|#######   | 7/10 [00:16<00:06,  2.22s/it]\u001b[32m[I 2021-03-07 19:55:37,779]\u001b[0m Trial 33 finished with value: 1.0209053054175488 and parameters: {'bagging_fraction': 0.9630277321379691, 'bagging_freq': 5}. Best is trial 29 with value: 1.0090730876655782.\u001b[0m\n",
      "bagging, val_score: 1.008033:  70%|#######   | 7/10 [00:16<00:06,  2.22s/it]"
     ]
    },
    {
     "name": "stdout",
     "output_type": "stream",
     "text": [
      "Early stopping, best iteration is:\n",
      "[72]\tvalid_0's rmse: 1.02091\n",
      "Training until validation scores don't improve for 100 rounds\n"
     ]
    },
    {
     "name": "stderr",
     "output_type": "stream",
     "text": [
      "bagging, val_score: 1.008033:  80%|########  | 8/10 [00:18<00:04,  2.31s/it]\u001b[32m[I 2021-03-07 19:55:40,270]\u001b[0m Trial 34 finished with value: 1.0296596856653255 and parameters: {'bagging_fraction': 0.5307811062938619, 'bagging_freq': 3}. Best is trial 29 with value: 1.0090730876655782.\u001b[0m\n",
      "bagging, val_score: 1.008033:  80%|########  | 8/10 [00:18<00:04,  2.31s/it]"
     ]
    },
    {
     "name": "stdout",
     "output_type": "stream",
     "text": [
      "Early stopping, best iteration is:\n",
      "[107]\tvalid_0's rmse: 1.02966\n",
      "Training until validation scores don't improve for 100 rounds\n"
     ]
    },
    {
     "name": "stderr",
     "output_type": "stream",
     "text": [
      "bagging, val_score: 1.008033:  90%|######### | 9/10 [00:20<00:02,  2.13s/it]\u001b[32m[I 2021-03-07 19:55:42,008]\u001b[0m Trial 35 finished with value: 1.0355380131479728 and parameters: {'bagging_fraction': 0.6641636707314873, 'bagging_freq': 7}. Best is trial 29 with value: 1.0090730876655782.\u001b[0m\n",
      "bagging, val_score: 1.008033:  90%|######### | 9/10 [00:20<00:02,  2.13s/it]"
     ]
    },
    {
     "name": "stdout",
     "output_type": "stream",
     "text": [
      "Early stopping, best iteration is:\n",
      "[75]\tvalid_0's rmse: 1.03554\n",
      "Training until validation scores don't improve for 100 rounds\n"
     ]
    },
    {
     "name": "stderr",
     "output_type": "stream",
     "text": [
      "bagging, val_score: 1.008033: 100%|##########| 10/10 [00:22<00:00,  2.14s/it]\u001b[32m[I 2021-03-07 19:55:44,173]\u001b[0m Trial 36 finished with value: 1.0303667091210678 and parameters: {'bagging_fraction': 0.5926436147942694, 'bagging_freq': 7}. Best is trial 29 with value: 1.0090730876655782.\u001b[0m\n",
      "bagging, val_score: 1.008033: 100%|##########| 10/10 [00:22<00:00,  2.27s/it]\n",
      "feature_fraction_stage2, val_score: 1.008033:   0%|          | 0/6 [00:00<?, ?it/s]"
     ]
    },
    {
     "name": "stdout",
     "output_type": "stream",
     "text": [
      "Early stopping, best iteration is:\n",
      "[88]\tvalid_0's rmse: 1.03037\n",
      "Training until validation scores don't improve for 100 rounds\n"
     ]
    },
    {
     "name": "stderr",
     "output_type": "stream",
     "text": [
      "feature_fraction_stage2, val_score: 1.008033:  17%|#6        | 1/6 [00:04<00:23,  4.60s/it]\u001b[32m[I 2021-03-07 19:55:48,790]\u001b[0m Trial 37 finished with value: 1.0104827984763718 and parameters: {'feature_fraction': 0.62}. Best is trial 37 with value: 1.0104827984763718.\u001b[0m\n",
      "feature_fraction_stage2, val_score: 1.008033:  17%|#6        | 1/6 [00:04<00:23,  4.60s/it]"
     ]
    },
    {
     "name": "stdout",
     "output_type": "stream",
     "text": [
      "Early stopping, best iteration is:\n",
      "[155]\tvalid_0's rmse: 1.01048\n",
      "Training until validation scores don't improve for 100 rounds\n"
     ]
    },
    {
     "name": "stderr",
     "output_type": "stream",
     "text": [
      "feature_fraction_stage2, val_score: 1.008033:  33%|###3      | 2/6 [00:09<00:18,  4.56s/it]\u001b[32m[I 2021-03-07 19:55:53,327]\u001b[0m Trial 38 finished with value: 1.0134468709567952 and parameters: {'feature_fraction': 0.7799999999999999}. Best is trial 37 with value: 1.0104827984763718.\u001b[0m\n",
      "feature_fraction_stage2, val_score: 1.008033:  33%|###3      | 2/6 [00:09<00:18,  4.56s/it]"
     ]
    },
    {
     "name": "stdout",
     "output_type": "stream",
     "text": [
      "Early stopping, best iteration is:\n",
      "[101]\tvalid_0's rmse: 1.01345\n",
      "Training until validation scores don't improve for 100 rounds\n"
     ]
    },
    {
     "name": "stderr",
     "output_type": "stream",
     "text": [
      "feature_fraction_stage2, val_score: 1.008033:  50%|#####     | 3/6 [00:10<00:09,  3.31s/it]\u001b[32m[I 2021-03-07 19:55:55,148]\u001b[0m Trial 39 finished with value: 1.0108356957479596 and parameters: {'feature_fraction': 0.748}. Best is trial 37 with value: 1.0104827984763718.\u001b[0m\n",
      "feature_fraction_stage2, val_score: 1.008033:  50%|#####     | 3/6 [00:10<00:09,  3.31s/it]"
     ]
    },
    {
     "name": "stdout",
     "output_type": "stream",
     "text": [
      "Early stopping, best iteration is:\n",
      "[85]\tvalid_0's rmse: 1.01084\n",
      "Training until validation scores don't improve for 100 rounds\n"
     ]
    },
    {
     "name": "stderr",
     "output_type": "stream",
     "text": [
      "feature_fraction_stage2, val_score: 1.008033:  67%|######6   | 4/6 [00:13<00:06,  3.08s/it]\u001b[32m[I 2021-03-07 19:55:57,880]\u001b[0m Trial 40 finished with value: 1.0182047557955787 and parameters: {'feature_fraction': 0.716}. Best is trial 37 with value: 1.0104827984763718.\u001b[0m\n",
      "feature_fraction_stage2, val_score: 1.008033:  67%|######6   | 4/6 [00:13<00:06,  3.08s/it]"
     ]
    },
    {
     "name": "stdout",
     "output_type": "stream",
     "text": [
      "Early stopping, best iteration is:\n",
      "[119]\tvalid_0's rmse: 1.0182\n",
      "Training until validation scores don't improve for 100 rounds\n"
     ]
    },
    {
     "name": "stderr",
     "output_type": "stream",
     "text": [
      "feature_fraction_stage2, val_score: 1.008033:  83%|########3 | 5/6 [00:17<00:03,  3.26s/it]\u001b[32m[I 2021-03-07 19:56:01,470]\u001b[0m Trial 41 finished with value: 1.0176538836499358 and parameters: {'feature_fraction': 0.6839999999999999}. Best is trial 37 with value: 1.0104827984763718.\u001b[0m\n",
      "feature_fraction_stage2, val_score: 1.008033:  83%|########3 | 5/6 [00:17<00:03,  3.26s/it]"
     ]
    },
    {
     "name": "stdout",
     "output_type": "stream",
     "text": [
      "Early stopping, best iteration is:\n",
      "[73]\tvalid_0's rmse: 1.01765\n",
      "Training until validation scores don't improve for 100 rounds\n"
     ]
    },
    {
     "name": "stderr",
     "output_type": "stream",
     "text": [
      "feature_fraction_stage2, val_score: 1.008033: 100%|##########| 6/6 [00:21<00:00,  3.52s/it]\u001b[32m[I 2021-03-07 19:56:05,489]\u001b[0m Trial 42 finished with value: 1.0154827941596989 and parameters: {'feature_fraction': 0.652}. Best is trial 37 with value: 1.0104827984763718.\u001b[0m\n",
      "feature_fraction_stage2, val_score: 1.008033: 100%|##########| 6/6 [00:21<00:00,  3.55s/it]\n",
      "regularization_factors, val_score: 1.008033:   0%|          | 0/20 [00:00<?, ?it/s]"
     ]
    },
    {
     "name": "stdout",
     "output_type": "stream",
     "text": [
      "Early stopping, best iteration is:\n",
      "[98]\tvalid_0's rmse: 1.01548\n",
      "Training until validation scores don't improve for 100 rounds\n"
     ]
    },
    {
     "name": "stderr",
     "output_type": "stream",
     "text": [
      "regularization_factors, val_score: 1.008033:   5%|5         | 1/20 [00:02<00:39,  2.07s/it]\u001b[32m[I 2021-03-07 19:56:07,574]\u001b[0m Trial 43 finished with value: 1.0131342771425351 and parameters: {'lambda_l1': 0.7092416828764405, 'lambda_l2': 1.0785024473817154e-06}. Best is trial 43 with value: 1.0131342771425351.\u001b[0m\n",
      "regularization_factors, val_score: 1.008033:   5%|5         | 1/20 [00:02<00:39,  2.07s/it]"
     ]
    },
    {
     "name": "stdout",
     "output_type": "stream",
     "text": [
      "Early stopping, best iteration is:\n",
      "[76]\tvalid_0's rmse: 1.01313\n",
      "Training until validation scores don't improve for 100 rounds\n"
     ]
    },
    {
     "name": "stderr",
     "output_type": "stream",
     "text": [
      "regularization_factors, val_score: 1.008033:  10%|#         | 2/20 [00:04<00:43,  2.42s/it]\u001b[32m[I 2021-03-07 19:56:10,244]\u001b[0m Trial 44 finished with value: 1.0153789399346114 and parameters: {'lambda_l1': 0.07024558570643394, 'lambda_l2': 0.000183652716592201}. Best is trial 43 with value: 1.0131342771425351.\u001b[0m\n",
      "regularization_factors, val_score: 1.008033:  10%|#         | 2/20 [00:04<00:43,  2.42s/it]"
     ]
    },
    {
     "name": "stdout",
     "output_type": "stream",
     "text": [
      "Early stopping, best iteration is:\n",
      "[85]\tvalid_0's rmse: 1.01538\n",
      "Training until validation scores don't improve for 100 rounds\n"
     ]
    },
    {
     "name": "stderr",
     "output_type": "stream",
     "text": [
      "regularization_factors, val_score: 1.008033:  15%|#5        | 3/20 [00:07<00:40,  2.39s/it]\u001b[32m[I 2021-03-07 19:56:12,589]\u001b[0m Trial 45 finished with value: 1.010981889265049 and parameters: {'lambda_l1': 0.005838292608369374, 'lambda_l2': 2.03396093085364e-06}. Best is trial 45 with value: 1.010981889265049.\u001b[0m\n",
      "regularization_factors, val_score: 1.008033:  15%|#5        | 3/20 [00:07<00:40,  2.39s/it]"
     ]
    },
    {
     "name": "stdout",
     "output_type": "stream",
     "text": [
      "Early stopping, best iteration is:\n",
      "[103]\tvalid_0's rmse: 1.01098\n",
      "Training until validation scores don't improve for 100 rounds\n"
     ]
    },
    {
     "name": "stderr",
     "output_type": "stream",
     "text": [
      "regularization_factors, val_score: 1.008033:  20%|##        | 4/20 [00:09<00:36,  2.29s/it]\u001b[32m[I 2021-03-07 19:56:14,731]\u001b[0m Trial 46 finished with value: 1.0184348734552544 and parameters: {'lambda_l1': 0.01406175035501099, 'lambda_l2': 0.0008756550329970952}. Best is trial 45 with value: 1.010981889265049.\u001b[0m\n",
      "regularization_factors, val_score: 1.008033:  20%|##        | 4/20 [00:09<00:36,  2.29s/it]"
     ]
    },
    {
     "name": "stdout",
     "output_type": "stream",
     "text": [
      "Early stopping, best iteration is:\n",
      "[85]\tvalid_0's rmse: 1.01843\n",
      "Training until validation scores don't improve for 100 rounds\n"
     ]
    },
    {
     "name": "stderr",
     "output_type": "stream",
     "text": [
      "regularization_factors, val_score: 1.008033:  25%|##5       | 5/20 [00:11<00:33,  2.22s/it]\u001b[32m[I 2021-03-07 19:56:16,826]\u001b[0m Trial 47 finished with value: 1.0137143339933437 and parameters: {'lambda_l1': 0.0026117945041122894, 'lambda_l2': 0.00037643754869898184}. Best is trial 45 with value: 1.010981889265049.\u001b[0m\n",
      "regularization_factors, val_score: 1.008033:  25%|##5       | 5/20 [00:11<00:33,  2.22s/it]"
     ]
    },
    {
     "name": "stdout",
     "output_type": "stream",
     "text": [
      "Early stopping, best iteration is:\n",
      "[85]\tvalid_0's rmse: 1.01371\n",
      "Training until validation scores don't improve for 100 rounds\n"
     ]
    },
    {
     "name": "stderr",
     "output_type": "stream",
     "text": [
      "regularization_factors, val_score: 1.008033:  30%|###       | 6/20 [00:13<00:30,  2.20s/it]\u001b[32m[I 2021-03-07 19:56:18,983]\u001b[0m Trial 48 finished with value: 1.0087077279884575 and parameters: {'lambda_l1': 0.0011902703229199328, 'lambda_l2': 0.6625122554759084}. Best is trial 48 with value: 1.0087077279884575.\u001b[0m\n",
      "regularization_factors, val_score: 1.008033:  30%|###       | 6/20 [00:13<00:30,  2.20s/it]"
     ]
    },
    {
     "name": "stdout",
     "output_type": "stream",
     "text": [
      "Early stopping, best iteration is:\n",
      "[99]\tvalid_0's rmse: 1.00871\n",
      "Training until validation scores don't improve for 100 rounds\n"
     ]
    },
    {
     "name": "stderr",
     "output_type": "stream",
     "text": [
      "regularization_factors, val_score: 1.008033:  35%|###5      | 7/20 [00:16<00:30,  2.38s/it]\u001b[32m[I 2021-03-07 19:56:21,738]\u001b[0m Trial 49 finished with value: 1.0114193586780493 and parameters: {'lambda_l1': 0.00037472954475285266, 'lambda_l2': 0.04918867295075594}. Best is trial 48 with value: 1.0087077279884575.\u001b[0m\n",
      "regularization_factors, val_score: 1.008033:  35%|###5      | 7/20 [00:16<00:30,  2.38s/it]"
     ]
    },
    {
     "name": "stdout",
     "output_type": "stream",
     "text": [
      "Early stopping, best iteration is:\n",
      "[151]\tvalid_0's rmse: 1.01142\n",
      "Training until validation scores don't improve for 100 rounds\n"
     ]
    },
    {
     "name": "stderr",
     "output_type": "stream",
     "text": [
      "regularization_factors, val_score: 1.008033:  40%|####      | 8/20 [00:18<00:27,  2.30s/it]\u001b[32m[I 2021-03-07 19:56:23,858]\u001b[0m Trial 50 finished with value: 1.0152606396505188 and parameters: {'lambda_l1': 0.0015849663142333712, 'lambda_l2': 0.5462518235787337}. Best is trial 48 with value: 1.0087077279884575.\u001b[0m\n",
      "regularization_factors, val_score: 1.008033:  40%|####      | 8/20 [00:18<00:27,  2.30s/it]"
     ]
    },
    {
     "name": "stdout",
     "output_type": "stream",
     "text": [
      "Early stopping, best iteration is:\n",
      "[90]\tvalid_0's rmse: 1.01526\n",
      "Training until validation scores don't improve for 100 rounds\n"
     ]
    },
    {
     "name": "stderr",
     "output_type": "stream",
     "text": [
      "regularization_factors, val_score: 1.008033:  45%|####5     | 9/20 [00:20<00:25,  2.31s/it]\u001b[32m[I 2021-03-07 19:56:26,202]\u001b[0m Trial 51 finished with value: 1.0114885561822933 and parameters: {'lambda_l1': 1.0827403357311511e-06, 'lambda_l2': 0.04048313985292812}. Best is trial 48 with value: 1.0087077279884575.\u001b[0m\n",
      "regularization_factors, val_score: 1.008033:  45%|####5     | 9/20 [00:20<00:25,  2.31s/it]"
     ]
    },
    {
     "name": "stdout",
     "output_type": "stream",
     "text": [
      "Early stopping, best iteration is:\n",
      "[110]\tvalid_0's rmse: 1.01149\n",
      "Training until validation scores don't improve for 100 rounds\n"
     ]
    },
    {
     "name": "stderr",
     "output_type": "stream",
     "text": [
      "regularization_factors, val_score: 1.006804:  50%|#####     | 10/20 [00:22<00:22,  2.29s/it]\u001b[32m[I 2021-03-07 19:56:28,443]\u001b[0m Trial 52 finished with value: 1.0068044893547266 and parameters: {'lambda_l1': 1.2919048713607116e-07, 'lambda_l2': 0.39469524025144875}. Best is trial 52 with value: 1.0068044893547266.\u001b[0m\n",
      "regularization_factors, val_score: 1.006804:  50%|#####     | 10/20 [00:22<00:22,  2.29s/it]"
     ]
    },
    {
     "name": "stdout",
     "output_type": "stream",
     "text": [
      "Early stopping, best iteration is:\n",
      "[108]\tvalid_0's rmse: 1.0068\n",
      "Training until validation scores don't improve for 100 rounds\n"
     ]
    },
    {
     "name": "stderr",
     "output_type": "stream",
     "text": [
      "regularization_factors, val_score: 1.006804:  55%|#####5    | 11/20 [00:24<00:19,  2.19s/it]\u001b[32m[I 2021-03-07 19:56:30,393]\u001b[0m Trial 53 finished with value: 1.0197393087815547 and parameters: {'lambda_l1': 1.3299683951288452e-08, 'lambda_l2': 4.757000213986297}. Best is trial 52 with value: 1.0068044893547266.\u001b[0m\n",
      "regularization_factors, val_score: 1.006804:  55%|#####5    | 11/20 [00:24<00:19,  2.19s/it]"
     ]
    },
    {
     "name": "stdout",
     "output_type": "stream",
     "text": [
      "Early stopping, best iteration is:\n",
      "[70]\tvalid_0's rmse: 1.01974\n",
      "Training until validation scores don't improve for 100 rounds\n"
     ]
    },
    {
     "name": "stderr",
     "output_type": "stream",
     "text": [
      "regularization_factors, val_score: 1.006804:  60%|######    | 12/20 [00:27<00:18,  2.26s/it]\u001b[32m[I 2021-03-07 19:56:32,837]\u001b[0m Trial 54 finished with value: 1.0139296751203057 and parameters: {'lambda_l1': 8.009198175434603e-06, 'lambda_l2': 6.187517764277079}. Best is trial 52 with value: 1.0068044893547266.\u001b[0m\n",
      "regularization_factors, val_score: 1.006804:  60%|######    | 12/20 [00:27<00:18,  2.26s/it]"
     ]
    },
    {
     "name": "stdout",
     "output_type": "stream",
     "text": [
      "Early stopping, best iteration is:\n",
      "[117]\tvalid_0's rmse: 1.01393\n",
      "Training until validation scores don't improve for 100 rounds\n"
     ]
    },
    {
     "name": "stderr",
     "output_type": "stream",
     "text": [
      "regularization_factors, val_score: 1.006804:  65%|######5   | 13/20 [00:29<00:16,  2.37s/it]\u001b[32m[I 2021-03-07 19:56:35,463]\u001b[0m Trial 55 finished with value: 1.0177464421513587 and parameters: {'lambda_l1': 9.502651092004994e-06, 'lambda_l2': 0.07063250630734612}. Best is trial 52 with value: 1.0068044893547266.\u001b[0m\n",
      "regularization_factors, val_score: 1.006804:  65%|######5   | 13/20 [00:29<00:16,  2.37s/it]"
     ]
    },
    {
     "name": "stdout",
     "output_type": "stream",
     "text": [
      "Early stopping, best iteration is:\n",
      "[135]\tvalid_0's rmse: 1.01775\n",
      "Training until validation scores don't improve for 100 rounds\n"
     ]
    },
    {
     "name": "stderr",
     "output_type": "stream",
     "text": [
      "regularization_factors, val_score: 1.006804:  70%|#######   | 14/20 [00:32<00:13,  2.28s/it]\u001b[32m[I 2021-03-07 19:56:37,542]\u001b[0m Trial 56 finished with value: 1.0181199400954262 and parameters: {'lambda_l1': 3.144165767057561e-08, 'lambda_l2': 6.974941107286909}. Best is trial 52 with value: 1.0068044893547266.\u001b[0m\n",
      "regularization_factors, val_score: 1.006804:  70%|#######   | 14/20 [00:32<00:13,  2.28s/it]"
     ]
    },
    {
     "name": "stdout",
     "output_type": "stream",
     "text": [
      "Early stopping, best iteration is:\n",
      "[78]\tvalid_0's rmse: 1.01812\n",
      "Training until validation scores don't improve for 100 rounds\n"
     ]
    },
    {
     "name": "stderr",
     "output_type": "stream",
     "text": [
      "regularization_factors, val_score: 1.006804:  75%|#######5  | 15/20 [00:34<00:11,  2.29s/it]\u001b[32m[I 2021-03-07 19:56:39,844]\u001b[0m Trial 57 finished with value: 1.014084984162888 and parameters: {'lambda_l1': 6.642192905200652e-05, 'lambda_l2': 2.2192540536000505e-08}. Best is trial 52 with value: 1.0068044893547266.\u001b[0m\n",
      "regularization_factors, val_score: 1.006804:  75%|#######5  | 15/20 [00:34<00:11,  2.29s/it]"
     ]
    },
    {
     "name": "stdout",
     "output_type": "stream",
     "text": [
      "Early stopping, best iteration is:\n",
      "[104]\tvalid_0's rmse: 1.01408\n",
      "Training until validation scores don't improve for 100 rounds\n"
     ]
    },
    {
     "name": "stderr",
     "output_type": "stream",
     "text": [
      "regularization_factors, val_score: 1.006804:  80%|########  | 16/20 [00:36<00:09,  2.27s/it]\u001b[32m[I 2021-03-07 19:56:42,066]\u001b[0m Trial 58 finished with value: 1.012124216439435 and parameters: {'lambda_l1': 1.528019202820848e-07, 'lambda_l2': 0.004367928177793309}. Best is trial 52 with value: 1.0068044893547266.\u001b[0m\n",
      "regularization_factors, val_score: 1.006804:  80%|########  | 16/20 [00:36<00:09,  2.27s/it]"
     ]
    },
    {
     "name": "stdout",
     "output_type": "stream",
     "text": [
      "Early stopping, best iteration is:\n",
      "[96]\tvalid_0's rmse: 1.01212\n",
      "Training until validation scores don't improve for 100 rounds\n"
     ]
    },
    {
     "name": "stderr",
     "output_type": "stream",
     "text": [
      "regularization_factors, val_score: 1.006804:  85%|########5 | 17/20 [00:38<00:06,  2.24s/it]\u001b[32m[I 2021-03-07 19:56:44,240]\u001b[0m Trial 59 finished with value: 1.0149998880813476 and parameters: {'lambda_l1': 7.15167208273731, 'lambda_l2': 0.7615204057940174}. Best is trial 52 with value: 1.0068044893547266.\u001b[0m\n",
      "regularization_factors, val_score: 1.006804:  85%|########5 | 17/20 [00:38<00:06,  2.24s/it]"
     ]
    },
    {
     "name": "stdout",
     "output_type": "stream",
     "text": [
      "Early stopping, best iteration is:\n",
      "[92]\tvalid_0's rmse: 1.015\n",
      "Training until validation scores don't improve for 100 rounds\n"
     ]
    },
    {
     "name": "stderr",
     "output_type": "stream",
     "text": [
      "regularization_factors, val_score: 1.006804:  90%|######### | 18/20 [00:40<00:04,  2.09s/it]\u001b[32m[I 2021-03-07 19:56:45,994]\u001b[0m Trial 60 finished with value: 1.0192354678296527 and parameters: {'lambda_l1': 3.313555472790741e-05, 'lambda_l2': 0.3332585939387088}. Best is trial 52 with value: 1.0068044893547266.\u001b[0m\n",
      "regularization_factors, val_score: 1.006804:  90%|######### | 18/20 [00:40<00:04,  2.09s/it]"
     ]
    },
    {
     "name": "stdout",
     "output_type": "stream",
     "text": [
      "Early stopping, best iteration is:\n",
      "[59]\tvalid_0's rmse: 1.01924\n",
      "Training until validation scores don't improve for 100 rounds\n"
     ]
    },
    {
     "name": "stderr",
     "output_type": "stream",
     "text": [
      "regularization_factors, val_score: 1.006804:  95%|#########5| 19/20 [00:42<00:02,  2.10s/it]\u001b[32m[I 2021-03-07 19:56:48,120]\u001b[0m Trial 61 finished with value: 1.01107890327777 and parameters: {'lambda_l1': 6.877988381501209e-07, 'lambda_l2': 0.005195953549924073}. Best is trial 52 with value: 1.0068044893547266.\u001b[0m\n",
      "regularization_factors, val_score: 1.006804:  95%|#########5| 19/20 [00:42<00:02,  2.10s/it]"
     ]
    },
    {
     "name": "stdout",
     "output_type": "stream",
     "text": [
      "Early stopping, best iteration is:\n",
      "[88]\tvalid_0's rmse: 1.01108\n",
      "Training until validation scores don't improve for 100 rounds\n"
     ]
    },
    {
     "name": "stderr",
     "output_type": "stream",
     "text": [
      "regularization_factors, val_score: 1.006804: 100%|##########| 20/20 [00:45<00:00,  2.30s/it]\u001b[32m[I 2021-03-07 19:56:50,893]\u001b[0m Trial 62 finished with value: 1.0193464433960884 and parameters: {'lambda_l1': 0.07767248962524306, 'lambda_l2': 2.1777541313527807e-05}. Best is trial 52 with value: 1.0068044893547266.\u001b[0m\n",
      "regularization_factors, val_score: 1.006804: 100%|##########| 20/20 [00:45<00:00,  2.27s/it]\n",
      "min_data_in_leaf, val_score: 1.006804:   0%|          | 0/5 [00:00<?, ?it/s]"
     ]
    },
    {
     "name": "stdout",
     "output_type": "stream",
     "text": [
      "Early stopping, best iteration is:\n",
      "[160]\tvalid_0's rmse: 1.01935\n",
      "Training until validation scores don't improve for 100 rounds\n"
     ]
    },
    {
     "name": "stderr",
     "output_type": "stream",
     "text": [
      "min_data_in_leaf, val_score: 1.006804:  20%|##        | 1/5 [00:02<00:08,  2.04s/it]\u001b[32m[I 2021-03-07 19:56:52,957]\u001b[0m Trial 63 finished with value: 1.0144157511570693 and parameters: {'min_child_samples': 25}. Best is trial 63 with value: 1.0144157511570693.\u001b[0m\n",
      "min_data_in_leaf, val_score: 1.006804:  20%|##        | 1/5 [00:02<00:08,  2.04s/it]"
     ]
    },
    {
     "name": "stdout",
     "output_type": "stream",
     "text": [
      "Early stopping, best iteration is:\n",
      "[80]\tvalid_0's rmse: 1.01442\n",
      "Training until validation scores don't improve for 100 rounds\n"
     ]
    },
    {
     "name": "stderr",
     "output_type": "stream",
     "text": [
      "min_data_in_leaf, val_score: 1.006804:  40%|####      | 2/5 [00:04<00:06,  2.28s/it]\u001b[32m[I 2021-03-07 19:56:55,408]\u001b[0m Trial 64 finished with value: 1.0251531381904881 and parameters: {'min_child_samples': 50}. Best is trial 63 with value: 1.0144157511570693.\u001b[0m\n",
      "min_data_in_leaf, val_score: 1.006804:  40%|####      | 2/5 [00:04<00:06,  2.28s/it]"
     ]
    },
    {
     "name": "stdout",
     "output_type": "stream",
     "text": [
      "Early stopping, best iteration is:\n",
      "[115]\tvalid_0's rmse: 1.02515\n",
      "Training until validation scores don't improve for 100 rounds\n"
     ]
    },
    {
     "name": "stderr",
     "output_type": "stream",
     "text": [
      "min_data_in_leaf, val_score: 1.006804:  60%|######    | 3/5 [00:06<00:04,  2.24s/it]\u001b[32m[I 2021-03-07 19:56:57,594]\u001b[0m Trial 65 finished with value: 1.022101162584718 and parameters: {'min_child_samples': 10}. Best is trial 63 with value: 1.0144157511570693.\u001b[0m\n",
      "min_data_in_leaf, val_score: 1.006804:  60%|######    | 3/5 [00:06<00:04,  2.24s/it]"
     ]
    },
    {
     "name": "stdout",
     "output_type": "stream",
     "text": [
      "Early stopping, best iteration is:\n",
      "[82]\tvalid_0's rmse: 1.0221\n",
      "Training until validation scores don't improve for 100 rounds\n"
     ]
    },
    {
     "name": "stderr",
     "output_type": "stream",
     "text": [
      "min_data_in_leaf, val_score: 1.006804:  80%|########  | 4/5 [00:09<00:02,  2.47s/it]\u001b[32m[I 2021-03-07 19:57:00,409]\u001b[0m Trial 66 finished with value: 1.0134289192809967 and parameters: {'min_child_samples': 5}. Best is trial 66 with value: 1.0134289192809967.\u001b[0m\n",
      "min_data_in_leaf, val_score: 1.006804:  80%|########  | 4/5 [00:09<00:02,  2.47s/it]"
     ]
    },
    {
     "name": "stdout",
     "output_type": "stream",
     "text": [
      "Early stopping, best iteration is:\n",
      "[137]\tvalid_0's rmse: 1.01343\n",
      "Training until validation scores don't improve for 100 rounds\n"
     ]
    },
    {
     "name": "stderr",
     "output_type": "stream",
     "text": [
      "min_data_in_leaf, val_score: 1.006804: 100%|##########| 5/5 [00:11<00:00,  2.24s/it]\u001b[32m[I 2021-03-07 19:57:02,245]\u001b[0m Trial 67 finished with value: 1.0331696088193691 and parameters: {'min_child_samples': 100}. Best is trial 66 with value: 1.0134289192809967.\u001b[0m\n",
      "min_data_in_leaf, val_score: 1.006804: 100%|##########| 5/5 [00:11<00:00,  2.27s/it]\n",
      "\u001b[32m[I 2021-03-07 19:57:02,299]\u001b[0m A new study created in memory with name: no-name-784c2666-8d5a-43de-8c30-ed0da0bc5107\u001b[0m\n",
      "feature_fraction, val_score: inf:   0%|          | 0/7 [00:00<?, ?it/s]"
     ]
    },
    {
     "name": "stdout",
     "output_type": "stream",
     "text": [
      "Early stopping, best iteration is:\n",
      "[51]\tvalid_0's rmse: 1.03317\n",
      "Training until validation scores don't improve for 100 rounds\n"
     ]
    },
    {
     "name": "stderr",
     "output_type": "stream",
     "text": [
      "feature_fraction, val_score: 1.003981:  14%|#4        | 1/7 [00:01<00:08,  1.34s/it]\u001b[32m[I 2021-03-07 19:57:03,644]\u001b[0m Trial 0 finished with value: 1.0039814222725456 and parameters: {'feature_fraction': 0.6}. Best is trial 0 with value: 1.0039814222725456.\u001b[0m\n",
      "feature_fraction, val_score: 1.003981:  14%|#4        | 1/7 [00:01<00:08,  1.34s/it]"
     ]
    },
    {
     "name": "stdout",
     "output_type": "stream",
     "text": [
      "Early stopping, best iteration is:\n",
      "[209]\tvalid_0's rmse: 1.00398\n",
      "Training until validation scores don't improve for 100 rounds\n"
     ]
    },
    {
     "name": "stderr",
     "output_type": "stream",
     "text": [
      "feature_fraction, val_score: 1.000336:  29%|##8       | 2/7 [00:03<00:08,  1.67s/it]\u001b[32m[I 2021-03-07 19:57:05,548]\u001b[0m Trial 1 finished with value: 1.0003355869264305 and parameters: {'feature_fraction': 0.8999999999999999}. Best is trial 1 with value: 1.0003355869264305.\u001b[0m\n",
      "feature_fraction, val_score: 1.000336:  29%|##8       | 2/7 [00:03<00:08,  1.67s/it]"
     ]
    },
    {
     "name": "stdout",
     "output_type": "stream",
     "text": [
      "Early stopping, best iteration is:\n",
      "[273]\tvalid_0's rmse: 1.00034\n",
      "Training until validation scores don't improve for 100 rounds\n"
     ]
    },
    {
     "name": "stderr",
     "output_type": "stream",
     "text": [
      "feature_fraction, val_score: 1.000336:  43%|####2     | 3/7 [00:04<00:06,  1.52s/it]\u001b[32m[I 2021-03-07 19:57:06,899]\u001b[0m Trial 2 finished with value: 1.0051624402118748 and parameters: {'feature_fraction': 0.4}. Best is trial 1 with value: 1.0003355869264305.\u001b[0m\n",
      "feature_fraction, val_score: 1.000336:  43%|####2     | 3/7 [00:04<00:06,  1.52s/it]"
     ]
    },
    {
     "name": "stdout",
     "output_type": "stream",
     "text": [
      "Early stopping, best iteration is:\n",
      "[271]\tvalid_0's rmse: 1.00516\n",
      "Training until validation scores don't improve for 100 rounds\n"
     ]
    },
    {
     "name": "stderr",
     "output_type": "stream",
     "text": [
      "feature_fraction, val_score: 1.000336:  57%|#####7    | 4/7 [00:06<00:04,  1.50s/it]\u001b[32m[I 2021-03-07 19:57:08,358]\u001b[0m Trial 3 finished with value: 1.000979321247912 and parameters: {'feature_fraction': 0.8}. Best is trial 1 with value: 1.0003355869264305.\u001b[0m\n",
      "feature_fraction, val_score: 1.000336:  57%|#####7    | 4/7 [00:06<00:04,  1.50s/it]"
     ]
    },
    {
     "name": "stdout",
     "output_type": "stream",
     "text": [
      "Early stopping, best iteration is:\n",
      "[210]\tvalid_0's rmse: 1.00098\n",
      "Training until validation scores don't improve for 100 rounds\n"
     ]
    },
    {
     "name": "stderr",
     "output_type": "stream",
     "text": [
      "feature_fraction, val_score: 1.000336:  71%|#######1  | 5/7 [00:08<00:03,  1.67s/it]\u001b[32m[I 2021-03-07 19:57:10,328]\u001b[0m Trial 4 finished with value: 1.001665693533321 and parameters: {'feature_fraction': 1.0}. Best is trial 1 with value: 1.0003355869264305.\u001b[0m\n",
      "feature_fraction, val_score: 1.000336:  71%|#######1  | 5/7 [00:08<00:03,  1.67s/it]"
     ]
    },
    {
     "name": "stdout",
     "output_type": "stream",
     "text": [
      "Early stopping, best iteration is:\n",
      "[283]\tvalid_0's rmse: 1.00167\n",
      "Training until validation scores don't improve for 100 rounds\n"
     ]
    },
    {
     "name": "stderr",
     "output_type": "stream",
     "text": [
      "feature_fraction, val_score: 1.000336:  86%|########5 | 6/7 [00:09<00:01,  1.58s/it]\u001b[32m[I 2021-03-07 19:57:11,723]\u001b[0m Trial 5 finished with value: 1.0014999011016266 and parameters: {'feature_fraction': 0.7}. Best is trial 1 with value: 1.0003355869264305.\u001b[0m\n",
      "feature_fraction, val_score: 1.000336:  86%|########5 | 6/7 [00:09<00:01,  1.58s/it]"
     ]
    },
    {
     "name": "stdout",
     "output_type": "stream",
     "text": [
      "Early stopping, best iteration is:\n",
      "[214]\tvalid_0's rmse: 1.0015\n",
      "Training until validation scores don't improve for 100 rounds\n"
     ]
    },
    {
     "name": "stderr",
     "output_type": "stream",
     "text": [
      "feature_fraction, val_score: 0.999922: 100%|##########| 7/7 [00:10<00:00,  1.47s/it]\u001b[32m[I 2021-03-07 19:57:12,984]\u001b[0m Trial 6 finished with value: 0.9999222744495715 and parameters: {'feature_fraction': 0.5}. Best is trial 6 with value: 0.9999222744495715.\u001b[0m\n",
      "feature_fraction, val_score: 0.999922: 100%|##########| 7/7 [00:10<00:00,  1.53s/it]\n",
      "num_leaves, val_score: 0.999922:   0%|          | 0/20 [00:00<?, ?it/s]"
     ]
    },
    {
     "name": "stdout",
     "output_type": "stream",
     "text": [
      "Early stopping, best iteration is:\n",
      "[179]\tvalid_0's rmse: 0.999922\n",
      "Training until validation scores don't improve for 100 rounds\n"
     ]
    },
    {
     "name": "stderr",
     "output_type": "stream",
     "text": [
      "num_leaves, val_score: 0.994940:   5%|5         | 1/20 [00:02<00:49,  2.61s/it]\u001b[32m[I 2021-03-07 19:57:15,603]\u001b[0m Trial 7 finished with value: 0.994940415793863 and parameters: {'num_leaves': 211}. Best is trial 7 with value: 0.994940415793863.\u001b[0m\n",
      "num_leaves, val_score: 0.994940:   5%|5         | 1/20 [00:02<00:49,  2.61s/it]"
     ]
    },
    {
     "name": "stdout",
     "output_type": "stream",
     "text": [
      "Early stopping, best iteration is:\n",
      "[53]\tvalid_0's rmse: 0.99494\n",
      "Training until validation scores don't improve for 100 rounds\n"
     ]
    },
    {
     "name": "stderr",
     "output_type": "stream",
     "text": [
      "num_leaves, val_score: 0.994940:  10%|#         | 2/20 [00:04<00:40,  2.28s/it]\u001b[32m[I 2021-03-07 19:57:17,646]\u001b[0m Trial 8 finished with value: 0.9955614371428215 and parameters: {'num_leaves': 120}. Best is trial 7 with value: 0.994940415793863.\u001b[0m\n",
      "num_leaves, val_score: 0.994940:  10%|#         | 2/20 [00:04<00:40,  2.28s/it]"
     ]
    },
    {
     "name": "stdout",
     "output_type": "stream",
     "text": [
      "Early stopping, best iteration is:\n",
      "[75]\tvalid_0's rmse: 0.995561\n",
      "Training until validation scores don't improve for 100 rounds\n"
     ]
    },
    {
     "name": "stderr",
     "output_type": "stream",
     "text": [
      "num_leaves, val_score: 0.994940:  15%|#5        | 3/20 [00:06<00:38,  2.24s/it]\u001b[32m[I 2021-03-07 19:57:19,837]\u001b[0m Trial 9 finished with value: 0.9998575636124668 and parameters: {'num_leaves': 169}. Best is trial 7 with value: 0.994940415793863.\u001b[0m\n",
      "num_leaves, val_score: 0.994940:  15%|#5        | 3/20 [00:06<00:38,  2.24s/it]"
     ]
    },
    {
     "name": "stdout",
     "output_type": "stream",
     "text": [
      "Early stopping, best iteration is:\n",
      "[52]\tvalid_0's rmse: 0.999858\n",
      "Training until validation scores don't improve for 100 rounds\n"
     ]
    },
    {
     "name": "stderr",
     "output_type": "stream",
     "text": [
      "num_leaves, val_score: 0.994940:  20%|##        | 4/20 [00:09<00:39,  2.45s/it]\u001b[32m[I 2021-03-07 19:57:22,607]\u001b[0m Trial 10 finished with value: 0.9965487819558996 and parameters: {'num_leaves': 216}. Best is trial 7 with value: 0.994940415793863.\u001b[0m\n",
      "num_leaves, val_score: 0.994940:  20%|##        | 4/20 [00:09<00:39,  2.45s/it]"
     ]
    },
    {
     "name": "stdout",
     "output_type": "stream",
     "text": [
      "Early stopping, best iteration is:\n",
      "[55]\tvalid_0's rmse: 0.996549\n",
      "Training until validation scores don't improve for 100 rounds\n"
     ]
    },
    {
     "name": "stderr",
     "output_type": "stream",
     "text": [
      "num_leaves, val_score: 0.994940:  25%|##5       | 5/20 [00:11<00:32,  2.19s/it]\u001b[32m[I 2021-03-07 19:57:24,336]\u001b[0m Trial 11 finished with value: 0.998688843378494 and parameters: {'num_leaves': 77}. Best is trial 7 with value: 0.994940415793863.\u001b[0m\n",
      "num_leaves, val_score: 0.994940:  25%|##5       | 5/20 [00:11<00:32,  2.19s/it]"
     ]
    },
    {
     "name": "stdout",
     "output_type": "stream",
     "text": [
      "Early stopping, best iteration is:\n",
      "[119]\tvalid_0's rmse: 0.998689\n",
      "Training until validation scores don't improve for 100 rounds\n"
     ]
    },
    {
     "name": "stderr",
     "output_type": "stream",
     "text": [
      "num_leaves, val_score: 0.994940:  30%|###       | 6/20 [00:12<00:27,  2.00s/it]\u001b[32m[I 2021-03-07 19:57:25,967]\u001b[0m Trial 12 finished with value: 1.0047022242301753 and parameters: {'num_leaves': 47}. Best is trial 7 with value: 0.994940415793863.\u001b[0m\n",
      "num_leaves, val_score: 0.994940:  30%|###       | 6/20 [00:12<00:27,  2.00s/it]"
     ]
    },
    {
     "name": "stdout",
     "output_type": "stream",
     "text": [
      "Early stopping, best iteration is:\n",
      "[184]\tvalid_0's rmse: 1.0047\n",
      "Training until validation scores don't improve for 100 rounds\n"
     ]
    },
    {
     "name": "stderr",
     "output_type": "stream",
     "text": [
      "num_leaves, val_score: 0.994940:  35%|###5      | 7/20 [00:15<00:29,  2.25s/it]\u001b[32m[I 2021-03-07 19:57:28,743]\u001b[0m Trial 13 finished with value: 0.9976584906843792 and parameters: {'num_leaves': 256}. Best is trial 7 with value: 0.994940415793863.\u001b[0m\n",
      "num_leaves, val_score: 0.994940:  35%|###5      | 7/20 [00:15<00:29,  2.25s/it]"
     ]
    },
    {
     "name": "stdout",
     "output_type": "stream",
     "text": [
      "Early stopping, best iteration is:\n",
      "[44]\tvalid_0's rmse: 0.997658\n",
      "Training until validation scores don't improve for 100 rounds\n"
     ]
    },
    {
     "name": "stderr",
     "output_type": "stream",
     "text": [
      "num_leaves, val_score: 0.994940:  40%|####      | 8/20 [00:18<00:27,  2.27s/it]\u001b[32m[I 2021-03-07 19:57:31,055]\u001b[0m Trial 14 finished with value: 1.0019509361313639 and parameters: {'num_leaves': 171}. Best is trial 7 with value: 0.994940415793863.\u001b[0m\n",
      "num_leaves, val_score: 0.994940:  40%|####      | 8/20 [00:18<00:27,  2.27s/it]"
     ]
    },
    {
     "name": "stdout",
     "output_type": "stream",
     "text": [
      "Early stopping, best iteration is:\n",
      "[60]\tvalid_0's rmse: 1.00195\n",
      "Training until validation scores don't improve for 100 rounds\n"
     ]
    },
    {
     "name": "stderr",
     "output_type": "stream",
     "text": [
      "num_leaves, val_score: 0.994940:  45%|####5     | 9/20 [00:20<00:24,  2.24s/it]\u001b[32m[I 2021-03-07 19:57:33,239]\u001b[0m Trial 15 finished with value: 0.9965881971822572 and parameters: {'num_leaves': 151}. Best is trial 7 with value: 0.994940415793863.\u001b[0m\n",
      "num_leaves, val_score: 0.994940:  45%|####5     | 9/20 [00:20<00:24,  2.24s/it]"
     ]
    },
    {
     "name": "stdout",
     "output_type": "stream",
     "text": [
      "Early stopping, best iteration is:\n",
      "[67]\tvalid_0's rmse: 0.996588\n",
      "Training until validation scores don't improve for 100 rounds\n"
     ]
    },
    {
     "name": "stderr",
     "output_type": "stream",
     "text": [
      "num_leaves, val_score: 0.994940:  50%|#####     | 10/20 [00:22<00:20,  2.10s/it]\u001b[32m[I 2021-03-07 19:57:35,005]\u001b[0m Trial 16 finished with value: 0.9990098716120488 and parameters: {'num_leaves': 97}. Best is trial 7 with value: 0.994940415793863.\u001b[0m\n",
      "num_leaves, val_score: 0.994940:  50%|#####     | 10/20 [00:22<00:20,  2.10s/it]"
     ]
    },
    {
     "name": "stdout",
     "output_type": "stream",
     "text": [
      "Early stopping, best iteration is:\n",
      "[87]\tvalid_0's rmse: 0.99901\n",
      "Training until validation scores don't improve for 100 rounds\n"
     ]
    },
    {
     "name": "stderr",
     "output_type": "stream",
     "text": [
      "num_leaves, val_score: 0.992020:  55%|#####5    | 11/20 [00:25<00:21,  2.42s/it]\u001b[32m[I 2021-03-07 19:57:38,169]\u001b[0m Trial 17 finished with value: 0.9920204896811856 and parameters: {'num_leaves': 251}. Best is trial 17 with value: 0.9920204896811856.\u001b[0m\n",
      "num_leaves, val_score: 0.992020:  55%|#####5    | 11/20 [00:25<00:21,  2.42s/it]"
     ]
    },
    {
     "name": "stdout",
     "output_type": "stream",
     "text": [
      "Early stopping, best iteration is:\n",
      "[48]\tvalid_0's rmse: 0.99202\n",
      "Training until validation scores don't improve for 100 rounds\n"
     ]
    },
    {
     "name": "stderr",
     "output_type": "stream",
     "text": [
      "num_leaves, val_score: 0.992020:  60%|######    | 12/20 [00:28<00:21,  2.63s/it]\u001b[32m[I 2021-03-07 19:57:41,276]\u001b[0m Trial 18 finished with value: 1.0014946465249874 and parameters: {'num_leaves': 248}. Best is trial 17 with value: 0.9920204896811856.\u001b[0m\n",
      "num_leaves, val_score: 0.992020:  60%|######    | 12/20 [00:28<00:21,  2.63s/it]"
     ]
    },
    {
     "name": "stdout",
     "output_type": "stream",
     "text": [
      "Early stopping, best iteration is:\n",
      "[49]\tvalid_0's rmse: 1.00149\n",
      "Training until validation scores don't improve for 100 rounds\n"
     ]
    },
    {
     "name": "stderr",
     "output_type": "stream",
     "text": [
      "num_leaves, val_score: 0.992020:  65%|######5   | 13/20 [00:31<00:18,  2.66s/it]\u001b[32m[I 2021-03-07 19:57:44,004]\u001b[0m Trial 19 finished with value: 0.9987827180013428 and parameters: {'num_leaves': 213}. Best is trial 17 with value: 0.9920204896811856.\u001b[0m\n",
      "num_leaves, val_score: 0.992020:  65%|######5   | 13/20 [00:31<00:18,  2.66s/it]"
     ]
    },
    {
     "name": "stdout",
     "output_type": "stream",
     "text": [
      "Early stopping, best iteration is:\n",
      "[54]\tvalid_0's rmse: 0.998783\n",
      "Training until validation scores don't improve for 100 rounds\n"
     ]
    },
    {
     "name": "stderr",
     "output_type": "stream",
     "text": [
      "num_leaves, val_score: 0.992020:  70%|#######   | 14/20 [00:33<00:16,  2.75s/it]\u001b[32m[I 2021-03-07 19:57:46,953]\u001b[0m Trial 20 finished with value: 1.0007862257538394 and parameters: {'num_leaves': 215}. Best is trial 17 with value: 0.9920204896811856.\u001b[0m\n",
      "num_leaves, val_score: 0.992020:  70%|#######   | 14/20 [00:33<00:16,  2.75s/it]"
     ]
    },
    {
     "name": "stdout",
     "output_type": "stream",
     "text": [
      "Early stopping, best iteration is:\n",
      "[64]\tvalid_0's rmse: 1.00079\n",
      "Training until validation scores don't improve for 100 rounds\n"
     ]
    },
    {
     "name": "stderr",
     "output_type": "stream",
     "text": [
      "num_leaves, val_score: 0.992020:  75%|#######5  | 15/20 [00:37<00:14,  2.85s/it]\u001b[32m[I 2021-03-07 19:57:50,034]\u001b[0m Trial 21 finished with value: 1.0022498223407847 and parameters: {'num_leaves': 253}. Best is trial 17 with value: 0.9920204896811856.\u001b[0m\n",
      "num_leaves, val_score: 0.992020:  75%|#######5  | 15/20 [00:37<00:14,  2.85s/it]"
     ]
    },
    {
     "name": "stdout",
     "output_type": "stream",
     "text": [
      "Early stopping, best iteration is:\n",
      "[57]\tvalid_0's rmse: 1.00225\n",
      "Training until validation scores don't improve for 100 rounds\n"
     ]
    },
    {
     "name": "stderr",
     "output_type": "stream",
     "text": [
      "num_leaves, val_score: 0.992020:  80%|########  | 16/20 [00:39<00:11,  2.83s/it]\u001b[32m[I 2021-03-07 19:57:52,833]\u001b[0m Trial 22 finished with value: 0.9974960983330311 and parameters: {'num_leaves': 193}. Best is trial 17 with value: 0.9920204896811856.\u001b[0m\n",
      "num_leaves, val_score: 0.992020:  80%|########  | 16/20 [00:39<00:11,  2.83s/it]"
     ]
    },
    {
     "name": "stdout",
     "output_type": "stream",
     "text": [
      "Early stopping, best iteration is:\n",
      "[70]\tvalid_0's rmse: 0.997496\n",
      "Training until validation scores don't improve for 100 rounds\n"
     ]
    },
    {
     "name": "stderr",
     "output_type": "stream",
     "text": [
      "num_leaves, val_score: 0.992020:  85%|########5 | 17/20 [00:43<00:09,  3.02s/it]\u001b[32m[I 2021-03-07 19:57:56,288]\u001b[0m Trial 23 finished with value: 0.9970162160647345 and parameters: {'num_leaves': 237}. Best is trial 17 with value: 0.9920204896811856.\u001b[0m\n",
      "num_leaves, val_score: 0.992020:  85%|########5 | 17/20 [00:43<00:09,  3.02s/it]"
     ]
    },
    {
     "name": "stdout",
     "output_type": "stream",
     "text": [
      "Early stopping, best iteration is:\n",
      "[54]\tvalid_0's rmse: 0.997016\n",
      "Training until validation scores don't improve for 100 rounds\n"
     ]
    },
    {
     "name": "stderr",
     "output_type": "stream",
     "text": [
      "num_leaves, val_score: 0.992020:  90%|######### | 18/20 [00:44<00:05,  2.61s/it]\u001b[32m[I 2021-03-07 19:57:57,959]\u001b[0m Trial 24 finished with value: 1.0063515384933042 and parameters: {'num_leaves': 13}. Best is trial 17 with value: 0.9920204896811856.\u001b[0m\n",
      "num_leaves, val_score: 0.992020:  90%|######### | 18/20 [00:44<00:05,  2.61s/it]"
     ]
    },
    {
     "name": "stdout",
     "output_type": "stream",
     "text": [
      "Early stopping, best iteration is:\n",
      "[523]\tvalid_0's rmse: 1.00635\n",
      "Training until validation scores don't improve for 100 rounds\n"
     ]
    },
    {
     "name": "stderr",
     "output_type": "stream",
     "text": [
      "num_leaves, val_score: 0.992020:  95%|#########5| 19/20 [00:47<00:02,  2.66s/it]\u001b[32m[I 2021-03-07 19:58:00,717]\u001b[0m Trial 25 finished with value: 0.9974760261133727 and parameters: {'num_leaves': 192}. Best is trial 17 with value: 0.9920204896811856.\u001b[0m\n",
      "num_leaves, val_score: 0.992020:  95%|#########5| 19/20 [00:47<00:02,  2.66s/it]"
     ]
    },
    {
     "name": "stdout",
     "output_type": "stream",
     "text": [
      "Early stopping, best iteration is:\n",
      "[43]\tvalid_0's rmse: 0.997476\n",
      "Training until validation scores don't improve for 100 rounds\n"
     ]
    },
    {
     "name": "stderr",
     "output_type": "stream",
     "text": [
      "num_leaves, val_score: 0.992020: 100%|##########| 20/20 [00:50<00:00,  2.64s/it]\u001b[32m[I 2021-03-07 19:58:03,318]\u001b[0m Trial 26 finished with value: 0.9943826256658237 and parameters: {'num_leaves': 127}. Best is trial 17 with value: 0.9920204896811856.\u001b[0m\n",
      "num_leaves, val_score: 0.992020: 100%|##########| 20/20 [00:50<00:00,  2.52s/it]\n",
      "bagging, val_score: 0.992020:   0%|          | 0/10 [00:00<?, ?it/s]"
     ]
    },
    {
     "name": "stdout",
     "output_type": "stream",
     "text": [
      "Early stopping, best iteration is:\n",
      "[78]\tvalid_0's rmse: 0.994383\n",
      "Training until validation scores don't improve for 100 rounds\n"
     ]
    },
    {
     "name": "stderr",
     "output_type": "stream",
     "text": [
      "bagging, val_score: 0.992020:  10%|#         | 1/10 [00:02<00:18,  2.04s/it]\u001b[32m[I 2021-03-07 19:58:05,373]\u001b[0m Trial 27 finished with value: 1.0301217203523716 and parameters: {'bagging_fraction': 0.4542430749954334, 'bagging_freq': 3}. Best is trial 27 with value: 1.0301217203523716.\u001b[0m\n",
      "bagging, val_score: 0.992020:  10%|#         | 1/10 [00:02<00:18,  2.04s/it]"
     ]
    },
    {
     "name": "stdout",
     "output_type": "stream",
     "text": [
      "Early stopping, best iteration is:\n",
      "[50]\tvalid_0's rmse: 1.03012\n",
      "Training until validation scores don't improve for 100 rounds\n"
     ]
    },
    {
     "name": "stderr",
     "output_type": "stream",
     "text": [
      "bagging, val_score: 0.992020:  20%|##        | 2/10 [00:04<00:16,  2.06s/it]\u001b[32m[I 2021-03-07 19:58:07,454]\u001b[0m Trial 28 finished with value: 1.0293201490175465 and parameters: {'bagging_fraction': 0.543263424867098, 'bagging_freq': 3}. Best is trial 28 with value: 1.0293201490175465.\u001b[0m\n",
      "bagging, val_score: 0.992020:  20%|##        | 2/10 [00:04<00:16,  2.06s/it]"
     ]
    },
    {
     "name": "stdout",
     "output_type": "stream",
     "text": [
      "Early stopping, best iteration is:\n",
      "[34]\tvalid_0's rmse: 1.02932\n",
      "Training until validation scores don't improve for 100 rounds\n"
     ]
    },
    {
     "name": "stderr",
     "output_type": "stream",
     "text": [
      "bagging, val_score: 0.992020:  30%|###       | 3/10 [00:07<00:19,  2.82s/it]\u001b[32m[I 2021-03-07 19:58:11,173]\u001b[0m Trial 29 finished with value: 1.013662494098583 and parameters: {'bagging_fraction': 0.7192827217631887, 'bagging_freq': 4}. Best is trial 29 with value: 1.013662494098583.\u001b[0m\n",
      "bagging, val_score: 0.992020:  30%|###       | 3/10 [00:07<00:19,  2.82s/it]"
     ]
    },
    {
     "name": "stdout",
     "output_type": "stream",
     "text": [
      "Early stopping, best iteration is:\n",
      "[43]\tvalid_0's rmse: 1.01366\n",
      "Training until validation scores don't improve for 100 rounds\n"
     ]
    },
    {
     "name": "stderr",
     "output_type": "stream",
     "text": [
      "bagging, val_score: 0.992020:  40%|####      | 4/10 [00:10<00:16,  2.71s/it]\u001b[32m[I 2021-03-07 19:58:13,719]\u001b[0m Trial 30 finished with value: 1.033584138514163 and parameters: {'bagging_fraction': 0.42023851157661035, 'bagging_freq': 2}. Best is trial 29 with value: 1.013662494098583.\u001b[0m\n",
      "bagging, val_score: 0.992020:  40%|####      | 4/10 [00:10<00:16,  2.71s/it]"
     ]
    },
    {
     "name": "stdout",
     "output_type": "stream",
     "text": [
      "Early stopping, best iteration is:\n",
      "[54]\tvalid_0's rmse: 1.03358\n",
      "Training until validation scores don't improve for 100 rounds\n"
     ]
    },
    {
     "name": "stderr",
     "output_type": "stream",
     "text": [
      "bagging, val_score: 0.992020:  50%|#####     | 5/10 [00:14<00:15,  3.05s/it]\u001b[32m[I 2021-03-07 19:58:17,382]\u001b[0m Trial 31 finished with value: 1.0106635154051675 and parameters: {'bagging_fraction': 0.9674265256915008, 'bagging_freq': 3}. Best is trial 31 with value: 1.0106635154051675.\u001b[0m\n",
      "bagging, val_score: 0.992020:  50%|#####     | 5/10 [00:14<00:15,  3.05s/it]"
     ]
    },
    {
     "name": "stdout",
     "output_type": "stream",
     "text": [
      "Early stopping, best iteration is:\n",
      "[65]\tvalid_0's rmse: 1.01066\n",
      "Training until validation scores don't improve for 100 rounds\n"
     ]
    },
    {
     "name": "stderr",
     "output_type": "stream",
     "text": [
      "bagging, val_score: 0.992020:  60%|######    | 6/10 [00:17<00:12,  3.02s/it]\u001b[32m[I 2021-03-07 19:58:20,348]\u001b[0m Trial 32 finished with value: 1.014679678251616 and parameters: {'bagging_fraction': 0.6555448126262586, 'bagging_freq': 6}. Best is trial 31 with value: 1.0106635154051675.\u001b[0m\n",
      "bagging, val_score: 0.992020:  60%|######    | 6/10 [00:17<00:12,  3.02s/it]"
     ]
    },
    {
     "name": "stdout",
     "output_type": "stream",
     "text": [
      "Early stopping, best iteration is:\n",
      "[56]\tvalid_0's rmse: 1.01468\n",
      "Training until validation scores don't improve for 100 rounds\n"
     ]
    },
    {
     "name": "stderr",
     "output_type": "stream",
     "text": [
      "bagging, val_score: 0.992020:  70%|#######   | 7/10 [00:20<00:09,  3.17s/it]\u001b[32m[I 2021-03-07 19:58:23,820]\u001b[0m Trial 33 finished with value: 1.0066782884419232 and parameters: {'bagging_fraction': 0.6956644632309985, 'bagging_freq': 2}. Best is trial 33 with value: 1.0066782884419232.\u001b[0m\n",
      "bagging, val_score: 0.992020:  70%|#######   | 7/10 [00:20<00:09,  3.17s/it]"
     ]
    },
    {
     "name": "stdout",
     "output_type": "stream",
     "text": [
      "Early stopping, best iteration is:\n",
      "[68]\tvalid_0's rmse: 1.00668\n",
      "Training until validation scores don't improve for 100 rounds\n"
     ]
    },
    {
     "name": "stderr",
     "output_type": "stream",
     "text": [
      "bagging, val_score: 0.992020:  80%|########  | 8/10 [00:22<00:05,  2.78s/it]\u001b[32m[I 2021-03-07 19:58:25,757]\u001b[0m Trial 34 finished with value: 1.0327218835736438 and parameters: {'bagging_fraction': 0.4909108029234276, 'bagging_freq': 7}. Best is trial 33 with value: 1.0066782884419232.\u001b[0m\n",
      "bagging, val_score: 0.992020:  80%|########  | 8/10 [00:22<00:05,  2.78s/it]"
     ]
    },
    {
     "name": "stdout",
     "output_type": "stream",
     "text": [
      "Early stopping, best iteration is:\n",
      "[32]\tvalid_0's rmse: 1.03272\n",
      "Training until validation scores don't improve for 100 rounds\n"
     ]
    },
    {
     "name": "stderr",
     "output_type": "stream",
     "text": [
      "bagging, val_score: 0.992020:  90%|######### | 9/10 [00:25<00:02,  2.75s/it]\u001b[32m[I 2021-03-07 19:58:28,446]\u001b[0m Trial 35 finished with value: 1.0193507114276277 and parameters: {'bagging_fraction': 0.6392776973677619, 'bagging_freq': 5}. Best is trial 33 with value: 1.0066782884419232.\u001b[0m\n",
      "bagging, val_score: 0.992020:  90%|######### | 9/10 [00:25<00:02,  2.75s/it]"
     ]
    },
    {
     "name": "stdout",
     "output_type": "stream",
     "text": [
      "Early stopping, best iteration is:\n",
      "[48]\tvalid_0's rmse: 1.01935\n",
      "Training until validation scores don't improve for 100 rounds\n"
     ]
    },
    {
     "name": "stderr",
     "output_type": "stream",
     "text": [
      "bagging, val_score: 0.992020: 100%|##########| 10/10 [00:27<00:00,  2.56s/it]\u001b[32m[I 2021-03-07 19:58:30,581]\u001b[0m Trial 36 finished with value: 1.0212710593499736 and parameters: {'bagging_fraction': 0.44247884201534865, 'bagging_freq': 7}. Best is trial 33 with value: 1.0066782884419232.\u001b[0m\n",
      "bagging, val_score: 0.992020: 100%|##########| 10/10 [00:27<00:00,  2.73s/it]\n",
      "feature_fraction_stage2, val_score: 0.992020:   0%|          | 0/6 [00:00<?, ?it/s]"
     ]
    },
    {
     "name": "stdout",
     "output_type": "stream",
     "text": [
      "Early stopping, best iteration is:\n",
      "[69]\tvalid_0's rmse: 1.02127\n",
      "Training until validation scores don't improve for 100 rounds\n"
     ]
    },
    {
     "name": "stderr",
     "output_type": "stream",
     "text": [
      "feature_fraction_stage2, val_score: 0.992020:  17%|#6        | 1/6 [00:02<00:13,  2.76s/it]\u001b[32m[I 2021-03-07 19:58:33,351]\u001b[0m Trial 37 finished with value: 0.9993585309230139 and parameters: {'feature_fraction': 0.58}. Best is trial 37 with value: 0.9993585309230139.\u001b[0m\n",
      "feature_fraction_stage2, val_score: 0.992020:  17%|#6        | 1/6 [00:02<00:13,  2.76s/it]"
     ]
    },
    {
     "name": "stdout",
     "output_type": "stream",
     "text": [
      "Early stopping, best iteration is:\n",
      "[36]\tvalid_0's rmse: 0.999359\n",
      "Training until validation scores don't improve for 100 rounds\n"
     ]
    },
    {
     "name": "stderr",
     "output_type": "stream",
     "text": [
      "feature_fraction_stage2, val_score: 0.992020:  33%|###3      | 2/6 [00:07<00:14,  3.64s/it]\u001b[32m[I 2021-03-07 19:58:37,621]\u001b[0m Trial 38 finished with value: 1.0011596885216552 and parameters: {'feature_fraction': 0.516}. Best is trial 37 with value: 0.9993585309230139.\u001b[0m\n",
      "feature_fraction_stage2, val_score: 0.992020:  33%|###3      | 2/6 [00:07<00:14,  3.64s/it]"
     ]
    },
    {
     "name": "stdout",
     "output_type": "stream",
     "text": [
      "Early stopping, best iteration is:\n",
      "[43]\tvalid_0's rmse: 1.00116\n",
      "Training until validation scores don't improve for 100 rounds\n"
     ]
    },
    {
     "name": "stderr",
     "output_type": "stream",
     "text": [
      "feature_fraction_stage2, val_score: 0.992020:  50%|#####     | 3/6 [00:14<00:15,  5.17s/it]\u001b[32m[I 2021-03-07 19:58:44,647]\u001b[0m Trial 39 finished with value: 0.9977464475146265 and parameters: {'feature_fraction': 0.5479999999999999}. Best is trial 39 with value: 0.9977464475146265.\u001b[0m\n",
      "feature_fraction_stage2, val_score: 0.992020:  50%|#####     | 3/6 [00:14<00:15,  5.17s/it]"
     ]
    },
    {
     "name": "stdout",
     "output_type": "stream",
     "text": [
      "Early stopping, best iteration is:\n",
      "[41]\tvalid_0's rmse: 0.997746\n",
      "Training until validation scores don't improve for 100 rounds\n"
     ]
    },
    {
     "name": "stderr",
     "output_type": "stream",
     "text": [
      "feature_fraction_stage2, val_score: 0.992020:  67%|######6   | 4/6 [00:20<00:11,  5.75s/it]\u001b[32m[I 2021-03-07 19:58:51,250]\u001b[0m Trial 40 finished with value: 1.0027308339445422 and parameters: {'feature_fraction': 0.42}. Best is trial 39 with value: 0.9977464475146265.\u001b[0m\n",
      "feature_fraction_stage2, val_score: 0.992020:  67%|######6   | 4/6 [00:20<00:11,  5.75s/it]"
     ]
    },
    {
     "name": "stdout",
     "output_type": "stream",
     "text": [
      "Early stopping, best iteration is:\n",
      "[44]\tvalid_0's rmse: 1.00273\n",
      "Training until validation scores don't improve for 100 rounds\n"
     ]
    },
    {
     "name": "stderr",
     "output_type": "stream",
     "text": [
      "feature_fraction_stage2, val_score: 0.992020:  83%|########3 | 5/6 [00:24<00:05,  5.05s/it]\u001b[32m[I 2021-03-07 19:58:55,062]\u001b[0m Trial 41 finished with value: 1.0002067377622297 and parameters: {'feature_fraction': 0.484}. Best is trial 39 with value: 0.9977464475146265.\u001b[0m\n",
      "feature_fraction_stage2, val_score: 0.992020:  83%|########3 | 5/6 [00:24<00:05,  5.05s/it]"
     ]
    },
    {
     "name": "stdout",
     "output_type": "stream",
     "text": [
      "Early stopping, best iteration is:\n",
      "[76]\tvalid_0's rmse: 1.00021\n",
      "Training until validation scores don't improve for 100 rounds\n"
     ]
    },
    {
     "name": "stderr",
     "output_type": "stream",
     "text": [
      "feature_fraction_stage2, val_score: 0.992020: 100%|##########| 6/6 [00:27<00:00,  4.38s/it]\u001b[32m[I 2021-03-07 19:58:58,134]\u001b[0m Trial 42 finished with value: 1.0009485680688623 and parameters: {'feature_fraction': 0.45199999999999996}. Best is trial 39 with value: 0.9977464475146265.\u001b[0m\n",
      "feature_fraction_stage2, val_score: 0.992020: 100%|##########| 6/6 [00:27<00:00,  4.59s/it]\n",
      "regularization_factors, val_score: 0.992020:   0%|          | 0/20 [00:00<?, ?it/s]"
     ]
    },
    {
     "name": "stdout",
     "output_type": "stream",
     "text": [
      "Early stopping, best iteration is:\n",
      "[60]\tvalid_0's rmse: 1.00095\n",
      "Training until validation scores don't improve for 100 rounds\n"
     ]
    },
    {
     "name": "stderr",
     "output_type": "stream",
     "text": [
      "regularization_factors, val_score: 0.992020:   5%|5         | 1/20 [00:04<01:19,  4.20s/it]\u001b[32m[I 2021-03-07 19:59:02,341]\u001b[0m Trial 43 finished with value: 0.9998063326835638 and parameters: {'lambda_l1': 5.336315118221849e-08, 'lambda_l2': 0.0020438956551331634}. Best is trial 43 with value: 0.9998063326835638.\u001b[0m\n",
      "regularization_factors, val_score: 0.992020:   5%|5         | 1/20 [00:04<01:19,  4.20s/it]"
     ]
    },
    {
     "name": "stdout",
     "output_type": "stream",
     "text": [
      "Early stopping, best iteration is:\n",
      "[54]\tvalid_0's rmse: 0.999806\n",
      "Training until validation scores don't improve for 100 rounds\n"
     ]
    },
    {
     "name": "stderr",
     "output_type": "stream",
     "text": [
      "regularization_factors, val_score: 0.992020:  10%|#         | 2/20 [00:08<01:18,  4.34s/it]\u001b[32m[I 2021-03-07 19:59:06,779]\u001b[0m Trial 44 finished with value: 1.0036631014398931 and parameters: {'lambda_l1': 4.625500078858596e-05, 'lambda_l2': 6.84979644567653}. Best is trial 43 with value: 0.9998063326835638.\u001b[0m\n",
      "regularization_factors, val_score: 0.992020:  10%|#         | 2/20 [00:08<01:18,  4.34s/it]"
     ]
    },
    {
     "name": "stdout",
     "output_type": "stream",
     "text": [
      "Early stopping, best iteration is:\n",
      "[69]\tvalid_0's rmse: 1.00366\n",
      "Training until validation scores don't improve for 100 rounds\n"
     ]
    },
    {
     "name": "stderr",
     "output_type": "stream",
     "text": [
      "regularization_factors, val_score: 0.992020:  15%|#5        | 3/20 [00:12<01:11,  4.20s/it]\u001b[32m[I 2021-03-07 19:59:10,810]\u001b[0m Trial 45 finished with value: 1.0008986475400967 and parameters: {'lambda_l1': 0.00015217256113595918, 'lambda_l2': 0.0006262980164691588}. Best is trial 43 with value: 0.9998063326835638.\u001b[0m\n",
      "regularization_factors, val_score: 0.992020:  15%|#5        | 3/20 [00:12<01:11,  4.20s/it]"
     ]
    },
    {
     "name": "stdout",
     "output_type": "stream",
     "text": [
      "Early stopping, best iteration is:\n",
      "[54]\tvalid_0's rmse: 1.0009\n",
      "Training until validation scores don't improve for 100 rounds\n"
     ]
    },
    {
     "name": "stderr",
     "output_type": "stream",
     "text": [
      "regularization_factors, val_score: 0.992020:  20%|##        | 4/20 [00:20<01:27,  5.46s/it]\u001b[32m[I 2021-03-07 19:59:18,204]\u001b[0m Trial 46 finished with value: 1.0013991892291882 and parameters: {'lambda_l1': 2.218876994424564e-05, 'lambda_l2': 0.2939603335480441}. Best is trial 43 with value: 0.9998063326835638.\u001b[0m\n",
      "regularization_factors, val_score: 0.992020:  20%|##        | 4/20 [00:20<01:27,  5.46s/it]"
     ]
    },
    {
     "name": "stdout",
     "output_type": "stream",
     "text": [
      "Early stopping, best iteration is:\n",
      "[42]\tvalid_0's rmse: 1.0014\n",
      "Training until validation scores don't improve for 100 rounds\n"
     ]
    },
    {
     "name": "stderr",
     "output_type": "stream",
     "text": [
      "regularization_factors, val_score: 0.992020:  25%|##5       | 5/20 [00:24<01:15,  5.04s/it]\u001b[32m[I 2021-03-07 19:59:22,488]\u001b[0m Trial 47 finished with value: 0.9996392295647704 and parameters: {'lambda_l1': 0.05594091439058835, 'lambda_l2': 2.60723550027095e-07}. Best is trial 47 with value: 0.9996392295647704.\u001b[0m\n",
      "regularization_factors, val_score: 0.992020:  25%|##5       | 5/20 [00:24<01:15,  5.04s/it]"
     ]
    },
    {
     "name": "stdout",
     "output_type": "stream",
     "text": [
      "Early stopping, best iteration is:\n",
      "[55]\tvalid_0's rmse: 0.999639\n",
      "Training until validation scores don't improve for 100 rounds\n"
     ]
    },
    {
     "name": "stderr",
     "output_type": "stream",
     "text": [
      "regularization_factors, val_score: 0.992020:  30%|###       | 6/20 [00:30<01:15,  5.41s/it]\u001b[32m[I 2021-03-07 19:59:28,620]\u001b[0m Trial 48 finished with value: 0.9996313754166503 and parameters: {'lambda_l1': 0.006044213611569776, 'lambda_l2': 0.03704358531046092}. Best is trial 48 with value: 0.9996313754166503.\u001b[0m\n",
      "regularization_factors, val_score: 0.992020:  30%|###       | 6/20 [00:30<01:15,  5.41s/it]"
     ]
    },
    {
     "name": "stdout",
     "output_type": "stream",
     "text": [
      "Early stopping, best iteration is:\n",
      "[54]\tvalid_0's rmse: 0.999631\n",
      "Training until validation scores don't improve for 100 rounds\n"
     ]
    },
    {
     "name": "stderr",
     "output_type": "stream",
     "text": [
      "regularization_factors, val_score: 0.992020:  35%|###5      | 7/20 [00:35<01:10,  5.42s/it]\u001b[32m[I 2021-03-07 19:59:34,057]\u001b[0m Trial 49 finished with value: 0.999372914681014 and parameters: {'lambda_l1': 0.0009159438502514566, 'lambda_l2': 0.001300411770837427}. Best is trial 49 with value: 0.999372914681014.\u001b[0m\n",
      "regularization_factors, val_score: 0.992020:  35%|###5      | 7/20 [00:35<01:10,  5.42s/it]"
     ]
    },
    {
     "name": "stdout",
     "output_type": "stream",
     "text": [
      "Early stopping, best iteration is:\n",
      "[55]\tvalid_0's rmse: 0.999373\n",
      "Training until validation scores don't improve for 100 rounds\n"
     ]
    },
    {
     "name": "stderr",
     "output_type": "stream",
     "text": [
      "regularization_factors, val_score: 0.992020:  40%|####      | 8/20 [00:41<01:03,  5.32s/it]\u001b[32m[I 2021-03-07 19:59:39,158]\u001b[0m Trial 50 finished with value: 1.0005141767293586 and parameters: {'lambda_l1': 0.006160706306962948, 'lambda_l2': 0.0005547147288358595}. Best is trial 49 with value: 0.999372914681014.\u001b[0m\n",
      "regularization_factors, val_score: 0.992020:  40%|####      | 8/20 [00:41<01:03,  5.32s/it]"
     ]
    },
    {
     "name": "stdout",
     "output_type": "stream",
     "text": [
      "Early stopping, best iteration is:\n",
      "[72]\tvalid_0's rmse: 1.00051\n",
      "Training until validation scores don't improve for 100 rounds\n"
     ]
    },
    {
     "name": "stderr",
     "output_type": "stream",
     "text": [
      "regularization_factors, val_score: 0.992020:  45%|####5     | 9/20 [00:45<00:54,  4.95s/it]\u001b[32m[I 2021-03-07 19:59:43,291]\u001b[0m Trial 51 finished with value: 1.0039911707059443 and parameters: {'lambda_l1': 2.515250270797152e-07, 'lambda_l2': 0.5940533353021517}. Best is trial 49 with value: 0.999372914681014.\u001b[0m\n",
      "regularization_factors, val_score: 0.992020:  45%|####5     | 9/20 [00:45<00:54,  4.95s/it]"
     ]
    },
    {
     "name": "stdout",
     "output_type": "stream",
     "text": [
      "Early stopping, best iteration is:\n",
      "[56]\tvalid_0's rmse: 1.00399\n",
      "Training until validation scores don't improve for 100 rounds\n"
     ]
    },
    {
     "name": "stderr",
     "output_type": "stream",
     "text": [
      "regularization_factors, val_score: 0.992020:  50%|#####     | 10/20 [00:49<00:46,  4.63s/it]\u001b[32m[I 2021-03-07 19:59:47,228]\u001b[0m Trial 52 finished with value: 0.9952570957878287 and parameters: {'lambda_l1': 0.0009578063308715257, 'lambda_l2': 0.001913306269239432}. Best is trial 52 with value: 0.9952570957878287.\u001b[0m\n",
      "regularization_factors, val_score: 0.992020:  50%|#####     | 10/20 [00:49<00:46,  4.63s/it]"
     ]
    },
    {
     "name": "stdout",
     "output_type": "stream",
     "text": [
      "Early stopping, best iteration is:\n",
      "[43]\tvalid_0's rmse: 0.995257\n",
      "Training until validation scores don't improve for 100 rounds\n"
     ]
    },
    {
     "name": "stderr",
     "output_type": "stream",
     "text": [
      "regularization_factors, val_score: 0.992020:  55%|#####5    | 11/20 [00:54<00:43,  4.82s/it]\u001b[32m[I 2021-03-07 19:59:52,476]\u001b[0m Trial 53 finished with value: 0.99925659468319 and parameters: {'lambda_l1': 2.426757601867857, 'lambda_l2': 2.028076288624502e-06}. Best is trial 52 with value: 0.9952570957878287.\u001b[0m\n",
      "regularization_factors, val_score: 0.992020:  55%|#####5    | 11/20 [00:54<00:43,  4.82s/it]"
     ]
    },
    {
     "name": "stdout",
     "output_type": "stream",
     "text": [
      "Early stopping, best iteration is:\n",
      "[72]\tvalid_0's rmse: 0.999257\n",
      "Training until validation scores don't improve for 100 rounds\n"
     ]
    },
    {
     "name": "stderr",
     "output_type": "stream",
     "text": [
      "regularization_factors, val_score: 0.992020:  60%|######    | 12/20 [01:02<00:46,  5.80s/it]\u001b[32m[I 2021-03-07 20:00:00,504]\u001b[0m Trial 54 finished with value: 1.0013959389002378 and parameters: {'lambda_l1': 5.896255242952, 'lambda_l2': 4.990729019149339e-07}. Best is trial 52 with value: 0.9952570957878287.\u001b[0m\n",
      "regularization_factors, val_score: 0.992020:  60%|######    | 12/20 [01:02<00:46,  5.80s/it]"
     ]
    },
    {
     "name": "stdout",
     "output_type": "stream",
     "text": [
      "Early stopping, best iteration is:\n",
      "[107]\tvalid_0's rmse: 1.0014\n",
      "Training until validation scores don't improve for 100 rounds\n"
     ]
    },
    {
     "name": "stderr",
     "output_type": "stream",
     "text": [
      "regularization_factors, val_score: 0.992020:  65%|######5   | 13/20 [01:06<00:36,  5.21s/it]\u001b[32m[I 2021-03-07 20:00:04,344]\u001b[0m Trial 55 finished with value: 1.0042199895042072 and parameters: {'lambda_l1': 6.8639611714996125, 'lambda_l2': 1.8886356457264776e-05}. Best is trial 52 with value: 0.9952570957878287.\u001b[0m\n",
      "regularization_factors, val_score: 0.992020:  65%|######5   | 13/20 [01:06<00:36,  5.21s/it]"
     ]
    },
    {
     "name": "stdout",
     "output_type": "stream",
     "text": [
      "Early stopping, best iteration is:\n",
      "[135]\tvalid_0's rmse: 1.00422\n",
      "Training until validation scores don't improve for 100 rounds\n"
     ]
    },
    {
     "name": "stderr",
     "output_type": "stream",
     "text": [
      "regularization_factors, val_score: 0.992020:  70%|#######   | 14/20 [01:10<00:29,  4.90s/it]\u001b[32m[I 2021-03-07 20:00:08,553]\u001b[0m Trial 56 finished with value: 0.999429130591071 and parameters: {'lambda_l1': 0.40124833222791184, 'lambda_l2': 4.378689588240733e-06}. Best is trial 52 with value: 0.9952570957878287.\u001b[0m\n",
      "regularization_factors, val_score: 0.992020:  70%|#######   | 14/20 [01:10<00:29,  4.90s/it]"
     ]
    },
    {
     "name": "stdout",
     "output_type": "stream",
     "text": [
      "Early stopping, best iteration is:\n",
      "[53]\tvalid_0's rmse: 0.999429\n",
      "Training until validation scores don't improve for 100 rounds\n"
     ]
    },
    {
     "name": "stderr",
     "output_type": "stream",
     "text": [
      "regularization_factors, val_score: 0.992020:  75%|#######5  | 15/20 [01:14<00:23,  4.80s/it]\u001b[32m[I 2021-03-07 20:00:13,112]\u001b[0m Trial 57 finished with value: 0.9932871037934123 and parameters: {'lambda_l1': 2.9560522057195495e-06, 'lambda_l2': 1.8504540140991666e-08}. Best is trial 57 with value: 0.9932871037934123.\u001b[0m\n",
      "regularization_factors, val_score: 0.992020:  75%|#######5  | 15/20 [01:14<00:23,  4.80s/it]"
     ]
    },
    {
     "name": "stdout",
     "output_type": "stream",
     "text": [
      "Early stopping, best iteration is:\n",
      "[43]\tvalid_0's rmse: 0.993287\n",
      "Training until validation scores don't improve for 100 rounds\n"
     ]
    },
    {
     "name": "stderr",
     "output_type": "stream",
     "text": [
      "regularization_factors, val_score: 0.992020:  80%|########  | 16/20 [01:19<00:18,  4.64s/it]\u001b[32m[I 2021-03-07 20:00:17,375]\u001b[0m Trial 58 finished with value: 0.9920389518189033 and parameters: {'lambda_l1': 1.4959119954914696e-06, 'lambda_l2': 1.464528386847018e-08}. Best is trial 58 with value: 0.9920389518189033.\u001b[0m\n",
      "regularization_factors, val_score: 0.992020:  80%|########  | 16/20 [01:19<00:18,  4.64s/it]"
     ]
    },
    {
     "name": "stdout",
     "output_type": "stream",
     "text": [
      "Early stopping, best iteration is:\n",
      "[48]\tvalid_0's rmse: 0.992039\n",
      "Training until validation scores don't improve for 100 rounds\n"
     ]
    },
    {
     "name": "stderr",
     "output_type": "stream",
     "text": [
      "regularization_factors, val_score: 0.991992:  85%|########5 | 17/20 [01:27<00:17,  5.78s/it]\u001b[32m[I 2021-03-07 20:00:25,817]\u001b[0m Trial 59 finished with value: 0.9919916167234576 and parameters: {'lambda_l1': 1.6275409643492321e-06, 'lambda_l2': 1.3651298240473737e-08}. Best is trial 59 with value: 0.9919916167234576.\u001b[0m\n",
      "regularization_factors, val_score: 0.991992:  85%|########5 | 17/20 [01:27<00:17,  5.78s/it]"
     ]
    },
    {
     "name": "stdout",
     "output_type": "stream",
     "text": [
      "Early stopping, best iteration is:\n",
      "[48]\tvalid_0's rmse: 0.991992\n",
      "Training until validation scores don't improve for 100 rounds\n"
     ]
    },
    {
     "name": "stderr",
     "output_type": "stream",
     "text": [
      "regularization_factors, val_score: 0.991942:  90%|######### | 18/20 [01:32<00:10,  5.46s/it]\u001b[32m[I 2021-03-07 20:00:30,538]\u001b[0m Trial 60 finished with value: 0.9919415526858661 and parameters: {'lambda_l1': 1.2707018250248112e-08, 'lambda_l2': 1.0000381572720369e-08}. Best is trial 60 with value: 0.9919415526858661.\u001b[0m\n",
      "regularization_factors, val_score: 0.991942:  90%|######### | 18/20 [01:32<00:10,  5.46s/it]"
     ]
    },
    {
     "name": "stdout",
     "output_type": "stream",
     "text": [
      "Early stopping, best iteration is:\n",
      "[48]\tvalid_0's rmse: 0.991942\n",
      "Training until validation scores don't improve for 100 rounds\n"
     ]
    },
    {
     "name": "stderr",
     "output_type": "stream",
     "text": [
      "regularization_factors, val_score: 0.991942:  95%|#########5| 19/20 [01:40<00:06,  6.36s/it]\u001b[32m[I 2021-03-07 20:00:38,979]\u001b[0m Trial 61 finished with value: 0.9920396257680872 and parameters: {'lambda_l1': 1.484540569377502e-08, 'lambda_l2': 6.626741295289591e-08}. Best is trial 60 with value: 0.9919415526858661.\u001b[0m\n",
      "regularization_factors, val_score: 0.991942:  95%|#########5| 19/20 [01:40<00:06,  6.36s/it]"
     ]
    },
    {
     "name": "stdout",
     "output_type": "stream",
     "text": [
      "Early stopping, best iteration is:\n",
      "[48]\tvalid_0's rmse: 0.99204\n",
      "Training until validation scores don't improve for 100 rounds\n"
     ]
    },
    {
     "name": "stderr",
     "output_type": "stream",
     "text": [
      "regularization_factors, val_score: 0.991942: 100%|##########| 20/20 [01:52<00:00,  7.82s/it]\u001b[32m[I 2021-03-07 20:00:50,213]\u001b[0m Trial 62 finished with value: 0.9919787143991113 and parameters: {'lambda_l1': 1.1450473863115625e-08, 'lambda_l2': 3.810269041100537e-05}. Best is trial 60 with value: 0.9919415526858661.\u001b[0m\n",
      "regularization_factors, val_score: 0.991942: 100%|##########| 20/20 [01:52<00:00,  5.60s/it]\n",
      "min_data_in_leaf, val_score: 0.991942:   0%|          | 0/5 [00:00<?, ?it/s]"
     ]
    },
    {
     "name": "stdout",
     "output_type": "stream",
     "text": [
      "Early stopping, best iteration is:\n",
      "[48]\tvalid_0's rmse: 0.991979\n",
      "Training until validation scores don't improve for 100 rounds\n"
     ]
    },
    {
     "name": "stderr",
     "output_type": "stream",
     "text": [
      "min_data_in_leaf, val_score: 0.991942:  20%|##        | 1/5 [00:05<00:22,  5.53s/it]\u001b[32m[I 2021-03-07 20:00:55,766]\u001b[0m Trial 63 finished with value: 0.9982376410836757 and parameters: {'min_child_samples': 5}. Best is trial 63 with value: 0.9982376410836757.\u001b[0m\n",
      "min_data_in_leaf, val_score: 0.991942:  20%|##        | 1/5 [00:05<00:22,  5.53s/it]"
     ]
    },
    {
     "name": "stdout",
     "output_type": "stream",
     "text": [
      "Early stopping, best iteration is:\n",
      "[74]\tvalid_0's rmse: 0.998238\n",
      "Training until validation scores don't improve for 100 rounds\n"
     ]
    },
    {
     "name": "stderr",
     "output_type": "stream",
     "text": [
      "min_data_in_leaf, val_score: 0.991942:  40%|####      | 2/5 [00:09<00:13,  4.54s/it]\u001b[32m[I 2021-03-07 20:00:59,613]\u001b[0m Trial 64 finished with value: 0.994702312595018 and parameters: {'min_child_samples': 10}. Best is trial 64 with value: 0.994702312595018.\u001b[0m\n",
      "min_data_in_leaf, val_score: 0.991942:  40%|####      | 2/5 [00:09<00:13,  4.54s/it]"
     ]
    },
    {
     "name": "stdout",
     "output_type": "stream",
     "text": [
      "Early stopping, best iteration is:\n",
      "[52]\tvalid_0's rmse: 0.994702\n",
      "Training until validation scores don't improve for 100 rounds\n"
     ]
    },
    {
     "name": "stderr",
     "output_type": "stream",
     "text": [
      "min_data_in_leaf, val_score: 0.991942:  60%|######    | 3/5 [00:13<00:08,  4.15s/it]\u001b[32m[I 2021-03-07 20:01:03,295]\u001b[0m Trial 65 finished with value: 1.0004222719198015 and parameters: {'min_child_samples': 25}. Best is trial 64 with value: 0.994702312595018.\u001b[0m\n",
      "min_data_in_leaf, val_score: 0.991942:  60%|######    | 3/5 [00:13<00:08,  4.15s/it]"
     ]
    },
    {
     "name": "stdout",
     "output_type": "stream",
     "text": [
      "Early stopping, best iteration is:\n",
      "[44]\tvalid_0's rmse: 1.00042\n",
      "Training until validation scores don't improve for 100 rounds\n"
     ]
    },
    {
     "name": "stderr",
     "output_type": "stream",
     "text": [
      "min_data_in_leaf, val_score: 0.991942:  80%|########  | 4/5 [00:15<00:03,  3.47s/it]\u001b[32m[I 2021-03-07 20:01:05,713]\u001b[0m Trial 66 finished with value: 1.0080841895105577 and parameters: {'min_child_samples': 50}. Best is trial 64 with value: 0.994702312595018.\u001b[0m\n",
      "min_data_in_leaf, val_score: 0.991942:  80%|########  | 4/5 [00:15<00:03,  3.47s/it]"
     ]
    },
    {
     "name": "stdout",
     "output_type": "stream",
     "text": [
      "Early stopping, best iteration is:\n",
      "[43]\tvalid_0's rmse: 1.00808\n",
      "Training until validation scores don't improve for 100 rounds\n"
     ]
    },
    {
     "name": "stderr",
     "output_type": "stream",
     "text": [
      "min_data_in_leaf, val_score: 0.991942: 100%|##########| 5/5 [00:17<00:00,  2.92s/it]\u001b[32m[I 2021-03-07 20:01:07,661]\u001b[0m Trial 67 finished with value: 1.016639648613379 and parameters: {'min_child_samples': 100}. Best is trial 64 with value: 0.994702312595018.\u001b[0m\n",
      "min_data_in_leaf, val_score: 0.991942: 100%|##########| 5/5 [00:17<00:00,  3.49s/it]"
     ]
    },
    {
     "name": "stdout",
     "output_type": "stream",
     "text": [
      "Early stopping, best iteration is:\n",
      "[67]\tvalid_0's rmse: 1.01664\n",
      "- TRAIN RMSE=1.0259\n"
     ]
    },
    {
     "name": "stderr",
     "output_type": "stream",
     "text": [
      "\n"
     ]
    },
    {
     "name": "stdout",
     "output_type": "stream",
     "text": [
      "test_pred1 12008\n"
     ]
    }
   ],
   "source": [
    "models1, oof_pred1, score1 = train_kfold(train_X1, train_y1, cat_feat_w_te)\n",
    "pred1 = predict_test(test_X1, models1)\n",
    "test_pred1 = revert_to_real(pred1)\n",
    "print('test_pred1', len(test_pred1))\n",
    "test_X1['likes'] = test_pred1"
   ]
  },
  {
   "cell_type": "code",
   "execution_count": 44,
   "id": "split-retailer",
   "metadata": {},
   "outputs": [
    {
     "name": "stdout",
     "output_type": "stream",
     "text": [
      "{'objective': 'regression', 'boosting_type': 'gbdt', 'metric': 'rmse', 'seed': 0, 'learning_rate': 0.1, 'max_depth': 6, 'verbosity': -1, 'feature_pre_filter': False, 'lambda_l1': 1.5238285029469574e-07, 'lambda_l2': 4.041784431938301e-08, 'num_leaves': 18, 'feature_fraction': 0.8, 'bagging_fraction': 1.0, 'bagging_freq': 0, 'min_child_samples': 20, 'num_iterations': 10000, 'early_stopping_round': 100, 'categorical_column': [11, 12, 13, 14, 15]}\n",
      "{'objective': 'regression', 'boosting_type': 'gbdt', 'metric': 'rmse', 'seed': 0, 'learning_rate': 0.1, 'max_depth': 6, 'verbosity': -1, 'feature_pre_filter': False, 'lambda_l1': 0.0, 'lambda_l2': 0.0, 'num_leaves': 49, 'feature_fraction': 0.5, 'bagging_fraction': 1.0, 'bagging_freq': 0, 'min_child_samples': 20, 'num_iterations': 10000, 'early_stopping_round': 100, 'categorical_column': [11, 12, 13, 14, 15]}\n",
      "{'objective': 'regression', 'boosting_type': 'gbdt', 'metric': 'rmse', 'seed': 0, 'learning_rate': 0.1, 'max_depth': 6, 'verbosity': -1, 'feature_pre_filter': False, 'lambda_l1': 0.004639198794995612, 'lambda_l2': 0.0006294169953249095, 'num_leaves': 31, 'feature_fraction': 0.7, 'bagging_fraction': 1.0, 'bagging_freq': 0, 'min_child_samples': 20, 'num_iterations': 10000, 'early_stopping_round': 100, 'categorical_column': [11, 12, 13, 14, 15]}\n",
      "{'objective': 'regression', 'boosting_type': 'gbdt', 'metric': 'rmse', 'seed': 0, 'learning_rate': 0.1, 'max_depth': 6, 'verbosity': -1, 'feature_pre_filter': False, 'lambda_l1': 7.263675696383048e-08, 'lambda_l2': 1.1323913680733164e-08, 'num_leaves': 31, 'feature_fraction': 0.6, 'bagging_fraction': 1.0, 'bagging_freq': 0, 'min_child_samples': 20, 'num_iterations': 10000, 'early_stopping_round': 100, 'categorical_column': [11, 12, 13, 14, 15]}\n",
      "{'objective': 'regression', 'boosting_type': 'gbdt', 'metric': 'rmse', 'seed': 0, 'learning_rate': 0.1, 'max_depth': 6, 'verbosity': -1, 'feature_pre_filter': False, 'lambda_l1': 0.00017533118491196224, 'lambda_l2': 0.006121650515042786, 'num_leaves': 32, 'feature_fraction': 0.852, 'bagging_fraction': 1.0, 'bagging_freq': 0, 'min_child_samples': 20, 'num_iterations': 10000, 'early_stopping_round': 100, 'categorical_column': [11, 12, 13, 14, 15]}\n"
     ]
    }
   ],
   "source": [
    "for model in models1:\n",
    "    print(model.params)"
   ]
  },
  {
   "cell_type": "code",
   "execution_count": 50,
   "id": "electronic-volunteer",
   "metadata": {},
   "outputs": [],
   "source": [
    "params = [\n",
    "    {'objective': 'regression', 'boosting_type': 'gbdt', 'metric': 'rmse', 'seed': 0, 'learning_rate': 0.1, 'max_depth': 6, 'verbosity': -1, 'feature_pre_filter': False, 'lambda_l1': 1.5238285029469574e-07, 'lambda_l2': 4.041784431938301e-08, 'num_leaves': 18, 'feature_fraction': 0.8, 'bagging_fraction': 1.0, 'bagging_freq': 0, 'min_child_samples': 20},\n",
    "    {'objective': 'regression', 'boosting_type': 'gbdt', 'metric': 'rmse', 'seed': 0, 'learning_rate': 0.1, 'max_depth': 6, 'verbosity': -1, 'feature_pre_filter': False, 'lambda_l1': 0.0, 'lambda_l2': 0.0, 'num_leaves': 49, 'feature_fraction': 0.5, 'bagging_fraction': 1.0, 'bagging_freq': 0, 'min_child_samples': 20},\n",
    "    {'objective': 'regression', 'boosting_type': 'gbdt', 'metric': 'rmse', 'seed': 0, 'learning_rate': 0.1, 'max_depth': 6, 'verbosity': -1, 'feature_pre_filter': False, 'lambda_l1': 0.004639198794995612, 'lambda_l2': 0.0006294169953249095, 'num_leaves': 31, 'feature_fraction': 0.7, 'bagging_fraction': 1.0, 'bagging_freq': 0, 'min_child_samples': 20},\n",
    "    {'objective': 'regression', 'boosting_type': 'gbdt', 'metric': 'rmse', 'seed': 0, 'learning_rate': 0.1, 'max_depth': 6, 'verbosity': -1, 'feature_pre_filter': False, 'lambda_l1': 7.263675696383048e-08, 'lambda_l2': 1.1323913680733164e-08, 'num_leaves': 31, 'feature_fraction': 0.6, 'bagging_fraction': 1.0, 'bagging_freq': 0, 'min_child_samples': 20},\n",
    "    {'objective': 'regression', 'boosting_type': 'gbdt', 'metric': 'rmse', 'seed': 0, 'learning_rate': 0.1, 'max_depth': 6, 'verbosity': -1, 'feature_pre_filter': False, 'lambda_l1': 0.00017533118491196224, 'lambda_l2': 0.006121650515042786, 'num_leaves': 32, 'feature_fraction': 0.852, 'bagging_fraction': 1.0, 'bagging_freq': 0, 'min_child_samples': 20},\n",
    "]"
   ]
  },
  {
   "cell_type": "code",
   "execution_count": 49,
   "id": "owned-convert",
   "metadata": {},
   "outputs": [],
   "source": [
    "test_X = test_X1\n",
    "assert len(test_X) == len(test)\n",
    "df_test_pred = test_X[['likes']]"
   ]
  },
  {
   "cell_type": "code",
   "execution_count": 51,
   "id": "billion-counter",
   "metadata": {},
   "outputs": [
    {
     "data": {
      "text/html": [
       "<div>\n",
       "<style scoped>\n",
       "    .dataframe tbody tr th:only-of-type {\n",
       "        vertical-align: middle;\n",
       "    }\n",
       "\n",
       "    .dataframe tbody tr th {\n",
       "        vertical-align: top;\n",
       "    }\n",
       "\n",
       "    .dataframe thead th {\n",
       "        text-align: right;\n",
       "    }\n",
       "</style>\n",
       "<table border=\"1\" class=\"dataframe\">\n",
       "  <thead>\n",
       "    <tr style=\"text-align: right;\">\n",
       "      <th></th>\n",
       "      <th>likes</th>\n",
       "    </tr>\n",
       "  </thead>\n",
       "  <tbody>\n",
       "    <tr>\n",
       "      <th>0</th>\n",
       "      <td>0.501136</td>\n",
       "    </tr>\n",
       "    <tr>\n",
       "      <th>1</th>\n",
       "      <td>16.801684</td>\n",
       "    </tr>\n",
       "    <tr>\n",
       "      <th>2</th>\n",
       "      <td>0.537328</td>\n",
       "    </tr>\n",
       "    <tr>\n",
       "      <th>3</th>\n",
       "      <td>4.908061</td>\n",
       "    </tr>\n",
       "    <tr>\n",
       "      <th>4</th>\n",
       "      <td>0.556612</td>\n",
       "    </tr>\n",
       "  </tbody>\n",
       "</table>\n",
       "</div>"
      ],
      "text/plain": [
       "       likes\n",
       "0   0.501136\n",
       "1  16.801684\n",
       "2   0.537328\n",
       "3   4.908061\n",
       "4   0.556612"
      ]
     },
     "execution_count": 51,
     "metadata": {},
     "output_type": "execute_result"
    }
   ],
   "source": [
    "# df_test_pred = pd.DataFrame(test_pred, columns=['likes'])\n",
    "assert len(df_test_pred) == len(test)\n",
    "df_test_pred.to_csv('../output/submit.csv', index=False)\n",
    "df_test_pred.head()"
   ]
  },
  {
   "cell_type": "code",
   "execution_count": 52,
   "id": "collective-stand",
   "metadata": {},
   "outputs": [],
   "source": [
    "def plot_scatter(target, oof):\n",
    "    x1 = target\n",
    "    y1 = oof\n",
    "    xmax = max(max(x1), max(y1))*1.05\n",
    "    fig = plt.figure(figsize=(5, 5))\n",
    "    ax = fig.add_subplot(1, 1, 1)\n",
    "    ax.scatter(x1, y1, alpha=0.3, marker='.')\n",
    "    ax.plot([0, xmax], [0, xmax], color='black', linewidth=0.5)\n",
    "    plt.xlabel('Target')\n",
    "    plt.ylabel('Out of fold')\n",
    "    plt.xlim(0, xmax)\n",
    "    plt.ylim(0, xmax)"
   ]
  },
  {
   "cell_type": "code",
   "execution_count": 53,
   "id": "another-trauma",
   "metadata": {},
   "outputs": [
    {
     "name": "stdout",
     "output_type": "stream",
     "text": [
      "corr1 = 0.8160538844423859\n"
     ]
    },
    {
     "data": {
      "image/png": "[encoded data removed]",
      "text/plain": [
       "<Figure size 360x360 with 1 Axes>"
      ]
     },
     "metadata": {
      "needs_background": "light"
     },
     "output_type": "display_data"
    }
   ],
   "source": [
    "corr1 = train_y1.corr(pd.Series(oof_pred1))\n",
    "print('corr1 =', corr1)\n",
    "plot_scatter(train_y1, oof_pred1)"
   ]
  },
  {
   "cell_type": "code",
   "execution_count": 54,
   "id": "unknown-porter",
   "metadata": {},
   "outputs": [],
   "source": [
    "def plot_hist(oof, pred):\n",
    "    fig, ax = plt.subplots(figsize=(6, 6))\n",
    "    sns.histplot(pred, label='Test Predict', ax=ax, color='black')\n",
    "    sns.histplot(oof, label='Out of fold', ax=ax, color='C1')\n",
    "    ax.legend()\n",
    "    ax.grid()"
   ]
  },
  {
   "cell_type": "code",
   "execution_count": 55,
   "id": "colored-storm",
   "metadata": {},
   "outputs": [
    {
     "data": {
      "image/png": "[encoded data removed]",
      "text/plain": [
       "<Figure size 432x432 with 1 Axes>"
      ]
     },
     "metadata": {
      "needs_background": "light"
     },
     "output_type": "display_data"
    }
   ],
   "source": [
    "plot_hist(oof_pred1, np.log1p(df_test_pred))"
   ]
  },
  {
   "cell_type": "code",
   "execution_count": 56,
   "id": "younger-startup",
   "metadata": {},
   "outputs": [
    {
     "name": "stdout",
     "output_type": "stream",
     "text": [
      "- feat_cnt = 96\n",
      "- score = 1.02586\n",
      "- corr = 0.81605\n"
     ]
    }
   ],
   "source": [
    "print(f'- feat_cnt = {feat_cnt1}')\n",
    "print(f'- score = {score1:.5f}')\n",
    "print(f'- corr = {corr1:.5f}')"
   ]
  },
  {
   "cell_type": "markdown",
   "id": "bearing-culture",
   "metadata": {},
   "source": [
    "#### baseline_10: tuning\n",
    "- feat_cnt = 96\n",
    "- score = 1.02586\n",
    "- corr = 0.81605\n",
    "\n",
    "#### baseline_9-1: TE n_split=5に戻す, testにしかいないprincipal_makerは別モデル\n",
    "- feat_cnt = 96, 92\n",
    "- score = 1.03494, 1.05633\n",
    "- corr = 0.81246, 0.80358\n",
    "- LB = 1.0732\n",
    "\n",
    "#### baseline_8: TE n_split=100\n",
    "- feat_cnt = 96\n",
    "- score = 1.00019\n",
    "- corr = 0.82619\n",
    "- LB = 1.0166\n",
    "\n",
    "#### baseline_7: TE_principal_maker, TE_principal_or_first_maker\n",
    "- feat_cnt = 96\n",
    "- score = 1.03494\n",
    "- corr = 0.81246\n",
    "- LB = 1.0083\n",
    "\n",
    "#### baseline_6: StratifiedKFold(n_splits=5)\n",
    "- feat_cnt = 94\n",
    "- score = 1.04358\n",
    "- corr = 0.80887\n",
    "- LB = 1.0219\n",
    "\n",
    "#### baseline_5: dimension, area, country\n",
    "- feat_cnt = 94\n",
    "- score = 1.04760\n",
    "- corr = 0.80725\n",
    "- LB = 1.0197\n",
    "\n",
    "#### baseline_4: color_count, categorical_feature\n",
    "- feat_cnt = 75\n",
    "- score = 1.05437\n",
    "- corr = 0.80446\n",
    "- LB = 1.0223\n",
    "\n",
    "#### baseline_3: main_color\n",
    "- feat_cnt = 73\n",
    "- score = 1.06423\n",
    "- corr = 0.80027\n",
    "- LB = 1.0363\n",
    "\n",
    "#### baseline_2: material, object_collection, place, technique, person\n",
    "- feat_cnt = 61\n",
    "- score = 1.07486\n",
    "- corr = 0.79573\n",
    "- LB = 1.0525\n",
    "\n",
    "#### baseline_1: size, string_length\n",
    "- feat_cnt = 25\n",
    "- score = 1.11432\n",
    "- corr = 0.77827\n",
    "- LB = 1.1037\n",
    "\n",
    "#### baseline_0\n",
    "- feat_cnt = 16\n",
    "- score = 1.20651\n",
    "- corr = 0.73332\n",
    "- LB = 1.1827"
   ]
  },
  {
   "cell_type": "code",
   "execution_count": 35,
   "id": "healthy-relief",
   "metadata": {},
   "outputs": [],
   "source": [
    "def visualize_importance(models):\n",
    "    feature_importance_df = pd.DataFrame()\n",
    "    for i, model in enumerate(models):\n",
    "        _df = pd.DataFrame()\n",
    "        _df['feature_importance'] = model.feature_importance()\n",
    "        _df['column'] = model.feature_name()\n",
    "        _df['fold'] = i + 1\n",
    "        feature_importance_df = pd.concat([feature_importance_df, _df], \n",
    "                                          axis=0, ignore_index=True)\n",
    "\n",
    "    order = feature_importance_df.groupby('column')\\\n",
    "        .sum()[['feature_importance']]\\\n",
    "        .sort_values('feature_importance', ascending=False).index[:50]\n",
    "\n",
    "    fig, ax = plt.subplots(figsize=(8, max(6, len(order) * .25)))\n",
    "    sns.boxenplot(data=feature_importance_df, \n",
    "                  x='feature_importance', \n",
    "                  y='column', \n",
    "                  order=order, \n",
    "                  ax=ax, \n",
    "                  palette='viridis', \n",
    "                  orient='h')\n",
    "    ax.tick_params(axis='x', rotation=90)\n",
    "    ax.set_title('Importance')\n",
    "    ax.grid()\n",
    "    fig.tight_layout()\n",
    "    return fig, ax"
   ]
  },
  {
   "cell_type": "code",
   "execution_count": 36,
   "id": "qualified-event",
   "metadata": {},
   "outputs": [
    {
     "data": {
      "image/png": "[encoded data removed]",
      "text/plain": [
       "<Figure size 576x900 with 1 Axes>"
      ]
     },
     "metadata": {
      "needs_background": "light"
     },
     "output_type": "display_data"
    }
   ],
   "source": [
    "fig, ax = visualize_importance(models1)"
   ]
  },
  {
   "cell_type": "code",
   "execution_count": null,
   "id": "considerable-accessory",
   "metadata": {},
   "outputs": [],
   "source": []
  }
 ],
 "metadata": {
  "kernelspec": {
   "display_name": "Python 3",
   "language": "python",
   "name": "python3"
  },
  "language_info": {
   "codemirror_mode": {
    "name": "ipython",
    "version": 3
   },
   "file_extension": ".py",
   "mimetype": "text/x-python",
   "name": "python",
   "nbconvert_exporter": "python",
   "pygments_lexer": "ipython3",
   "version": "3.9.2"
  }
 },
 "nbformat": 4,
 "nbformat_minor": 5
}
